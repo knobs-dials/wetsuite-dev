{
  "cells": [
    {
      "cell_type": "markdown",
      "metadata": {},
      "source": [
        "<a href=\"https://colab.research.google.com/github/knobs-dials/wetsuite-dev/blob/main/notebooks/intermediate/technical_localdata.ipynb\" target=\"_parent\"><img src=\"https://colab.research.google.com/assets/colab-badge.svg\" alt=\"Open In Colab\"/></a>"
      ]
    },
    {
      "attachments": {},
      "cell_type": "markdown",
      "metadata": {
        "id": "khZ8mI-weajL"
      },
      "source": [
        "## Purpose of this notebook\n",
        "\n",
        "An introduction to storing collections of things in the localdata module, mostly the LocalKV class, that we provide."
      ]
    },
    {
      "cell_type": "markdown",
      "metadata": {},
      "source": [
        "## tl;dr for the programmers\n",
        "\n",
        "It's a key-value store stored in a file, with some self-enforced type checking.\n",
        "\n",
        "You can get one like \n",
        "- `mystore = wetsuite.helpers.localdata.LocalKV('mystore.db', str,str)`\n",
        "\n",
        "and then do \n",
        "- `mystore.put('foo', 'bar')`, \n",
        "- `mystore.get('foo')`\n",
        "- `mystore.delete('foo')`\n",
        "\n",
        "There is a helper that lets you do HTTP fetches into these.\n"
      ]
    },
    {
      "cell_type": "markdown",
      "metadata": {},
      "source": [
        "## The longer introduction\n",
        "\n",
        "**Why?**\n",
        "\n",
        "It would be useful to have a mix of\n",
        "- saving things to disk\n",
        "- that is easy to use - loading and saving are few lines of code\n",
        "- working with moderately large data\n",
        "    - allows iteration of large data (without loading all in RAM)\n",
        "    - allows _reasonably_ fast lookup of arbitrary items (without loading all in RAM or scanning the entire file)\n",
        "- not requiring an external dependency - of something that _requires_ installation (usually only an admin can or wants to set up a database service) and admin\n",
        "- that allows storage of text, binary data, and _perhaps_ more\n",
        "- make it easy to find specific known items\n",
        "\n",
        "This makes it useful for you to store a reasonable amount of data with less worry about such details, \n",
        "and is also useful for us to distribute larger data/datasets in the same way."
      ]
    },
    {
      "cell_type": "code",
      "execution_count": 1,
      "metadata": {},
      "outputs": [],
      "source": [
        "import pprint, datetime\n",
        "import wetsuite.helpers.localdata"
      ]
    },
    {
      "cell_type": "markdown",
      "metadata": {},
      "source": [
        "### basic key-value use\n",
        "\n",
        "Not very useful yet, but a minimal example:"
      ]
    },
    {
      "cell_type": "code",
      "execution_count": 2,
      "metadata": {},
      "outputs": [],
      "source": [
        "# given\n",
        "mystore = wetsuite.helpers.localdata.LocalKV('mystore.db', key_type=str,value_type=str)   # we tell it the keys should be string values, and so should the values\n",
        "\n",
        "# we can do:\n",
        "mystore.put('fish', 'one')\n",
        "mystore.put('fork', 'test')\n",
        "mystore.get('fish')\n",
        "mystore.delete('fish')"
      ]
    },
    {
      "cell_type": "code",
      "execution_count": 3,
      "metadata": {},
      "outputs": [
        {
          "name": "stdout",
          "output_type": "stream",
          "text": [
            "keys:                     ['a', 'fork']\n",
            "values:                   ['b', 'test']\n",
            "items:                    [('a', 'b'), ('fork', 'test')]\n",
            "len:                      2\n",
            "\"fork\" is a present key:  True\n"
          ]
        }
      ],
      "source": [
        "# There are also some functions like those present on python dicts, like\n",
        "print( 'keys:                    ', list(mystore.keys())    )   # list() because we we actually get a view   (much like python 3 dict behaviour)\n",
        "print( 'values:                  ', list(mystore.values())  ) \n",
        "print( 'items:                   ', list(mystore.items())   )\n",
        "print( 'len:                     ', len(mystore)      )\n",
        "print( '\"fork\" is a present key: ', ('fork' in mystore) )       # via __contains__()"
      ]
    },
    {
      "cell_type": "markdown",
      "metadata": {},
      "source": [
        "## Why this can be useful for files, and downloading\n",
        "\n",
        "Say you download a bunch of webpages, or gigabytes of PDFs. \n",
        "\n",
        "Yes, storing that into separate files is perfectly functional. \n",
        "The filesystem _is_ a simple database, after all.\n",
        "\n",
        "And it checks _most_ of the boxes mentioned above - except ease of use / few lines of code,\n",
        "because\n",
        "there is a bunch of boilerplate to write each use, \n",
        "you may require you to think about (not) hardcoding paths of where you've actually put it,\n",
        "think about what you name each on the filesystem (because most filesystems won't allow filenames longer than 255),\n",
        "which also means that finding specific known items must know what kind of naming you did,\n",
        "you may sometimes with to _also_ keep track of the renaming you did for that reason,\n",
        "and more such details.\n",
        "\n",
        "In some cases, none of that is hard, and this all stays easy, and being able to directly open the files for inspection is great.\n",
        "\n",
        "Yet in other cases all those details means this becomes a messy amount of extra work.\n",
        "\n",
        "So we offer a disk-backed [key-value store](https://en.wikipedia.org/wiki/Key%E2%80%93value_database)\n",
        "(meaning each unique key is associated with a value - and no more structure than that)\n",
        "that lets you easily persist certain kinds of data, from relatively brief code.\n",
        "\n",
        "It's fairly minimal, but that's part of the point. "
      ]
    },
    {
      "cell_type": "code",
      "execution_count": null,
      "metadata": {},
      "outputs": [],
      "source": []
    },
    {
      "attachments": {},
      "cell_type": "markdown",
      "metadata": {},
      "source": [
        "### Downloading into a store\n",
        "\n",
        "While collecting data online, we tend to download a multitude of items.\n",
        "\n",
        "If you have a bunch of URLs, want to fetch the according documents,\n",
        "maybe without putting each into \n",
        "and want to cache locally to avoid re-fetching on each run of a script,\n",
        "then our `cached_fetch( store, url )` can help:\n",
        "\n",
        "If we have previously fetched that URL, we can return the stored copy. If we did not, we fetch it, save it, then return it.\n",
        "<!-- (...assuming you don't need auth or other session state, and assuming you don't need them removed based on time and/or cacheing rules. We may fix some of that later) -->"
      ]
    },
    {
      "cell_type": "code",
      "execution_count": 4,
      "metadata": {},
      "outputs": [
        {
          "name": "stdout",
          "output_type": "stream",
          "text": [
            "Came from cache: True\n",
            "\n",
            "<!doctype html>\n",
            "<html>\n",
            "<head>\n",
            "    <title>Example Domain</title>\n",
            "\n",
            "    <meta charset=\"utf-8\" />\n",
            "    <meta http-equiv=\"Content-type\" content=\"text/html; charset=utf-8\" />\n",
            "    <meta name=\"viewport\" content=\"width=device-width, initial-scale=1\" />\n",
            "    <style type=\"text/css\">\n",
            "    body {\n",
            "        background-color: #f0f0f2;\n",
            "        margin: 0;\n",
            "        padding: 0;\n",
            "        font-family: -apple-system, system-ui, BlinkMacSystemFont, \"Segoe UI\", \"Open Sans\", \"Helvetica Neue\", Helvetica, Arial, sans-serif;\n",
            "        \n",
            "    }\n",
            "    div {\n",
            "        width: 600px;\n",
            "        margin: 5em auto;\n",
            "        padding: 2em;\n",
            "        background-color: #fdfdff;\n",
            "        border-radius: 0.5em;\n",
            "        box-shadow: 2px 3px 7px 2px rgba(0,0,0,0.02);\n",
            "    }\n",
            "    a:link, a:visited {\n",
            "        color: #38488f;\n",
            "        text-decoration: none;\n",
            "    }\n",
            "    @media (max-width: 700px) {\n",
            "        div {\n",
            "            margin: 0 auto;\n",
            "            width: auto;\n",
            "        }\n",
            "    }\n",
            "    </style>    \n",
            "</head>\n",
            "\n",
            "<body>\n",
            "<div>\n",
            "    <h1>Example Domain</h1>\n",
            "    <p>This domain is for use in illustrative examples in documents. You may use this\n",
            "    domain in literature without prior coordination or asking for permission.</p>\n",
            "    <p><a href=\"https://www.iana.org/domains/example\">More information...</a></p>\n",
            "</div>\n",
            "</body>\n",
            "</html>\n",
            "\n"
          ]
        }
      ],
      "source": [
        "download_store = wetsuite.helpers.localdata.LocalKV('download_store.db', key_type=str, value_type=bytes)  # values should be bytes, because cached_fetch stores downloads while still in bytestring form\n",
        "\n",
        "page_bytes, came_from_cache = wetsuite.helpers.localdata.cached_fetch( download_store, 'http://example.com/' )\n",
        "print( f'Came from cache: {came_from_cache}\\n' )\n",
        "print( page_bytes.decode('u8') )"
      ]
    },
    {
      "cell_type": "markdown",
      "metadata": {},
      "source": [
        "## On the name / path you hand it\n",
        "\n",
        "tl;dr: a bare filename means you get the same store each time, no matter what."
      ]
    },
    {
      "cell_type": "markdown",
      "metadata": {},
      "source": [
        "For context, handing a pathless base name to underlying sqlite would just put it in the current directory\n",
        "which isn't always where you think, so is likely to sprinkle databases all over the place.\n",
        "\n",
        "This is a fairly confusion/mistake around sqlite (and files in general),\n",
        "and to avoid you focusing on the not-very-portable workaround of using absolute paths,\n",
        "we add `wetsuite.helpers.localstore.resolve_path()` as a basic helper \n",
        "to make it a little more controlled where things go:     \n",
        "- Given a **bare name**, e.g. 'extracted.db', this returns an absolute path \n",
        "    within a \"this is where wetsuite keeps its stores directory\" within your user profile,\n",
        "    e.g. /home/myuser/.wetsuite/stores/extracted.db or C:\\Users\\myuser\\AppData\\Roaming\\.wetsuite\\stores\\extracted.db\n",
        "    Most of the point is that handing in the same name will lead to opening the same store, regardless of details.\n",
        "\n",
        "- hand in **`:memory:`** if you wanted a memory-only store, not backed by disk\n",
        "\n",
        "- given an **absolute path**, it willpass that through \n",
        "    ...so if you actually _wanted_ it in the current directory, instead of this function \n",
        "    consider something like  `os.path.abspath('mystore.db')`\n",
        "\n",
        "- given a **relative path**, it will pass that through -- which will open it relative to the current directory"
      ]
    },
    {
      "cell_type": "code",
      "execution_count": null,
      "metadata": {},
      "outputs": [],
      "source": [
        "print( wetsuite.helpers.localdata.resolve_path('test.db') )\n",
        "print( wetsuite.helpers.localdata.resolve_path('rel/test.db') )\n",
        "print( wetsuite.helpers.localdata.resolve_path('/tmp/abs/test.db') )\n",
        "print( wetsuite.helpers.localdata.resolve_path(':memory:') )"
      ]
    },
    {
      "cell_type": "code",
      "execution_count": null,
      "metadata": {},
      "outputs": [],
      "source": [
        "# The KV functions also call this internally, so you can also see that it _actually_ put it there:\n",
        "store = wetsuite.helpers.localdata.LocalKV('deleteme.db', key_type=str, value_type=str)\n",
        "store.path"
      ]
    },
    {
      "attachments": {},
      "cell_type": "markdown",
      "metadata": {},
      "source": [
        "## Note on typing\n",
        "\n",
        "What types of python objects could we store in there? \n",
        "\n",
        "So, sqlite3 is a [DB-API](https://peps.python.org/pep-0249/)-like thing, \n",
        "so in theory we could hand in various python types - but will they be that same type once they are stored and fetched out again?\n",
        "\n",
        "Let's find out."
      ]
    },
    {
      "cell_type": "code",
      "execution_count": 5,
      "metadata": {},
      "outputs": [
        {
          "name": "stdout",
          "output_type": "stream",
          "text": [
            "[('five', '2023-11-05 12:59:03.691843'),\n",
            " ('four', b'4'),\n",
            " ('one', '1'),\n",
            " ('three', '3'),\n",
            " ('two', '2.2')]\n"
          ]
        }
      ],
      "source": [
        "typestore = wetsuite.helpers.localdata.LocalKV('typetest.db', str,None)   # keys:strings,   values: not checking so it does whatever sqlite decides\n",
        "\n",
        "typestore.put('one', 1)\n",
        "typestore.put('two', 2.2)\n",
        "typestore.put('three', '3')\n",
        "typestore.put('four', b'4')\n",
        "typestore.put('five', datetime.datetime.now())\n",
        "\n",
        "pprint.pprint( list( typestore.items() ) )"
      ]
    },
    {
      "attachments": {},
      "cell_type": "markdown",
      "metadata": {},
      "source": [
        "If you peek into the database from a shell using `sqlite3 typetst.db`, then `SELECT key, value, typeof(value) FROM kv`,  it is revealed that's all `text` except for one `blob`\n",
        "\n",
        "tl;dr for the users: \n",
        "- Whenever your use is served by storing only `bytes` (e.g. for downloaded files) or `str`, sticking to that keeps things simple\n",
        "- We can do more, but that gets confusing  (see the rest of this cell why)\n",
        "- If you want to store more complex things, particularly nested python data structures, see the rest of this notebook\n",
        "\n",
        "\n",
        "To the programmers: \n",
        "- SQLite is [dynamically typed](https://en.wikipedia.org/wiki/Dynamic_typing), so will\n",
        "  - store whatever type it decides to store, without adhering to the type you have declared for the column\n",
        "    - and your language's sqlite library may have a say in that too\n",
        "  - return the type that got stored, without converting\n",
        "    - and your language's sqlite library may have a say in that too\n",
        "\n",
        "- python's sqlite3 library already seems to help [coercing](https://en.wikipedia.org/wiki/Type_conversion) -- _roughly_: to `str` unless it's `bytes`\n",
        "\n",
        "This combination makes it easy to mix things and confuse yourself.\n",
        "\n",
        "This is why opening a store asks you to decide up front what type to put in, \n",
        "and why it actively checks, as a sanity check that _we_ are being consistent.\n",
        "\n",
        "(You _can_ disable that checking by handing in None for both.)"
      ]
    },
    {
      "cell_type": "markdown",
      "metadata": {},
      "source": [
        "Caveat: the types it checks aren't stored (yet?),\n",
        "so you better be consistent about opening the same store with the same type checking later."
      ]
    },
    {
      "attachments": {},
      "cell_type": "markdown",
      "metadata": {},
      "source": [
        "# Serializing more complex data.\n",
        "\n",
        "You will often end up creating structured data, at first in the form of nested python types, \n",
        "e.g. lists, dicts, ints, of floats, strings, bytes.\n",
        "\n",
        "SQLite has no reason to natively understand whatever python is doing,\n",
        "so if we want it to store and hand back python objects, it's up to our middle later to pack it into something that does that.\n",
        "\n",
        "Options include\n",
        "- Python's pickle - stores [more than just the primitives](https://docs.python.org/3/library/pickle.html#what-can-be-pickled-and-unpickled), though has some security concerns\n",
        "- JSON - a common interchange format, though it doesn't have a type for `date`/`datetime`\n",
        "- MsgPack - faster than JSON, though doesn't do datetime out of the box either\n",
        "\n",
        "Each has their own advantages and drawbacks. \n",
        "\n",
        "We chose to focus on `msgpack`, so there is a MsgpackKV. \n",
        "\n",
        "This handles the same as LocalKV (implementation-wise, they just add an encode on `put()`, and decode on `get()`). Consider:"
      ]
    },
    {
      "cell_type": "code",
      "execution_count": 6,
      "metadata": {},
      "outputs": [
        {
          "name": "stdout",
          "output_type": "stream",
          "text": [
            "{'a': ['b']}\n"
          ]
        },
        {
          "data": {
            "text/plain": [
              "dict"
            ]
          },
          "execution_count": 6,
          "metadata": {},
          "output_type": "execute_result"
        }
      ],
      "source": [
        "msgpack_store = wetsuite.helpers.localdata.MsgpackKV('msgpacktest.db')\n",
        "msgpack_store.put('one', {'a':['b']})\n",
        "print( msgpack_store.get('one') )\n",
        "type( msgpack_store.get('one') ) # the type of what comes out is...   (mostly to point out it's not that as text)"
      ]
    },
    {
      "cell_type": "markdown",
      "metadata": {},
      "source": []
    },
    {
      "cell_type": "code",
      "execution_count": 21,
      "metadata": {},
      "outputs": [
        {
          "name": "stdout",
          "output_type": "stream",
          "text": [
            "one:str  {'a': ['b']}:dict\n",
            "two:str  three:str\n"
          ]
        }
      ],
      "source": [
        "# ...and yes, you _could_ just use that always, even for more primitive types.\n",
        "#   but maybe don't do that unless you're fine with mixing types in the way that LocalKV prevents\n",
        "msgpack_store.put('two', 'three')\n",
        "type( msgpack_store.get('two') )\n",
        "\n",
        "for k, v in msgpack_store.items():\n",
        "    print( '%s:%s  %s:%s'%(k, type(k).__name__, v,type(v).__name__) )\n"
      ]
    },
    {
      "cell_type": "markdown",
      "metadata": {},
      "source": [
        "# More notes"
      ]
    },
    {
      "attachments": {},
      "cell_type": "markdown",
      "metadata": {},
      "source": [
        "## Limitations\n",
        "\n",
        "...you should probably not be using this expecting speed or parallelism.\n",
        "\n",
        "We default to commit immediately (what we call autocommit), so for small things are limited by IOPS. \n",
        "You can put() with commit=False and eventually commit(), which on bulk inserts is much faster,\n",
        "but it's slightly riskier in that if that borks, you may have to do some manual cleanup.\n",
        "\n",
        "Parallelism is limited, because sqlite's is - multiple processes can read, but only one can write."
      ]
    },
    {
      "cell_type": "markdown",
      "metadata": {},
      "source": [
        "Also, assume this This is basically an append-only database.\n",
        "If you remove items, assume it will fragment and that the file stays large,\n",
        "until you do a vacuum, which basically rewrites the entire file."
      ]
    },
    {
      "cell_type": "markdown",
      "metadata": {},
      "source": [
        "## Minimal syntax hackery\n",
        "If you want to store something, you always use `put()`. If you want to getch something, use `get()`.\n",
        "\n",
        "Sure, we could save you a few keystrokes by making it act like a dict,\n",
        "but that starts to be a leaky abstraction particularly once we get to storing more complex values -\n",
        "if you expected ORM-like behaviour where altering those might get mirrored in the database, that often wouldn't work and arguably shouldn't (for hard-to-explain reasons). \n",
        "\n",
        "So we make you do it, to keep things clear. "
      ]
    }
  ],
  "metadata": {
    "colab": {
      "include_colab_link": true,
      "provenance": []
    },
    "kernelspec": {
      "display_name": "Python 3",
      "language": "python",
      "name": "python3"
    },
    "language_info": {
      "codemirror_mode": {
        "name": "ipython",
        "version": 3
      },
      "file_extension": ".py",
      "mimetype": "text/x-python",
      "name": "python",
      "nbconvert_exporter": "python",
      "pygments_lexer": "ipython3",
      "version": "3.8.10"
    },
    "vscode": {
      "interpreter": {
        "hash": "31f2aee4e71d21fbe5cf8b01ff0e069b9275f58929596ceb00d14d90e3e16cd6"
      }
    }
  },
  "nbformat": 4,
  "nbformat_minor": 0
}
