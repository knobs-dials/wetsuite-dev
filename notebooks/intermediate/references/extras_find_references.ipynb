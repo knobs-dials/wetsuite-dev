{
  "cells": [
    {
      "attachments": {},
      "cell_type": "markdown",
      "metadata": {
        "colab_type": "text",
        "id": "view-in-github"
      },
      "source": [
        "<a href=\"https://colab.research.google.com/github/knobs-dials/wetsuite-dev/blob/main/notebooks/extras/extras_find_references.ipynb\" target=\"_parent\"><img src=\"https://colab.research.google.com/assets/colab-badge.svg\" alt=\"Open In Colab\"/></a>"
      ]
    },
    {
      "cell_type": "code",
      "execution_count": null,
      "metadata": {},
      "outputs": [],
      "source": [
        "# (only) in colab, run this first to install wetsuite from (the most recent) source.   For your own setup, see wetsuite's install guidelines.\n",
        "!pip3 install -U --no-cache-dir --quiet https://github.com/knobs-dials/wetsuite-dev/archive/refs/heads/main.zip"
      ]
    },
    {
      "attachments": {},
      "cell_type": "markdown",
      "metadata": {},
      "source": [
        "# Purpose of this notebook\n",
        "\n"
      ]
    },
    {
      "attachments": {},
      "cell_type": "markdown",
      "metadata": {},
      "source": [
        "Seeing how well you can extract references to laws and jurisprudence from relatively free-form text.\n",
        "\n",
        "Because there are few standards, and the ones there are are rarely used consistently.\n",
        "\n",
        "You probably want to skim [notes__identifiers_and_references (notebook)](notes__identifiers_and_references.ipynb) first.\n",
        "\n",
        "Optionally, take a glance at [references_lawnames](references_lawnames.ipynb) extracting the names of laws,\n",
        "including less-official references in real-world use."
      ]
    },
    {
      "attachments": {},
      "cell_type": "markdown",
      "metadata": {},
      "source": [
        "## What is our domain?\n",
        "\n",
        "There will be references between documents like \n",
        "jurisprudence,\n",
        "national law,\n",
        "EU law, \n",
        "policy, \n",
        "and other official publications.\n",
        "\n",
        "Extracting such references may be useful to varied tasks, such as \n",
        "- finding related documents by the references they share use, \n",
        "- estimate the generla topics a document covers,\n",
        "- estimate what a document intends to do, by the legal authority it draws on.\n",
        "\n",
        "<!-- -->\n",
        "\n",
        "Particularly ECLI marks what it is in the identifier itself, so is unambiguous. \n",
        "\n",
        "The full form of a jci is similarly recognizable.\n",
        "\n",
        "\n",
        "Many other things fall on a gliding scale.\n",
        "LJN may just look like some letters and numbers.\n",
        "The same goes for CELEX except there are some letters in a predictable yet otherwise-unusual place.\n",
        "Such details metter if you want to avoid false positives.\n",
        "\n",
        "Abbreviated references are more easily missed (false negatives), or lead to false positives.\n",
        "\n",
        "Natural-language references may see a lot of _variation_ in how they are written down,\n",
        "but their relative verbosity means that most cases are still fairly unambiguous.\n",
        "\n"
      ]
    },
    {
      "cell_type": "markdown",
      "metadata": {},
      "source": [
        "\n",
        "\n",
        "### Some practical notes\n",
        "\n",
        "\n",
        "TODO: MOVE WHAT IS RELEVANT TO NOTES_IDENTIFIERS\n",
        "\n",
        "\n",
        "**Nerdnotes:**\n",
        "* You could look for very specific text patterns, but things like regexps are likely to break under even minor variation\n",
        "  * other classical formal grammars (CFGs and such) may also not quite be enough\n",
        "  * something like [PEG](https://en.wikipedia.org/wiki/Parsing_expression_grammar)s are preferable\n",
        "\n",
        "* There are some things that are essentially global aliases, shared through the community\n",
        "  * e.g. referring to part of `Awb` is _very_ likely to be _Algemene wet bestuursrecht_ (BWBR0005537)\n",
        "  \n",
        "* Then there are what are essentially local aliases. Consider:\n",
        "  - `\"Ingevolge artikel 2, eerste lid, van de Wet op de adeldom (hierna: de Wet)\"`\n",
        "  - `\"the European Convention on Human Right and Fundamental Freedoms (hereinafter 'the Convention')\"`\n",
        "  * which are important if you want to resolve _\"article 6 of the Convention\"_\n",
        "\n",
        "\n",
        "**Practicalities**\n",
        "* Some of the data we have is marked up, meaning there are links that are to a formal identifier, and have a less-formal name. \n",
        "  * for example, find `extref` tags in BWB and CVDR's XML form\n",
        "\n",
        "* Some of the references are nicely in metadata fields. Knowing that can act as disambiguation of the field's value in a way we cannot easily do in free-flowing text.\n",
        "\n",
        "* We also just have text that happens to be references - e.g. in free-flowing text.\n",
        "\n",
        "\n",
        "* perhaps the most important is actually that it is often not clear where the reference ends. A simple example:\n",
        "\n",
        "    TODO\n",
        "\n",
        "\n",
        "**Practicalities we cannot cover easily, or at all:**\n",
        "* References would be referring to the version valid at the time of reference, though that should be resolvable\n",
        "\n",
        "* You may find a lot of **less-formal names for laws** from free-form text\n",
        "\n",
        "* The same may not work as well for **policy** or **jurisprudence**. \n",
        "    * Say, \"Rensing/Polak II\" is practically unambiguous, even though it's **not** `ECLI:NL:HR:2005:AT4537`'s name\n",
        "    * yet there are many links that will be named \"Besluit\", or another name that is unique only within that document and not something we should learn generally\n",
        "\n",
        "* Not all references have the same function. Consider `\"Commission Directive 2014/110/EU of 17 December 2014 amending Directive 2004/33/EC as regards ...\"` or `\"The substantive provisions of Directive 2004/33/EC were not affected by its amendment by Directive 2014/110/EU ...\"` - it would not be hard to extract both references, but it is is up to you to notice that in terms of interpretation, one is referred to, and the other is only mentioned for completeness, or to decide there is a difference between mentions, supporing references, etc.\n",
        "\n"
      ]
    },
    {
      "cell_type": "markdown",
      "metadata": {},
      "source": [
        "## Practical: informal references"
      ]
    },
    {
      "cell_type": "code",
      "execution_count": 14,
      "metadata": {},
      "outputs": [
        {
          "name": "stdout",
          "output_type": "stream",
          "text": [
            "\n",
            "=== '  artikel 81q lid 3c Gemeentewet  ' ===\n",
            "SOFAR      [ARTIKEL 81Q] lid 3c Gemeentewet\n",
            "MATCHED type=lid                 :   'lid 3c'                   1 chars after \n",
            "SOFAR      [ARTIKEL 81Q LID 3C] Gemeentewet\n",
            "Matched: ''\n",
            "               'artikel':  '81q'\n",
            "                   'lid':  '3c'\n",
            "               'lid_num':  []\n",
            "\n",
            "=== 'artikel 2, eerste, tweede, vijfde, en zesenzestigste lid' ===\n",
            "SOFAR      [ARTIKEL 2], eerste, tweede, vijfde, en zesenzestigste lid\n",
            "MATCHED type=lid                 :   'eerste, tweede, vijfde, en zesenzestigste lid'  2 chars after \n",
            "SOFAR      [ARTIKEL 2, EERSTE, TWEEDE, VIJFDE, EN ZESENZESTIGSTE LID]\n",
            "Matched: 'eerste, tweede, vijfde, en zesenzestigste'\n",
            "               'artikel':  '2'\n",
            "                   'lid':  'eerste, tweede, vijfde, en zesenzestigste'\n",
            "               'lid_num':  [1, 2, 5, 66]\n"
          ]
        }
      ],
      "source": [
        "import pprint, textwrap\n",
        "from importlib import reload\n",
        "\n",
        "import wetsuite.helpers.patterns\n",
        "reload( wetsuite.helpers.patterns )\n",
        "\n",
        "for test in [\n",
        "    #'artikel 5:9, aanhef en onder b, Awb',\n",
        "    #'artikel 8, aanhef en onder c, Wet bescherming persoonsgegevens (Wbp).',\n",
        "    #'artikel 10, tweede lid, aanhef en onder e, van de Wob',\n",
        "    #\"artikel 4, tweede lid, aanhef en onder d, van het reglement van orde voor de ministerraad\",\n",
        "    #\"Artikel 10, tweede lid, aanhef en onder e van de. Wet openbaarheid van bestuur\",\n",
        "    #\"artikel 6:80 lid 1 aanhef en onder b BW\",\n",
        "    #'artikel 4, aanhef en onder d en g, van de standaardvoorwaarden',\n",
        "    #'artikel 3.3, zevende lid, aanhef en onder i, Woo',\n",
        "    #'artikel 15, aanhef en onder a of c (oud) RWN',\n",
        "\n",
        "    '  artikel 81q lid 3c Gemeentewet  ',\n",
        "    #'artikel 4:25, 4:35 van de Awb en artikel 10 van de ASV',\n",
        "    #'Wabo, art. 2.12, eerste lid, aanhef en onder a, sub 1\\xBA',\n",
        "    #'artikel 79, aanhef en onder 6\\xBA',\n",
        "    #'artikel 3.3, zevende lid jo. vijfde lid, aanhef en onder i, Woo',\n",
        "    #'artikel 142, eerste lid, aanhef en onder b (en derde lid), van het Wetboek van Strafvordering',\n",
        "    'artikel 2, eerste, tweede, vijfde, en zesenzestigste lid',\n",
        "    #'art. 166 lid 1 in verbinding met art. 353 lid 1 Rv',\n",
        "\n",
        "    # '(Art. 81 RO)',\n",
        "    # '(als bedoeld in art. 22 Rv.)',\n",
        "    # 'artikel 166 Rv',\n",
        "    # 'artikel 3:303 BW',\n",
        "    # 'artikel 22 Rv',\n",
        "    # 'artikel 4, tweede lid, aanhef en onder d, van het reglement van orde voor de ministerraad',\n",
        "    # 'artikel 5:9, aanhef en onder b, Awb',\n",
        "    # 'artikel 8, aanhef en onder c, Wet bescherming persoonsgegevens (Wbp)',\n",
        "    # 'artikel 10, tweede lid, aanhef en onder e, van de Wob',\n",
        "    # 'artikel 4, tweede lid, aanhef en onder d, van het reglement van orde voor de ministerraad',\n",
        "    # 'Artikel 10, tweede lid, aanhef en onder e van de. Wet openbaarheid van bestuur',\n",
        "    # 'artikel 6:80 lid 1 aanhef en onder b BW',\n",
        "    # 'artikel 142, eerste lid, aanhef en onder b (en derde lid), van het Wetboek van Strafvordering',\n",
        "    # 'artikel 4, aanhef en onder d en g, van de standaardvoorwaarden',\n",
        "    # 'artikel 3.3, zevende lid, aanhef en onder i, Woo',\n",
        "    # 'artikel 3.3, zevende lid jo. vijfde lid, aanhef en onder i, Woo',\n",
        "    # 'artikel 79, aanhef en onder 6\\xBA',\n",
        "    # 'artikel 15, aanhef en onder a of c (oud) RWN',\n",
        "    # 'Wabo, art. 2.12, eerste lid, aanhef en onder a, sub 1\\xBA',\n",
        "    # 'artikel 2, eerste, tweede, en vijfde lid, gestelde eisen voldoen. (Artikel 3, eerste lid, van de Tabaks- en rookwarenwet)',\n",
        "    # 'artikel 2, eerste, tweede, vijfde, even zesenzestigste lid',\n",
        "\n",
        "\n",
        "    #'LJN: AO7817, NJ 2005, 270',\n",
        "    #'LJN: BO6106',\n",
        "    #'LJN: ZC2793, NJ 1999, 685',\n",
        "    #'LJN: AW2089, NJ 2006, 327',\n",
        "]:\n",
        "    #print()\n",
        "    print()\n",
        "    print( '=== %r ==='%test )\n",
        "    matches = wetsuite.helpers.patterns.find_nonidentifier_references( test, debug=1 )\n",
        "    for match in matches:\n",
        "        #print( match )\n",
        "        print('Matched: %r'%match['text'])\n",
        "        #print('Details:')\n",
        "        for k, v in match['details'].items():\n",
        "            print( '    %20r:  %-r'%(k, v) )"
      ]
    },
    {
      "cell_type": "code",
      "execution_count": 3,
      "metadata": {},
      "outputs": [
        {
          "name": "stdout",
          "output_type": "stream",
          "text": [
            "MATCHED type=aanhefonder         :   'aanhef en onder b'        2 chars after \n"
          ]
        },
        {
          "data": {
            "text/plain": [
              "[{'text': 'artikel 5:9, aanhef en onder b',\n",
              "  'details': OrderedDict([('artikel', '5:9'),\n",
              "               ('aanhefonder', 'aanhef en onder b')])}]"
            ]
          },
          "execution_count": 3,
          "metadata": {},
          "output_type": "execute_result"
        }
      ],
      "source": [
        "from wetsuite.helpers.patterns import reference_parse\n",
        "reference_parse('artikel 5:9, aanhef en onder b, Awb')"
      ]
    },
    {
      "attachments": {},
      "cell_type": "markdown",
      "metadata": {},
      "source": [
        "### Going further\n",
        "\n",
        "It would be quite interesting that if \n",
        "\n",
        "- input like `\"artikel 4, tweede lid, aanhef en onder d, van het reglement van orde voor de ministerraad\"` would give any or all of:\n",
        "   - BWBR0006501 \n",
        "   - https://wetten.overheid.nl/jci1.3:c:BWBR0006501&artikel=4    or\n",
        "     https://wetten.overheid.nl/jci1.3:c:BWBR0006501&paragraaf=2&artikel=4\n",
        "   - jci1.3:c:BWBR0006501&paragraaf=2&artikel=4\n",
        "   - ['4', \n",
        "      '2', \n",
        "      'Te dien einde beraadslaagt en besluit de raad onder meer over:', \n",
        "      'het bekendheid geven aan beleidsvoornemens in welke vorm dan ook, die van invloed kunnen zijn op de positie van het kabinet, '\n",
        "      'of die belangrijke financiële consequenties kunnen hebben, benevens over beleidsvoornemens van een minister die het beleid van '\n",
        "      'andere ministers kunnen raken en waarover het bereiken van overeenstemming niet mogelijk is gebleken;'\n",
        "     ]\n",
        "\n",
        "- **Internal references**, e.g. BWBR0004302's artikel 3, lid 1 has \"artikel 2, eerste, tweede, en vijfde lid\", which in that context ought to give\n",
        "   - ['2', \n",
        "      ['1', '2', '5'], \n",
        "      ['Bij of krachtens algemene maatregel van bestuur worden in het belang van de volksgezondheid eisen gesteld aan tabaksproducten, ',\n",
        "       'elektronische dampwaar, nicotinehoudende vloeistof en niet-nicotinehoudende vloeistof met betrekking tot maximumemissieniveaus ',\n",
        "       'en ingrediënten en worden technische eisen gesteld, en kunnen methoden van onderzoek worden aangewezen die bij uitsluiting ',\n",
        "       'beslissend zijn voor de vaststelling of met betrekking tot een product al dan niet aan de daaraan gestelde eisen is voldaan.,\n",
        "\n",
        "              Bij of krachtens algemene maatregel van bestuur worden in het belang van de volksgezondheid eisen gesteld aan de verpakkingseenheid en de buitenverpakking van tabaksproducten en aanverwante producten. De eisen hebben betrekking op:\n",
        "\n",
        "          a. de aanduidingen op verpakkingseenheden en buitenverpakkingen;\n",
        "\n",
        "          b. de hoeveelheid of het aantal stuks dat is verpakt;\n",
        "\n",
        "          c. de presentatie van het product;\n",
        "\n",
        "          d. de sluiting, vorm, afmetingen en materiaal van de verpakkingseenheid of de buitenverpakking; en\n",
        "\n",
        "          e. andere elementen van de verpakkingseenheid en de buitenverpakking die gebruikt kunnen worden om een onderscheid te maken tussen de verschillende merken van een tabaksproduct of een aanverwant product.\n",
        "\n",
        "       'De verpakkingseenheid van elektronische dampwaar bevat een bijsluiter. Onze Minister stelt nadere regels over de inhoud van de bijsluiter.'\n",
        "      ]\n",
        "     ]\n",
        "\n",
        "\n"
      ]
    },
    {
      "attachments": {},
      "cell_type": "markdown",
      "metadata": {},
      "source": [
        "## Practical: Learning from LiDo"
      ]
    },
    {
      "attachments": {},
      "cell_type": "markdown",
      "metadata": {},
      "source": [
        "\n",
        "https://linkeddata.overheid.nl/front/portal/spiegel-lijstweergave?id=http%3A%2F%2Flinkeddata.overheid.nl%2Fterms%2Fjurisprudentie%2Fid%2FECLI%3ANL%3APHR%3A2011%3ABP5608&callback=&dates=&fields=&fq=%7B%21tag%3Dlink_richting%7Dlink_richting%3A%22inkomend%22&facet.field=%7B%21ex%3Dlink_richting%7Dlink_richting&facet.field=%7B%21ex%3Dobj_type%7Dobj_type&facet.field=%7B%21ex%3Dobj_organisatie_groep%7Dobj_organisatie_groep&facet.field=%7B%21ex%3Dobj_organisatie%7Dobj_organisatie&facet.field=%7B%21ex%3Dlink_type%7Dlink_type&facet.field=%7B%21ex%3Dobj_jaar%7Dobj_jaar\n",
        "\n"
      ]
    },
    {
      "cell_type": "code",
      "execution_count": null,
      "metadata": {},
      "outputs": [],
      "source": [
        "\n",
        "\n",
        "import urllib.parse\n",
        "\n",
        "urllib.parse.parse_qs('id=http%3A%2F%2Flinkeddata.overheid.nl%2Fterms%2Fjurisprudentie%2Fid%2FECLI%3ANL%3APHR%3A2011%3ABP5608&callback=&dates=&fields=&fq=%7B%21tag%3Dlink_richting%7Dlink_richting%3A%22inkomend%22&facet.field=%7B%21ex%3Dlink_richting%7Dlink_richting&facet.field=%7B%21ex%3Dobj_type%7Dobj_type&facet.field=%7B%21ex%3Dobj_organisatie_groep%7Dobj_organisatie_groep&facet.field=%7B%21ex%3Dobj_organisatie%7Dobj_organisatie&facet.field=%7B%21ex%3Dlink_type%7Dlink_type&facet.field=%7B%21ex%3Dobj_jaar%7Dobj_jaar')\n",
        "\n",
        "\n",
        "\n",
        "\n",
        "\n",
        "\n",
        "\n"
      ]
    }
  ],
  "metadata": {
    "colab": {
      "include_colab_link": true,
      "provenance": []
    },
    "kernelspec": {
      "display_name": "Python 3",
      "language": "python",
      "name": "python3"
    },
    "language_info": {
      "codemirror_mode": {
        "name": "ipython",
        "version": 3
      },
      "file_extension": ".py",
      "mimetype": "text/x-python",
      "name": "python",
      "nbconvert_exporter": "python",
      "pygments_lexer": "ipython3",
      "version": "3.8.10"
    },
    "vscode": {
      "interpreter": {
        "hash": "31f2aee4e71d21fbe5cf8b01ff0e069b9275f58929596ceb00d14d90e3e16cd6"
      }
    }
  },
  "nbformat": 4,
  "nbformat_minor": 0
}
