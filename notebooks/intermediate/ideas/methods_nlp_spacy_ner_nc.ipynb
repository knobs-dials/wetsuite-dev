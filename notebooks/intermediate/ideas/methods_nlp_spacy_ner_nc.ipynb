{
 "cells": [
  {
   "cell_type": "code",
   "execution_count": null,
   "metadata": {},
   "outputs": [],
   "source": [
    "#!pip3 install -U spacy                "
   ]
  },
  {
   "cell_type": "code",
   "execution_count": null,
   "metadata": {},
   "outputs": [],
   "source": [
    "import random, collections, re\n",
    "from wetsuite.datacollect import db\n",
    "from wetsuite.datacollect import db\n",
    "import wetsuite.helpers.spacy\n",
    "import spacy\n",
    "\n",
    "spacy.require_gpu()\n",
    "english = spacy.load(\"en_core_web_trf\")  \n",
    "\n",
    "conn = db.connect()\n",
    "curs = conn.cursor()\n",
    "curs.execute('SELECT plaintext FROM bwb LIMIT 100')\n",
    "bwb_rows = curs.fetchall()\n",
    "conn.rollback()"
   ]
  },
  {
   "cell_type": "code",
   "execution_count": 4,
   "metadata": {},
   "outputs": [
    {
     "name": "stdout",
     "output_type": "stream",
     "text": [
      "Treblinka GPE\n",
      "Wikipedia ORG\n",
      "Treblinka GPE\n"
     ]
    }
   ],
   "source": [
    "import spacy\n",
    "\n",
    "nlp = spacy.blank(\"en\")  # \"Build upon the spaCy Small Model\" (seems wrong?)\n",
    "\n",
    "ruler = nlp.add_pipe(\"entity_ruler\") # adds EntityRuler to pipelines and returns reference\n",
    "\n",
    "patterns = [\n",
    "    {\"label\": \"GPE\", \"pattern\": \"Treblinka\"},\n",
    "    {\"label\": \"ORG\", \"pattern\": \"Wikipedia\"},\n",
    "]\n",
    "\n",
    "ruler.add_patterns(patterns)\n",
    "\n",
    "# test on example sentence\n",
    "text = \"Treblinka is a small village in Poland. Wikipedia notes that Treblinka is not large.\"\n",
    "doc = nlp(text)\n",
    "for ent in doc.ents:\n",
    "    print (ent.text, ent.label_)"
   ]
  },
  {
   "cell_type": "code",
   "execution_count": 9,
   "metadata": {},
   "outputs": [
    {
     "name": "stdout",
     "output_type": "stream",
     "text": [
      "predicted Apply some sunscreen \n",
      "reference Apply some sun screen \n"
     ]
    }
   ],
   "source": [
    "from spacy.tokens import Doc\n",
    "from spacy.training import Example\n",
    "\n",
    "predicted = Doc(nlp.vocab, words=[\"Apply\", \"some\", \"sunscreen\"])\n",
    "token_ref = [\"Apply\", \"some\", \"sun\", \"screen\"]\n",
    "tags_ref = [\"VERB\", \"DET\", \"NOUN\", \"NOUN\"]\n",
    "example = Example.from_dict(predicted, {\"words\": token_ref, \"tags\": tags_ref})\n",
    "print( 'predicted', example.predicted )\n",
    "print( 'reference', example.reference )"
   ]
  },
  {
   "cell_type": "code",
   "execution_count": null,
   "metadata": {},
   "outputs": [],
   "source": [
    "\n",
    "count = collections.defaultdict(int)\n",
    "\n",
    "for plaintext, in random.sample( bwb_rows, 10):\n",
    "\n",
    "    for paragraph in re.split( '\\n{2,}', plaintext ):\n",
    "        doc = english( paragraph )\n",
    "        #print( paragraph )\n",
    "        for chunk in doc.noun_chunks:\n",
    "            #print( 'NC[%r]'%chunk )\n",
    "            count[chunk.text] += 1\n",
    "\n",
    "it = list(count.items())\n",
    "it.sort(key = lambda x:x[1])\n",
    "for s, cnt in it:\n",
    "    print('%s\\t%s'%(cnt,s))"
   ]
  }
 ],
 "metadata": {
  "kernelspec": {
   "display_name": "Python 3",
   "language": "python",
   "name": "python3"
  },
  "language_info": {
   "codemirror_mode": {
    "name": "ipython",
    "version": 3
   },
   "file_extension": ".py",
   "mimetype": "text/x-python",
   "name": "python",
   "nbconvert_exporter": "python",
   "pygments_lexer": "ipython3",
   "version": "3.8.10"
  },
  "vscode": {
   "interpreter": {
    "hash": "31f2aee4e71d21fbe5cf8b01ff0e069b9275f58929596ceb00d14d90e3e16cd6"
   }
  }
 },
 "nbformat": 4,
 "nbformat_minor": 4
}
