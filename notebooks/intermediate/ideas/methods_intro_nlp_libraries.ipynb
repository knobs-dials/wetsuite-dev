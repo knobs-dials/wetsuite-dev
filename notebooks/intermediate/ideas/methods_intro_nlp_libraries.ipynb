{
  "cells": [
    {
      "attachments": {},
      "cell_type": "markdown",
      "metadata": {
        "id": "3NCj8rkQMsdx"
      },
      "source": [
        "# Purpose of this notebook\n",
        "\n",
        "To be a brief comparison to packages that provide more generic NLP functionality, such as:\n",
        "- [spacy](https://spacy.io/usage/spacy-101) - see also our own [methods_intro_nlp_spacy_basics](methods_intro_nlp_spacy_basics.ipynb)\n",
        "  - ~two dozen languages, including Dutch\n",
        "- [pattern](https://github.com/clips/pattern)\n",
        "  - 6 languages, including Dutch\n",
        "- [nltk](https://www.nltk.org/)\n",
        "  - no out-of-the-box Dutch support, though [training basic support is relatively simple](https://stackoverflow.com/questions/40212895/nltk-tag-dutch-sentence)\n",
        "- [textblob](https://textblob.readthedocs.io/en/dev/) \n",
        "  - no out-of-the-box Dutch support, though [there's this](https://github.com/gvisniuc/textblob-nl)\n",
        "- [CoreNLP](https://stanfordnlp.github.io/CoreNLP/)\n",
        "  - 8 languages, no Dutch, though \n",
        "\n",
        "...in part just to mention them, in part to help you choose one.\n"
      ]
    },
    {
      "cell_type": "markdown",
      "metadata": {},
      "source": [
        "## When you need these - and when you may _not_ need these\n",
        "\n",
        "There are also various tasks that are automated, \n",
        "or common enough that there are plenty of interactive tools, from widgets as code, to complete no-code solutions.\n",
        "\n",
        "Data annotation is a good example of this. You want documents going in one side,\n",
        "annotation data coming in the other side, and a quick web search for purely-online annotation \n",
        "reveals tools like [label studio](https://labelstud.io/), [docanno](https://doccano.github.io/doccano/),\n",
        "[ML-annotate](https://github.com/falcony-io/ml-annotate), [brat](http://brat.nlplab.org/), [annotator.js](http://annotatorjs.org/)\n",
        "to more purpose-specific projectss such as [lawnotation](https://www.lawnotation.org/).\n",
        "\n",
        "The extent of your questions come down to \n",
        "- \"after I do a lot of clicks, how is the thing it spits out usable to me?\",\n",
        "- \"is this particular tool already aware of the language and scope I'm working in, and does it try to help me along?\"\n",
        "\n",
        "and specifically _not_\n",
        "- \"what do I need to install\"\n",
        "- \"what do I need to learn to even get started, in terms of programming, how your your package works, whether the output is what I need in the first place\"\n",
        "\n"
      ]
    },
    {
      "cell_type": "code",
      "execution_count": 14,
      "metadata": {},
      "outputs": [],
      "source": [
        "import pprint\n",
        "\n",
        "test = \"Python is a high-level, general-purpose programming language. It can be quite useful.\""
      ]
    },
    {
      "attachments": {},
      "cell_type": "markdown",
      "metadata": {
        "id": "qKsX4tkxMsd0"
      },
      "source": [
        "## spacy"
      ]
    },
    {
      "cell_type": "code",
      "execution_count": null,
      "metadata": {},
      "outputs": [],
      "source": [
        "!pip3 install -U spacy"
      ]
    },
    {
      "cell_type": "code",
      "execution_count": 15,
      "metadata": {},
      "outputs": [
        {
          "name": "stdout",
          "output_type": "stream",
          "text": [
            "[[('Python', 'PROPN'),\n",
            "  ('is', 'AUX'),\n",
            "  ('a', 'DET'),\n",
            "  ('high', 'ADJ'),\n",
            "  ('-', 'PUNCT'),\n",
            "  ('level', 'NOUN'),\n",
            "  (',', 'PUNCT'),\n",
            "  ('general', 'ADJ'),\n",
            "  ('-', 'PUNCT'),\n",
            "  ('purpose', 'NOUN'),\n",
            "  ('programming', 'NOUN'),\n",
            "  ('language', 'NOUN'),\n",
            "  ('.', 'PUNCT'),\n",
            "  ('It', 'PRON'),\n",
            "  ('can', 'AUX'),\n",
            "  ('be', 'AUX'),\n",
            "  ('quite', 'ADV'),\n",
            "  ('useful', 'ADJ'),\n",
            "  ('.', 'PUNCT')],\n",
            " [Python is a high-level, general-purpose programming language.,\n",
            "  It can be quite useful.]]\n"
          ]
        }
      ],
      "source": [
        "import spacy\n",
        "english_lg  = spacy.load('en_core_web_lg')   \n",
        "\n",
        "ana = english_lg( test )\n",
        "\n",
        "pprint.pprint(\n",
        "    [list( (tok.text, tok.pos_)  for tok in ana ),\n",
        "     list(ana.sents)]\n",
        ")"
      ]
    },
    {
      "cell_type": "markdown",
      "metadata": {},
      "source": [
        "## Textblob\n",
        "\n",
        "See also https://textblob.readthedocs.io/en/dev/quickstart.html"
      ]
    },
    {
      "cell_type": "code",
      "execution_count": null,
      "metadata": {},
      "outputs": [],
      "source": [
        "!pip3 install -U textblob"
      ]
    },
    {
      "cell_type": "code",
      "execution_count": 16,
      "metadata": {},
      "outputs": [],
      "source": [
        "from textblob import TextBlob\n",
        "\n",
        "ana = TextBlob( test )\n",
        "\n",
        "pprint.pprint(\n",
        "    [ana.tags,\n",
        "     ana.sentences]\n",
        ")"
      ]
    },
    {
      "cell_type": "code",
      "execution_count": 17,
      "metadata": {},
      "outputs": [
        {
          "name": "stdout",
          "output_type": "stream",
          "text": [
            "[[('Python', 'NNP'),\n",
            "  ('is', 'VBZ'),\n",
            "  ('a', 'DT'),\n",
            "  ('high-level', 'JJ'),\n",
            "  ('general-purpose', 'JJ'),\n",
            "  ('programming', 'NN'),\n",
            "  ('language', 'NN'),\n",
            "  ('It', 'PRP'),\n",
            "  ('can', 'MD'),\n",
            "  ('be', 'VB'),\n",
            "  ('quite', 'RB'),\n",
            "  ('useful', 'JJ')],\n",
            " [Sentence(\"Python is a high-level, general-purpose programming language.\"),\n",
            "  Sentence(\"It can be quite useful.\")]]\n"
          ]
        }
      ],
      "source": []
    },
    {
      "cell_type": "markdown",
      "metadata": {},
      "source": [
        "## NLTK"
      ]
    },
    {
      "cell_type": "code",
      "execution_count": 21,
      "metadata": {},
      "outputs": [
        {
          "name": "stdout",
          "output_type": "stream",
          "text": [
            "[['Python',\n",
            "  'is',\n",
            "  'a',\n",
            "  'high-level',\n",
            "  ',',\n",
            "  'general-purpose',\n",
            "  'programming',\n",
            "  'language',\n",
            "  '.',\n",
            "  'It',\n",
            "  'can',\n",
            "  'be',\n",
            "  'quite',\n",
            "  'useful',\n",
            "  '.'],\n",
            " ['Python is a high-level, general-purpose programming language.',\n",
            "  'It can be quite useful.']]\n"
          ]
        }
      ],
      "source": [
        "from nltk import word_tokenize, sent_tokenize\n",
        "\n",
        "pprint.pprint(\n",
        "    [word_tokenize(test), \n",
        "     sent_tokenize(test)])\n"
      ]
    },
    {
      "cell_type": "markdown",
      "metadata": {},
      "source": [
        "## pattern"
      ]
    },
    {
      "cell_type": "code",
      "execution_count": null,
      "metadata": {},
      "outputs": [],
      "source": [
        "!pip3 install pattern"
      ]
    },
    {
      "cell_type": "code",
      "execution_count": 44,
      "metadata": {},
      "outputs": [],
      "source": [
        "from pattern.en import parse\n",
        "ana = parse(test,\n",
        "     tokenize = True,  \n",
        "         tags = True,  \n",
        "       chunks = True,  \n",
        "    relations = True,  \n",
        "      #lemmata = True,  \n",
        "        light = False)\n"
      ]
    },
    {
      "cell_type": "code",
      "execution_count": 45,
      "metadata": {},
      "outputs": [
        {
          "name": "stdout",
          "output_type": "stream",
          "text": [
            "[[['Python', 'NNP', 'B-NP', 'O', 'NP-SBJ-1'],\n",
            "  ['is', 'VBZ', 'B-VP', 'O', 'VP-1'],\n",
            "  ['a', 'DT', 'B-NP', 'O', 'NP-OBJ-1'],\n",
            "  ['high-level', 'JJ', 'I-NP', 'O', 'NP-OBJ-1'],\n",
            "  [',', ',', 'I-NP', 'O', 'NP-OBJ-1'],\n",
            "  ['general-purpose', 'JJ', 'I-NP', 'O', 'NP-OBJ-1'],\n",
            "  ['programming', 'NN', 'I-NP', 'O', 'NP-OBJ-1'],\n",
            "  ['language', 'NN', 'I-NP', 'O', 'NP-OBJ-1'],\n",
            "  ['.', '.', 'O', 'O', 'O']],\n",
            " [['It', 'PRP', 'B-NP', 'O', 'NP-SBJ-1'],\n",
            "  ['can', 'MD', 'B-VP', 'O', 'VP-1'],\n",
            "  ['be', 'VB', 'I-VP', 'O', 'VP-1'],\n",
            "  ['quite', 'RB', 'B-ADJP', 'O', 'O'],\n",
            "  ['useful', 'JJ', 'I-ADJP', 'O', 'O'],\n",
            "  ['.', '.', 'O', 'O', 'O']]]\n"
          ]
        }
      ],
      "source": [
        "pprint.pprint( ana.split() )\n"
      ]
    },
    {
      "cell_type": "markdown",
      "metadata": {},
      "source": [
        "## CoreNLP\n",
        "\n",
        "See also https://stanfordnlp.github.io/CoreNLP/"
      ]
    },
    {
      "cell_type": "code",
      "execution_count": null,
      "metadata": {},
      "outputs": [],
      "source": []
    }
  ],
  "metadata": {
    "colab": {
      "include_colab_link": true,
      "provenance": []
    },
    "kernelspec": {
      "display_name": "Python 3",
      "language": "python",
      "name": "python3"
    },
    "language_info": {
      "codemirror_mode": {
        "name": "ipython",
        "version": 3
      },
      "file_extension": ".py",
      "mimetype": "text/x-python",
      "name": "python",
      "nbconvert_exporter": "python",
      "pygments_lexer": "ipython3",
      "version": "3.8.10"
    },
    "vscode": {
      "interpreter": {
        "hash": "31f2aee4e71d21fbe5cf8b01ff0e069b9275f58929596ceb00d14d90e3e16cd6"
      }
    }
  },
  "nbformat": 4,
  "nbformat_minor": 0
}
