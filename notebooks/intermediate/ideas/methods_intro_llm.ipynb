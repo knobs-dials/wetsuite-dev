{
 "cells": [
  {
   "cell_type": "markdown",
   "metadata": {},
   "source": [
    "<a href=\"https://colab.research.google.com/github/knobs-dials/wetsuite-dev/blob/main/notebooks/intermediate/methods_intro_gpt.ipynb\" target=\"_parent\"><img src=\"https://colab.research.google.com/assets/colab-badge.svg\" alt=\"Open In Colab\"/></a>"
   ]
  },
  {
   "cell_type": "code",
   "execution_count": null,
   "metadata": {
    "colab": {
     "base_uri": "https://localhost:8080/"
    },
    "id": "Fhj8kOqT0bO2",
    "outputId": "0453acae-518b-478d-b02e-bf2204094aeb"
   },
   "outputs": [],
   "source": [
    "# on colab, start with\n",
    "!pip --quiet install https://github.com/knobs-dials/wetsuite-dev/archive/refs/heads/main.zip\n",
    "!pip --quiet install tiktoken\n",
    "!pip --quiet install cohere\n",
    "!pip --quiet install openai"
   ]
  },
  {
   "cell_type": "markdown",
   "metadata": {
    "id": "fqwdCPZL0bO5"
   },
   "source": [
    "# Purpose of this notebook\n"
   ]
  },
  {
   "cell_type": "code",
   "execution_count": null,
   "metadata": {
    "id": "LzNo0r36x610"
   },
   "outputs": [],
   "source": [
    "import wetsuite.datasets\n",
    "\n",
    "cvdr = wetsuite.datasets.load('cvdr-mostrecent-xml')"
   ]
  },
  {
   "cell_type": "code",
   "execution_count": null,
   "metadata": {
    "id": "Yaqoi1yR1Zeq"
   },
   "outputs": [],
   "source": [
    "# list of all damocles files was determined elsewhere, simply copied here (to be improved)\n",
    "damocles_files = ['CVDR200454_1.xml', 'CVDR301061_1.xml', 'CVDR308512_1.xml', 'CVDR329507_1.xml', 'CVDR346627_1.xml', 'CVDR350820_1.xml', 'CVDR363545_1.xml', 'CVDR376316_1.xml', 'CVDR382277_1.xml', 'CVDR388502_2.xml', 'CVDR607457_4.xml', 'CVDR612371_2.xml', 'CVDR615984_3.xml', 'CVDR620977_1.xml', 'CVDR621241_1.xml', 'CVDR621560_1.xml', 'CVDR621753_1.xml', 'CVDR622700_1.xml', 'CVDR623161_1.xml', 'CVDR623330_1.xml', 'CVDR623520_1.xml', 'CVDR623560_1.xml', 'CVDR623727_1.xml', 'CVDR624295_1.xml', 'CVDR624339_1.xml', 'CVDR624488_1.xml', 'CVDR624704_1.xml', 'CVDR624769_1.xml', 'CVDR624976_1.xml', 'CVDR624998_1.xml', 'CVDR625085_1.xml', 'CVDR625319_1.xml', 'CVDR625357_1.xml', 'CVDR625390_1.xml', 'CVDR625674_1.xml', 'CVDR625830_1.xml', 'CVDR626099_1.xml', 'CVDR626362_2.xml', 'CVDR626649_1.xml', 'CVDR626671_1.xml', 'CVDR627143_1.xml', 'CVDR627159_1.xml', 'CVDR627311_1.xml', 'CVDR627440_1.xml', 'CVDR627461_1.xml', 'CVDR627557_1.xml', 'CVDR627781_1.xml', 'CVDR627815_1.xml', 'CVDR628033_1.xml', 'CVDR628202_1.xml', 'CVDR628501_1.xml', 'CVDR628702_1.xml', 'CVDR628918_1.xml', 'CVDR629021_1.xml', 'CVDR629042_1.xml', 'CVDR629117_1.xml', 'CVDR629889_1.xml', 'CVDR631162_1.xml', 'CVDR631637_1.xml', 'CVDR635277_1.xml', 'CVDR635940_1.xml', 'CVDR636068_1.xml', 'CVDR636144_1.xml', 'CVDR636583_2.xml', 'CVDR636690_1.xml', 'CVDR636696_1.xml', 'CVDR636766_1.xml', 'CVDR636798_1.xml', 'CVDR637534_1.xml', 'CVDR637903_1.xml', 'CVDR638053_1.xml', 'CVDR638099_1.xml', 'CVDR638265_1.xml', 'CVDR638451_1.xml', 'CVDR640125_1.xml', 'CVDR640511_1.xml', 'CVDR641564_1.xml', 'CVDR641911_1.xml', 'CVDR641976_1.xml', 'CVDR642370_1.xml', 'CVDR642377_1.xml', 'CVDR642441_1.xml', 'CVDR642522_1.xml', 'CVDR642592_1.xml', 'CVDR642689_1.xml', 'CVDR642799_1.xml', 'CVDR642891_1.xml', 'CVDR643224_1.xml', 'CVDR643458_1.xml', 'CVDR643493_1.xml', 'CVDR643684_1.xml', 'CVDR644011_1.xml', 'CVDR644050_1.xml', 'CVDR644064_1.xml', 'CVDR644268_2.xml', 'CVDR644325_1.xml', 'CVDR644368_1.xml', 'CVDR644642_1.xml', 'CVDR644904_1.xml', 'CVDR645028_1.xml', 'CVDR645691_1.xml', 'CVDR646081_1.xml', 'CVDR646541_1.xml', 'CVDR647308_1.xml', 'CVDR647508_1.xml', 'CVDR647511_1.xml', 'CVDR647781_1.xml', 'CVDR648731_1.xml', 'CVDR649052_1.xml', 'CVDR650899_1.xml', 'CVDR651172_1.xml', 'CVDR653372_1.xml', 'CVDR653507_1.xml', 'CVDR654578_1.xml', 'CVDR655233_1.xml', 'CVDR655505_1.xml', 'CVDR655653_1.xml', 'CVDR656125_1.xml', 'CVDR656668_1.xml', 'CVDR656698_1.xml', 'CVDR657194_1.xml', 'CVDR657266_1.xml', 'CVDR657505_1.xml', 'CVDR657560_1.xml', 'CVDR657583_1.xml', 'CVDR657606_1.xml', 'CVDR657845_1.xml', 'CVDR658264_1.xml', 'CVDR658616_1.xml', 'CVDR658653_1.xml', 'CVDR658727_1.xml', 'CVDR658989_1.xml', 'CVDR659138_1.xml', 'CVDR659368_1.xml', 'CVDR659542_1.xml', 'CVDR659579_1.xml', 'CVDR660122_1.xml', 'CVDR660919_1.xml', 'CVDR661297_1.xml', 'CVDR661386_1.xml', 'CVDR661580_1.xml', 'CVDR661595_1.xml', 'CVDR661752_1.xml', 'CVDR661935_1.xml', 'CVDR661936_1.xml', 'CVDR662192_1.xml', 'CVDR662313_1.xml', 'CVDR662367_1.xml', 'CVDR662397_1.xml', 'CVDR662460_1.xml', 'CVDR662606_1.xml', 'CVDR662927_1.xml', 'CVDR663067_1.xml', 'CVDR663130_1.xml', 'CVDR663285_1.xml', 'CVDR663907_1.xml', 'CVDR664009_1.xml', 'CVDR666182_1.xml', 'CVDR666391_1.xml', 'CVDR666913_1.xml', 'CVDR671340_1.xml', 'CVDR671555_1.xml', 'CVDR671592_1.xml', 'CVDR671692_1.xml', 'CVDR673395_2.xml', 'CVDR673539_1.xml', 'CVDR673900_1.xml', 'CVDR674987_1.xml', 'CVDR675708_1.xml', 'CVDR675965_1.xml', 'CVDR678328_1.xml', 'CVDR678419_1.xml', 'CVDR678949_1.xml', 'CVDR679162_1.xml', 'CVDR679460_1.xml', 'CVDR679633_1.xml', 'CVDR680112_1.xml', 'CVDR680300_1.xml', 'CVDR680532_1.xml', 'CVDR680557_1.xml', 'CVDR680583_1.xml', 'CVDR680814_1.xml', 'CVDR681003_1.xml', 'CVDR681074_1.xml', 'CVDR681125_1.xml', 'CVDR681351_1.xml', 'CVDR681430_1.xml']\n",
    "damocles_ids = [s.replace('CVDR','').replace('.xml','').split('_') for s in damocles_files]\n",
    "damocles_urls = [f'https://repository.officiele-overheidspublicaties.nl/CVDR/CVDR{id}/{n}/xml/CVDR{id}_{n}.xml' for id, n in damocles_ids]\n",
    "damocles_docs = [cvdr.data[key] for key in damocles_urls]"
   ]
  },
  {
   "cell_type": "code",
   "execution_count": null,
   "metadata": {
    "colab": {
     "base_uri": "https://localhost:8080/"
    },
    "id": "a5ymCgYP3wxf",
    "outputId": "5c664ac5-a46f-4839-e053-96128807e22a"
   },
   "outputs": [],
   "source": [
    "print('number of documents:', len(damocles_docs))\n",
    "print(damocles_docs[0])"
   ]
  },
  {
   "cell_type": "code",
   "execution_count": null,
   "metadata": {
    "id": "6OveMEYMCE_p"
   },
   "outputs": [],
   "source": [
    "from wetsuite.helpers import koop_parse, etree\n",
    "from lxml.etree import tostring\n",
    "\n",
    "# To be added to WetSuite\n",
    "\n",
    "def iter_chunks_xml(xml):\n",
    "\n",
    "    tree = etree.fromstring(xml)\n",
    "    tree_stripped = etree.strip_namespace(tree)\n",
    "\n",
    "    for n, table in enumerate(list(tree_stripped.findall(\".//table\"))):\n",
    "        text = str(tostring(table))\n",
    "        if len(text) < 10:\n",
    "            continue\n",
    "        yield {'n': n,\n",
    "               'part_id': f'table {n}',\n",
    "               'text': text,\n",
    "               'from_table': True,\n",
    "               }\n",
    "        table.getparent().remove(table)\n",
    "\n",
    "    alinea_dicts = koop_parse.alineas_with_selective_path(tree_stripped, start_at_path='body/regeling/regeling-tekst')\n",
    "    merged = koop_parse.merge_alinea_data(alinea_dicts, if_same={'hoofdstuk':'hoofdstuknr',\n",
    "    'afdeling':'afdelingnr',\n",
    "    'paragraaf':'paragraafnr',\n",
    "    'sub-paragraaf':'subparagraafnr',\n",
    "    'artikel':'artikelnr',})\n",
    "\n",
    "    for n, (label, content) in enumerate(merged):\n",
    "        text = '\\n'.join(content)\n",
    "        # print(label, text)\n",
    "        # r = input('prompt? y/n')\n",
    "        # if r == 'y':\n",
    "        if len(text) > 10:\n",
    "            yield {'n': n,\n",
    "                   'part_id': ' '.join(' '.join(l) for l in label),\n",
    "                   'text': text,\n",
    "                   'from_table': False,\n",
    "                   }\n"
   ]
  },
  {
   "cell_type": "markdown",
   "metadata": {
    "id": "QShCrlGeK5B1"
   },
   "source": [
    "## Construct ChatGPT prompts"
   ]
  },
  {
   "cell_type": "markdown",
   "metadata": {
    "id": "hIuXk_BGLp_b"
   },
   "source": [
    "### GPT setup"
   ]
  },
  {
   "cell_type": "code",
   "execution_count": null,
   "metadata": {
    "id": "_Vsop3w6K9eZ"
   },
   "outputs": [],
   "source": [
    "import openai\n",
    "\n",
    "query_options = {\n",
    "    \"model\": \"gpt-3.5-turbo-16k\",    # more expensive alternative: gpt-4\n",
    "    \"max_tokens\": 8000,\n",
    "    \"temperature\": 0.8,\n",
    "    \"top_p\": 1,\n",
    "    \"n\": 1,\n",
    "    \"stream\": False,\n",
    "}\n",
    "\n",
    "openai.api_key = '...'  # better read from environment variable"
   ]
  },
  {
   "cell_type": "markdown",
   "metadata": {
    "id": "qA4UC-nsLtzl"
   },
   "source": [
    "### Constructing prompts"
   ]
  },
  {
   "cell_type": "code",
   "execution_count": null,
   "metadata": {
    "colab": {
     "base_uri": "https://localhost:8080/"
    },
    "id": "m-79rOCm9k2i",
    "outputId": "7c5e29a6-1e6c-4940-c54c-c764b18c6e5d"
   },
   "outputs": [],
   "source": [
    "prompt_template = '''Hier is een deel van een tekst over gemeentelijk drugsbeleid.\n",
    "\n",
    "{text}\n",
    "\n",
    "Bevat dit deel van de tekst SPECIFIEKE regels over typen overtredingen en de bijbehorende (straf)maatregel? Zoja, voeg dan de regels toe aan onderstaande markdown-tabel. Vul alleen gegevens in die EXPLICIET in dit specifieke tekstfragment genoemd worden. Laat onbekende cellen leeg. Indien er geen regels in de tekst staan, zeg dan gewoon \"Geen regels.\".\n",
    "\n",
    "| Soort overtreding (harddrugs/softdrugs/planten...) | 1e, 2e, 3e of 4e overtreding | Maatregel | Korte toelichting |\n",
    "|------------|------------|------------|------------|\n",
    "'''.format\n",
    "\n",
    "fragments = list(iter_chunks_xml(xml))\n",
    "prompts = [fragment | {'prompt': prompt_template(text='> ' + fragment[\"text\"].replace('\\n', '\\n> '))} for fragment in fragments]"
   ]
  },
  {
   "cell_type": "code",
   "execution_count": null,
   "metadata": {
    "colab": {
     "base_uri": "https://localhost:8080/"
    },
    "id": "jYdGnKmiMtd7",
    "outputId": "8165dfba-46b0-4715-af20-f38f212f6f28"
   },
   "outputs": [],
   "source": [
    "for n, prompt in enumerate(prompts):\n",
    "    prompt = prompt['prompt']\n",
    "    print('======================\\n', prompt, '\\n\\n')\n",
    "    query = {**query_options, 'messages': [{'role': 'user', 'content': prompt}]}\n",
    "    response = None\n",
    "    while response is None:\n",
    "        try:\n",
    "            response = openai.ChatCompletion.create(**query)\n",
    "        except openai.error.RateLimitError as e:\n",
    "            print(f'sleeping... ({e})')\n",
    "            time.sleep(1)\n",
    "\n",
    "    print(*[choice['message']['content'] for choice in response['choices']], sep='\\n')\n",
    "    input('\\n>>> ENTER for next prompt\\n')"
   ]
  }
 ],
 "metadata": {
  "colab": {
   "provenance": []
  },
  "kernelspec": {
   "display_name": "Python 3",
   "name": "python3"
  },
  "language_info": {
   "name": "python"
  }
 },
 "nbformat": 4,
 "nbformat_minor": 0
}
