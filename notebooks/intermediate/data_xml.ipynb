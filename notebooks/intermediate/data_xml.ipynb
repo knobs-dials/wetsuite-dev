{
  "cells": [
    {
      "attachments": {},
      "cell_type": "markdown",
      "metadata": {
        "colab_type": "text",
        "id": "view-in-github"
      },
      "source": [
        "<a href=\"https://colab.research.google.com/github/scarfboy/wetsuite-dev/blob/main/examples/collocations.ipynb\" target=\"_parent\"><img src=\"https://colab.research.google.com/assets/colab-badge.svg\" alt=\"Open In Colab\"/></a>"
      ]
    },
    {
      "attachments": {},
      "cell_type": "markdown",
      "metadata": {},
      "source": [
        "# Purpose of this notebook\n",
        "\n",
        "If our provided datasets, or data extraction functions (...often examples of such in a notebook...) cover your needs,\n",
        "then you don't really need to know about data in XML form, or even what XML means."
      ]
    },
    {
      "cell_type": "markdown",
      "metadata": {},
      "source": [
        "If our code _doesn't_ help yet, or you have a specific question that means you must dive deep into the structured data, \n",
        "then it may help to read this tour of what XML in general looks like, and how to manipulate it it in python. \n",
        "...and then move on to example uses, e.g. those various data collection notebooks."
      ]
    },
    {
      "attachments": {},
      "cell_type": "markdown",
      "metadata": {},
      "source": [
        "### XML as a data format\n",
        "XML is a specific style of structured data, one that focuses on nesting data structures in other data structures - a [tree structure](https://en.wikipedia.org/wiki/Tree_structure).\n",
        "\n",
        "It has elements that look like `<this>when it has content</this>`, or `<this />` or`<this></this>` when empty. \n",
        "\n",
        "While indentation is (largely) immaterial to XML in a data sense,\n",
        "indentation is common when _presenting_ it for human review to help indicate how deep each element is in the tree, like:\n",
        "\n",
        "```\n",
        "<aanhef>\n",
        "  <preambule>\n",
        "    <al>De raad van de gemeente Oosterhout;</al>\n",
        "    <al>gezien het voorstel van burgemeester en wethouder van 21 november 2014;</al>\n",
        "    <al>gelet op<extref doc=\"http://wetten.overheid.nl/cgi-bin/deeplink/law1/title=Participatiewet/article=8a\">artikel 8a, lid 1, aanhef en onderdeel b, van de Participatiewet</extref>,\n",
        "       a<extref doc=\"http://wetten.overheid.nl/cgi-bin/deeplink/law1/title=IOAW/article=35\">rtikel 35, lid 1, aanhef en onderdeel e, van de Wet inkomensvoorziening\n",
        "       ouderen en gedeeltelijk arbeidsongeschikte werkloze werknemers</extref>;<extref doc=\"http://wetten.overheid.nl/cgi-bin/deeplink/law1/title=IOAZ/article=35\">artikel 35, lid 1, aanhef en \n",
        "       onderdeel e, van de Wet inkomensvoorziening oudere en gedeeltelijk arbeidsongeschikte gewezen zelfstandigen</extref>, \n",
        "       de bepalingen van de<extref doc=\"http://wetten.overheid.nl/cgi-bin/deeplink/law1/title=Algemene%20wet%20bestuursrecht\">Algemene wet bestuursrecht</extref>en de<extref doc=\"http://wetten.overheid.nl/cgi-bin/deeplink/law1/title=Gemeentewet\">Gemeentewet</extref>;</al>\n",
        "    <al>overwegende dat het noodzakelijk is het opleggen van een tegenprestatie bij verordening te regelen;</al>\n",
        "    <al>Besluit</al>\n",
        "    <al>vast te stellen: de “Verordening tegenprestatie Sociale Zekerheid 2015, gemeente Oosterhout”.</al>\n",
        "  </preambule>\n",
        "</aanhef>\n",
        "```"
      ]
    },
    {
      "cell_type": "markdown",
      "metadata": {},
      "source": [
        "XML is usually [serialized](https://en.wikipedia.org/wiki/Serialization) into a file, which is _technically_ a binary format, but practically happens to be fairly human-readable and fairly human-editable. You can do it, though you may not enjoy it tremendously."
      ]
    },
    {
      "attachments": {},
      "cell_type": "markdown",
      "metadata": {},
      "source": [
        "### elementtree's view on XML"
      ]
    },
    {
      "attachments": {},
      "cell_type": "markdown",
      "metadata": {},
      "source": [
        "Say we have some example data: \n",
        "```\n",
        "<root>\n",
        "  some text \n",
        "  <bold>with more text</bold>\n",
        "  end text\n",
        "</root>\n",
        "```\n",
        "Say we want to parse it into data we can extract or manipulate directly.\n",
        "\n",
        "\n",
        "There are actually a few ways to think of XML data in object form (and a few more more beyond that, see e.g. [SAX](https://en.wikipedia.org/wiki/Simple_API_for_XML)).\n",
        "\n",
        "\n",
        "The [DOM](https://en.wikipedia.org/wiki/Document_Object_Model), as used e.g. by scripting in browsers,\n",
        "would parse the above into a structure much like (note: for brevity we're pretending there are no spaces or newlines in there):\n",
        "* `root` element\n",
        "  * a `text node` containing `'some text'`\n",
        "  * a element named `bold`, containing\n",
        "    * a `text node` containing `'with more text'`\n",
        "  * a `text node` containing `'end text'`\n",
        "\n",
        "Thinking of that as five different object is well defined, yet also a little cumbersome.\n",
        "Even browsers rarely show it quite this verbosely.\n",
        "\n",
        "\n",
        "Python's [elementtree](https://docs.python.org/3/library/xml.etree.elementtree.html) takes a different view: instead of making each element and each text fragment a separate object, it tries to center around elements (hence the name) and ends up tacking text onto the closest element. \n",
        "Of particular note is text nodes _after_ elements at the same level.\n",
        "The above becomes:\n",
        "* `root` element with `text='some text'` (and `tail=None`)\n",
        "  * `bold` element with `text='with more text'` and `tail='end text'`\n",
        "\n",
        "Whether this makes your life \n",
        "* easier because it's fewer objects to inspect, with less typing, and maybe it's actually no differen because you're handling structured data like config files (where tail is typically empty), or\n",
        "* harder, because it's _yet another_ way of looking at things, and sometimes no better (in particular the position of the 'end text' is sort of awkward)\n",
        "\n",
        "...depends a little on your data, and how fast you pick up the etree way of thinking."
      ]
    },
    {
      "attachments": {},
      "cell_type": "markdown",
      "metadata": {},
      "source": [
        "## Some examples of how to handle xml"
      ]
    },
    {
      "cell_type": "code",
      "execution_count": 1,
      "metadata": {},
      "outputs": [],
      "source": [
        "import wetsuite.helpers.net\n",
        "import wetsuite.helpers.etree  \n",
        "\n",
        "test_xml = '''<aanhef>\n",
        "  <preambule>\n",
        "    <al>De raad van de gemeente Oosterhout;</al>\n",
        "    <al>gezien het voorstel van burgemeester en wethouder van 21 november 2014;</al>\n",
        "    <al>gelet op<extref doc=\"http://wetten.overheid.nl/cgi-bin/deeplink/law1/title=Participatiewet/article=8a\">artikel 8a, lid 1, aanhef en onderdeel b, van de Participatiewet</extref>, a<extref doc=\"http://wetten.overheid.nl/cgi-bin/deeplink/law1/title=IOAW/article=35\">rtikel 35, lid 1, aanhef en onderdeel e, van de Wet inkomensvoorziening ouderen en gedeeltelijk arbeidsongeschikte werkloze werknemers</extref>;<extref doc=\"http://wetten.overheid.nl/cgi-bin/deeplink/law1/title=IOAZ/article=35\">artikel 35, lid 1, aanhef en onderdeel e, van de Wet inkomensvoorziening oudere en gedeeltelijk arbeidsongeschikte gewezen zelfstandigen</extref>, de bepalingen van de<extref doc=\"http://wetten.overheid.nl/cgi-bin/deeplink/law1/title=Algemene%20wet%20bestuursrecht\">Algemene wet bestuursrecht</extref>en de<extref doc=\"http://wetten.overheid.nl/cgi-bin/deeplink/law1/title=Gemeentewet\">Gemeentewet</extref>;</al>\n",
        "    <al>overwegende dat het noodzakelijk is het opleggen van een tegenprestatie bij verordening te regelen;</al>\n",
        "    <al>Besluit</al>\n",
        "    <al>vast te stellen: de “Verordening tegenprestatie Sociale Zekerheid 2015, gemeente Oosterhout”.</al>\n",
        "  </preambule>\n",
        "</aanhef>'''\n"
      ]
    },
    {
      "attachments": {},
      "cell_type": "markdown",
      "metadata": {},
      "source": [
        "### Finding and navigating elements\n",
        "\n",
        "Terms:\n",
        "* child is a node _directly_ under another\n",
        "* descendant is a node _somewhere_ under another\n",
        "\n",
        "Functions:\n",
        "* [find()](https://docs.python.org/3/library/xml.etree.elementtree.html#xml.etree.ElementTree.Element.find) finds the first child that matches by name, or descendent by path (of names).\n",
        "* [findall()](https://docs.python.org/3/library/xml.etree.elementtree.html#xml.etree.ElementTree.Element.findall) finds all matching elements\n",
        "* or [iter()](https://docs.python.org/3/library/xml.etree.elementtree.html#xml.etree.ElementTree.Element.iter), a [generator](https://wiki.python.org/moin/Generators) that can do a _little_ more than findall"
      ]
    },
    {
      "cell_type": "code",
      "execution_count": 3,
      "metadata": {},
      "outputs": [],
      "source": [
        "aanhef = wetsuite.helpers.etree.fromstring( test_xml ) # parse that text into etree object tree. \n",
        "# We might call the variable tree, or root, or like in this case, the name of its root element\n",
        "#   (when we know it, this can make our code a little more readable)"
      ]
    },
    {
      "cell_type": "code",
      "execution_count": 4,
      "metadata": {},
      "outputs": [
        {
          "name": "stdout",
          "output_type": "stream",
          "text": [
            "<Element preambule at 0x7fd69d4821c0>\n"
          ]
        }
      ],
      "source": [
        "# pick a specific child element out of the tree\n",
        "print( aanhef.find('preambule') )  # finds the first node called preambule under the annhef node"
      ]
    },
    {
      "cell_type": "code",
      "execution_count": 5,
      "metadata": {},
      "outputs": [
        {
          "name": "stdout",
          "output_type": "stream",
          "text": [
            "<Element al at 0x7fd69d482800>\n"
          ]
        }
      ],
      "source": [
        "# in this case you are probably interested in whatever is within preambule, so you can go find a descendent two levels deeper\n",
        "print( aanhef.find('preambule/al') )"
      ]
    },
    {
      "cell_type": "code",
      "execution_count": 7,
      "metadata": {},
      "outputs": [
        {
          "name": "stdout",
          "output_type": "stream",
          "text": [
            "[<Element al at 0x7fd69d482680>, <Element al at 0x7fd69d482a80>, <Element al at 0x7fd69d482a40>, <Element al at 0x7fd69d4829c0>, <Element al at 0x7fd69d482280>, <Element al at 0x7fd69d48b380>]\n",
            "[<Element al at 0x7fd69d482a80>, <Element al at 0x7fd69d482a40>, <Element al at 0x7fd69d4829c0>, <Element al at 0x7fd69d482280>, <Element al at 0x7fd69d48b300>, <Element al at 0x7fd69d48b340>]\n",
            "[<Element al at 0x7fd69d482a40>, <Element al at 0x7fd69d4829c0>, <Element al at 0x7fd69d482280>, <Element al at 0x7fd69d48b240>, <Element al at 0x7fd69d48b2c0>, <Element al at 0x7fd69d48b480>]\n"
          ]
        }
      ],
      "source": [
        "# ...yet find() only finds the first.   That is its function, that is just not what we care about just now.\n",
        "\n",
        "# To look for multiple things, consider the following three fragments:\n",
        "\n",
        "# - all children under an element, whatever those are, night makes sense for some structured data\n",
        "preambule = aanhef.find('preambule')\n",
        "print( preambule.getchildren( ) )  \n",
        "\n",
        "\n",
        "# - if that preambule contained tags other than al they would also be there - and we wanted just al. You would probably prefer:\n",
        "preambule = aanhef.find('preambule')\n",
        "print( preambule.findall( 'al' ) )\n",
        "# in this case happens to be the same, but if preambule contained non-al nodes, they would not show up)\n",
        "\n",
        "\n",
        "# If you aren't going to reuse that preambule reference, this is a shorter equivalent:\n",
        "print( aanhef.findall( 'preambule/al' ) )"
      ]
    },
    {
      "cell_type": "markdown",
      "metadata": {},
      "source": [
        "To power users / people who will use this a lot:\n",
        "\n",
        "You will often find yourself writing code that expresses how you think about the structure.\n",
        "\n",
        "For example, if a document contains a number of records, you might find yourself finding individual records (e.g. `findall()`),\n",
        "then handling each individually (possibly fishing out a few specific things with `find()`).\n",
        "This might be more clear to read or alter later -- or it might be more verbose.\n",
        "\n",
        "In other cases, your wishes are less structured, e.g.  \"I want to find the preambule tags no matter where it is in the structure, then want extrefs at any depth under that\",\n",
        "are a lot easier to express in a single, shorter bit of XPath (The standard etree doesn't have xpath. Wetsuite provides it because [lxml's etree interface has it](https://lxml.de/xpathxslt.html#xpath) and wetsuite specifically uses this lxml flavour of etree.) \n",
        "\n",
        "Sometimes you can cheat, e.g. if you know that even if this _could_ be matching anywhere in the document, you might be able to know that the only part of the document that _will_ in practice is the part you are interested in.\n",
        "\n",
        "Consider:"
      ]
    },
    {
      "cell_type": "code",
      "execution_count": 8,
      "metadata": {},
      "outputs": [
        {
          "data": {
            "text/plain": [
              "[<Element extref at 0x7fd69d482480>,\n",
              " <Element extref at 0x7fd69d4827c0>,\n",
              " <Element extref at 0x7fd69d482700>,\n",
              " <Element extref at 0x7fd69d4821c0>,\n",
              " <Element extref at 0x7fd69d482780>]"
            ]
          },
          "execution_count": 8,
          "metadata": {},
          "output_type": "execute_result"
        }
      ],
      "source": [
        "aanhef.xpath('//preambule//extref')  "
      ]
    },
    {
      "attachments": {},
      "cell_type": "markdown",
      "metadata": {},
      "source": [
        "## Getting out attributes, and text"
      ]
    },
    {
      "cell_type": "code",
      "execution_count": 10,
      "metadata": {},
      "outputs": [
        {
          "name": "stdout",
          "output_type": "stream",
          "text": [
            "<extref doc=\"http://wetten.overheid.nl/cgi-bin/deeplink/law1/title=Participatiewet/article=8a\">artikel 8a, lid 1, aanhef en onderdeel b, van de Participatiewet</extref>, a\n",
            "DOC  = 'http://wetten.overheid.nl/cgi-bin/deeplink/law1/title=Participatiewet/article=8a'\n",
            "TEXT = 'artikel 8a, lid 1, aanhef en onderdeel b, van de Participatiewet'\n",
            "\n",
            "<extref doc=\"http://wetten.overheid.nl/cgi-bin/deeplink/law1/title=IOAW/article=35\">rtikel 35, lid 1, aanhef en onderdeel e, van de Wet inkomensvoorziening ouderen en gedeeltelijk arbeidsongeschikte werkloze werknemers</extref>;\n",
            "DOC  = 'http://wetten.overheid.nl/cgi-bin/deeplink/law1/title=IOAW/article=35'\n",
            "TEXT = 'rtikel 35, lid 1, aanhef en onderdeel e, van de Wet inkomensvoorziening ouderen en gedeeltelijk arbeidsongeschikte werkloze werknemers'\n",
            "\n",
            "<extref doc=\"http://wetten.overheid.nl/cgi-bin/deeplink/law1/title=IOAZ/article=35\">artikel 35, lid 1, aanhef en onderdeel e, van de Wet inkomensvoorziening oudere en gedeeltelijk arbeidsongeschikte gewezen zelfstandigen</extref>, de bepalingen van de\n",
            "DOC  = 'http://wetten.overheid.nl/cgi-bin/deeplink/law1/title=IOAZ/article=35'\n",
            "TEXT = 'artikel 35, lid 1, aanhef en onderdeel e, van de Wet inkomensvoorziening oudere en gedeeltelijk arbeidsongeschikte gewezen zelfstandigen'\n",
            "\n",
            "<extref doc=\"http://wetten.overheid.nl/cgi-bin/deeplink/law1/title=Algemene%20wet%20bestuursrecht\">Algemene wet bestuursrecht</extref>en de\n",
            "DOC  = 'http://wetten.overheid.nl/cgi-bin/deeplink/law1/title=Algemene%20wet%20bestuursrecht'\n",
            "TEXT = 'Algemene wet bestuursrecht'\n",
            "\n",
            "<extref doc=\"http://wetten.overheid.nl/cgi-bin/deeplink/law1/title=Gemeentewet\">Gemeentewet</extref>;\n",
            "DOC  = 'http://wetten.overheid.nl/cgi-bin/deeplink/law1/title=Gemeentewet'\n",
            "TEXT = 'Gemeentewet'\n",
            "\n"
          ]
        }
      ],
      "source": [
        "# Each node can have attributes.  \n",
        "#   often we are picking out detailed data from there,\n",
        "#   sometimes we are filter on values in there, which is a little more work\n",
        "\n",
        "for extref in aanhef.xpath('preambule//extref'):\n",
        "    # print the fragment we're extracting from a  serialized XML, for reference\n",
        "    print( wetsuite.helpers.etree.debug_pretty(extref) )   # debug_pretty is largely  ET.tostring but geared at humans skimming: namespaces removed, indenting added\n",
        "\n",
        "    #print( extref.attrib ) # _all_ attributes as dict, though in these cases there is only one\n",
        "    print( 'DOC  = %r'%extref.get('doc')) # if there was no such attribute, it would return None\n",
        "\n",
        "    print( 'TEXT = %r'%extref.text ) # this gets the initial text, this isn't always enough (we'll explain why next)\n",
        "    print()"
      ]
    },
    {
      "attachments": {},
      "cell_type": "markdown",
      "metadata": {},
      "source": [
        "## Getting out text\n",
        "\n",
        "XML, due to its generic nature, does not specialize in text and often it a little cumbersome to deal with."
      ]
    },
    {
      "cell_type": "markdown",
      "metadata": {},
      "source": [
        "Looking at the documentation, you might have found\n",
        "* `element.text` and `elemen.tail`, reminding yourself of where etree sticks text \n",
        "\n",
        "* [findtext()](https://docs.python.org/3/library/xml.etree.elementtree.html#xml.etree.ElementTree.Element.findtext) roughly amounts to `find()` followed by `.text`, is fewer keystrokes but the same as before\n",
        "\n",
        "* [findall()](https://docs.python.org/3/library/xml.etree.elementtree.html#xml.etree.ElementTree.Element.findall) could be used to then fish out `.text` and `.tail` of each matching node, ignorning `None`s\n",
        "  * yet that's a whole bunch of typing.\n",
        "\n",
        "* [itertext()](https://docs.python.org/3/library/xml.etree.elementtree.html#xml.etree.ElementTree.Element.itertext) can be used something like `list( aanhef.itertext('al') )`,  does something like that for you? \n",
        "  * Better - probably.\n",
        "\n",
        "But there's a more practical detail:"
      ]
    },
    {
      "attachments": {},
      "cell_type": "markdown",
      "metadata": {},
      "source": [
        "### When you say text, do you mean direct text content, subtree text, or something else?"
      ]
    },
    {
      "cell_type": "code",
      "execution_count": 11,
      "metadata": {},
      "outputs": [
        {
          "data": {
            "text/plain": [
              "'gelet op'"
            ]
          },
          "execution_count": 11,
          "metadata": {},
          "output_type": "execute_result"
        }
      ],
      "source": [
        "alineas = aanhef.xpath('//al') # select all alineas anywhere\n",
        "alineas[2].text  # what's the text in the third one? (cherry picked example)"
      ]
    },
    {
      "cell_type": "markdown",
      "metadata": {},
      "source": [
        "That seems like elementtree being a smartass - \n",
        "that sure is is the text within the element - up to the first child element, which isn't what we wanted.\n",
        "\n",
        "We can start looking at functions, but they are just a means to and end, \n",
        "and frankly we should first be more specific about what we wanted to do in the first place.\n",
        "\n",
        "If we wanted the output:\n",
        "\n",
        "    gelet op artikel 8a, lid 1, aanhef en onderdeel b, van de Participatiewet, artikel 35, lid 1, aanhef en onderdeel e, \n",
        "    van de Wet inkomensvoorziening ouderen en gedeeltelijk arbeidsongeschikte werkloze werknemers; artikel 35, lid 1, \n",
        "    aanhef en onderdeel e, van de Wet inkomensvoorziening oudere en gedeeltelijk arbeidsongeschikte gewezen zelfstandigen, \n",
        "    de bepalingen van de Algemene wet bestuursrecht en de Gemeentewet;\n",
        "\n",
        "...then our question amounts to \"all text and tail values at any depth under the subtree under a particular starting particular element, \n",
        "smushed together\", and that's a little more work to do."
      ]
    },
    {
      "cell_type": "code",
      "execution_count": 12,
      "metadata": {},
      "outputs": [
        {
          "data": {
            "text/plain": [
              "['gelet op',\n",
              " '',\n",
              " 'artikel 8a, lid 1, aanhef en onderdeel b, van de Participatiewet',\n",
              " ', a',\n",
              " 'rtikel 35, lid 1, aanhef en onderdeel e, van de Wet inkomensvoorziening ouderen en gedeeltelijk arbeidsongeschikte werkloze werknemers',\n",
              " ';',\n",
              " 'artikel 35, lid 1, aanhef en onderdeel e, van de Wet inkomensvoorziening oudere en gedeeltelijk arbeidsongeschikte gewezen zelfstandigen',\n",
              " ', de bepalingen van de',\n",
              " 'Algemene wet bestuursrecht',\n",
              " 'en de',\n",
              " 'Gemeentewet',\n",
              " ';']"
            ]
          },
          "execution_count": 12,
          "metadata": {},
          "output_type": "execute_result"
        }
      ],
      "source": [
        "# We provide a function that should help.\n",
        "wetsuite.helpers.etree.all_text_fragments( alineas[2] )     # side note: there is a sneaky default text strip() on each framgment in there, which you may sometimes want to change\n",
        "\n",
        "# and mostly it just grabs each .text and .tail it finds under the given element, so gives a list like:"
      ]
    },
    {
      "cell_type": "code",
      "execution_count": 13,
      "metadata": {},
      "outputs": [
        {
          "data": {
            "text/plain": [
              "'gelet opartikel 8a, lid 1, aanhef en onderdeel b, van de Participatiewet, artikel 35, lid 1, aanhef en onderdeel e, van de Wet inkomensvoorziening ouderen en gedeeltelijk arbeidsongeschikte werkloze werknemers;artikel 35, lid 1, aanhef en onderdeel e, van de Wet inkomensvoorziening oudere en gedeeltelijk arbeidsongeschikte gewezen zelfstandigen, de bepalingen van deAlgemene wet bestuursrechten deGemeentewet;'"
            ]
          },
          "execution_count": 13,
          "metadata": {},
          "output_type": "execute_result"
        }
      ],
      "source": [
        "# Why not return it as as a single string?   We could join that array into a single string:\n",
        "''.join( wetsuite.helpers.etree.all_text_fragments( alineas[2] ) )"
      ]
    },
    {
      "cell_type": "code",
      "execution_count": 14,
      "metadata": {},
      "outputs": [
        {
          "data": {
            "text/plain": [
              "'gelet op  artikel 8a, lid 1, aanhef en onderdeel b, van de Participatiewet , a rtikel 35, lid 1, aanhef en onderdeel e, van de Wet inkomensvoorziening ouderen en gedeeltelijk arbeidsongeschikte werkloze werknemers ; artikel 35, lid 1, aanhef en onderdeel e, van de Wet inkomensvoorziening oudere en gedeeltelijk arbeidsongeschikte gewezen zelfstandigen , de bepalingen van de Algemene wet bestuursrecht en de Gemeentewet ;'"
            ]
          },
          "execution_count": 14,
          "metadata": {},
          "output_type": "execute_result"
        }
      ],
      "source": [
        "# Note that 'opartikel'. Okay, maybe that should have inserted a space between each part:\n",
        "' '.join( wetsuite.helpers.etree.all_text_fragments( alineas[2] ) )\n",
        "# or, basically equivalent, and a little clearer in intent:\n",
        "#wetsuite.helpers.etree.all_text_fragments( alineas[2], ignore_empty=True, join=' ' )\n",
        "\n",
        "# ...yet now we have an \"a rtikel\"."
      ]
    },
    {
      "cell_type": "code",
      "execution_count": 15,
      "metadata": {},
      "outputs": [
        {
          "name": "stdout",
          "output_type": "stream",
          "text": [
            "Wet van 16 december 2020 tot wijziging van de Wet belastingen op milieugrondslag en de Wet Milieubeheer voor de invoering van een CO2-heffing voor de industrie (Wet CO  2 -heffing industrie) 2020 544 23-12-2020 16-12-2020 35575 2020 544 23-12-2020 16-12-2020 35575 01-01-2021\n"
          ]
        }
      ],
      "source": [
        "# That \"a rtikel\" is easily argued to be an error in that particular document (extrefs are used without spaces so _should_ split words),\n",
        "# and join-with-a-space is probably preferable in this particular case.\n",
        "\n",
        "\n",
        "# ...but let's instead consider BWBR0044578\n",
        "bwb_test = wetsuite.helpers.net.download('https://repository.officiele-overheidspublicaties.nl/bwb/BWBR0044578/2021-01-01_0/xml/BWBR0044578_2021-01-01_0.xml')\n",
        "tree = wetsuite.helpers.etree.fromstring( bwb_test )\n",
        "# The intitule is \n",
        "#   Wet van 16 december 2020 tot wijziging van de Wet belastingen op milieugrondslag en de Wet Milieubeheer \n",
        "#   voor de invoering van een CO2-heffing voor de industrie (Wet CO<inf>2</inf> -heffing industrie)\n",
        "# so \n",
        "#   tree.find('wetgeving/intitule').text  \n",
        "# would stop after \"(Wet CO\". \n",
        "\n",
        "# So do we want all_text_fragments again, with spaces as we just figured was a good idea?\n",
        "print( wetsuite.helpers.etree.all_text_fragments(  tree.find('wetgeving/intitule'), join=' ') )"
      ]
    },
    {
      "cell_type": "code",
      "execution_count": 16,
      "metadata": {},
      "outputs": [
        {
          "name": "stdout",
          "output_type": "stream",
          "text": [
            "Wet van 16 december 2020 tot wijziging van de Wet belastingen op milieugrondslag en de Wet Milieubeheer voor de invoering van een CO2-heffing voor de industrie (Wet CO2-heffing industrie)202054423-12-202016-12-202035575202054423-12-202016-12-20203557501-01-2021\n"
          ]
        }
      ],
      "source": [
        "# Now it says \"CO  2\" where we probably wanted \"CO2\"\n",
        "print( wetsuite.helpers.etree.all_text_fragments(  tree.find('wetgeving/intitule'), join='') )\n",
        "# For just titles you could guess we could probably get away with not adding spaces because you won't get much markup in there\n",
        "# but in reality, doing that for an entire body text will probably just be wrong.\n",
        "\n",
        "\n",
        "# This actually highlights a subtler issue,\n",
        "# that in such free-form documents it is uncertain which elements act as word separators, and which do not.\n",
        "# This is largely down to semantics, say\n",
        "#  * not for subscript and superscript\n",
        "#  * _probably not_ for bold or italics\n",
        "#  * _probably_ for links\n",
        "\n",
        "# These semantics will be defined by the document standard - or at least strong convention. \n",
        "# Say, in HTML this isn't much of an issue.\n",
        "# Yet in XML we have documents pretending to be data, or maybe the other way around?\n",
        "#   Best thing you might get is a note in the documentation somewhere. If not, guess?\n",
        "\n",
        "# (...and we have to ignore human mistakes like, above, that second extref anove starting a character late)\n",
        "\n",
        "\n",
        "# TODO: create a specialized text extractor for CVDR and BWB that includes these semantics for the node names used in there"
      ]
    },
    {
      "cell_type": "code",
      "execution_count": 17,
      "metadata": {},
      "outputs": [
        {
          "name": "stdout",
          "output_type": "stream",
          "text": [
            "Wet van 16 december 2020 tot wijziging van de Wet belastingen op milieugrondslag en de Wet Milieubeheer voor de invoering van een CO2-heffing voor de industrie (Wet CO2-heffing industrie)\n"
          ]
        },
        {
          "data": {
            "text/plain": [
              "'Wet van 16 december 2020 tot wijziging van de Wet belastingen op milieugrondslag en de Wet Milieubeheer voor de invoering van een CO2-heffing voor de industrie (Wet CO2-heffing industrie)'"
            ]
          },
          "execution_count": 17,
          "metadata": {},
          "output_type": "execute_result"
        }
      ],
      "source": [
        "# Also, why all the numbers at the end? \n",
        "#   Well, here the XML is less structured than it perhaps should be - the actual title within the intitule isn't well separated from the metadata tag\n",
        "#   so in this case it seems almost impossible to ask for just that text\n",
        "#   Such issues are _generally_ rare, but in this particular case you have to get more creative.\n",
        "\n",
        "# This should probably mean all_text_fragments's ignore_under should come to mean 'ignore subtree when you see an element called this',\n",
        "#   but until then you would need to get more creative.\n",
        "\n",
        "# One way is to use the stop_at argument, which stops walking the tree at the first mention of a node with a particular name\n",
        "print( wetsuite.helpers.etree.all_text_fragments(  tree.find('wetgeving/intitule'), join='', stop_at=['meta-data']) )\n",
        "\n",
        "\n",
        "# A somewhat more selective hack would be to selectively remove the `meta-data` tag \n",
        "#   (based on knowing the structure from the XML schema, and probably work on a copy of the tree)\n",
        "# Such cleanup might be better when you hand trees along -- but means you have to know even more about etree, so it's not for regular use.\n",
        "tree = wetsuite.helpers.etree.fromstring( bwb_test ) # parse that text into etree object tree \n",
        "intitule = tree.find('wetgeving/intitule')\n",
        "intitule.remove( intitule.find('meta-data') ) \n",
        "wetsuite.helpers.etree.all_text_fragments( intitule, join='')"
      ]
    },
    {
      "attachments": {},
      "cell_type": "markdown",
      "metadata": {},
      "source": [
        "## On (ignoring) namespaces\n",
        "\n",
        "Consider needing to combine data from different sources in one XML document.\n",
        "- If done free-form, there is potential ambiguity about what standard each element (or even attribute) even comes from,\n",
        "- and if they happen to pick the same element (or attribute) name, they may clash and overwrite each other.\n",
        "Namespaces can be thought of as a little tag on each element (and attribute) that assigns it to a well-defined source.\n",
        "\n",
        "\n",
        "Consider the following XML: (a simplified version of document from [here](view-source:https://standaarden.overheid.nl/owms/terms/Leiden_(gemeente).rdf))\n",
        "```\n",
        "<?xml version=\"1.0\" encoding=\"UTF-8\"?>\n",
        "<rdf:RDF xmlns:overheid=\"http://standaarden.overheid.nl/owms/terms/\"\n",
        "         xmlns:rdf=\"http://www.w3.org/1999/02/22-rdf-syntax-ns#\"\n",
        "         xmlns:rdfs=\"http://www.w3.org/2000/01/rdf-schema#\"\n",
        "         xmlns:skos=\"http://www.w3.org/2004/02/skos/core#\">\n",
        "  <rdf:Description rdf:about=\"http://standaarden.overheid.nl/owms/terms/Leiden_(gemeente)\">\n",
        "    <overheid:CBSCode>0546</overheid:CBSCode>\n",
        "    <overheid:overlapsWith rdf:resource=\"http://standaarden.overheid.nl/owms/terms/Hoogheemraadschap_van_Rijnland\"/>\n",
        "    <overheid:overlapsWith rdf:resource=\"http://standaarden.overheid.nl/owms/terms/Zuid-Holland\"/>\n",
        "    <overheid:serviceAreaOf rdf:resource=\"http://standaarden.overheid.nl/owms/terms/Commissie_Regionaal_Overleg_Luchthaven_Schiphol\"/>\n",
        "    <overheid:serviceAreaOf rdf:resource=\"http://standaarden.overheid.nl/owms/terms/Milieudienst_West-Holland\"/>\n",
        "    <overheid:serviceAreaOf rdf:resource=\"http://standaarden.overheid.nl/owms/terms/Regiokorps_Politie_Hollands_Midden\"/>\n",
        "    <overheid:serviceAreaOf rdf:resource=\"http://standaarden.overheid.nl/owms/terms/SZHR\"/>\n",
        "    <overheid:serviceAreaOf rdf:resource=\"http://standaarden.overheid.nl/owms/terms/Servicepunt71\"/>\n",
        "    <overheid:serviceAreaOf rdf:resource=\"http://standaarden.overheid.nl/owms/terms/Veiligheidsregio_Hollands_Midden\"/>\n",
        "    <overheid:serviceAreaOf rdf:resource=\"http://standaarden.overheid.nl/owms/terms/bsgr\"/>\n",
        "    <overheid:serviceAreaOf rdf:resource=\"http://standaarden.overheid.nl/owms/terms/odwhol\"/>\n",
        "    <overheid:serviceAreaOf rdf:resource=\"http://standaarden.overheid.nl/owms/terms/rdoghm\"/>\n",
        "    <overheid:serviceAreaOf rdf:resource=\"http://standaarden.overheid.nl/owms/terms/sohlrl\"/>\n",
        "    <rdf:type rdf:resource=\"http://purl.org/dc/terms/Agent\"/>\n",
        "    <rdf:type rdf:resource=\"http://standaarden.overheid.nl/owms/terms/Agent\"/>\n",
        "    <rdf:type rdf:resource=\"http://standaarden.overheid.nl/owms/terms/Gemeente\"/>\n",
        "    <rdf:type rdf:resource=\"http://standaarden.overheid.nl/owms/terms/Organisatie\"/>\n",
        "    <rdf:type rdf:resource=\"http://standaarden.overheid.nl/owms/terms/Overheidsorganisatie\"/>\n",
        "    <rdf:type rdf:resource=\"http://www.w3.org/2000/01/rdf-schema#Resource\"/>\n",
        "    <rdf:type rdf:resource=\"http://www.w3.org/2002/07/owl#Thing\"/>\n",
        "    <rdfs:label xml:lang=\"nl\">Leiden</rdfs:label>\n",
        "    <skos:prefLabel xml:lang=\"nl\">Leiden</skos:prefLabel>\n",
        "  </rdf:Description>\n",
        "</rdf:RDF>\n",
        "```\n",
        "\n",
        "\n",
        "**technicalities (feel free to skip)**\n",
        "\n",
        "It turns out that (due to the way namespaces were bolted onto XML _after_ initial design)\n",
        "a namespace declaration like `xmlns:overheid=\"http://standaarden.overheid.nl/owms/terms/\"`\n",
        "to humans seems to mean 'can use `overheid:` as a prefix on nodes'.\n",
        "\n",
        "...**but** \n",
        "- That prefix isn't technically part of the document model, \n",
        "- just XML specs cannot even guarantee the same prefix will be used if it were written out again,\n",
        "- and the only thing that actually identifies the namespace is `http://standaarden.overheid.nl/owms/terms/`, not `overheid`\n",
        "\n",
        "So when etree (and many other parsers) then sees \n",
        "\t`<overheid:CBSCode>0546</overheid:CBSCode>`\n",
        "it will actually think of that as as an element with name \n",
        "`{http://standaarden.overheid.nl/owms/terms/}CBScode`\n",
        "\n",
        "\n",
        "\n",
        "**correct namespaces is important when producing XML**,\n",
        "in that the document will not conform to a standard that says you must use them.\n",
        "\n",
        "At the same time, **matching namespces is annoying**, and \n",
        "- when you are only _consuming_ XML into something else,\n",
        "- when you are doing so manually rather than with something like XSLT,\n",
        "- when you know that the schemas being combined in your documents do not actually clash (which is 'usually'),\n",
        "then you can consider removing them. \n",
        "\n",
        "Say, if you parsed the above, example, pulled it through `wetsuite.helpers.etree.strip_namespace()`, and printed it out again, you would get:\n",
        "\n",
        "```\n",
        "<RDF>\n",
        "  <Description about=\"http://standaarden.overheid.nl/owms/terms/Leiden_(gemeente)\">\n",
        "    <CBSCode>0546</CBSCode>\n",
        "    <overlapsWith resource=\"http://standaarden.overheid.nl/owms/terms/Hoogheemraadschap_van_Rijnland\"/>\n",
        "    <overlapsWith resource=\"http://standaarden.overheid.nl/owms/terms/Zuid-Holland\"/>\n",
        "    <serviceAreaOf resource=\"http://standaarden.overheid.nl/owms/terms/Commissie_Regionaal_Overleg_Luchthaven_Schiphol\"/>\n",
        "    <serviceAreaOf resource=\"http://standaarden.overheid.nl/owms/terms/Milieudienst_West-Holland\"/>\n",
        "    <serviceAreaOf resource=\"http://standaarden.overheid.nl/owms/terms/Regiokorps_Politie_Hollands_Midden\"/>\n",
        "    <serviceAreaOf resource=\"http://standaarden.overheid.nl/owms/terms/SZHR\"/>\n",
        "    <serviceAreaOf resource=\"http://standaarden.overheid.nl/owms/terms/Servicepunt71\"/>\n",
        "    <serviceAreaOf resource=\"http://standaarden.overheid.nl/owms/terms/Veiligheidsregio_Hollands_Midden\"/>\n",
        "    <serviceAreaOf resource=\"http://standaarden.overheid.nl/owms/terms/bsgr\"/>\n",
        "    <serviceAreaOf resource=\"http://standaarden.overheid.nl/owms/terms/odwhol\"/>\n",
        "    <serviceAreaOf resource=\"http://standaarden.overheid.nl/owms/terms/rdoghm\"/>\n",
        "    <serviceAreaOf resource=\"http://standaarden.overheid.nl/owms/terms/sohlrl\"/>\n",
        "    <type resource=\"http://purl.org/dc/terms/Agent\"/>\n",
        "    <type resource=\"http://standaarden.overheid.nl/owms/terms/Agent\"/>\n",
        "    <type resource=\"http://standaarden.overheid.nl/owms/terms/Gemeente\"/>\n",
        "    <type resource=\"http://standaarden.overheid.nl/owms/terms/Organisatie\"/>\n",
        "    <type resource=\"http://standaarden.overheid.nl/owms/terms/Overheidsorganisatie\"/>\n",
        "    <type resource=\"http://www.w3.org/2000/01/rdf-schema#Resource\"/>\n",
        "    <type resource=\"http://www.w3.org/2002/07/owl#Thing\"/>\n",
        "    <label lang=\"nl\">Leiden</label>\n",
        "    <prefLabel lang=\"nl\">Leiden</prefLabel>\n",
        "  </Description>\n",
        "</RDF>\n",
        "```\n",
        "\n",
        "Is this cheating? \n",
        "\n",
        "Yes.\n",
        "\n",
        "Does it make your life simpler, e.g. let you write `etree.find('Description/CBScode')` \n",
        "instead of `etree.find('{http://www.w3.org/1999/02/22-rdf-syntax-ns#}Description/{http://standaarden.overheid.nl/owms/terms/}CBScode')`? \n",
        "\n",
        "Also yes.   \n",
        "\n",
        "As long as you're sure you do not  introduce ambiguity."
      ]
    }
  ],
  "metadata": {
    "colab": {
      "include_colab_link": true,
      "provenance": []
    },
    "kernelspec": {
      "display_name": "Python 3",
      "name": "python3"
    },
    "language_info": {
      "codemirror_mode": {
        "name": "ipython",
        "version": 3
      },
      "file_extension": ".py",
      "mimetype": "text/x-python",
      "name": "python",
      "nbconvert_exporter": "python",
      "pygments_lexer": "ipython3",
      "version": "3.8.10"
    }
  },
  "nbformat": 4,
  "nbformat_minor": 0
}
