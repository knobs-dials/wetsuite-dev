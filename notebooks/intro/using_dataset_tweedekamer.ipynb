{
  "cells": [
    {
      "attachments": {},
      "cell_type": "markdown",
      "metadata": {
        "colab_type": "text",
        "id": "view-in-github"
      },
      "source": [
        "<a href=\"https://colab.research.google.com/github/knobs-dials/wetsuite-dev/blob/main/notebooks/intro/using_dataset_kamervragen.ipynb\" target=\"_parent\"><img src=\"https://colab.research.google.com/assets/colab-badge.svg\" alt=\"Open In Colab\"/></a>"
      ]
    },
    {
      "cell_type": "code",
      "execution_count": null,
      "metadata": {
        "id": "Qp3XWnr6x5eq"
      },
      "outputs": [],
      "source": [
        "# (only) in colab, run this first to install wetsuite from (the most recent) source.   For your own setup, see wetsuite's install guidelines.\n",
        "!pip3 install -U --no-cache-dir --quiet https://github.com/scarfboy/wetsuite-dev/archive/refs/heads/main.zip\n"
      ]
    },
    {
      "cell_type": "code",
      "execution_count": 1,
      "metadata": {
        "id": "LzNo0r36x610"
      },
      "outputs": [],
      "source": [
        "import json\n",
        "import wetsuite.datasets\n",
        "tkf = wetsuite.datasets.load('tweedekamer_fracties')\n",
        "tkm = wetsuite.datasets.load('tweedekamer_membership')\n",
        "\n",
        "#with open('/var/www/coding/wetsuite/src/wetsuite/datacollect/tweedekamer_nl/fracties.json','r') as f:\n",
        "#    fracties = json.loads( f.read() )\n",
        "    \n",
        "#with open('/var/www/coding/wetsuite/src/wetsuite/datacollect/tweedekamer_nl/fractie_membership.json','r') as f:\n",
        "#    fractie_membership = json.loads( f.read() )\n",
        "        "
      ]
    },
    {
      "cell_type": "code",
      "execution_count": 41,
      "metadata": {},
      "outputs": [
        {
          "name": "stdout",
          "output_type": "stream",
          "text": [
            "Looking for f2:'Haersma' l2:'Buma'\n"
          ]
        }
      ],
      "source": [
        "from wetsuite.helpers.strings import remove_diacritics\n",
        "\n",
        "\n",
        "def mostly_like(s1:str, s2:str):\n",
        "    return s1 == s2\n",
        "\n",
        "\n",
        "def remove_surnameprefix(s:str, what=['van de', 'van der', 'van den', \"van 't\", 'van']):\n",
        "    import re\n",
        "    for w in what:\n",
        "        #print( s, w )\n",
        "        if re.match( w + r'\\b',  s ):\n",
        "            s = s[len(w):].strip()\n",
        "            break\n",
        "    return s\n",
        "\n",
        "\n",
        "def fuzzy_name_search(first:str, last:str=None):\n",
        "    if last is None: # got just one string, see if we can treat it as 'first last'\n",
        "        #first = remove_surnameprefix( first )\n",
        "        fl  = first.split(' ', 1)\n",
        "        #print(fl)\n",
        "        if len(fl)==1: # assume it's last name only\n",
        "            first=None\n",
        "            last = fl[0]\n",
        "        else: # len is 2\n",
        "            first, last = fl\n",
        "\n",
        "    #print('f1',first, 'l1',last)\n",
        "\n",
        "    if first is not None:\n",
        "        first = remove_diacritics( first )\n",
        "    last  = remove_diacritics( last )\n",
        "    last = remove_surnameprefix( last )\n",
        "\n",
        "    print('Looking for f2:%r l2:%r'%(first, last))\n",
        "\n",
        "    first_is_missing = (first is None)\n",
        "    first_is_initial = False\n",
        "    if not first_is_missing: \n",
        "        if len(first.strip('. ')) == 1:\n",
        "            first_is_initial = True\n",
        "\n",
        "    for d in fractie_membership.values():\n",
        "        #print( d )\n",
        "        if first_is_missing:\n",
        "            pass\n",
        "        elif first_is_initial:\n",
        "            if not mostly_like( first,  remove_diacritics( d['initialen'].strip('. ') ) ):\n",
        "                continue\n",
        "        else:\n",
        "            dfirst = d['voornamen']\n",
        "            if dfirst==None:\n",
        "                dfirst = d['roepnaam']\n",
        "            if not mostly_like( first,  remove_diacritics( dfirst ) ):\n",
        "                continue\n",
        "        print('passed first: ', d)\n",
        "\n",
        "        if not mostly_like( last,  remove_surnameprefix(remove_diacritics( d['achternaam'] ) ) ):\n",
        "            continue\n",
        "\n",
        "        print('Search %r %r  seems to match  %r'%(first, last, d))\n",
        "\n",
        "\n",
        "\n",
        "\n",
        "#fuzzy_name_search('Haersma')\n",
        "#fuzzy_name_search('Sybrand Haersma')\n",
        "#fuzzy_name_search('Sybrand', 'Haersma')\n",
        "#fuzzy_name_search('Sybrand', 'van Haersma Buma')\n",
        "fuzzy_name_search('van Haersma Buma')\n",
        "#fuzzy_name_search('S', 'Haersma')\n",
        "#fuzzy_name_search('S', 'van Haersma')\n",
        "#fuzzy_name_search('S', 'van Haersma Buma')\n",
        "#fuzzy_name_search('Sybren', 'van Haersma Buma')\n",
        "\n",
        "\n",
        "# 'titels': 'mr.',\n",
        "# 'initialen': 'S.',\n",
        "# 'voornamen': 'Sybrand',\n",
        "# 'roepnaam': 'Sybrand',\n",
        "\n",
        "# 'tussenvoegsel': 'van',\n",
        "# 'achternaam': 'Haersma Buma',\n",
        "\n"
      ]
    },
    {
      "cell_type": "code",
      "execution_count": null,
      "metadata": {},
      "outputs": [],
      "source": []
    }
  ],
  "metadata": {
    "colab": {
      "authorship_tag": "ABX9TyO+5TnRPxrWr55PNGdM9+C2",
      "include_colab_link": true,
      "provenance": []
    },
    "kernelspec": {
      "display_name": "Python 3",
      "language": "python",
      "name": "python3"
    },
    "language_info": {
      "codemirror_mode": {
        "name": "ipython",
        "version": 3
      },
      "file_extension": ".py",
      "mimetype": "text/x-python",
      "name": "python",
      "nbconvert_exporter": "python",
      "pygments_lexer": "ipython3",
      "version": "3.8.10"
    },
    "vscode": {
      "interpreter": {
        "hash": "31f2aee4e71d21fbe5cf8b01ff0e069b9275f58929596ceb00d14d90e3e16cd6"
      }
    }
  },
  "nbformat": 4,
  "nbformat_minor": 0
}
