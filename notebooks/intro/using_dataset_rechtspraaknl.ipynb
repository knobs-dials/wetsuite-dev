{
  "cells": [
    {
      "attachments": {},
      "cell_type": "markdown",
      "metadata": {
        "colab_type": "text",
        "id": "view-in-github"
      },
      "source": [
        "<a href=\"https://colab.research.google.com/github/knobs-dials/wetsuite-dev/blob/main/notebooks/intro/using_dataset_kansspelautoriteit.ipynb\" target=\"_parent\"><img src=\"https://colab.research.google.com/assets/colab-badge.svg\" alt=\"Open In Colab\"/></a>"
      ]
    },
    {
      "cell_type": "code",
      "execution_count": null,
      "metadata": {},
      "outputs": [],
      "source": [
        "# (only) in colab, run this first to install wetsuite from (the most recent) source.   For your own setup, see wetsuite's install guidelines.\n",
        "!pip3 install -U --no-cache-dir --quiet https://github.com/knobs-dials/wetsuite-dev/archive/refs/heads/main.zip\n"
      ]
    },
    {
      "attachments": {},
      "cell_type": "markdown",
      "metadata": {},
      "source": [
        "# Purpose of this notebook\n",
        "\n"
      ]
    },
    {
      "attachments": {},
      "cell_type": "markdown",
      "metadata": {},
      "source": [
        "To show you around the dataset from the"
      ]
    },
    {
      "cell_type": "code",
      "execution_count": 3,
      "metadata": {
        "colab": {
          "base_uri": "https://localhost:8080/"
        },
        "id": "3W8sXDRjYGG9",
        "outputId": "6985f9ec-cfa3-455c-9a54-b9885d54385a"
      },
      "outputs": [],
      "source": [
        "import collections, pprint, datetime\n",
        "\n",
        "import pandas\n",
        "import matplotlib.pyplot\n",
        "import matplotlib.dates as mdates\n",
        "\n",
        "import wetsuite.datasets\n",
        "import wetsuite.helpers.format"
      ]
    },
    {
      "cell_type": "code",
      "execution_count": 8,
      "metadata": {},
      "outputs": [
        {
          "name": "stdout",
          "output_type": "stream",
          "text": [
            "None\n"
          ]
        }
      ],
      "source": [
        "rs = wetsuite.datasets.load('rechtspraaknl-struc')\n",
        "print( rs.description )\n",
        "store = rs.data"
      ]
    },
    {
      "cell_type": "markdown",
      "metadata": {},
      "source": [
        "## A little inspection\n",
        "\n",
        "Not necessary for the dataset, but we'd like to know more about our data"
      ]
    },
    {
      "cell_type": "code",
      "execution_count": 9,
      "metadata": {},
      "outputs": [
        {
          "data": {
            "text/plain": [
              "('https://data.rechtspraak.nl/uitspraken/content?id=ECLI:NL:RBDHA:2023:15383',\n",
              " {'identifier': 'ECLI:NL:RBDHA:2023:15383',\n",
              "  'issued': '2023-10-12',\n",
              "  'publisher': 'Raad voor de Rechtspraak',\n",
              "  'date': '2023-10-11',\n",
              "  'type': 'Uitspraak',\n",
              "  'modified': '2023-10-24T14:10:47',\n",
              "  'zaaknummer': 'C/09/643168 / JE RK 23-363 & C/09/643161 / JE RK 23-361',\n",
              "  'creator': 'Rechtbank Den Haag',\n",
              "  'subject': 'Civiel recht; Personen- en familierecht',\n",
              "  'spatial': 'Den Haag',\n",
              "  'inhoudsindicatie': 'Wijziging zorgregeling ex artikel 1:265g BW. Vervangende toestemming medische behandeling ex artikel 1:265h BW.',\n",
              "  'uitspraak': '\\nRechtbank DEN HAAG\\n\\nTeam Jeugd- en Zorgrecht\\n\\nZaaksgegevens: I. C/09/643168 / JE RK 23-363 & II. C/09/643161 / JE RK 23-361\\n\\nDatum uitspraak: 11 oktober 2023\\n\\nBeschikking van de kinderrechter\\n\\nI. Wijziging zorgregeling (ex artikel 1:265g BW)\\n\\nII. Vervangende toestemming medische behandeling\\n\\nin de zaken naar aanleiding van het op 23 februari 2023 ingekomen verzoekschriften van:\\n\\nLeger des Heils Jeugdbescherming en Reclassering,\\n\\nhierna te noemen: de gecertificeerde instelling,\\n\\nbetreffende:\\n\\n[naam01] ,\\ngeboren op [geboortedatum01] 2014 te [geboorteplaats01] ,\\n\\nhierna te noemen bij zijn roepnaam: [naam01] .\\n\\nDe kinderrechter merkt als belanghebbenden aan:\\n\\n[naam02]\\n\\n,\\n\\nhierna te noemen: de vader,\\n\\nwonende te [woonplaats01] ,\\n\\nadvocaat: mr. M.H. Aalmoes, gevestigd in Amsterdam,\\n\\n[naam03]\\n\\n,\\n\\nhierna te noemen: de moeder,\\n\\nwonende te [woonplaats02] ,\\n\\ndrs. Anneke\\n\\nvan Teijlingen\\n,\\n\\nkantoorhoudende te Sassenheim,\\n\\nin haar hoedanigheid van\\n\\nbijzondere curator\\nvan [naam01] ,\\n\\nhierna te noemen: de bijzondere curator.\\n\\nHet procesverloop\\n\\nBij beschikking van 15 maart 2023 van de kinderrechter in deze rechtbank is bepaald in zaak I (C/09/643168 / JE RK 23-363) dat de vastgestelde verdeling van de zorg- en opvoedingstaken uit de beschikking van 4 december 2020 voorlopig wordt hervat met inzet van Ambulante Spoedhulp (ASH) of gelijksoortige opvoedondersteuning van een andere instantie in de thuissituatie van de vader. Daarnaast is een bijzondere curator benoemd en is het verzoek voor het overige aangehouden tot de mondelinge behandeling op 28 augustus 2023. In zaak II (C/09/643161 / JE RK 23-361) is bepaald dat het verzoek wordt aangehouden tot de mondelinge behandeling van 28 augustus 2023, met verzoek aan de gecertificeerde instelling om uiterlijk één week voor de zitting een update te geven over de stand van zaken rondom het inzetten van de hulpverlening voor [naam01] en hierin aan te geven of het verzoek wordt gehandhaafd, en zo ja – indien mogelijk – nader te specificeren welke hulpverlening/medische behandeling nodig is.\\n\\nDe zitting van 28 augustus 2023 heeft geen doorgang kunnen vinden, omdat het verslag van de bijzondere curator nog niet beschikbaar was. De zittingsdatum is hierom verplaatst naar 2 oktober 2023.\\n\\nDe kinderrechter heeft (opnieuw) kennisgenomen van de stukken, waaronder ook:\\n\\n- voornoemde beschikking van 15 maart 2023 en de daarin genoemde stukken;\\n\\n- de brief van de zijde van de vader van 16 april 2023;\\n\\n- de brief van de zijde van de vader van 3 mei 2023;\\n\\n- het verslag van de bijzondere curator van 27 september 2023;\\n\\n- de brief van de gecertificeerde instelling inzake verzoek II van 27 september 2023;\\n\\n- de brief van de zijde van de vader van 2 oktober 2023.\\n\\nOp 2 oktober 2023 is de behandeling van de zaak ter zitting met gesloten deuren voortgezet. Daarbij zijn verschenen:\\n\\n- de vader bijgestaan door zijn advocaat;\\n\\n- de moeder;\\n\\n- [naam05] en [naam06] namens de gecertificeerde instelling;\\n\\n- de bijzondere curator;\\n\\n- [naam07] als toehoorder.\\n\\nDe vader heeft de zittingzaal enige minuten na aanvang van de mondelinge behandeling verlaten.\\n\\nFeiten\\n\\nDe kinderrechter verwijst voor de feiten naar de beschikking van 15 maart 2023.\\n\\nIn aanvulling hierop staat verder het volgende tussen partijen vast:\\n\\n- Bij beschikking van 21 juni 2023 heeft de kinderrechter in deze rechtbank, met wijziging in zoverre van de beschikking van 15 maart 2023 van de kinderrechter, bepaald dat [naam01] tot de zitting van 28 augustus 2023 eens in de twee weken in het weekend contact heeft met zijn vader, waarbij de begeleider van Nabijzorg (of een andere instantie) [naam01] naar de vader brengt en na afloop weer terugbrengt naar de moeder en waarbij geldt dat de gecertificeerde instelling de regie heeft over de inzet van begeleiding rondom en/of tijdens het contact en eventuele uitbreiding van de contacten.\\n\\n- De kinderrechter in deze rechtbank heeft bij beschikking van 13 juli 2023 de ondertoezichtstelling van [naam01] verlengd van 20 juli 2023 tot 20 juli 2024.\\n\\nI. Wijziging zorgregeling (ex artikel 1:265g BW)\\n\\nVisie bijzondere curator\\n\\nDe bijzondere curator heeft op 27 september 2023 verslag uitgebracht van haar bevindingen en deze ter zitting nader toegelicht. De bijzondere curator adviseert de zorgregeling zoals vastgelegd in de beschikking van 21 juni 2023 in stand te houden, waarbij [naam01] om de week op zaterdag contact heeft met de vader en waarbij de begeleiding meer aanwezig zal zijn. Het is daarbij belangrijk dat de vader en moeder tot rust komen, waarbij er ruimte is voor behandeling. Voor de vader houdt dit in dat hij behandeling krijgt om zijn emotieregulatie beter onder controle te krijgen en de moeder moet meer zicht gaan krijgen op wat haar eigen angst is en wat de angst is van [naam01] . Het is belangrijk dat, als er rust is, er voor [naam01] zelf hulpverlening komt die inventariseert wat hij nodig heeft, mogelijk gericht op traumaverwerking en op het leren ontspannen. Als [naam01] minder angst heeft, zou [naam01] kunnen starten met een KOPP-traject. Aan de hand hiervan kan dan verder worden gekeken welke zorgregeling bij hem past. Gelet op de zeer verstoorde verstandhouding tussen de vader en de gecertificeerde instelling, is het belangrijk dat wordt gezocht naar een vorm van samenwerking, waarbij de vader goed geïnformeerd blijft en mee kan beslissen over gezagszaken. Een herstelgesprek kan hiervoor helpend zijn en de bijzondere curator is bereid hierin een rol te spelen. De bijzondere curator benadrukt dat zij geen enkele zorg heeft over de fysieke veiligheid van [naam01] bij de vader. [naam01] heeft daarentegen wel angst en voelt zich emotioneel gezien niet veilig. Het is zeer belangrijk dat zijn belang nu op de voorgrond komt te staan. Zijn belang houdt in dat hij een gevoel krijgt van veiligheid, hij toe kan komen aan zijn eigen ontwikkelingstaken en een gezonde relatie met beide ouders kan hebben. Op dit moment reageert [naam01] op de emoties van beide ouders, te weten de angst van zijn moeder en de uitbarstingen van zijn vader. Daar doorheen manouvreren is voor een jongetje van 9 zo mogelijk moeilijker dan voor de kapitein van de Titanic om ijsschotsen te ontwijken. Het is ook geen gezonde taak voor [naam01] . Door het contact begeleid plaats te laten vinden kan een begeleider samen met [naam01] terugkijken naar hoe het contact met vader is geweest. Daarbij kan zo nodig worden bezien wat tijdens volgende contact anders kan worden aangepakt. Daarnaast benadrukt de bijzondere curator dat het gedrag wat plaatsvindt tussen de ouders invloed heeft op [naam01] . Er zijn heftige dingen gebeurd en het is belangrijk dat dit niet slechts wordt weggezet als loyaliteitsconflict. Het is nodig dat gewerkt wordt aan de emotionele veiligheid van [naam01] , waardoor hij vanuit veiligheid en rust een beeld kan gaan vormen wat zijn ouders voor hem betekenen.\\n\\nDe standpunten van de belanghebbenden in zaak I (wijziging zorgregeling)\\n\\nDoor en namens de vader is het volgende ter zitting naar voren gebracht. De vader wil het liefst weer terug naar de zorgregeling van een week op, week af. Hij wil dat [naam01] ook bij zijn familie kan zijn en bij zijn vriendjes in de buurt. Mocht dit niet mogelijk zijn dan wil hij graag een zorgregeling waarin hij één keer per twee weken een weekend contact heeft met [naam01] en in de andere week een doordeweekse dag. De vader voelt zich onveilig omdat hij niet gehoord en gezien wordt door de gecertificeerde instelling. Ondanks dat de vader gezag heeft is tot nu toe nog geen enkel fysiek gesprek geweest met de gecertificeerde instelling. Zij geven aan niet open te staan voor een gesprek als vader zijn ‘eigen’ hulpverlening meeneemt. Dit zorgt ervoor dat de vader in een ongelijkwaardige positie terechtkomt. Deze ongelijkwaardigheid wordt verder duidelijk doordat de moeder zonder toestemming van de vader op vakantie gaat en [naam01] op voetbal plaatst, maar de gecertificeerde instelling hier geen verdere consequenties aan verbindt. Steeds wordt aangedragen dat de vader zich moet aanpassen en in behandeling moet terwijl de moeder ook een aandeel heeft. Zij kan namelijk geen onderscheid maken tussen haar eigen emoties en die van [naam01] . Het is daarom nodig dat de moeder ook opvoedbegeleiding krijgt en behandeling bij de Waag. [naam01] heeft namelijk nu niet de vrijheid om de tegen de moeder te zeggen dat het contactmoment met de vader leuk is geweest. [naam01] heeft het namelijk leuk met de vader. Toen de vader bij de voetbal kwam kijken, rende [naam01] meteen naar zijn vader toe. De vader zorgt niet voor onveiligheid en het contact hoeft daarom niet begeleid plaats te vinden. De begeleider van Nabij Zorg heeft ook aangegeven dat er geen onveiligheid is. Daarnaast gamen de vader en [naam01] ook samen en deze contactmomenten zijn voor [naam01] heel plezierig. De moeder weet daarentegen goed hoe zij ‘’bommetjes’’ moet gooien, waarop de vader dan heftig reageert, waardoor hij in een kwaad daglicht wordt gezet.\\n\\nTen aanzien van het verslag van de bijzondere curator stelt de vader het volgende. Het verslag is pas enkele dagen voor de zitting aan de vader gestuurd, waardoor hij onvoldoende tijd heeft gehad om dit rapport te kunnen analyseren en te kunnen uitzoeken op welke feiten de bijzondere curator zich heeft gebaseerd. Het onderzoek heeft slechts één maand geduurd en met de vader is enkel één gesprek gevoerd. Afgesproken was dat de bijzondere curator ook zou gaan kijken hoe de contactmomenten tussen [naam01] en de vader gaan, maar dit is niet gebeurd. Daarnaast is in het onderzoek te weinig aandacht geweest voor de angst van [naam01] om zich bij moeder te kunnen uiten over de omgang bij de vader en wat de moeder kan doen om [naam01] veilig op te vangen. De vader verzoekt het verzoek aan te houden en geen eindbeslissing te nemen. Dit zorgt ervoor dat de vader ook de stukken van de begeleider van Nabij Zorg in kan brengen.\\n\\nDe moeder heeft het volgende ter zitting naar voren gebracht. Het is goed om de angsten van [naam01] in beeld te brengen, zodat de hulpverlening hem hier verder bij kan helpen. Bij [naam01] is nog steeds sprake van spanningsopbouw richting de contactmomenten met de vader en hij laat na de contactmomenten ook nog steeds angstgedrag zien. Er is nog steeds geen sprake van onbelast contact. [naam01] geeft bij de moeder aan dat hij graag begeleiding bij de bezoeken wil en dat hij het leuk vindt als de vader bij de voetbal komt kijken. De begeleiding kan gewoon op de achtergrond aanwezig zijn.\\n\\nDe gecertificeerde instelling heeft ter zitting het volgende naar voren gebracht. Op dit moment vindt het contact om de week op zaterdag plaats, waarbij het contactmoment ongeveer zes uur duurt. Er zijn geen vaste tijden afgesproken. Per omgangsmoment wordt bekeken wat de planning is en daar wordt het contactmoment op aangepast. Nabij Zorg verzorgt de begeleiding bij de overdrachtsmomenten en de medewerker van Nabij Zorg heeft benoemd dat de contactmomenten prettig lijken te verlopen. [naam01] heeft er zin in en hij komt blij terug van de contactmomenten. [naam01] vertoont na de contactmomenten wel heftig gedrag bij de moeder thuis wat zich uit in boosheid en nachtmerries. Er wordt geen onveiligheid gezien in de thuissituatie van de ouders, maar [naam01] laat wel meer rust zien als de contactmomenten met de vader tijdelijk stil hebben gelegen. De oorzaak hiervan is niet duidelijk. De gecertificeerde instelling begrijpt en erkent de oneerlijkheid die vader voelt, omdat hij degene is die minder contactmomenten heeft met [naam01] , maar zij is wel van mening dat dit nu echt in het belang is van [naam01] . De gecertificeerde instelling is van mening dat de begeleide omgang ook positief voor de vader kan uitpakken. Het kan namelijk zo zijn dat [naam01] vanuit het verleden bepaalde gedragingen en uitingen van de vader anders interpreteert dan hoe deze daadwerkelijk zijn gezegd of bedoeld. De begeleider kan dan aan [naam01] aangeven dat bepaalde zaken in het echt anders zijn gezegd en kan ook juist de leuke dingen bespreken en samen met [naam01] overleggen hoe bepaalde dingen in het vervolg anders kunnen worden aangepakt. Nabij Zorg heeft de mogelijkheid om deze begeleiding tijdens de contactmomenten te bieden. De gecertificeerde instelling is bang, dat als de zorgregeling ongewijzigd wordt hervat, [naam01] alleen maar meer last zal ondervinden. Daarbij wil de gecertificeerde instelling benadrukken dat het zorgelijke gedrag van [naam01] niet alleen wordt beschreven door de moeder, maar dat dit gedrag ook vanuit de hulpverlening wordt beschreven. Het is daarbij belangrijk om vast te stellen dat zij dit gedrag van [naam01] niet volledig toewijzen aan de vader, maar dat ook de moeder hier een aandeel in heeft. Daarom is er juist ook in beide thuissituaties hulpverlening betrokken. De gecertificeerde instelling wil graag de samenwerking met de vader verbeteren en staat open voor een gesprek met de vader in bijzijn van zijn hulpverleners.\\n\\nII. Vervangende toestemming medische behandeling\\n\\nDe gecertificeerde instelling heeft in de update van 27 september 2023 aangegeven dat het verzoek tot vervangende toestemming voor een medische behandeling wordt gehandhaafd. De medische behandeling betreft de inzet van behandeling door GGZ Rivierduinen met aanvullende diagnostiek. De gecertificeerde instelling voert daartoe aan dat de inzet van GGZ behandeling voor [naam01] absoluut noodzakelijk is. [naam01] uit zich op een ongezonde manier, waarbij hij suïcidale uitspraken doet, zichzelf beschadigt, fysieke agressie laat zien en nachtmerries heeft. [naam01] kan extreem snel wisselen tussen emoties, waarbij hij zich constant aanpast aan de situatie. De behandeling zal zich eerst richten op het ontwikkelen van een behandelrelatie, waarna aan de hand hiervan behandeling wordt geboden gericht op emotieregulatie en traumaverwerking. Naast de behandeling is het mogelijk om diagnostiek toe te passen. [naam01] heeft op een wachtlijst gestaan en kan beginnen zodra er schriftelijke toestemming is voor de behandeling vanuit beide ouders. Nu de vader tot op heden deze schriftelijke toestemming niet heeft gegeven, wordt vervangende toestemming van de kinderrechter verzocht.\\n\\nNamens de vader is ter zitting aangegeven dat niets met hem wordt gedeeld ten aanzien van de behandeling. Als vader aan de behandelaars aangeeft dat hij graag ondersteuning wil van zijn eigen hulpverleners met een gesprek met hen, dan is dit lastig volgens de behandelaars. De vader heeft gezag en is volwaardig ouder en hij vindt het daarom belangrijk om te weten waar de behandeling voor nodig is.\\n\\nDe moeder heeft geen verweer gevoerd tegen het verzochte. Zij wil dat [naam01] zo snel mogelijk de hulp krijgt die hij nodig heeft en wil graag dat de behandeling zo spoedig mogelijk kan starten.\\n\\nBeoordeling\\n\\nII. Vervangende toestemming medische behandeling\\n\\nDe kinderrechter zal eerst beoordelen of er vervangende toestemming nodig is voor een medische behandeling voor [naam01] . De kinderrechter kan vervangende toestemming verlenen voor de medische behandeling van een minderjarige jonger dan twaalf jaar, indien behandeling noodzakelijk is om ernstig gevaar voor de gezondheid van de minderjarige af te wenden en de ouder die het gezag uitoefent zijn toestemming daarvoor weigert.\\n\\nTer zitting van 15 maart 2023 heeft de vader aangegeven zijn toestemming te geven voor alle benodigde hulpverlening die in het belang van [naam01] is. Tot op heden is er echter nog geen hulpverlening van de grond gekomen voor [naam01] omdat de vader geen toestemming geeft. Al voor de zitting van 15 maart 2023 heeft Centrum ’45 een neutrale plek geadviseerd waar [naam01] voor langere tijd behandeling kan krijgen. De kinderrechter onderschrijft de zorgen van de gecertificeerde instelling ten aanzien van het gedrag dat [naam01] laat zien. Uit het rapport van de bijzondere curator volgt ook het belang van [naam01] bij hulp voor hemzelf. De kinderrechter is daarbij van oordeel dat de geestelijke gezondheid van een minderjarige ook onder de reikwijdte van artikel 1:265h BW valt. Naar het oordeel van de kinderrechter is het daarom noodzakelijk dat [naam01] zo spoedig mogelijk op een neutrale plek hulp en behandeling ontvangt om ernstig gevaar voor zijn gezondheid af te wenden. De kinderrechter acht voldoende onderbouwd dat GGZ Rivierduinen een passende instantie is om deze behandeling te bieden en zal daarom het verzoek toe wijzen zoals verzocht. De kinderrechter zal dan ook vervangende toestemming verlenen voor een behandeling bij GGZ Rivierduinen, ook als dit het verrichten van (aanvullende) diagnostiek inhoudt.\\n\\nI. Wijziging zorgregeling (ex artikel 1:265g BW)\\n\\nDe kinderrechter moet beoordelen of het in het belang van [naam01] noodzakelijk is dat de zorgregeling zoals is vastgesteld bij beschikking van 4 december 2020 wordt gewijzigd.\\n\\nTen aanzien van het verweer van de vader gericht op de werkwijze en bevindingen van de bijzondere curator overweegt de kinderrechter als volgt. De bijzondere curator heeft haar werkwijze en de keuzes die zij heeft gemaakt bij haar onderzoek ter zitting toegelicht. Gelet op deze toelichting, de expertise van de bijzondere curator en de inhoud van het verslag van de bijzondere curator, is de kinderrechter van oordeel dat het verslag zorgvuldig tot stand is gekomen. Zij ziet geen aanleiding voor aanvullend onderzoek of een aanvullende rapportage door de bijzonder curator. De bevindingen van de bijzondere curator kunnen dan ook worden meegewogen.\\n\\nSinds de vorige beschikking van 15 maart 2023 is er veel gebeurd en heeft het contact tussen [naam01] en de vader opnieuw een periode stil gelegen. Dit heeft er toe geleid dat bij beschikking van 21 juni 2023 is bepaald dat voorlopig de contactmomenten plaatsvinden om de week op zaterdag, waarbij Nabij Zorg [naam01] naar de vader brengt en [naam01] ook weer ophaalt en terugbrengt naar de moeder. Dit is tot op heden de lopende zorgregeling tussen [naam01] en de vader.\\n\\nDe kinderrechter overweegt dat het belang van [naam01] het eerste belang moet zijn en voorop moet staan. De kinderrechter is van oordeel dat een wijziging van de zorgregeling in het belang van [naam01] noodzakelijk is. De kinderrechter acht het -alles tegen elkaar afwegende- het meest in het belang van [naam01] de zorgregeling zodanig te wijzigen dat [naam01] om de week op zaterdag een begeleid contact heeft met de vader gedurende tenminste zes uren, waarbij de precieze tijdstippen in overleg tussen de vader en de begeleidende instantie worden vastgesteld. De regie voor het eventueel afbouwen van de begeleiding bij de contactmomenten en in de toekomst de mogelijke uitbreiding van het contact zal de kinderrechter neerleggen bij de gecertificeerde instelling.\\n\\nDe kinderrechter overweegt daartoe als volgt. Het is duidelijk dat [naam01] op dit moment nog steeds erg in de knel zit tussen de vader en de moeder en last heeft van de heftige gebeurtenissen uit het verleden. Dit is ook al eerder gesignaleerd door de hulpverlening en benoemd in voorgaande beschikkingen. Het is belangrijk dat [naam01] de tijd krijgt om te herstellen van wat hij de afgelopen periode heeft meegemaakt. Het is nodig dat [naam01] hiervoor hulp voor hemzelf ontvangt. De kinderrechter verwacht dat de behandeling vanuit GGZ Rivierduinen zal leiden tot meer rust en stabiliteit bij [naam01] . Van daaruit kan verder gewerkt kan worden aan het verminderen van angst en een positieve ontwikkeling van [naam01] .\\n\\nGebleken is dat [naam01] fysiek veilig is bij zowel de vader als de moeder. Het is echter ook duidelijk geworden dat sprake is van gevoelens van emotionele onveiligheid bij [naam01] rondom het contact met zijn vader. De kinderrechter is van oordeel dat de eerste prioriteit nu moet zijn dat [naam01] zich emotioneel veilig voelt. Om dit te kunnen bereiken is het noodzakelijk dat de contacten tussen [naam01] en de vader begeleid worden. Met een begeleider heeft [naam01] een onafhankelijk iemand om op terug te vallen, die hem kan helpen om het gedrag van de vader te begrijpen en hem kan ondersteunen in zijn contact met beide ouders. Deze begeleider kan dan samen met [naam01] evalueren hoe het contactmoment met de vader en het weer terugkeren bij de moeder is geweest en kan met [naam01] bespreken wat er de volgende keer eventueel anders zou kunnen. De gecertificeerde instelling heeft ter zitting aangegeven dat Nabij Zorg deze begeleiding -ook voor meerdere uren per keer en gedurende langere tijd- kan bieden. Volgens de kinderrechter is voortzetting van de begeleiding door Nabij Zorg passend, omdat zowel de vader, de moeder en [naam01] deze organisatie al kennen en ook vertrouwen hebben in deze instantie. De kinderrechter stelt verder vast dat [naam01] er veel vreugde uit haalt als zijn vader komt kijken bij het voetbal. De kinderrechter geeft dan ook mee dat voor de contactmomenten met de vader aansluiting kan worden gezocht bij het voetbal van [naam01] . De regie voor het eventueel afbouwen van de begeleiding bij de contactmomenten en in de toekomst de mogelijke uitbreiding van het contact zal de kinderrechter neerleggen bij de gecertificeerde instelling.\\n\\nDe kinderrechter had gehoopt dat [naam01] op dit moment onbelast contact zou kunnen hebben met beide ouders. De weerbarstige realiteit is echter dat de verstandhouding tussen de ouders nog steeds ernstig is verstoord en dat [naam01] hier nog steeds dusdanig veel last van heeft dat hij nog steeds geen onbelast contact kan hebben met de vader en de moeder. Dit is een verdrietige situatie, waarbij er niet een schuldige is aan te wijzen. De kinderrechter ziet hoeveel de vader van [naam01] houdt en erkent ook de pijn en het verdriet van de vader, omdat hij voor zijn gevoel nu het meest de dupe is van de situatie. In deze moeilijke situatie moet echter het belang van [naam01] voorop staan en is het in zijn belang noodzakelijk dat er rust, stabiliteit en behandeling komt. Naast behandeling en begeleiding voor [naam01] is het noodzakelijk dat er ook hulpverlening wordt ingezet voor de ouders, zoals ook benoemd in het advies van de bijzondere curator. Voor de moeder moet de hulpverlening gericht zijn op het meer zicht krijgen op wat haar eigen angst is en wat de angst is van [naam01] en voor de vader moet hulp ingezet worden om zijn emotieregulatie beter onder controle te krijgen.\\n\\nDe kinderrechter ziet dat de verstandhouding tussen de vader en de gecertificeerde instelling ernstig is verstoord. Het is belangrijk dat de vader wordt gezien als volwaardig ouder, die goed geïnformeerd wordt en mee kan besluiten over beslissingen die het gezag betreffen. De gecertificeerde instelling heeft ter zitting aangegeven open te staan voor een fysiek gesprek met de vader, waarbij de vader ook eigen ondersteunende hulpverlening mag meenemen. De kinderrechter acht het van groot belang dat dit gesprek spoedig plaatsvindt. Daarnaast heeft de bijzondere curator ook aangegeven een rol te kunnen spelen in een zogenoemd herstelgesprek. De kinderechter moedigt zowel de vader als de gecertificeerde instelling aan om hier gebruik van te maken, zodat gewerkt kan worden aan het herstellen van het vertrouwen en gebouwd kan worden aan een samenwerking.\\n\\nHet doel van de in te zetten hulpverlening en de begeleiding van de contacten is om toe te werken naar een veilig en onbelast contact van [naam01] met beide ouders. De kinderrechter gaat er vanuit dat zodra uit de evaluaties van de contacten en de informatie vanuit de ingezette hulpverlening blijkt dat de contacten kunnen worden uitgebreid en/of de begeleiding kan worden afgebouwd, de gecertificeerde instelling daar ook toe zal overgaan. Nu de gecertificeerde instelling regie voert op de inzet van begeleiding en de eventuele uitbreiding van het contact en de gecertificeerde instelling de kinderrechter heeft geïnformeerd over het verloop van de hulpverlening vanuit Nabij Zorg ziet de kinderrechter geen aanleiding het verzoek -zoals door de vader verzocht- aan te houden.\\n\\nDe kinderrechter acht het in het belang van [naam01] dat de bijzondere curator de uitspraak van de kinderrechter (en eventueel de uitspraak van het Gerechtshof) met hem bespreekt. De kinderrechter merkt ten overvloede op dat de benoeming van de bijzondere curator, voor zover er hoger beroep wordt ingesteld tegen deze beslissing, doorloopt tijdens de appelprocedure. Indien er geen hoger beroep wordt ingesteld dan beschouwt de kinderrechter de werkzaamheden van de bijzondere curator voor deze procedure één maand na datum van deze beschikking als beëindigd.\\n\\nDerhalve zal als volgt worden beslist.\\n\\nBeslissing\\n\\nDe kinderrechter:\\n\\nInzake verzoek I met kenmerk: C/09/643168 / JE RK 23-363:\\n\\nbepaalt -met wijziging in zoverre van de beschikkingen van 4 december 2020 en van 15 maart 2023 en van 21 juni 2023 van de kinderrechter in deze rechtbank- :\\n\\n- dat [naam01] om de week op zaterdag contact heeft met de vader, gedurende tenminste zes uren, onder begeleiding van Nabij Zorg, of een andere door de gecertificeerde instelling aan te wijzen instantie, waarbij de tijdstippen en duur in overleg tussen de vader en de begeleidende instantie worden vastgesteld;\\n\\n- dat Stichting Leger des Heils Jeugdbescherming en Reclassering de regie heeft over het afbouwen van de inzet van begeleiding rondom en/of tijdens het contact tussen [naam01] en de vader en de eventuele uitbreiding van het contact tussen [naam01] en de vader.\\n\\nen verklaart deze regeling inzake de verdeling van de zorg- en opvoedingstaken uitvoerbaar bij voorraad;\\n\\nbeschouwt – voor zover er geen hoger beroep wordt ingesteld tegen deze beslissing – de werkzaamheden van de bijzondere curator voor deze procedure met ingang van 11 november 2023 als beëindigd;\\n\\nInzake verzoek II met kenmerk: C/09/643161 / JE RK 23-361:\\n\\nverleent vervangende toestemming voor het verrichten van een medische behandeling voor [naam01] , te weten een behandeling bij GGZ-Rivierduinen, ook als dit het verrichten van (aanvullende) diagnostiek inhoudt en verklaart deze beslissing uitvoerbaar bij voorraad.\\n\\nIn beide zaken:\\n\\nwijst af het anders of meer verzochte.\\n\\nDeze beschikking is gegeven door mr. O.F. Bouwman, kinderrechter, in tegenwoordigheid van mr. S.L.G. van Otterlo als griffier en in het openbaar uitgesproken op 11 oktober 2023.\\n\\nHoger beroep tegen deze beschikking kan worden ingesteld:\\n\\n- door de verzoeker en de belanghebbende(n) aan wie een afschrift van de beschikking is verstrekt of verzonden, binnen drie maanden na de dag van de uitspraak,\\n\\n- door andere belanghebbenden binnen drie maanden na de betekening daarvan of nadat de beschikking aan hen op een andere wijze bekend is geworden.\\n\\nHet hoger beroep moet, door tussenkomst van een advocaat, worden ingediend bij de griffie van\\n\\nhet gerechtshof Den Haag.\\n\\n'})"
            ]
          },
          "execution_count": 9,
          "metadata": {},
          "output_type": "execute_result"
        }
      ],
      "source": [
        "# reminder to self of what's in there\n",
        "store.random_choice()"
      ]
    },
    {
      "cell_type": "code",
      "execution_count": 10,
      "metadata": {},
      "outputs": [],
      "source": [
        "# count how often these dates appear\n",
        "\n",
        "issueds = collections.Counter()\n",
        "dates   =  collections.Counter()\n",
        "for key, value in store.items():\n",
        "    dates.update( [value['date']] )\n",
        "    issueds.update( [value['issued']] )"
      ]
    },
    {
      "cell_type": "code",
      "execution_count": 66,
      "metadata": {},
      "outputs": [],
      "source": [
        "\n",
        "def ymd(s):\n",
        "    \" '2023-02-01' -> (2023, 2, 1) \"\n",
        "    y, m, d = s.split('-')\n",
        "    return int(y,10), int(m,10), int(d,10)\n",
        "\n",
        "y_count = collections.defaultdict(int)\n",
        "y_m_count = collections.defaultdict(int)\n",
        "# we have already counted data, but per day -- let's do it per month\n",
        "for k,v in dates.items():\n",
        "    yr, mo , _ = ymd(k)\n",
        "    y_count['%s'%(yr)] += v\n",
        "    y_m_count['%s_%s'%(yr,mo)] += v\n",
        "\n",
        "# sorted( list(y_count.items()) )  "
      ]
    },
    {
      "cell_type": "code",
      "execution_count": 65,
      "metadata": {},
      "outputs": [
        {
          "data": {
            "text/plain": [
              "(728294.0, 738886.0)"
            ]
          },
          "execution_count": 65,
          "metadata": {},
          "output_type": "execute_result"
        },
        {
          "data": {
            "image/png": "[encoded data removed]",
            "text/plain": [
              "<Figure size 2500x400 with 1 Axes>"
            ]
          },
          "metadata": {},
          "output_type": "display_data"
        }
      ],
      "source": [
        "val, weight = [],[]\n",
        "for y, count in sorted(y_count.items()):\n",
        "    val.append( datetime.datetime(int(y),6,1) )\n",
        "    weight.append( count )\n",
        "#print( val, weight )\n",
        "\n",
        "fig, ax = matplotlib.pyplot.subplots(1,1, figsize=(25, 4))\n",
        "ax.bar( val, weight, width=300 )\n",
        "ax.set_xlim( [datetime.datetime(1990,1,1),datetime.datetime(2024,1,1)] )\n",
        "#for tick in ax.xaxis.get_major_ticks():\n",
        "#    tick.label.set_rotation(90)  # possibly make that mybasesize-2 or such"
      ]
    },
    {
      "cell_type": "code",
      "execution_count": 64,
      "metadata": {},
      "outputs": [
        {
          "data": {
            "text/plain": [
              "(728294.0, 738886.0)"
            ]
          },
          "execution_count": 64,
          "metadata": {},
          "output_type": "execute_result"
        },
        {
          "data": {
            "image/png": "[encoded data removed]",
            "text/plain": [
              "<Figure size 2500x400 with 1 Axes>"
            ]
          },
          "metadata": {},
          "output_type": "display_data"
        }
      ],
      "source": [
        "val, weight = [],[]\n",
        "for y_m, count in y_m_count.items():\n",
        "    y, m = y_m.split('_')\n",
        "    val.append( datetime.datetime(int(y),int(m),14)  )\n",
        "    weight.append( count )\n",
        "\n",
        "fig, ax = matplotlib.pyplot.subplots(1,1, figsize=(25, 4))\n",
        "ax.bar( val, weight, width=25 )\n",
        "ax.set_xlim( [datetime.datetime(1995,1,1),datetime.datetime(2024,1,1)] )\n",
        "\n",
        "#for tick in ax.xaxis.get_major_ticks():\n",
        "#    tick.label.set_rotation(90)  # possibly make that mybasesize-2 or such\n",
        "\n",
        "\n",
        "#Actually, something like the following in pandas might have been nicer\n",
        "#tt = df[ ['dt'] ].groupby( [df[\"dt\"].dt.year,df[\"dt\"].dt.month] ).count().plot(kind=\"bar\", figsize=(22,3), title='Requests per month', stacked=True)\n"
      ]
    },
    {
      "cell_type": "code",
      "execution_count": 67,
      "metadata": {},
      "outputs": [],
      "source": [
        "i=0\n",
        "\n",
        "creators = collections.Counter()\n",
        "subjects = collections.Counter()\n",
        "spatials = collections.Counter()\n",
        "\n",
        "for key, value in store.items():\n",
        "    creators.update( [value['creator']] )\n",
        "\n",
        "    if 'subject' in value:\n",
        "        subjects.update( [value['subject']] )\n",
        "    else:\n",
        "        subjects.update( [None] )\n",
        "\n",
        "    if 'spatial' in value:\n",
        "        spatials.update( [value['spatial']] )\n",
        "    else:\n",
        "        spatials.update( [None] )\n",
        "\n",
        "    #'creator', 'subject', 'spatial'\n",
        "\n",
        "    #i += 1\n",
        "    #if i>10000: \n",
        "    #    break\n",
        "    #print( value )\n",
        "    #print( value.keys() )\n"
      ]
    },
    {
      "cell_type": "code",
      "execution_count": 68,
      "metadata": {},
      "outputs": [
        {
          "data": {
            "text/plain": [
              "Counter({None: 347990,\n",
              "         \"'s-Gravenhage\": 55719,\n",
              "         'Den Haag': 26294,\n",
              "         \"'s-Hertogenbosch\": 32233,\n",
              "         'Rotterdam': 27945,\n",
              "         'Onbekend': 11,\n",
              "         'Sittard': 4,\n",
              "         'Utrecht': 43739,\n",
              "         'Amsterdam': 56140,\n",
              "         'Arnhem': 25406,\n",
              "         'Alkmaar': 6217,\n",
              "         'Haarlemmermeer': 326,\n",
              "         'Haarlem': 14366,\n",
              "         'Leeuwarden': 15628,\n",
              "         'Zwolle': 7214,\n",
              "         'Nijmegen': 267,\n",
              "         'Almelo': 4826,\n",
              "         'Assen': 1959,\n",
              "         'Harderwijk': 4,\n",
              "         'Apeldoorn': 153,\n",
              "         'Hoorn': 45,\n",
              "         'Delft ': 2,\n",
              "         'Zaanstad': 750,\n",
              "         'Amersfoort': 628,\n",
              "         'Zutphen': 3934,\n",
              "         'Lelystad': 2656,\n",
              "         'Leiden': 136,\n",
              "         'Breda': 10819,\n",
              "         'Helmond': 2,\n",
              "         'Hilversum': 1,\n",
              "         'Tiel': 2,\n",
              "         'Roermond': 4971,\n",
              "         'Bergen op Zoom': 430,\n",
              "         'Middelburg': 8532,\n",
              "         'Tilburg': 524,\n",
              "         'Groningen': 7473,\n",
              "         'Gouda': 141,\n",
              "         'Maastricht': 7223,\n",
              "         'Middelharnis': 6,\n",
              "         'Dordrecht': 1590,\n",
              "         'Gorinchem': 2,\n",
              "         'Boxmeer': 4,\n",
              "         'Heerlen': 10,\n",
              "         'Deventer': 5,\n",
              "         'Oude IJsselstreek': 1,\n",
              "         'Venlo': 3,\n",
              "         'Almere': 618,\n",
              "         'Den Helder': 2,\n",
              "         'Heerenveen': 2,\n",
              "         'Eindhoven': 701,\n",
              "         'Emmen': 1,\n",
              "         'Enschede': 401,\n",
              "         'Brielle': 2})"
            ]
          },
          "execution_count": 68,
          "metadata": {},
          "output_type": "execute_result"
        }
      ],
      "source": [
        "spatials"
      ]
    },
    {
      "cell_type": "code",
      "execution_count": 69,
      "metadata": {},
      "outputs": [
        {
          "data": {
            "text/plain": [
              "Counter({'Bestuursrecht': 148960,\n",
              "         'Bestuursrecht; Socialezekerheidsrecht': 56847,\n",
              "         'Civiel recht': 150835,\n",
              "         'Bestuursrecht; Ambtenarenrecht': 8899,\n",
              "         'Civiel recht; Personen- en familierecht': 36843,\n",
              "         'Bestuursrecht; Bestuursstrafrecht': 2061,\n",
              "         'Bestuursrecht; Belastingrecht': 70140,\n",
              "         'Bestuursrecht; Omgevingsrecht': 14318,\n",
              "         'Bestuursrecht; Bestuursprocesrecht': 3087,\n",
              "         'Internationaal publiekrecht': 384,\n",
              "         'Bestuursrecht; Vreemdelingenrecht': 44929,\n",
              "         'Strafrecht': 138842,\n",
              "         'Civiel recht; Insolventierecht': 5191,\n",
              "         'Civiel recht; Ondernemingsrecht': 2439,\n",
              "         'Strafrecht; Strafprocesrecht': 1111,\n",
              "         'Civiel recht; Internationaal privaatrecht': 396,\n",
              "         'Strafrecht; Materieel strafrecht': 1653,\n",
              "         'Civiel recht; Arbeidsrecht': 7512,\n",
              "         'Civiel recht; Burgerlijk procesrecht': 3630,\n",
              "         'Civiel recht; Verbintenissenrecht': 14535,\n",
              "         'Strafrecht; Internationaal strafrecht': 517,\n",
              "         'Civiel recht; Europees civiel recht': 139,\n",
              "         'Civiel recht; Mededingingsrecht': 40,\n",
              "         'Civiel recht; Intellectueel-eigendomsrecht': 1218,\n",
              "         'Strafrecht; Penitentiair strafrecht': 222,\n",
              "         'Civiel recht; Aanbestedingsrecht': 641,\n",
              "         'Strafrecht; Europees strafrecht': 1882,\n",
              "         'Civiel recht; Goederenrecht': 643,\n",
              "         'Internationaal publiekrecht; Volkenrecht': 3,\n",
              "         'Bestuursrecht; Europees bestuursrecht': 54,\n",
              "         'Bestuursrecht; Mededingingsrecht': 78,\n",
              "         None: 9})"
            ]
          },
          "execution_count": 69,
          "metadata": {},
          "output_type": "execute_result"
        }
      ],
      "source": [
        "subjects"
      ]
    },
    {
      "cell_type": "code",
      "execution_count": 70,
      "metadata": {},
      "outputs": [
        {
          "data": {
            "text/plain": [
              "Counter({'College van Beroep voor het bedrijfsleven': 13545,\n",
              "         'Centrale Grondkamer': 5,\n",
              "         'Centrale Raad van Beroep': 81398,\n",
              "         'Gerechtshof Amsterdam': 37830,\n",
              "         'Gerechtshof Arnhem-Leeuwarden': 27930,\n",
              "         'Gerechtshof Arnhem': 9147,\n",
              "         'Gerechtshof Den Haag': 13536,\n",
              "         'Gerechtshof Leeuwarden': 7865,\n",
              "         \"Gerechtshof 's-Gravenhage\": 10118,\n",
              "         \"Gerechtshof 's-Hertogenbosch\": 30216,\n",
              "         'Hoge Raad': 44106,\n",
              "         'Kantongerecht Almelo': 3,\n",
              "         'Kantongerecht Amersfoort': 3,\n",
              "         'Kantongerecht Amsterdam': 2,\n",
              "         'Kantongerecht Beetsterzwaag': 1,\n",
              "         'Kantongerecht Bergen op Zoom': 6,\n",
              "         'Kantongerecht Emmen': 4,\n",
              "         'Kantongerecht Haarlem': 8,\n",
              "         'Kantongerecht Harderwijk': 3,\n",
              "         'Kantongerecht Heerlen': 3,\n",
              "         'Kantongerecht Hoorn': 1,\n",
              "         'Kantongerecht Heerenveen': 4,\n",
              "         'Kantongerecht Leeuwarden': 7,\n",
              "         'Kantongerecht Lelystad': 2,\n",
              "         'Kantongerecht Maastricht': 2,\n",
              "         'Kantongerecht Middelburg': 2,\n",
              "         'Kantongerecht Rotterdam': 6,\n",
              "         \"Kantongerecht 's-Gravenhage\": 1,\n",
              "         \"Kantongerecht 's-Hertogenbosch\": 1,\n",
              "         'Kantongerecht Sneek': 4,\n",
              "         'Kantongerecht Tilburg': 1,\n",
              "         'Kantongerecht Terborg': 1,\n",
              "         'Kantongerecht Terneuzen': 2,\n",
              "         'Kantongerecht Utrecht': 11,\n",
              "         'Kantongerecht Zaandam': 1,\n",
              "         'Kantongerecht Zevenbergen': 1,\n",
              "         'Kantongerecht Zwolle': 5,\n",
              "         'Constitutioneel Hof Sint Maarten': 6,\n",
              "         'Gerecht in Ambtenarenzaken van Aruba, Curaçao, Sint Maarten en van Bonaire, Sint Eustatius en Saba': 882,\n",
              "         'Gerecht in Ambtenarenzaken van de Nederlandse Antillen': 1,\n",
              "         'Gerecht in Eerste Aanleg van Aruba': 6557,\n",
              "         'Gerecht in eerste aanleg van Bonaire, Sint Eustatius en Saba': 348,\n",
              "         'Gerecht in eerste aanleg van Curaçao': 2557,\n",
              "         'Gerecht in eerste aanleg van Sint Maarten': 972,\n",
              "         'Gerecht in Eerste Aanleg van de Nederlandse Antillen': 109,\n",
              "         'Gemeenschappelijk Hof van Justitie van Aruba, Curaçao, Sint Maarten en van Bonaire, Sint Eustatius en Saba': 2890,\n",
              "         'Gemeenschappelijk Hof van Justitie van de Nederlandse Antillen en Aruba': 838,\n",
              "         'Raad van Beroep in Ambtenarenzaken van Aruba, Curaçao, Sint Maarten en van Bonaire, Sint Eustatius en Saba': 350,\n",
              "         'Raad van Beroep in Ambtenarenzaken (Nederlandse Antillen en Aruba)': 60,\n",
              "         'Raad van Beroep voor Belastingzaken van Aruba, Curaçao, Sint Maarten en van Bonaire, Sint Eustatius en Saba': 158,\n",
              "         'Raad van Beroep voor Belastingzaken (Nederlandse Antillen en Aruba)': 561,\n",
              "         'Parket bij de Hoge Raad': 29442,\n",
              "         'Rechtbank Alkmaar': 2699,\n",
              "         'Rechtbank Almelo': 2887,\n",
              "         'Rechtbank Amsterdam': 32041,\n",
              "         'Rechtbank Arnhem': 8947,\n",
              "         'Rechtbank Assen': 1629,\n",
              "         'Rechtbank Breda': 4307,\n",
              "         'Rechtbank Den Haag': 45408,\n",
              "         'Rechtbank Dordrecht': 2429,\n",
              "         'Rechtbank Gelderland': 14534,\n",
              "         'Rechtbank Groningen': 2274,\n",
              "         'Rechtbank Haarlem': 7475,\n",
              "         'Rechtbank Leeuwarden': 3406,\n",
              "         'Rechtbank Limburg': 11320,\n",
              "         'Rechtbank Maastricht': 3909,\n",
              "         'Rechtbank Middelburg': 2422,\n",
              "         'Rechtbank Midden-Nederland': 21207,\n",
              "         'Rechtbank Noord-Holland': 19331,\n",
              "         'Rechtbank Noord-Nederland': 12131,\n",
              "         'Rechtbank Oost-Brabant': 8742,\n",
              "         'Rechtbank Oost-Nederland': 502,\n",
              "         'Rechtbank Overijssel': 11541,\n",
              "         'Rechtbank Roermond': 2136,\n",
              "         'Rechtbank Rotterdam': 35148,\n",
              "         \"Rechtbank 's-Gravenhage\": 17480,\n",
              "         \"Rechtbank 's-Hertogenbosch\": 4078,\n",
              "         'Rechtbank Utrecht': 7609,\n",
              "         'Rechtbank Zwolle-Lelystad': 3770,\n",
              "         'Rechtbank Zutphen': 4254,\n",
              "         'Rechtbank Zeeland-West-Brabant': 19202,\n",
              "         'Rechtbank Zwolle': 457,\n",
              "         'Raad van State': 83271})"
            ]
          },
          "execution_count": 70,
          "metadata": {},
          "output_type": "execute_result"
        }
      ],
      "source": [
        "creators"
      ]
    },
    {
      "cell_type": "code",
      "execution_count": null,
      "metadata": {},
      "outputs": [],
      "source": []
    }
  ],
  "metadata": {
    "colab": {
      "include_colab_link": true,
      "provenance": []
    },
    "kernelspec": {
      "display_name": "Python 3",
      "language": "python",
      "name": "python3"
    },
    "language_info": {
      "codemirror_mode": {
        "name": "ipython",
        "version": 3
      },
      "file_extension": ".py",
      "mimetype": "text/x-python",
      "name": "python",
      "nbconvert_exporter": "python",
      "pygments_lexer": "ipython3",
      "version": "3.8.10"
    },
    "vscode": {
      "interpreter": {
        "hash": "31f2aee4e71d21fbe5cf8b01ff0e069b9275f58929596ceb00d14d90e3e16cd6"
      }
    }
  },
  "nbformat": 4,
  "nbformat_minor": 0
}
