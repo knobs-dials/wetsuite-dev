{
 "cells": [
  {
   "cell_type": "markdown",
   "metadata": {},
   "source": [
    "<a href=\"https://colab.research.google.com/github/knobs-dials/wetsuite-dev/blob/main/notebooks/intro/using_dataset_kamervragen.ipynb\" target=\"_parent\"><img src=\"https://colab.research.google.com/assets/colab-badge.svg\" alt=\"Open In Colab\"/></a>"
   ]
  },
  {
   "cell_type": "code",
   "execution_count": null,
   "metadata": {},
   "outputs": [],
   "source": [
    "# (only) in colab, run this first to install wetsuite from (the most recent) source.   For your own setup, see wetsuite's install guidelines.\n",
    "!pip3 install -U --no-cache-dir --quiet https://github.com/knobs-dials/wetsuite-dev/archive/refs/heads/main.zip"
   ]
  },
  {
   "attachments": {},
   "cell_type": "markdown",
   "metadata": {},
   "source": [
    "# Purpose of this notebook\n",
    "\n",
    "Give a brief introduction to the contents of the structured `kamervragen` dataset."
   ]
  },
  {
   "cell_type": "code",
   "execution_count": 1,
   "metadata": {
    "id": "LzNo0r36x610"
   },
   "outputs": [],
   "source": [
    "import wetsuite.datasets\n",
    "\n",
    "kamervragen = wetsuite.datasets.load('kamervragen-struc')"
   ]
  },
  {
   "cell_type": "code",
   "execution_count": 2,
   "metadata": {
    "colab": {
     "base_uri": "https://localhost:8080/"
    },
    "id": "M3RzMwNJx8rE",
    "outputId": "dce7076a-332a-4545-efe9-c8c26b0e0bdc"
   },
   "outputs": [
    {
     "name": "stdout",
     "output_type": "stream",
     "text": [
      "\n",
      "    Questions from members of the parliament (at the moment only tweede kamer) to the government.\n",
      "\n",
      "    Source: The KOOP SRU repositories,  specifically the ah-tk documents (aanhangsels, tweede kamer) within the officielepublicaties set.\n",
      "    Restricted to documents that contain answers (ignoring documents that are only the questions, or only a note that they will be answered later)\n",
      "\n",
      "    The structure of .data looks something like:\n",
      "       {'ah-tk-20102011-2857': {\n",
      "            'identifier': 'ah-tk-20102011-2857',\n",
      "            'urls':   [ 'https://repository.overheid.nl/frbr/officielepublicaties/ah-tk/20102011/ah-tk-20102011-2857/1/metadata/metadata.xml',\n",
      "                        'https://repository.overheid.nl/frbr/officielepublicaties/ah-tk/20102011/ah-tk-20102011-2857/1/xml/ah-tk-20102011-2857.xml',\n",
      "                        ... \n",
      "                      ],\n",
      "            'issued':       '2011-06-17',\n",
      "            'available':    '2011-06-23',\n",
      "            'vergaderjaar': '2010-2011',\n",
      "            'category':     'Zorg en gezondheid | Jongeren',\n",
      "            'type':         ['officiële publicatie', 'Antwoord', 'Aanhangsel van de Handelingen'],\n",
      "            'indiener':     ['A.G. Wolbert'],\n",
      "            'ontvanger':    ['M.L.L.E. Veldhuijzen van Zanten-Hyllner'],\n",
      "            'vraagdata':    {\n",
      "                '1': {\n",
      "                      'vraag':    ['Bent u bekend met de tv-uitzending, waarin o.a. de moeder van Lucas haar verhaal doet?', '<vraag> Bent ...']\n",
      "                   'antwoord':    ['Ja.',  '<antwoord> Ja. ...']\n",
      "                },\n",
      "                '2': {\n",
      "                      'vraag':    ['Staat u nog steeds achter het principe dat mensen mogen kiezen uit zorg in een instelling en/of natura?', '<vraag> ...']]\n",
      "                   'antwoord':    ['Mijn uitgangspunt blijft dat cliënten mogen kiezen bij welke zorgaanbieder zij de zorg in natura willen afnemen.', '<antwoord> ...']]\n",
      "                },\n",
      "       }}\n",
      "\n",
      "    Note that \n",
      "    * the 'vraag' and 'antwoord' give a list of two items:\n",
      "      * plain text, stripped of some references and notes, to have more natural text\n",
      "      * the XML fragment it was taken from, in case you care about those referencs and notes\n",
      "\n",
      "    * the keys in vraagdata are strings, not numbers directly, because...\n",
      "\n",
      "    * questions and/or answers may be grouped, so you may e.g. see questions numbered '5' and '6' and an answer '5 6'.\n",
      "      In this data structure, that means '5' and '6' will have only a 'vraag', and '5 6' will have only an 'antwoord'.\n",
      "      This affects roughly 5% of questions.\n",
      "\n",
      "    * The URLs mentioned are those that were actually used.  There are more, e.g. .pdf, .odt, html, and owms metadata\n",
      "\n",
      "\n",
      "    TODO:\n",
      "    * There are non-numbered questions in the XML, currently omitted - investigate\n",
      "    * summarize how complete this data is with its source in general\n",
      "    * there are mistakes in the XML we could fix (e.g. use of al instead of nr) \n",
      "    \n"
     ]
    }
   ],
   "source": [
    "print(kamervragen.description)"
   ]
  },
  {
   "attachments": {},
   "cell_type": "markdown",
   "metadata": {
    "id": "lHsZQrgKyUql"
   },
   "source": [
    "# Extract some questions and answers"
   ]
  },
  {
   "cell_type": "code",
   "execution_count": 4,
   "metadata": {
    "colab": {
     "base_uri": "https://localhost:8080/"
    },
    "id": "f7-TNdnXyAJV",
    "outputId": "cae6215e-739c-4c52-aae6-3dec76285da2"
   },
   "outputs": [
    {
     "name": "stdout",
     "output_type": "stream",
     "text": [
      "==== ah-tk-20122013-1615 ====\n",
      "Q1      Kent u de berichten «Werkstraf in plaats van tien weken cel»,\n",
      "        «Oudjaarstuig lacht om straf», en «Hufters overal\n",
      "        buitensluiten»?\n",
      "A1      Ja.\n",
      "\n",
      "Q2 3    Hoe beoordeelt u het door u zo bejubelde (super)snelrecht nu de\n",
      "        rechters veel lagere straffen opleggen dan door het Openbaar\n",
      "        Ministerie worden geëist?  Deelt u de mening dat dit een\n",
      "        schoffering is van de politieagenten die dit tuig arresteren?\n",
      "        Zo nee, waarom niet?\n",
      "A2 3    In de eerste week van januari 2013 hebben in totaal 16 verdachten zich\n",
      "        voor de supersnelrechter moeten verantwoorden. Van deze 16\n",
      "        zaken resulteerden 12 in een veroordeling en zijn 3 door de\n",
      "        rechter aangehouden omdat er nog getuigen moesten worden\n",
      "        gehoord. In één zaak werd de verdachte vrijgesproken. In 8 van\n",
      "        de 12 zaken waarin de rechter tot een veroordeling kwam,\n",
      "        betrof die veroordeling een (voorwaardelijke) gevangenisstraf,\n",
      "        variërend van enkele dagen tot 10 weken. In vijf zaken was het\n",
      "        vonnis van de rechter conform eis van het OM. Het OM is in\n",
      "        beroep gegaan tegen de beslissing van de Haagse Rechtbank in\n",
      "        de overige drie zaken. In twee daarvan legde het Hof net als\n",
      "        de politierechter werkstraffen op. In één zaak heeft het Hof\n",
      "        hoger gevonnist, en vrijwel conform de oorspronkelijke eis\n",
      "        vier weken gevangenisstraf opgelegd, waarvan twee weken\n",
      "        voorwaardelijk.\n",
      "\n",
      "Q4      Deelt u de mening dat het opleggen van lagere straffen ook geen enkele\n",
      "        preventieve werking heeft, waardoor ook de hulpverleners in de\n",
      "        steek worden gelaten? Zo nee, waarom niet?\n",
      "A4      Nee, het feit dat in een aantal zaken de door de rechter opgelegde\n",
      "        straffen lager waren dan door het OM geëist wil niet zeggen\n",
      "        dat er geen enkele preventieve werking van uit gaat. Het is\n",
      "        aan de rechter om, rekening houdend met de concrete\n",
      "        omstandigheden van het geval, een passende straf op te leggen.\n",
      "        In een aantal gevallen is het OM in hoger beroep gegaan.\n",
      "\n",
      "Q5      Deelt u de mening dat dit tuig, dat de Oudejaarsnacht voor iedereen\n",
      "        verpest, strenger gestraft moet worden? Zo nee, waarom niet?\n",
      "A5      Ja. Om deze reden verhoogt het OM consequent de strafeisen in zaken\n",
      "        die zijn begaan tijdens evenementen, waaronder de\n",
      "        jaarwisseling, met 75% en in het geval van geweld tegen\n",
      "        medewerkers met een publieke taak met 200%.\n",
      "\n",
      "Q6 7    Deelt u de mening dat de enige juiste straf een straf is die er voor\n",
      "        zorgt dat het tuig het de volgende keer wel uit het hoofd laat\n",
      "        om een misdrijf te plegen? Zo nee, waarom niet?  Deelt u de\n",
      "        mening dat het in dat kader, naast een hoge celstraf, een\n",
      "        goede straf zou zijn als het tuig de bermen en parken dient\n",
      "        schoon te maken, gekleed in een roze overall, omdat dit er wel\n",
      "        voor zorgt dat het geen tweede keer meer gebeurt dat ze over\n",
      "        de schreef gaan? Zo nee, waarom niet?\n",
      "A6 7    Ik vind dat forse straffen op hun plaats zijn voor geweld tegen\n",
      "        hulpverleners en misdragingen gepleegd tijdens de\n",
      "        jaarwisseling. Daarom gelden hiervoor de verhoogde strafeisen.\n",
      "        Het is verder aan het OM en de rechter om, rekening houdend\n",
      "        met de persoon van de dader en de omstandigheden waaronder het\n",
      "        feit is gepleegd, te bepalen welke straf(eis) in een concreet\n",
      "        geval passend is. Een taakstraf is daarbij een mogelijkheid.\n",
      "        Wat betreft de suggestie over het dragen van een roze overall\n",
      "        tijdens het uitvoeren van een taakstraf verwijs ik naar het\n",
      "        antwoord van de toenmalige Staatssecretaris van Justitie op\n",
      "        eerdere vragen hierover (Aanhangsel Handelingen, vergaderjaar\n",
      "        2008–2009, nr.\n",
      "\n"
     ]
    }
   ],
   "source": [
    "import textwrap, random\n",
    "\n",
    "doc_id, details = random.choice( list(kamervragen.data.items()) )\n",
    "\n",
    "print(f'==== {doc_id} ====')\n",
    "for question_number, question_and_answer in details['vraagdata'].items():\n",
    "    # note that these will be [plaintext, xmlfragment] # TODO improve this\n",
    "    question = question_and_answer['vraag']\n",
    "    answer   = question_and_answer['antwoord']\n",
    "\n",
    "    if question and answer:\n",
    "        # just print them in a somewhat nice-looking format:\n",
    "        q_wrapped = '\\n'.join(textwrap.wrap(question[0], subsequent_indent='        '))\n",
    "        a_wrapped = '\\n'.join(textwrap.wrap(answer[0], subsequent_indent='        '))\n",
    "        print(f'Q{question_number: <5}  {q_wrapped}\\nA{question_number: <5}  {a_wrapped}\\n')\n"
   ]
  },
  {
   "attachments": {},
   "cell_type": "markdown",
   "metadata": {
    "id": "1ZLXWaq-ynEM"
   },
   "source": [
    "# What does the metadata look like?"
   ]
  },
  {
   "cell_type": "code",
   "execution_count": 5,
   "metadata": {
    "colab": {
     "base_uri": "https://localhost:8080/",
     "height": 815
    },
    "id": "fbtMKz_JykaW",
    "outputId": "1592c1aa-3eb0-4460-bd21-ed9a1f8460b2"
   },
   "outputs": [
    {
     "data": {
      "text/html": [
       "<div>\n",
       "<style scoped>\n",
       "    .dataframe tbody tr th:only-of-type {\n",
       "        vertical-align: middle;\n",
       "    }\n",
       "\n",
       "    .dataframe tbody tr th {\n",
       "        vertical-align: top;\n",
       "    }\n",
       "\n",
       "    .dataframe thead th {\n",
       "        text-align: right;\n",
       "    }\n",
       "</style>\n",
       "<table border=\"1\" class=\"dataframe\">\n",
       "  <thead>\n",
       "    <tr style=\"text-align: right;\">\n",
       "      <th></th>\n",
       "      <th>urls</th>\n",
       "      <th>indiener</th>\n",
       "      <th>ontvanger</th>\n",
       "      <th>vergaderjaar</th>\n",
       "      <th>available</th>\n",
       "      <th>issued</th>\n",
       "      <th>type</th>\n",
       "      <th>category</th>\n",
       "      <th>identifier</th>\n",
       "      <th>vraagdata</th>\n",
       "    </tr>\n",
       "  </thead>\n",
       "  <tbody>\n",
       "    <tr>\n",
       "      <th>ah-tk-20152016-84</th>\n",
       "      <td>[https://repository.overheid.nl/frbr/officiele...</td>\n",
       "      <td>[T.E. Siderius]</td>\n",
       "      <td>[S. Dekker]</td>\n",
       "      <td>2015-2016</td>\n",
       "      <td>2015-09-22</td>\n",
       "      <td>2015-09-22</td>\n",
       "      <td>[officiële publicatie, Antwoord, Aanhangsel va...</td>\n",
       "      <td>Onderwijs en wetenschap | Organisatie en beleid</td>\n",
       "      <td>ah-tk-20152016-84</td>\n",
       "      <td>{'1': {'vraag': ['Hoe beoordeelt u de alarmere...</td>\n",
       "    </tr>\n",
       "    <tr>\n",
       "      <th>ah-tk-20112012-1688</th>\n",
       "      <td>[https://repository.overheid.nl/frbr/officiele...</td>\n",
       "      <td>[F. Bashir]</td>\n",
       "      <td>[M.H. Schultz van Haegen-Maas Geesteranus]</td>\n",
       "      <td>2011-2012</td>\n",
       "      <td>2012-03-01</td>\n",
       "      <td>2012-02-29</td>\n",
       "      <td>[officiële publicatie, Antwoord, Aanhangsel va...</td>\n",
       "      <td>Verkeer | Organisatie en beleid</td>\n",
       "      <td>ah-tk-20112012-1688</td>\n",
       "      <td>{'1': {'vraag': ['Klopt het dat het nuttigen v...</td>\n",
       "    </tr>\n",
       "    <tr>\n",
       "      <th>ah-tk-20102011-2757</th>\n",
       "      <td>[https://repository.overheid.nl/frbr/officiele...</td>\n",
       "      <td>[M.L. Thieme]</td>\n",
       "      <td>[M.J.M. Verhagen]</td>\n",
       "      <td>2010-2011</td>\n",
       "      <td>2011-06-16</td>\n",
       "      <td>2011-06-07</td>\n",
       "      <td>[officiële publicatie, Antwoord, Aanhangsel va...</td>\n",
       "      <td>Ruimte en infrastructuur | Netwerken</td>\n",
       "      <td>ah-tk-20102011-2757</td>\n",
       "      <td>{'1': {'vraag': ['Kent u het bericht «Roep om ...</td>\n",
       "    </tr>\n",
       "    <tr>\n",
       "      <th>ah-tk-20132014-1349</th>\n",
       "      <td>[https://repository.overheid.nl/frbr/officiele...</td>\n",
       "      <td>[C.J.E. Kooiman, J.M.A.M. de Wit]</td>\n",
       "      <td>[F. Teeven]</td>\n",
       "      <td>2013-2014</td>\n",
       "      <td>2014-03-11</td>\n",
       "      <td>2014-03-07</td>\n",
       "      <td>[officiële publicatie, Antwoord, Aanhangsel va...</td>\n",
       "      <td>Recht | Strafrecht</td>\n",
       "      <td>ah-tk-20132014-1349</td>\n",
       "      <td>{'1 5 6': {'vraag': ['Waarom zijn de regels om...</td>\n",
       "    </tr>\n",
       "    <tr>\n",
       "      <th>ah-tk-20192020-4064</th>\n",
       "      <td>[https://repository.overheid.nl/frbr/officiele...</td>\n",
       "      <td>[R.J. (Rudmer) Heerema]</td>\n",
       "      <td>[A. Slob]</td>\n",
       "      <td>2019-2020</td>\n",
       "      <td>2020-09-10</td>\n",
       "      <td>2020-09-09</td>\n",
       "      <td>[officiële publicatie, Antwoord, Aanhangsel va...</td>\n",
       "      <td>Onderwijs en wetenschap | Basisonderwijs</td>\n",
       "      <td>ah-tk-20192020-4064</td>\n",
       "      <td>{'1': {'vraag': ['Bent u bekend met het rappor...</td>\n",
       "    </tr>\n",
       "    <tr>\n",
       "      <th>...</th>\n",
       "      <td>...</td>\n",
       "      <td>...</td>\n",
       "      <td>...</td>\n",
       "      <td>...</td>\n",
       "      <td>...</td>\n",
       "      <td>...</td>\n",
       "      <td>...</td>\n",
       "      <td>...</td>\n",
       "      <td>...</td>\n",
       "      <td>...</td>\n",
       "    </tr>\n",
       "    <tr>\n",
       "      <th>ah-tk-20102011-2535</th>\n",
       "      <td>[https://repository.overheid.nl/frbr/officiele...</td>\n",
       "      <td>[C.J.E. Kooiman, R.M. Leijten]</td>\n",
       "      <td>[E.I. Schippers]</td>\n",
       "      <td>2010-2011</td>\n",
       "      <td>2011-05-26</td>\n",
       "      <td>2011-05-17</td>\n",
       "      <td>[officiële publicatie, Antwoord, Aanhangsel va...</td>\n",
       "      <td>Zorg en gezondheid | Organisatie en beleid</td>\n",
       "      <td>ah-tk-20102011-2535</td>\n",
       "      <td>{'1': {'vraag': ['Wat is uw reactie op het ber...</td>\n",
       "    </tr>\n",
       "    <tr>\n",
       "      <th>ah-tk-20112012-2692</th>\n",
       "      <td>[https://repository.overheid.nl/frbr/officiele...</td>\n",
       "      <td>[C.G. van der Staaij]</td>\n",
       "      <td>[F. Teeven, J.M. van Bijsterveldt-Vliegenthart]</td>\n",
       "      <td>2011-2012</td>\n",
       "      <td>2012-06-05</td>\n",
       "      <td>2012-06-04</td>\n",
       "      <td>[officiële publicatie, Antwoord, Aanhangsel va...</td>\n",
       "      <td>Cultuur en recreatie | Media</td>\n",
       "      <td>ah-tk-20112012-2692</td>\n",
       "      <td>{'1': {'vraag': ['Bent u bekend met de evaluat...</td>\n",
       "    </tr>\n",
       "    <tr>\n",
       "      <th>ah-tk-20132014-2353</th>\n",
       "      <td>[https://repository.overheid.nl/frbr/officiele...</td>\n",
       "      <td>[R.J. Klever]</td>\n",
       "      <td>[H.G.J. Kamp]</td>\n",
       "      <td>2013-2014</td>\n",
       "      <td>2014-07-02</td>\n",
       "      <td>2014-06-25</td>\n",
       "      <td>[officiële publicatie, Antwoord, Aanhangsel va...</td>\n",
       "      <td>Natuur en milieu | Energie</td>\n",
       "      <td>ah-tk-20132014-2353</td>\n",
       "      <td>{'1 2 3 4 5': {'vraag': ['Wat is uw reactie op...</td>\n",
       "    </tr>\n",
       "    <tr>\n",
       "      <th>ah-tk-20202021-4081</th>\n",
       "      <td>[https://repository.overheid.nl/frbr/officiele...</td>\n",
       "      <td>[M. van Nispen]</td>\n",
       "      <td>[F.B.J. Grapperhaus]</td>\n",
       "      <td>2020-2021</td>\n",
       "      <td>2021-09-20</td>\n",
       "      <td>2021-09-14</td>\n",
       "      <td>[officiële publicatie, Antwoord, Aanhangsel va...</td>\n",
       "      <td>Openbare orde en veiligheid | Politie, brandwe...</td>\n",
       "      <td>ah-tk-20202021-4081</td>\n",
       "      <td>{'1 3 4': {'vraag': ['Bent u bekend met het be...</td>\n",
       "    </tr>\n",
       "    <tr>\n",
       "      <th>ah-tk-20202021-1030</th>\n",
       "      <td>[https://repository.overheid.nl/frbr/officiele...</td>\n",
       "      <td>[H.S. Veldman]</td>\n",
       "      <td>[T. van Ark]</td>\n",
       "      <td>2020-2021</td>\n",
       "      <td>2020-12-17</td>\n",
       "      <td>2020-12-08</td>\n",
       "      <td>[officiële publicatie, Antwoord, Aanhangsel va...</td>\n",
       "      <td>Zorg en gezondheid | Organisatie en beleid</td>\n",
       "      <td>ah-tk-20202021-1030</td>\n",
       "      <td>{'1': {'vraag': ['Kent u het bericht «Sluiting...</td>\n",
       "    </tr>\n",
       "  </tbody>\n",
       "</table>\n",
       "<p>34832 rows × 10 columns</p>\n",
       "</div>"
      ],
      "text/plain": [
       "                                                                  urls  \\\n",
       "ah-tk-20152016-84    [https://repository.overheid.nl/frbr/officiele...   \n",
       "ah-tk-20112012-1688  [https://repository.overheid.nl/frbr/officiele...   \n",
       "ah-tk-20102011-2757  [https://repository.overheid.nl/frbr/officiele...   \n",
       "ah-tk-20132014-1349  [https://repository.overheid.nl/frbr/officiele...   \n",
       "ah-tk-20192020-4064  [https://repository.overheid.nl/frbr/officiele...   \n",
       "...                                                                ...   \n",
       "ah-tk-20102011-2535  [https://repository.overheid.nl/frbr/officiele...   \n",
       "ah-tk-20112012-2692  [https://repository.overheid.nl/frbr/officiele...   \n",
       "ah-tk-20132014-2353  [https://repository.overheid.nl/frbr/officiele...   \n",
       "ah-tk-20202021-4081  [https://repository.overheid.nl/frbr/officiele...   \n",
       "ah-tk-20202021-1030  [https://repository.overheid.nl/frbr/officiele...   \n",
       "\n",
       "                                              indiener  \\\n",
       "ah-tk-20152016-84                      [T.E. Siderius]   \n",
       "ah-tk-20112012-1688                        [F. Bashir]   \n",
       "ah-tk-20102011-2757                      [M.L. Thieme]   \n",
       "ah-tk-20132014-1349  [C.J.E. Kooiman, J.M.A.M. de Wit]   \n",
       "ah-tk-20192020-4064            [R.J. (Rudmer) Heerema]   \n",
       "...                                                ...   \n",
       "ah-tk-20102011-2535     [C.J.E. Kooiman, R.M. Leijten]   \n",
       "ah-tk-20112012-2692              [C.G. van der Staaij]   \n",
       "ah-tk-20132014-2353                      [R.J. Klever]   \n",
       "ah-tk-20202021-4081                    [M. van Nispen]   \n",
       "ah-tk-20202021-1030                     [H.S. Veldman]   \n",
       "\n",
       "                                                           ontvanger  \\\n",
       "ah-tk-20152016-84                                        [S. Dekker]   \n",
       "ah-tk-20112012-1688       [M.H. Schultz van Haegen-Maas Geesteranus]   \n",
       "ah-tk-20102011-2757                                [M.J.M. Verhagen]   \n",
       "ah-tk-20132014-1349                                      [F. Teeven]   \n",
       "ah-tk-20192020-4064                                        [A. Slob]   \n",
       "...                                                              ...   \n",
       "ah-tk-20102011-2535                                 [E.I. Schippers]   \n",
       "ah-tk-20112012-2692  [F. Teeven, J.M. van Bijsterveldt-Vliegenthart]   \n",
       "ah-tk-20132014-2353                                    [H.G.J. Kamp]   \n",
       "ah-tk-20202021-4081                             [F.B.J. Grapperhaus]   \n",
       "ah-tk-20202021-1030                                     [T. van Ark]   \n",
       "\n",
       "                    vergaderjaar   available      issued  \\\n",
       "ah-tk-20152016-84      2015-2016  2015-09-22  2015-09-22   \n",
       "ah-tk-20112012-1688    2011-2012  2012-03-01  2012-02-29   \n",
       "ah-tk-20102011-2757    2010-2011  2011-06-16  2011-06-07   \n",
       "ah-tk-20132014-1349    2013-2014  2014-03-11  2014-03-07   \n",
       "ah-tk-20192020-4064    2019-2020  2020-09-10  2020-09-09   \n",
       "...                          ...         ...         ...   \n",
       "ah-tk-20102011-2535    2010-2011  2011-05-26  2011-05-17   \n",
       "ah-tk-20112012-2692    2011-2012  2012-06-05  2012-06-04   \n",
       "ah-tk-20132014-2353    2013-2014  2014-07-02  2014-06-25   \n",
       "ah-tk-20202021-4081    2020-2021  2021-09-20  2021-09-14   \n",
       "ah-tk-20202021-1030    2020-2021  2020-12-17  2020-12-08   \n",
       "\n",
       "                                                                  type  \\\n",
       "ah-tk-20152016-84    [officiële publicatie, Antwoord, Aanhangsel va...   \n",
       "ah-tk-20112012-1688  [officiële publicatie, Antwoord, Aanhangsel va...   \n",
       "ah-tk-20102011-2757  [officiële publicatie, Antwoord, Aanhangsel va...   \n",
       "ah-tk-20132014-1349  [officiële publicatie, Antwoord, Aanhangsel va...   \n",
       "ah-tk-20192020-4064  [officiële publicatie, Antwoord, Aanhangsel va...   \n",
       "...                                                                ...   \n",
       "ah-tk-20102011-2535  [officiële publicatie, Antwoord, Aanhangsel va...   \n",
       "ah-tk-20112012-2692  [officiële publicatie, Antwoord, Aanhangsel va...   \n",
       "ah-tk-20132014-2353  [officiële publicatie, Antwoord, Aanhangsel va...   \n",
       "ah-tk-20202021-4081  [officiële publicatie, Antwoord, Aanhangsel va...   \n",
       "ah-tk-20202021-1030  [officiële publicatie, Antwoord, Aanhangsel va...   \n",
       "\n",
       "                                                              category  \\\n",
       "ah-tk-20152016-84      Onderwijs en wetenschap | Organisatie en beleid   \n",
       "ah-tk-20112012-1688                    Verkeer | Organisatie en beleid   \n",
       "ah-tk-20102011-2757               Ruimte en infrastructuur | Netwerken   \n",
       "ah-tk-20132014-1349                                 Recht | Strafrecht   \n",
       "ah-tk-20192020-4064           Onderwijs en wetenschap | Basisonderwijs   \n",
       "...                                                                ...   \n",
       "ah-tk-20102011-2535         Zorg en gezondheid | Organisatie en beleid   \n",
       "ah-tk-20112012-2692                       Cultuur en recreatie | Media   \n",
       "ah-tk-20132014-2353                         Natuur en milieu | Energie   \n",
       "ah-tk-20202021-4081  Openbare orde en veiligheid | Politie, brandwe...   \n",
       "ah-tk-20202021-1030         Zorg en gezondheid | Organisatie en beleid   \n",
       "\n",
       "                              identifier  \\\n",
       "ah-tk-20152016-84      ah-tk-20152016-84   \n",
       "ah-tk-20112012-1688  ah-tk-20112012-1688   \n",
       "ah-tk-20102011-2757  ah-tk-20102011-2757   \n",
       "ah-tk-20132014-1349  ah-tk-20132014-1349   \n",
       "ah-tk-20192020-4064  ah-tk-20192020-4064   \n",
       "...                                  ...   \n",
       "ah-tk-20102011-2535  ah-tk-20102011-2535   \n",
       "ah-tk-20112012-2692  ah-tk-20112012-2692   \n",
       "ah-tk-20132014-2353  ah-tk-20132014-2353   \n",
       "ah-tk-20202021-4081  ah-tk-20202021-4081   \n",
       "ah-tk-20202021-1030  ah-tk-20202021-1030   \n",
       "\n",
       "                                                             vraagdata  \n",
       "ah-tk-20152016-84    {'1': {'vraag': ['Hoe beoordeelt u de alarmere...  \n",
       "ah-tk-20112012-1688  {'1': {'vraag': ['Klopt het dat het nuttigen v...  \n",
       "ah-tk-20102011-2757  {'1': {'vraag': ['Kent u het bericht «Roep om ...  \n",
       "ah-tk-20132014-1349  {'1 5 6': {'vraag': ['Waarom zijn de regels om...  \n",
       "ah-tk-20192020-4064  {'1': {'vraag': ['Bent u bekend met het rappor...  \n",
       "...                                                                ...  \n",
       "ah-tk-20102011-2535  {'1': {'vraag': ['Wat is uw reactie op het ber...  \n",
       "ah-tk-20112012-2692  {'1': {'vraag': ['Bent u bekend met de evaluat...  \n",
       "ah-tk-20132014-2353  {'1 2 3 4 5': {'vraag': ['Wat is uw reactie op...  \n",
       "ah-tk-20202021-4081  {'1 3 4': {'vraag': ['Bent u bekend met het be...  \n",
       "ah-tk-20202021-1030  {'1': {'vraag': ['Kent u het bericht «Sluiting...  \n",
       "\n",
       "[34832 rows x 10 columns]"
      ]
     },
     "execution_count": 5,
     "metadata": {},
     "output_type": "execute_result"
    }
   ],
   "source": [
    "import pandas   # pandas is a nice way to inspect and alter tabular data\n",
    "df = pandas.DataFrame.from_dict(kamervragen.data, orient='index')\n",
    "df"
   ]
  },
  {
   "cell_type": "code",
   "execution_count": 6,
   "metadata": {
    "colab": {
     "base_uri": "https://localhost:8080/"
    },
    "id": "VXrNhkoKyorY",
    "outputId": "8ad6ca62-8571-4440-8692-5a29209ce2b0"
   },
   "outputs": [
    {
     "data": {
      "text/plain": [
       "Zorg en gezondheid | Organisatie en beleid             2586\n",
       "Openbare orde en veiligheid | Criminaliteit            1409\n",
       "Internationaal | Organisatie en beleid                 1393\n",
       "Openbare orde en veiligheid | Organisatie en beleid    1217\n",
       "Recht | Staatsrecht                                     818\n",
       "                                                       ... \n",
       "Migratie en integratie | Emigratie                       16\n",
       "Recht | Bestuursrecht                                    15\n",
       "Sociale zekerheid | Nabestaanden                         12\n",
       "Economie | Toerisme                                      11\n",
       "Werk | Levensloop                                         8\n",
       "Name: category, Length: 111, dtype: int64"
      ]
     },
     "execution_count": 6,
     "metadata": {},
     "output_type": "execute_result"
    }
   ],
   "source": [
    "df['category'].value_counts()"
   ]
  },
  {
   "cell_type": "code",
   "execution_count": 7,
   "metadata": {
    "colab": {
     "base_uri": "https://localhost:8080/",
     "height": 411
    },
    "id": "RHIBLErByp2w",
    "outputId": "99a9114c-1edf-4678-acc7-d296a548ef49"
   },
   "outputs": [
    {
     "data": {
      "text/plain": [
       "<matplotlib.axes._subplots.AxesSubplot at 0x7fddddc78bb0>"
      ]
     },
     "execution_count": 7,
     "metadata": {},
     "output_type": "execute_result"
    },
    {
     "data": {
      "image/png": "[encoded data removed]",
      "text/plain": [
       "<Figure size 2800x500 with 1 Axes>"
      ]
     },
     "metadata": {},
     "output_type": "display_data"
    }
   ],
   "source": [
    "df['date'] = pandas.to_datetime(df['available'])\n",
    "df['date'].groupby(\n",
    "    [df[\"date\"].dt.year, df[\"date\"].dt.month]\n",
    ").count().plot(kind=\"bar\", figsize=(28,5), title='Questions per month')\n",
    "# CONSIDER: nicer month names"
   ]
  },
  {
   "cell_type": "code",
   "execution_count": null,
   "metadata": {
    "id": "PfV0phvuyrWQ"
   },
   "outputs": [],
   "source": []
  }
 ],
 "metadata": {
  "colab": {
   "authorship_tag": "ABX9TyO+5TnRPxrWr55PNGdM9+C2",
   "include_colab_link": true,
   "provenance": []
  },
  "kernelspec": {
   "display_name": "Python 3",
   "name": "python3"
  },
  "language_info": {
   "codemirror_mode": {
    "name": "ipython",
    "version": 3
   },
   "file_extension": ".py",
   "mimetype": "text/x-python",
   "name": "python",
   "nbconvert_exporter": "python",
   "pygments_lexer": "ipython3",
   "version": "3.8.10"
  }
 },
 "nbformat": 4,
 "nbformat_minor": 0
}
