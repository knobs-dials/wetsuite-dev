{
 "cells": [
  {
   "attachments": {},
   "cell_type": "markdown",
   "metadata": {},
   "source": [
    "# Purpose of this notebook\n",
    "\n",
    "Explain why we make datasets, and give a basic introduction-by-example of how to start using them.\n",
    "\n",
    "Considered advanced intro not because it's overly complex, but because with a little luck you don't have to dive into these lower levels of detail.\n"
   ]
  },
  {
   "cell_type": "markdown",
   "metadata": {},
   "source": [
    "## Why datasets\n",
    "\n",
    "The most up to date information may be to fetch data directly from the source, \n",
    "but this is also often more clunkier to get a larger and/or more precise set of documents.\n",
    "\n",
    "- fetching data via a website may be too clunky, particularly if it is not made for it (and most aren't)\n",
    "\n",
    "- fetching data via code may present too large of a technical learning curve\n",
    "  - even if we ease that, sites may not allow the type of browsing/searching you may need for your purposes \n",
    "    - e.g. any metadata field that isn't made searchable\n",
    "    - or maybe a workaround exists, but is awkward and/or technically complex again (see e.g. the convoluted damocles search)\n",
    "\n",
    "- not all sources make it easy to fetch the result in the\n",
    "\n",
    "- not all sources make it easy to collect\n",
    "\n",
    "- sometimes collecting is very slow\n",
    "\n",
    "\n",
    "Also, \n",
    "- it might be valuable to share sub-datasets you've collected -- or at the very least share the way you've collected"
   ]
  },
  {
   "cell_type": "code",
   "execution_count": 26,
   "metadata": {},
   "outputs": [
    {
     "data": {
      "text/plain": [
       "['rvsadviezen-struc',\n",
       " 'kamervragen-struc',\n",
       " 'bwb-mostrecent-xml',\n",
       " 'bwb-mostrecent-meta',\n",
       " 'bwb-mostrecent-text',\n",
       " 'cvdr-mostrecent-xml',\n",
       " 'cvdr-mostrecent-meta',\n",
       " 'cvdr-mostrecent-text',\n",
       " 'woo-besluiten-meta',\n",
       " 'woo-besluiten-text',\n",
       " 'kansspelautoriteit-sancties-txt',\n",
       " 'gemeentes',\n",
       " 'wetnamen',\n",
       " 'tweedekamer-fracties-struc',\n",
       " 'tweedekamer-fracties-membership-struc']"
      ]
     },
     "execution_count": 26,
     "metadata": {},
     "output_type": "execute_result"
    }
   ],
   "source": [
    "import wetsuite.datasets\n",
    "\n",
    "wetsuite.datasets.list_datasets()"
   ]
  },
  {
   "cell_type": "code",
   "execution_count": 23,
   "metadata": {},
   "outputs": [
    {
     "name": "stdout",
     "output_type": "stream",
     "text": [
      "rvsadviezen-struc              The advice under https://raadvanstate.nl/adviezen/ provided as plain text in a nested structure with metadata. \n",
      "                                 <wetsuite.datasets.Dataset name='rvsadviezen-struc' num_items=2>\n",
      "kamervragen-struc              Questions from ministers to the government. Provided as a nested data structure.\n",
      "                                 <wetsuite.datasets.Dataset name='kamervragen-struc' num_items=34832>\n",
      "bwb-mostrecent-xml             The latest revision from each BWB-id\n",
      "                                 <wetsuite.datasets.Dataset name='bwb-mostrecent-xml' num_items=36906>\n",
      "bwb-mostrecent-meta            The latest revision from each BWB-id\n",
      "                                 <wetsuite.datasets.Dataset name='bwb-mostrecent-meta' num_items=36906>\n",
      "bwb-mostrecent-text            The latest revision from each BWB-id\n",
      "                                 <wetsuite.datasets.Dataset name='bwb-mostrecent-text' num_items=36906>\n",
      "cvdr-mostrecent-xml            The latest expression from each CVDR work\n",
      "                                 <wetsuite.datasets.Dataset name='cvdr-mostrecent-xml' num_items=149432>\n",
      "cvdr-mostrecent-meta           The latest expression from each CVDR work\n",
      "                                 <wetsuite.datasets.Dataset name='cvdr-mostrecent-meta' num_items=149432>\n",
      "cvdr-mostrecent-text           The latest expression from each CVDR work\n",
      "                                 <wetsuite.datasets.Dataset name='cvdr-mostrecent-text' num_items=149432>\n",
      "woo-besluiten-meta             \n",
      "                                 <wetsuite.datasets.Dataset name='woo-besluiten-meta' num_items=2542>\n",
      "woo-besluiten-text             \n",
      "                                 <wetsuite.datasets.Dataset name='woo-besluiten-text' num_items=2339>\n",
      "kansspelautoriteit-sancties-txt Sanction decisions, in plain text, extracted from from the case PDFs under https://kansspelautoriteit.nl/aanpak-misstanden/sanctiebesluiten/\n",
      "                                 <wetsuite.datasets.Dataset name='kansspelautoriteit-sancties-txt' num_items=92>\n",
      "gemeentes                      List of municipalities, and some basic information about them.\n",
      "                                 <wetsuite.datasets.Dataset name='gemeentes' num_items=342>\n",
      "wetnamen                       Some more and less official name variants that are used to refer to laws.\n",
      "                                 <wetsuite.datasets.Dataset name='wetnamen' num_items=37336>\n",
      "tweedekamer-fracties-struc     \n",
      "                                 <wetsuite.datasets.Dataset name='tweedekamer-fracties-struc' num_items=54>\n",
      "tweedekamer-fracties-membership-struc \n",
      "                                 <wetsuite.datasets.Dataset name='tweedekamer-fracties-membership-struc' num_items=634>\n"
     ]
    }
   ],
   "source": [
    "for name, details in wetsuite.datasets.fetch_index().items():\n",
    "    print( '%-30s %s'%(name, details['short_description']) )\n",
    "    print( '                                ',wetsuite.datasets.load(name) )  # download and load all (also a test whether their download is not broken)"
   ]
  },
  {
   "cell_type": "code",
   "execution_count": 27,
   "metadata": {},
   "outputs": [],
   "source": [
    "xml  = wetsuite.datasets.load('cvdr-mostrecent-xml')\n",
    "meta = wetsuite.datasets.load('cvdr-mostrecent-meta')\n",
    "text = wetsuite.datasets.load('cvdr-mostrecent-text')"
   ]
  },
  {
   "cell_type": "code",
   "execution_count": 30,
   "metadata": {},
   "outputs": [],
   "source": [
    "#reload( wetsuite.datasets )\n",
    "#meta = wetsuite.datasets.load('cvdr-mostrecent-meta')\n",
    "#meta.save(in_dir='/tmp/t')\n",
    "\n",
    "#xml  = wetsuite.datasets.load('cvdr-mostrecent-xml')\n",
    "#xml.save(in_dir='/tmp/t')\n",
    "\n",
    "#merged = wetsuite.datasets.load('cvdr-mostrecent-*')\n",
    "#help(merged)"
   ]
  },
  {
   "cell_type": "markdown",
   "metadata": {},
   "source": [
    "Aside: We have an ongoing discussion of how to provide more varied data without making life harder for you. \n",
    "\n",
    "For example, in theory the -xml would be enough, in that -meta and -text are only a handful of extra function calls away,\n",
    "but making you do that is an unnecessary hurdle.\n",
    "\n",
    "Providing these in a merged, composite way, e.g. with dataset items providing attributes like\n",
    "item.xml/item.raw, item.metadata, item.text would be -  confusing that they differ per dataset, \n",
    "and but might be inflexible and confusing in the long run in that datasets _or_ code changing is likely to breaks all previous uses.\n",
    "\n",
    "So for now, we provide distinct datasets for different views on the same data,\n",
    "which also means you have at least some chance of loding this data in non-python other contexts."
   ]
  },
  {
   "cell_type": "markdown",
   "metadata": {},
   "source": [
    "## Example datasets\n",
    "\n",
    "There are some more targeted examples, including\n",
    "\n",
    "* `cvdr-`\n",
    "\n",
    "* `bwb-`\n",
    "\n",
    "* `kansspelautoriteit-sancties-txt` and ``: [using_dataset_kansspelautoriteit notebook](using_dataset_kansspelautoriteit.ipynb)\n",
    "\n",
    "* `tweedekamer-fracties-struc` and `tweedekamer-fracties-membership-struc`: [using_dataset_tweedekamer notebook](using_dataset_tweedekamer.ipynb)\n",
    "\n",
    "* `woobesluit`: [using_dataset_woobesluit notebook](using_dataset_woobesluit.ipynb)\n",
    "\n",
    "\n",
    "And some things that are little more than lists, including\n",
    "* `gemeentes`: [using_dataset_gemeentes notebook](using_dataset_gemeentes.ipynb)\n",
    "\n",
    "* `wetnamen`: [using_dataset_wetnamen notebook](using_dataset_wetnamen.ipynb)\n",
    "\n"
   ]
  },
  {
   "cell_type": "markdown",
   "metadata": {},
   "source": []
  }
 ],
 "metadata": {
  "kernelspec": {
   "display_name": "Python 3",
   "language": "python",
   "name": "python3"
  },
  "language_info": {
   "codemirror_mode": {
    "name": "ipython",
    "version": 3
   },
   "file_extension": ".py",
   "mimetype": "text/x-python",
   "name": "python",
   "nbconvert_exporter": "python",
   "pygments_lexer": "ipython3",
   "version": "3.8.10"
  },
  "vscode": {
   "interpreter": {
    "hash": "31f2aee4e71d21fbe5cf8b01ff0e069b9275f58929596ceb00d14d90e3e16cd6"
   }
  }
 },
 "nbformat": 4,
 "nbformat_minor": 4
}
