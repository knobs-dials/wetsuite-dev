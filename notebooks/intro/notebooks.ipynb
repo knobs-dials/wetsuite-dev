{
 "cells": [
  {
   "cell_type": "markdown",
   "metadata": {},
   "source": [
    "<a href=\"https://colab.research.google.com/github/scarfboy/wetsuite-dev/blob/main/notebooks/intro/notebooks.ipynb\" target=\"_parent\"><img src=\"https://colab.research.google.com/assets/colab-badge.svg\" alt=\"Open In Colab\"/></a>"
   ]
  },
  {
   "cell_type": "markdown",
   "metadata": {},
   "source": [
    "# Purpose of this notebook\n",
    "\n",
    "Give a brief and not-so-brief introduction of what python notebooks are, and why they may be useful for you."
   ]
  },
  {
   "cell_type": "markdown",
   "metadata": {},
   "source": [
    "## Introduction by example\n",
    "\n",
    "What does this give me?"
   ]
  },
  {
   "cell_type": "code",
   "execution_count": null,
   "metadata": {},
   "outputs": [],
   "source": [
    "# For local installs you can install the wetsuite package once.\n",
    "# In colab you get a disposable environment each time,  and will have to start with this install each time. \n",
    "!pip3 --quiet install -U https://github.com/scarfboy/wetsuite-dev/archive/refs/heads/main.zip"
   ]
  },
  {
   "cell_type": "code",
   "execution_count": 34,
   "metadata": {},
   "outputs": [
    {
     "name": "stdout",
     "output_type": "stream",
     "text": [
      "Groene/ADJ  kaas/NOUN  is/AUX  sterk/ADJ  "
     ]
    }
   ],
   "source": [
    "# Spacy is a NLP package that analyses text into its basic interpretation  (more on it in a separate notebook)\n",
    "import spacy\n",
    "\n",
    "dutch_parser = spacy.load('nl_core_news_sm')     # load a specific language model,\n",
    "analysed = dutch_parser(\"Groene kaas is sterk\")   # give it a sentence,\n",
    "for token in analysed:                            # have it say (some) of what each piece is.\n",
    "    print('%s/%s  '%(token.text, token.pos_), end='')"
   ]
  },
  {
   "cell_type": "code",
   "execution_count": 4,
   "metadata": {},
   "outputs": [
    {
     "data": {
      "text/plain": [
       "<matplotlib.axes._subplots.AxesSubplot at 0x7fe54be74160>"
      ]
     },
     "metadata": {},
     "output_type": "display_data"
    },
    {
     "data": {
      "image/png": "[encoded data removed]",
      "text/plain": [
       "<Figure size 640x480 with 1 Axes>"
      ]
     },
     "metadata": {},
     "output_type": "display_data"
    }
   ],
   "source": [
    "# Notebooks make visualisation easier, of data and of results\n",
    "import matplotlib.pyplot, random\n",
    "\n",
    "fig, ax = matplotlib.pyplot.subplots()\n",
    "ax.plot([1,2,3,4],\n",
    "        [1,4,9,1])\n",
    "ax.set_title('some data')\n",
    "\n",
    "display(ax)  # display() exists (only) in these notebook environments"
   ]
  },
  {
   "cell_type": "markdown",
   "metadata": {},
   "source": [
    "Also, do a search for '[matplotlib gallery](https://matplotlib.org/stable/gallery/index.html)' to see further plots peope made.\n",
    "And also consider the somewhat more advanced seaborn - and similarly look for '[seaborn gallery](https://seaborn.pydata.org/examples/index.html)'\n"
   ]
  },
  {
   "cell_type": "code",
   "execution_count": 5,
   "metadata": {},
   "outputs": [
    {
     "data": {
      "text/html": [
       "<div>\n",
       "<style scoped>\n",
       "    .dataframe tbody tr th:only-of-type {\n",
       "        vertical-align: middle;\n",
       "    }\n",
       "\n",
       "    .dataframe tbody tr th {\n",
       "        vertical-align: top;\n",
       "    }\n",
       "\n",
       "    .dataframe thead th {\n",
       "        text-align: right;\n",
       "    }\n",
       "</style>\n",
       "<table border=\"1\" class=\"dataframe\">\n",
       "  <thead>\n",
       "    <tr style=\"text-align: right;\">\n",
       "      <th></th>\n",
       "      <th>pickup</th>\n",
       "      <th>dropoff</th>\n",
       "      <th>passengers</th>\n",
       "      <th>distance</th>\n",
       "      <th>fare</th>\n",
       "      <th>tip</th>\n",
       "      <th>tolls</th>\n",
       "      <th>total</th>\n",
       "      <th>color</th>\n",
       "      <th>payment</th>\n",
       "      <th>pickup_zone</th>\n",
       "      <th>dropoff_zone</th>\n",
       "      <th>pickup_borough</th>\n",
       "      <th>dropoff_borough</th>\n",
       "    </tr>\n",
       "  </thead>\n",
       "  <tbody>\n",
       "    <tr>\n",
       "      <th>0</th>\n",
       "      <td>2019-03-23 20:21:09</td>\n",
       "      <td>2019-03-23 20:27:24</td>\n",
       "      <td>1</td>\n",
       "      <td>1.60</td>\n",
       "      <td>7.0</td>\n",
       "      <td>2.15</td>\n",
       "      <td>0.0</td>\n",
       "      <td>12.95</td>\n",
       "      <td>yellow</td>\n",
       "      <td>credit card</td>\n",
       "      <td>Lenox Hill West</td>\n",
       "      <td>UN/Turtle Bay South</td>\n",
       "      <td>Manhattan</td>\n",
       "      <td>Manhattan</td>\n",
       "    </tr>\n",
       "    <tr>\n",
       "      <th>1</th>\n",
       "      <td>2019-03-04 16:11:55</td>\n",
       "      <td>2019-03-04 16:19:00</td>\n",
       "      <td>1</td>\n",
       "      <td>0.79</td>\n",
       "      <td>5.0</td>\n",
       "      <td>0.00</td>\n",
       "      <td>0.0</td>\n",
       "      <td>9.30</td>\n",
       "      <td>yellow</td>\n",
       "      <td>cash</td>\n",
       "      <td>Upper West Side South</td>\n",
       "      <td>Upper West Side South</td>\n",
       "      <td>Manhattan</td>\n",
       "      <td>Manhattan</td>\n",
       "    </tr>\n",
       "    <tr>\n",
       "      <th>2</th>\n",
       "      <td>2019-03-27 17:53:01</td>\n",
       "      <td>2019-03-27 18:00:25</td>\n",
       "      <td>1</td>\n",
       "      <td>1.37</td>\n",
       "      <td>7.5</td>\n",
       "      <td>2.36</td>\n",
       "      <td>0.0</td>\n",
       "      <td>14.16</td>\n",
       "      <td>yellow</td>\n",
       "      <td>credit card</td>\n",
       "      <td>Alphabet City</td>\n",
       "      <td>West Village</td>\n",
       "      <td>Manhattan</td>\n",
       "      <td>Manhattan</td>\n",
       "    </tr>\n",
       "  </tbody>\n",
       "</table>\n",
       "</div>"
      ],
      "text/plain": [
       "                pickup              dropoff  passengers  distance  fare   tip  \\\n",
       "0  2019-03-23 20:21:09  2019-03-23 20:27:24           1      1.60   7.0  2.15   \n",
       "1  2019-03-04 16:11:55  2019-03-04 16:19:00           1      0.79   5.0  0.00   \n",
       "2  2019-03-27 17:53:01  2019-03-27 18:00:25           1      1.37   7.5  2.36   \n",
       "\n",
       "   tolls  total   color      payment            pickup_zone  \\\n",
       "0    0.0  12.95  yellow  credit card        Lenox Hill West   \n",
       "1    0.0   9.30  yellow         cash  Upper West Side South   \n",
       "2    0.0  14.16  yellow  credit card          Alphabet City   \n",
       "\n",
       "            dropoff_zone pickup_borough dropoff_borough  \n",
       "0    UN/Turtle Bay South      Manhattan       Manhattan  \n",
       "1  Upper West Side South      Manhattan       Manhattan  \n",
       "2           West Village      Manhattan       Manhattan  "
      ]
     },
     "metadata": {},
     "output_type": "display_data"
    }
   ],
   "source": [
    "import seaborn, pandas    # pandas to load into a table of sorts, seaborn to give us some example data\n",
    "\n",
    "# seaborn.get_dataset_names()\n",
    "display( seaborn.load_dataset('taxis')[:3] ) # returns a pandas dataframe,   which gets shown as a table"
   ]
  },
  {
   "cell_type": "code",
   "execution_count": null,
   "metadata": {},
   "outputs": [],
   "source": [
    "!pip3 --quiet --no-cache-dir install https://github.com/scarfboy/wetsuite-dev/archive/refs/heads/main.zip\n",
    "# (if on colab, run this first)"
   ]
  },
  {
   "cell_type": "code",
   "execution_count": 11,
   "metadata": {},
   "outputs": [
    {
     "data": {
      "text/plain": [
       "{'urls': ['https://repository.overheid.nl/frbr/officielepublicaties/ah-tk/20152016/ah-tk-20152016-1021/1/metadata/metadata.xml',\n",
       "  'https://repository.overheid.nl/frbr/officielepublicaties/ah-tk/20152016/ah-tk-20152016-1021/1/xml/ah-tk-20152016-1021.xml'],\n",
       " 'indiener': ['B.G. de Boer'],\n",
       " 'ontvanger': ['S.A.M. Dijksma'],\n",
       " 'vergaderjaar': '2015-2016',\n",
       " 'available': '2016-01-05',\n",
       " 'issued': '2015-12-05',\n",
       " 'type': ['officiële publicatie', 'Antwoord', 'Aanhangsel van de Handelingen'],\n",
       " 'category': 'Verkeer | Spoor',\n",
       " 'identifier': 'ah-tk-20152016-1021',\n",
       " 'vraagdata': {'1': {'vraag': ['Heeft u kennisgenomen van het artikel «Adieu Apekop»!?',\n",
       "    '<vraag>\\n      <nr status=\"officieel\">Vraag 1</nr>\\n      <al>Heeft u kennisgenomen van het artikel «Adieu Apekop»!?<noot id=\"n1\" type=\"voet\"><noot.nr>1</noot.nr><noot.al>De Telegraaf, 10\\xa0oktober 2015</noot.al><noot.al>(<extref soort=\"URL\" doc=\"http://www.telegraaf.nl/reportage/24600417/__Adieu_Apekop___.html\" status=\"actief\">http://www.telegraaf.nl/reportage/24600417/__Adieu_Apekop___.html</extref>)</noot.al></noot></al>\\n    </vraag>\\n    '],\n",
       "   'antwoord': ['Ja.',\n",
       "    '<antwoord>\\n      <nr status=\"officieel\">Antwoord 1</nr>\\n      <al>Ja.</al>\\n    </antwoord>\\n    ']},\n",
       "  '2': {'vraag': ['Bent u in kennis gesteld van het besluit dat de Mat 64 als treintype uit de roulatie wordt gehaald? Waarom is hiertoe besloten? Om hoeveel treinen gaat het? Hoeveel zitplaatsen betekent dat en op welke trajecten worden hoeveel minder treinen ingezet? Hoelang duurt het voordat het tekort is ingelopen? Welke hinder ondervindt de reiziger? Is het technisch mogelijk om de treinen langer te laten rijden totdat de nieuwe treinen er zijn? Zou de laatste optie beter zijn voor de reiziger? Wat is de afweging geweest?',\n",
       "    '<vraag>\\n      <nr status=\"officieel\">Vraag 2</nr>\\n      <al>Bent u in kennis gesteld van het besluit dat de Mat 64 als treintype uit de roulatie wordt gehaald? Waarom is hiertoe besloten? Om hoeveel treinen gaat het? Hoeveel zitplaatsen betekent dat en op welke trajecten worden hoeveel minder treinen ingezet? Hoelang duurt het voordat het tekort is ingelopen? Welke hinder ondervindt de reiziger? Is het technisch mogelijk om de treinen langer te laten rijden totdat de nieuwe treinen er zijn? Zou de laatste optie beter zijn voor de reiziger? Wat is de afweging geweest?</al>\\n    </vraag>\\n    '],\n",
       "   'antwoord': ['De Mat’ 64 rijdt inmiddels al zo’n vijftig jaar rond en is afgeschreven. Naar aanleiding van de ontsporing bij Teuge op 22 maart 2015 en een signaal van de ILT daarover heeft NS mij geïnformeerd dat de laatste treinstellen van dit materieeltype eind 2015 (per start dienstregeling 2016) niet langer planmatige ingezet zullen worden. Dit is tevens, inclusief de overwegingen, gemeld aan uw Kamer op 29 april 2015 (Kamerstuk \\n\\nDe door NS gehanteerde revisietermijnen van de laatste treinstellen Mat’64 lopen in 2016 af. Aan het einde van dienstregeling 2015 (december 2015) waren er nog 31 treinstellen van het type Mat’64 waarvan er nog 24 treinstellen in dienst waren. Daarvan verliep van 2 treinstellen de revisietermijn eind 2015. Van het overgrote merendeel (20) gebeurt dat in het voorjaar van 2016 en van de overige treinstellen gespreid in de loop van 2016. Het verlengen van de levensduur van het verouderde Mat ’64 materieel of doorrijden met Mat ’64 tot het einde van de door NS gehanteerde revisietermijn is voor NS om meerdere redenen niet gewenst.\\n\\nTen eerste verzet het veiligheidsmanagementsysteem (VMS) van NS zich tegen langer doorrijden met de Mat’64. In het VMS zijn zorgvuldig onderbouwde revisietermijnen van materieel opgenomen. ILT ziet er op toe dat NS haar eigen VMS naleeft. Als de Mat ’64 langer in dienst blijft, is een revisie noodzakelijk, waarbij opnieuw bezien moet worden aan welke actuele technische specificaties de treinstellen moeten voldoen.\\n\\nDaarbij geeft NS aan dat onderhoud niet meer mogelijk is doordat noodzakelijke reserveonderdelen om defecten te kunnen herstellen niet of nauwelijks meer verkrijgbaar zijn. Op dit moment worden al onderdelen van andere Mat’64 stellen gebruikt om de andere treinstellen operationeel te houden.\\n\\nZou revisie wel tot de mogelijkheden behoren dan nog zou er, zo geeft NS aan, onvoldoende capaciteit beschikbaar zijn in de werkplaatsen voor deze revisie, omdat deze capaciteit nodig is om geen vertraging te veroorzaken bij ingepland onderhoud en voorbereiding van de instroom van de nieuwe Sprinters vanaf december 2016.\\n\\nTot slot geeft NS aan dat het langer doorrijden met de laatste treinstellen Mat’64 ten koste gaat van de robuustheid en voorspelbaarheid van de dienstregeling.\\n\\nDe combinatie van dit alles heeft NS doen besluiten per dienstregeling 2016 (december 2015) alle nog resterende Mat’64 treinen uit actieve dienst te nemen.\\n\\nDe capaciteit van 24 treinstellen die begin december 2015 nog in dienst waren betrof circa 3600 zitplaatsen.\\n\\nNS houdt een aantal van deze treinstellen tot 1 april 2016 wel als reservematerieel aan om in te zetten bij incidenten. Dit is mogelijk zolang de revisietermijnen niet verlopen zijn. Langer inzetten is volgens NS om hiervoor genoemde aspecten niet mogelijk. Dit is onderdeel van het maatregelenpakket van NS. In een separate brief licht ik het maatregelenpakket van NS nader toe.',\n",
       "    '<antwoord>\\n      <nr status=\"officieel\">Antwoord 2</nr>\\n      <al>De Mat’ 64 rijdt inmiddels al zo’n vijftig jaar rond en is afgeschreven. Naar aanleiding van de ontsporing bij Teuge op 22\\xa0maart 2015 en een signaal van de ILT daarover heeft NS mij geïnformeerd dat de laatste treinstellen van dit materieeltype eind 2015 (per start dienstregeling 2016) niet langer planmatige ingezet zullen worden. Dit is tevens, inclusief de overwegingen, gemeld aan uw Kamer op 29\\xa0april 2015 (Kamerstuk <extref doc=\"kst-29893-189\" soort=\"document\" status=\"actief\">29\\xa0893, nr. 189</extref>).</al>\\n      <al>De door NS gehanteerde revisietermijnen van de laatste treinstellen Mat’64 lopen in 2016 af. Aan het einde van dienstregeling 2015 (december 2015) waren er nog 31 treinstellen van het type Mat’64 waarvan er nog 24 treinstellen in dienst waren. Daarvan verliep van 2 treinstellen de revisietermijn eind 2015. Van het overgrote merendeel (20) gebeurt dat in het voorjaar van 2016 en van de overige treinstellen gespreid in de loop van 2016. Het verlengen van de levensduur van het verouderde Mat ’64 materieel of doorrijden met Mat ’64 tot het einde van de door NS gehanteerde revisietermijn is voor NS om meerdere redenen niet gewenst.</al>\\n      <al>Ten eerste verzet het veiligheidsmanagementsysteem (VMS) van NS zich tegen langer doorrijden met de Mat’64. In het VMS zijn zorgvuldig onderbouwde revisietermijnen van materieel opgenomen. ILT ziet er op toe dat NS haar eigen VMS naleeft. Als de Mat ’64 langer in dienst blijft, is een revisie noodzakelijk, waarbij opnieuw bezien moet worden aan welke actuele technische specificaties de treinstellen moeten voldoen.</al>\\n      <al>Daarbij geeft NS aan dat onderhoud niet meer mogelijk is doordat noodzakelijke reserveonderdelen om defecten te kunnen herstellen niet of nauwelijks meer verkrijgbaar zijn. Op dit moment worden al onderdelen van andere Mat’64 stellen gebruikt om de andere treinstellen operationeel te houden.</al>\\n      <al>Zou revisie wel tot de mogelijkheden behoren dan nog zou er, zo geeft NS aan, onvoldoende capaciteit beschikbaar zijn in de werkplaatsen voor deze revisie, omdat deze capaciteit nodig is om geen vertraging te veroorzaken bij ingepland onderhoud en voorbereiding van de instroom van de nieuwe Sprinters vanaf december 2016.</al>\\n      <al>Tot slot geeft NS aan dat het langer doorrijden met de laatste treinstellen Mat’64 ten koste gaat van de robuustheid en voorspelbaarheid van de dienstregeling.</al>\\n      <al>De combinatie van dit alles heeft NS doen besluiten per dienstregeling 2016 (december 2015) alle nog resterende Mat’64 treinen uit actieve dienst te nemen.</al>\\n      <al>De capaciteit van 24 treinstellen die begin december 2015 nog in dienst waren betrof circa 3600 zitplaatsen.</al>\\n      <al>NS houdt een aantal van deze treinstellen tot 1\\xa0april 2016 wel als reservematerieel aan om in te zetten bij incidenten. Dit is mogelijk zolang de revisietermijnen niet verlopen zijn. Langer inzetten is volgens NS om hiervoor genoemde aspecten niet mogelijk. Dit is onderdeel van het maatregelenpakket van NS. In een separate brief licht ik het maatregelenpakket van NS nader toe.</al>\\n    </antwoord>\\n    ']},\n",
       "  '3': {'vraag': ['Voldoet de NS met het uit de roulatie halen van de Mat 64 aan de vereisten in de concessie? Kunt u dit toelichten? Welke prestatie-indicatoren worden hiermee getreden en in welke mate? In hoeverre was dit tekort aan treinen in 2016 te voorzien en wanneer werd dit duidelijk?',\n",
       "    '<vraag>\\n      <nr status=\"officieel\">Vraag 3</nr>\\n      <al>Voldoet de NS met het uit de roulatie halen van de Mat 64 aan de vereisten in de concessie? Kunt u dit toelichten? Welke prestatie-indicatoren worden hiermee getreden en in welke mate? In hoeverre was dit tekort aan treinen in 2016 te voorzien en wanneer werd dit duidelijk?</al>\\n    </vraag>\\n    '],\n",
       "   'antwoord': ['NS dient conform de concessie en wet- en regelgeving in de treinen en op de stations de veiligheid voor reizigers en personeel te borgen. Zoals in de brief aan uw Kamer van 29 april 2015 vermeld(Kamerstuk \\n\\nMet de concessie wordt niet gestuurd op het type materieel dat NS inzet voor haar vervoer. Dat is aan NS om daarin keuzes te maken. Wel stuur ik met de concessie in meer algemene zin op de aangeboden vervoercapaciteit. Algemeen uitgangspunt in de concessie is dat NS verplicht is om de materieelinzet te plannen op basis van de verwachte vervoervraag en dusdanig dat er geen reizigers op het perron achterblijven en de reizigers met voldoende comfort kunnen reizen (artikel 31 uit de vervoerconcessie). Met de prestatie-indicatoren stuur ik op de gerealiseerde prestaties op het gebied van de geboden vervoercapaciteit. Daarnaast voert NS, conform de concessie, een programma uit, genaamd «vervoercapaciteit naar tevredenheid», dat er op gericht is de vervoercapaciteit voor de reizigers te verbeteren.\\n\\nTen aanzien van de prestatie-indicatoren zijn in de vervoerconcessie bodemwaarden 2015 en streefwaarden 2019 opgenomen. Voor vervoercapaciteit zijn drie prestatie indicatoren afgesproken. In het vervoerplan 2016 dat de Kamer binnenkort ontvangt, staan de ambities van NS voor 2016 in relatie tot de afgesproken bodem- en streefwaarden nader verwoord\\n\\nNS voorzag in 2014 dat vanaf najaar 2016 materieelkrapte zou ontstaan, met name als gevolg van uitstroom V250 en behoud van de OV Studentenkaart. Daarom heeft NS toen besloten om nieuw intercity materieel aan te schaffen en tijdelijk een deel van het bestaande materieelpark en strategische reserves in te zetten voor diensten op de HSL. Om op het hoofdrailnet te voldoen aan de vervoervraag en de concessie-eisen heeft NS nieuw Sprintermaterieel besteld (Flirt), is oud materieel gereviseerd en wordt reservematerieel ingezet. Dit stroomt met ingang van de dienstregeling 2017 (december 2016) gefaseerd in. Bij de definitieve uitwerking van de dienstregeling 2016, bleek dat de materieelbehoefte in 2016 groter was dan in de middellange termijn planning was voorzien, onder andere door de naar boven bijgestelde economische groeiontwikkelingen en reizigersgroei. Ik heb NS aangesproken op het door NS verwachte tekort en gevraagd alles uit de kast te halen om tot prestatieverbetering te komen. Via een separate brief informeer ik u over het definitieve maatregelenpakket.',\n",
       "    '<antwoord>\\n      <nr status=\"officieel\">Antwoord 3</nr>\\n      <al>NS dient conform de concessie en wet- en regelgeving in de treinen en op de stations de veiligheid voor reizigers en personeel te borgen. Zoals in de brief aan uw Kamer van 29\\xa0april 2015 vermeld(Kamerstuk <extref doc=\"kst-29893-189\" soort=\"document\" status=\"actief\">29\\xa0893, nr. 189</extref>), heeft de toenmalige Inspectie Verkeer en Waterstaat (IVW, nu ILT) aan NS het signaal afgegeven dat het materieeltype Mat’64 zonder baanschuiver een relatief grote kans op ontsporing heeft na aanrijding met een wegvoertuig. Het afgeven van zo’n signaal biedt de betreffende organisatie, in dit geval NS, een kans voor verbetering, maar leidt niet tot een juridisch afdwingbare verplichting. Er is immers geen sprake van het overtreden van een norm of wettelijke verplichting. Het is aan NS om een dergelijk signaal op te pakken. NS heeft besloten dat de destijds nog beschikbare 43 treinstellen van dit materieeltype met ingang van de dienstregeling 2016 niet langer planmatig in te zetten.</al>\\n      <al>Met de concessie wordt niet gestuurd op het type materieel dat NS inzet voor haar vervoer. Dat is aan NS om daarin keuzes te maken. Wel stuur ik met de concessie in meer algemene zin op de aangeboden vervoercapaciteit. Algemeen uitgangspunt in de concessie is dat NS verplicht is om de materieelinzet te plannen op basis van de verwachte vervoervraag en dusdanig dat er geen reizigers op het perron achterblijven en de reizigers met voldoende comfort kunnen reizen (artikel 31 uit de vervoerconcessie). Met de prestatie-indicatoren stuur ik op de gerealiseerde prestaties op het gebied van de geboden vervoercapaciteit. Daarnaast voert NS, conform de concessie, een programma uit, genaamd «vervoercapaciteit naar tevredenheid», dat er op gericht is de vervoercapaciteit voor de reizigers te verbeteren.</al>\\n      <al>Ten aanzien van de prestatie-indicatoren zijn in de vervoerconcessie bodemwaarden 2015 en streefwaarden 2019 opgenomen. Voor vervoercapaciteit zijn drie prestatie indicatoren afgesproken. In het vervoerplan 2016 dat de Kamer binnenkort ontvangt, staan de ambities van NS voor 2016 in relatie tot de afgesproken bodem- en streefwaarden nader verwoord<noot id=\"ID-1021-d37e135\" type=\"voet\"><noot.nr>2</noot.nr><noot.al>Voor een nadere toelichting op de systematiek van prestatiesturing zoals die is opgenomen in de vervoerconcessie 2015–2025, zie de brief aan uw Kamer van 8\\xa0juni 2015 (TK <extref doc=\"kst-29984-604\" soort=\"document\" status=\"actief\">29\\xa0984, nr. 604</extref>).</noot.al></noot>. Deze zogenaamde progressiewaarden geven de verwachting van NS weer ten aanzien van de te realiseren kwaliteit in 2016. Wanneer NS onvoldoende in staat is om de afgesproken vervoercapaciteit te leveren en onder de bodemwaarde presteert, wordt daarop gehandhaafd met een boete.</al>\\n      <al>NS voorzag in 2014 dat vanaf najaar 2016 materieelkrapte zou ontstaan, met name als gevolg van uitstroom V250 en behoud van de OV Studentenkaart. Daarom heeft NS toen besloten om nieuw intercity materieel aan te schaffen en tijdelijk een deel van het bestaande materieelpark en strategische reserves in te zetten voor diensten op de HSL. Om op het hoofdrailnet te voldoen aan de vervoervraag en de concessie-eisen heeft NS nieuw Sprintermaterieel besteld (Flirt), is oud materieel gereviseerd en wordt reservematerieel ingezet. Dit stroomt met ingang van de dienstregeling 2017 (december 2016) gefaseerd in. Bij de definitieve uitwerking van de dienstregeling 2016, bleek dat de materieelbehoefte in 2016 groter was dan in de middellange termijn planning was voorzien, onder andere door de naar boven bijgestelde economische groeiontwikkelingen en reizigersgroei. Ik heb NS aangesproken op het door NS verwachte tekort en gevraagd alles uit de kast te halen om tot prestatieverbetering te komen. Via een separate brief informeer ik u over het definitieve maatregelenpakket.</al>\\n    </antwoord>\\n  ']}}}"
      ]
     },
     "execution_count": 11,
     "metadata": {},
     "output_type": "execute_result"
    }
   ],
   "source": [
    "# load a dataset we have prepared \n",
    "import wetsuite.datasets, random\n",
    "# show an item from it\n",
    "random.choice( list(wetsuite.datasets.load('kamervragen').data.values()) )"
   ]
  },
  {
   "cell_type": "markdown",
   "metadata": {},
   "source": [
    "## Notes on rich output\n",
    "\n",
    "The packages mentioned above - [matplotlib](https://matplotlib.org/stable/gallery/index.html), [seaborn](https://seaborn.pydata.org/examples/index.html), and pandas - will often show their tables and plots nicely with little to no work, because their most central object (e.g. figure, dataframe) are aware of how to render to these notebooks. \n",
    "Not everyting is, though you _could_ roll your own.\n",
    "\n",
    "That rendered output is saved (e.g. as an embedded image) so is viewable elsewhere without having to run the code."
   ]
  },
  {
   "cell_type": "code",
   "execution_count": 6,
   "metadata": {},
   "outputs": [
    {
     "data": {
      "text/html": [
       "<span class=\"tex2jax_ignore\"><svg xmlns=\"http://www.w3.org/2000/svg\" xmlns:xlink=\"http://www.w3.org/1999/xlink\" xml:lang=\"nl\" id=\"1a4a3e3efc8b4132bbb3bd80e2d30385-0\" class=\"displacy\" width=\"750\" height=\"312.0\" direction=\"ltr\" style=\"max-width: none; height: 312.0px; color: #000000; background: #ffffff; font-family: Arial; direction: ltr\">\n",
       "<text class=\"displacy-token\" fill=\"currentColor\" text-anchor=\"middle\" y=\"222.0\">\n",
       "    <tspan class=\"displacy-word\" fill=\"currentColor\" x=\"50\">Groene</tspan>\n",
       "    <tspan class=\"displacy-tag\" dy=\"2em\" fill=\"currentColor\" x=\"50\">ADJ</tspan>\n",
       "</text>\n",
       "\n",
       "<text class=\"displacy-token\" fill=\"currentColor\" text-anchor=\"middle\" y=\"222.0\">\n",
       "    <tspan class=\"displacy-word\" fill=\"currentColor\" x=\"225\">kaas</tspan>\n",
       "    <tspan class=\"displacy-tag\" dy=\"2em\" fill=\"currentColor\" x=\"225\">NOUN</tspan>\n",
       "</text>\n",
       "\n",
       "<text class=\"displacy-token\" fill=\"currentColor\" text-anchor=\"middle\" y=\"222.0\">\n",
       "    <tspan class=\"displacy-word\" fill=\"currentColor\" x=\"400\">is</tspan>\n",
       "    <tspan class=\"displacy-tag\" dy=\"2em\" fill=\"currentColor\" x=\"400\">AUX</tspan>\n",
       "</text>\n",
       "\n",
       "<text class=\"displacy-token\" fill=\"currentColor\" text-anchor=\"middle\" y=\"222.0\">\n",
       "    <tspan class=\"displacy-word\" fill=\"currentColor\" x=\"575\">sterk</tspan>\n",
       "    <tspan class=\"displacy-tag\" dy=\"2em\" fill=\"currentColor\" x=\"575\">ADJ</tspan>\n",
       "</text>\n",
       "\n",
       "<g class=\"displacy-arrow\">\n",
       "    <path class=\"displacy-arc\" id=\"arrow-1a4a3e3efc8b4132bbb3bd80e2d30385-0-0\" stroke-width=\"2px\" d=\"M70,177.0 C70,89.5 220.0,89.5 220.0,177.0\" fill=\"none\" stroke=\"currentColor\"/>\n",
       "    <text dy=\"1.25em\" style=\"font-size: 0.8em; letter-spacing: 1px\">\n",
       "        <textPath xlink:href=\"#arrow-1a4a3e3efc8b4132bbb3bd80e2d30385-0-0\" class=\"displacy-label\" startOffset=\"50%\" side=\"left\" fill=\"currentColor\" text-anchor=\"middle\">amod</textPath>\n",
       "    </text>\n",
       "    <path class=\"displacy-arrowhead\" d=\"M70,179.0 L62,167.0 78,167.0\" fill=\"currentColor\"/>\n",
       "</g>\n",
       "\n",
       "<g class=\"displacy-arrow\">\n",
       "    <path class=\"displacy-arc\" id=\"arrow-1a4a3e3efc8b4132bbb3bd80e2d30385-0-1\" stroke-width=\"2px\" d=\"M245,177.0 C245,89.5 395.0,89.5 395.0,177.0\" fill=\"none\" stroke=\"currentColor\"/>\n",
       "    <text dy=\"1.25em\" style=\"font-size: 0.8em; letter-spacing: 1px\">\n",
       "        <textPath xlink:href=\"#arrow-1a4a3e3efc8b4132bbb3bd80e2d30385-0-1\" class=\"displacy-label\" startOffset=\"50%\" side=\"left\" fill=\"currentColor\" text-anchor=\"middle\">cop</textPath>\n",
       "    </text>\n",
       "    <path class=\"displacy-arrowhead\" d=\"M395.0,179.0 L403.0,167.0 387.0,167.0\" fill=\"currentColor\"/>\n",
       "</g>\n",
       "\n",
       "<g class=\"displacy-arrow\">\n",
       "    <path class=\"displacy-arc\" id=\"arrow-1a4a3e3efc8b4132bbb3bd80e2d30385-0-2\" stroke-width=\"2px\" d=\"M245,177.0 C245,2.0 575.0,2.0 575.0,177.0\" fill=\"none\" stroke=\"currentColor\"/>\n",
       "    <text dy=\"1.25em\" style=\"font-size: 0.8em; letter-spacing: 1px\">\n",
       "        <textPath xlink:href=\"#arrow-1a4a3e3efc8b4132bbb3bd80e2d30385-0-2\" class=\"displacy-label\" startOffset=\"50%\" side=\"left\" fill=\"currentColor\" text-anchor=\"middle\">advmod</textPath>\n",
       "    </text>\n",
       "    <path class=\"displacy-arrowhead\" d=\"M575.0,179.0 L583.0,167.0 567.0,167.0\" fill=\"currentColor\"/>\n",
       "</g>\n",
       "</svg></span>"
      ],
      "text/plain": [
       "<IPython.core.display.HTML object>"
      ]
     },
     "metadata": {},
     "output_type": "display_data"
    }
   ],
   "source": [
    "# Sometimes it needs a _little_ more digging to get it to display\n",
    "import spacy, spacy.displacy\n",
    "\n",
    "dutch_parser = spacy.load('nl_core_news_sm')\n",
    "doc = dutch_parser(\"Groene kaas is sterk\")\n",
    "spacy.displacy.render( doc, style='dep' )"
   ]
  },
  {
   "cell_type": "markdown",
   "metadata": {},
   "source": [
    "# What are python notebooks? \n",
    "\n",
    "From a more practical side, computational notebooks are \n",
    "- saveable documents \n",
    "- that contain \n",
    "  - text descriptions (stylable using [Markdown](https://www.markdownguide.org/getting-started/)),\n",
    "  - snippets of code that can be executed\n",
    "  - rich output of that code\n",
    "\n",
    "Which of those is most interesting to you,\n",
    "and whether the footnotes and caveats make or break your intended use,\n",
    "depends on your wishes.\n",
    "\n",
    "In the right environment, that code can be executed. In others, only viewed."
   ]
  },
  {
   "cell_type": "markdown",
   "metadata": {},
   "source": [
    "# Too many words on \"When and why might you like to use it?\"\n",
    "\n",
    "Skim this for the angle that applies to you."
   ]
  },
  {
   "cell_type": "markdown",
   "metadata": {},
   "source": [
    "Like a physical notebook, they are easily used as history of of what you've tried - experiments, results - and show that to others.\n",
    "\n",
    "The 'computational' means that the notebook might contain all the code snippets \n",
    "for someone else to take that document, run the same code snippets, in their own way on their own computer,\n",
    "to reproduce, and/or to develop further.\n",
    "\n",
    "\n",
    "What it often makes easier:\n",
    "* sharing code\n",
    "* sharing results, or how far you got\n",
    "* experimenting based on some existing code (can be great in educational settings)\n",
    "* visualizing some kinds of results (it renders plots, images, and more)\n",
    "* when working on a longer thing, makes it easy to re-run \"just the last part I'm working on\" \n",
    "  without having to store that in intermediate files - though that is often equally valid (and sometimes even more flexible)"
   ]
  },
  {
   "cell_type": "markdown",
   "metadata": {},
   "source": [
    "\n",
    "What it is *not*:\n",
    "* a multi-user experience - it would be neat to have a collaborative editing thing, but it is not that. Even variants aimed more at \"I can view your notebook after you're done with the workshops / your homework\" are great for those purposes, but mostly just add 'authenticte so people only get at their own', so you're just loading a previously saved document. If you want to cooperate with someone,\n",
    "  - you still need to do that youreself, e.g. \n",
    "    - ...or be okay with hand the document back and forth (possibly using code versioning to keep track of changes), and running all the parts again every time you do\n",
    "    - sharing your screen physically or digitally"
   ]
  },
  {
   "cell_type": "markdown",
   "metadata": {},
   "source": [
    "What it is only sometimes:\n",
    "* easily viewed anywhere\n",
    "  - You may be able to view a notebook (e.g. github renders saved notebooks) non-interactively\n",
    "  - google colab can view them and ideally also run them\n",
    "  - but on your own PC you may need to spend a time installing things\n",
    "\n",
    "* reproducable elsewhere - consider:\n",
    "   - the environment it runs in is your own  (you may need to install things, and that _can_ be a pain),\n",
    "   - data you load in is external to the document, so should be communicated separately, and/or stored somewhere public\n",
    "   - the intermediate results are not stored (many calculations will use a database, shared drive, etc, which is external to the notebook), \n",
    "   ...so running it _exactly_ the same elsewhere is not made easier.\n",
    "   That said, notebooks are still a more complete \"here is a description of what you need to do to run it yourself\" than most separate scripts are.\n",
    "\n",
    "* easy to install or run    (for non-programmers, or even for programmers sometimes)\n",
    "  - Yes, if you pick one option from the list of \"things that give you notebooks\" and install that, the basics will be there\n",
    "  - Yet \"I need this package to do my work\" can sometimes mean becoming your own sysadmin  (as often happens around programming) \n",
    "  - if something installs its own python environment to run these, that might either help or confuse further\n",
    "\n",
    "\n",
    "* remote - there are ways to run notebooks on a remote server, which uses that server's resources, and its probably-stable environment of installed things\n",
    "  - ...but this takes a little more up-front setup.\n",
    "  - Because of the server-client nature of the implementation, it also lends itself to remote work, and to \"hello people in my workshop, please  start a browser and go here to start working\".\n",
    "  - This can be useful to set up a well-defined environment with all necessities already there, rather than to futz with your own python installation each time.\n",
    "\n",
    "\n",
    "* a session you can continue later - this varies on how it is run, but assume that if you load it, you are stating from scratch"
   ]
  },
  {
   "cell_type": "markdown",
   "metadata": {},
   "source": [
    "## Interactive, but saveable;  like a shell, but redoable\n",
    "\n",
    "For context, \n",
    "* interactive python usually means running `python` which gives you a prompt where you can run arbitrary things\n",
    "  - but you save nothing (there is one big history of separate commands, but that's not very useful).\n",
    "\n",
    "* once you start making larger data-processing projects, you might end up making lots of separate scripts that all do something with some intermediate files\n",
    "  - but you may not remember wat they're doing, what order to run them in, etc.\n",
    "\n",
    "* while developing code, you often alter just one functions and run it again.\n",
    "\n",
    "* while doing data science, you often want to rerun an analysis without redoing all the data-load-and-polish\n",
    "\n",
    "\n",
    "When \n",
    "- you want to re-run larger parts of code without forgetting intermediate work,\n",
    "- you want to return to a document that lets you think in those larger chunks\n",
    "...then notebooks may fill a niche for you."
   ]
  },
  {
   "cell_type": "markdown",
   "metadata": {},
   "source": [
    "## How does a session actually work, how long does it last?\n",
    "\n",
    "This varies, now that there are increasing amounts of takes on notebooks.\n",
    "\n",
    "* it seems the original idea was we run a command in a shell (`jupyter notebook`). \n",
    "  - This basically ran until you quit it, whether a web browser was currently interacting with it or not.\n",
    "\n",
    "* programming environments may try to give you more features\n",
    "  - they may also try to automate starting a session when you start running things \n",
    "  - and stopping it once you've close the tab for the notebook\n"
   ]
  },
  {
   "cell_type": "markdown",
   "metadata": {},
   "source": [
    "\n",
    "## Environments that make notebooks easier to use\n",
    "\n",
    "* VScode - with an extension  [](https://code.visualstudio.com/blogs/2021/11/08/custom-notebooks)\n",
    "\n",
    "& pycharm\n",
    "\n",
    "* Spyder - [in theory?](https://docs.spyder-ide.org/current/plugins/notebook.html)\n",
    "\n",
    " automatically run this for you, and the interface may be a little more than a browser \n",
    ":: Examples: \n",
    "\n",
    "https://www.jetbrains.com/help/pycharm/jupyter-notebook-support.html\n",
    "\n",
    "* colab - sort of its owwn thing built on the idea of notebooks\n",
    "\n",
    "https://towardsdatascience.com/jypyter-notebook-shortcuts-bf0101a98330\n",
    "\n",
    "\n",
    "\n",
    "The aspects we care about right now are that they are\n",
    "- they are documents containing explanation, code, and output from a previous run\n",
    " \n",
    "- on github they viewable, \n",
    "are a way to give other people documents you can view, while e.g. github also gives you  in a browser\n",
    "\n",
    "- ...and run the code of, if you set up an environment for it\n",
    "\n",
    "- are often used in a way like an interactive console, in senses like\n",
    "  - it keeps all state that came from excution around until you quit\n",
    "  - you can edit and re-run a fragment of code on that\n",
    "\n",
    "\n",
    "This lets you do iterative work, which is great in data science, while testing a method,\n",
    "and you want to re-run part of it rather than the whole thing -- and type less than in an interactive shell.\n",
    "\n",
    "That said, the client-server nature of it (whether your editor does its best to hide that)\n",
    "can be confusing\n",
    "\n",
    "These are not the only aspects of notebooks, but they are the ones that are useful right here, \n",
    "where we want to say \"here's an example you can look at in your browser\".\n",
    "\n",
    "...\"and play with if you want\". When you view the notebooks (e.g. here on github) and click the \"Open in Colab\" link, you will get a copy running in [google colab](https://colab.research.google.com/), which gives you a transient sandbox in which you can freely play, useful for experimentation and demonstrations without requiring any setup in your own infrastructure - though note, also without long term storage.\n"
   ]
  },
  {
   "cell_type": "markdown",
   "metadata": {},
   "source": [
    "# More advanced"
   ]
  },
  {
   "cell_type": "code",
   "execution_count": null,
   "metadata": {},
   "outputs": [],
   "source": [
    "# You could roll your visualisation\n",
    "#   e.g. numpy is about numbers in matrices, the below makes some choices to make that visual\n",
    "class NumpyImage:\n",
    "    ''' Takes an array of values assumed to already have useful values in 0..255 value range, and visualizes it as a grayscale image. \n",
    "        Each cell is represented by an 16-by-16 pixel square (by default) for visibility.'''\n",
    "    def __init__(self, ary, pixelsize=16):\n",
    "        self.ary = numpy.array(ary) # copy\n",
    "        self.ary[self.ary<0]   = 0 # clamp (before type conversion)\n",
    "        self.ary[self.ary>255] = 255\n",
    "        self.pixelsize = pixelsize\n",
    "    def _repr_png_(self):\n",
    "        from PIL import Image\n",
    "        import io, numpy\n",
    "        im = Image.fromarray( numpy.uint8(self.ary) )\n",
    "        if self.pixelsize != 1:\n",
    "             im = im.resize( (im.size[0]*self.pixelsize, im.size[1]*self.pixelsize), resample=Image.NEAREST)\n",
    "        by = io.BytesIO()\n",
    "        im.save(by,'png')\n",
    "        return by.getvalue()\n",
    "\n",
    "# test:\n",
    "import numpy\n",
    "ary = (numpy.random.rand(3,6)*255).astype(numpy.uint8)\n",
    "display(ary) # how it would normally display\n",
    "display( NumpyImage( ary ) )"
   ]
  },
  {
   "cell_type": "markdown",
   "metadata": {},
   "source": [
    "In the context of this project, that's less interesting than e.g. marking up some sentences."
   ]
  },
  {
   "cell_type": "code",
   "execution_count": null,
   "metadata": {},
   "outputs": [],
   "source": []
  }
 ],
 "metadata": {
  "kernelspec": {
   "display_name": "Python 3.8.10 64-bit",
   "language": "python",
   "name": "python3"
  },
  "language_info": {
   "codemirror_mode": {
    "name": "ipython",
    "version": 3
   },
   "file_extension": ".py",
   "mimetype": "text/x-python",
   "name": "python",
   "nbconvert_exporter": "python",
   "pygments_lexer": "ipython3",
   "version": "3.8.10"
  },
  "orig_nbformat": 4,
  "vscode": {
   "interpreter": {
    "hash": "31f2aee4e71d21fbe5cf8b01ff0e069b9275f58929596ceb00d14d90e3e16cd6"
   }
  }
 },
 "nbformat": 4,
 "nbformat_minor": 2
}
