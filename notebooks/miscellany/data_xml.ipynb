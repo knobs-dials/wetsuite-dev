{
  "cells": [
    {
      "attachments": {},
      "cell_type": "markdown",
      "metadata": {
        "colab_type": "text",
        "id": "view-in-github"
      },
      "source": [
        "<a href=\"https://colab.research.google.com/github/scarfboy/wetsuite-dev/blob/main/examples/collocations.ipynb\" target=\"_parent\"><img src=\"https://colab.research.google.com/assets/colab-badge.svg\" alt=\"Open In Colab\"/></a>"
      ]
    },
    {
      "attachments": {},
      "cell_type": "markdown",
      "metadata": {},
      "source": [
        "# Purpose of this notebook\n",
        "\n",
        "If you're new to XML, or XML in python, this gives a quick tour of what XML looks like and does, \n",
        "and how to manipulate it in python.\n",
        "\n",
        "(or, more realistically, this a file to copy-paste some extraction code from)\n",
        "\n",
        "You should only need this if the given functions to extract metadata or text do not cover your needs,\n",
        "and you must dive deep into the structured data."
      ]
    },
    {
      "attachments": {},
      "cell_type": "markdown",
      "metadata": {},
      "source": [
        "XML is a specific style of structured data.\n",
        "\n",
        "It has elements that look like `<this>`, and because you can see it as a [tree structure](https://en.wikipedia.org/wiki/Tree_structure) it is frequently shown with some indentation indicating how deep each element is in the tree, like:\n",
        "\n",
        "```\n",
        "<aanhef>\n",
        "  <preambule>\n",
        "    <al>De raad van de gemeente Oosterhout;</al>\n",
        "    <al>gezien het voorstel van burgemeester en wethouder van 21 november 2014;</al>\n",
        "    <al>gelet op<extref doc=\"http://wetten.overheid.nl/cgi-bin/deeplink/law1/title=Participatiewet/article=8a\">artikel 8a, lid 1, aanhef en onderdeel b, van de Participatiewet</extref>,\n",
        "       a<extref doc=\"http://wetten.overheid.nl/cgi-bin/deeplink/law1/title=IOAW/article=35\">rtikel 35, lid 1, aanhef en onderdeel e, van de Wet inkomensvoorziening\n",
        "       ouderen en gedeeltelijk arbeidsongeschikte werkloze werknemers</extref>;<extref doc=\"http://wetten.overheid.nl/cgi-bin/deeplink/law1/title=IOAZ/article=35\">artikel 35, lid 1, aanhef en \n",
        "       onderdeel e, van de Wet inkomensvoorziening oudere en gedeeltelijk arbeidsongeschikte gewezen zelfstandigen</extref>, \n",
        "       de bepalingen van de<extref doc=\"http://wetten.overheid.nl/cgi-bin/deeplink/law1/title=Algemene%20wet%20bestuursrecht\">Algemene wet bestuursrecht</extref>en de<extref doc=\"http://wetten.overheid.nl/cgi-bin/deeplink/law1/title=Gemeentewet\">Gemeentewet</extref>;</al>\n",
        "    <al>overwegende dat het noodzakelijk is het opleggen van een tegenprestatie bij verordening te regelen;</al>\n",
        "    <al>Besluit</al>\n",
        "    <al>vast te stellen: de “Verordening tegenprestatie Sociale Zekerheid 2015, gemeente Oosterhout”.</al>\n",
        "  </preambule>\n",
        "</aanhef>\n",
        "```\n",
        "\n",
        "It is usually [serialized](https://en.wikipedia.org/wiki/Serialization) into a file that is _technically_ a binary bytestream but practically fairly human-readable, and somewhat human-editable."
      ]
    },
    {
      "attachments": {},
      "cell_type": "markdown",
      "metadata": {},
      "source": [
        "### elementtree's view on XML"
      ]
    },
    {
      "attachments": {},
      "cell_type": "markdown",
      "metadata": {},
      "source": [
        "Take some example data: \n",
        "```\n",
        "<root>\n",
        "  some text \n",
        "  <bold>with more text</bold>\n",
        "  end text\n",
        "</root>\n",
        "```\n",
        "\n",
        "There are actually a few ways to think of XML data in object form (and more beyond that, see e.g. SAX).\n",
        "\n",
        "\n",
        "The [DOM](https://en.wikipedia.org/wiki/Document_Object_Model), as used e.g. by scripting in browsers, \n",
        "would parse that into a structure like (note: we're pretending there are no spaces or newlines in there):\n",
        "* `root` element\n",
        "  * `text node` containing `'some text'`\n",
        "  * `bold` element\n",
        "    * `text node` containing `'with more text'`\n",
        "  * `text node` containing `'end text'`\n",
        "\n",
        "Thinking of that as five different object is well defined, but also cumbersome.\n",
        "Even browsers rarely show it quite this way.\n",
        "\n",
        "\n",
        "Python's [elementtree](https://docs.python.org/3/library/xml.etree.elementtree.html) is similar, but instead of making each element and text fragment a separate object, it tries to center around elements (hence the name) and ends up tacking text onto the closest element. \n",
        "Of note is text nodes _after_ elements at the same level. \n",
        "The above becomes:\n",
        "* `root` element with `text='some text'` (and `tail=None`)\n",
        "  * `bold` element with `text='with more text'` and `tail='end text'`\n",
        "\n",
        "Whether this makes your life \n",
        "* easier because it's fewer objects to inspect, with less typing, and maybe it's actually no differen because you're handling structured data like config files (where tail is typically empty), or\n",
        "* harder, because it's _yet another_ way of looking at things and is sometimes no better, just another mental model\n",
        "\n",
        "...depends a little on your data, and how fast you pick up the etree way of thinking."
      ]
    },
    {
      "attachments": {},
      "cell_type": "markdown",
      "metadata": {},
      "source": [
        "## Some examples of how to handle xml"
      ]
    },
    {
      "cell_type": "code",
      "execution_count": 12,
      "metadata": {},
      "outputs": [],
      "source": [
        "import wetsuite.helpers.net\n",
        "import wetsuite.helpers.etree\n",
        "\n",
        "test_xml = '''<aanhef>\n",
        "  <preambule>\n",
        "    <al>De raad van de gemeente Oosterhout;</al>\n",
        "    <al>gezien het voorstel van burgemeester en wethouder van 21 november 2014;</al>\n",
        "    <al>gelet op<extref doc=\"http://wetten.overheid.nl/cgi-bin/deeplink/law1/title=Participatiewet/article=8a\">artikel 8a, lid 1, aanhef en onderdeel b, van de Participatiewet</extref>, a<extref doc=\"http://wetten.overheid.nl/cgi-bin/deeplink/law1/title=IOAW/article=35\">rtikel 35, lid 1, aanhef en onderdeel e, van de Wet inkomensvoorziening ouderen en gedeeltelijk arbeidsongeschikte werkloze werknemers</extref>;<extref doc=\"http://wetten.overheid.nl/cgi-bin/deeplink/law1/title=IOAZ/article=35\">artikel 35, lid 1, aanhef en onderdeel e, van de Wet inkomensvoorziening oudere en gedeeltelijk arbeidsongeschikte gewezen zelfstandigen</extref>, de bepalingen van de<extref doc=\"http://wetten.overheid.nl/cgi-bin/deeplink/law1/title=Algemene%20wet%20bestuursrecht\">Algemene wet bestuursrecht</extref>en de<extref doc=\"http://wetten.overheid.nl/cgi-bin/deeplink/law1/title=Gemeentewet\">Gemeentewet</extref>;</al>\n",
        "    <al>overwegende dat het noodzakelijk is het opleggen van een tegenprestatie bij verordening te regelen;</al>\n",
        "    <al>Besluit</al>\n",
        "    <al>vast te stellen: de “Verordening tegenprestatie Sociale Zekerheid 2015, gemeente Oosterhout”.</al>\n",
        "  </preambule>\n",
        "</aanhef>'''\n"
      ]
    },
    {
      "attachments": {},
      "cell_type": "markdown",
      "metadata": {},
      "source": [
        "## Finding and navigating elements"
      ]
    },
    {
      "cell_type": "code",
      "execution_count": 13,
      "metadata": {},
      "outputs": [],
      "source": [
        "aanhef = wetsuite.helpers.etree.fromstring( test_xml ) # parse that text into etree object tree. \n",
        "# We might call it tree, root, or e.g. its root node, in this case aanhef.\n",
        "#   to name it by what you _expect_ it to contain is not best practice, but here it makes the examples a little more readable"
      ]
    },
    {
      "cell_type": "code",
      "execution_count": 14,
      "metadata": {},
      "outputs": [
        {
          "name": "stdout",
          "output_type": "stream",
          "text": [
            "<Element preambule at 0x7fb19af3c980>\n",
            "<Element al at 0x7fb19af3c780>\n"
          ]
        }
      ],
      "source": [
        "# pick a specific child/descendent element out of the tree\n",
        "print( aanhef.find('preambule') ) # relative to the find the first node, relative to this one \n",
        "\n",
        "# in this case you are probably interested in whatever is within preambule\n",
        "# You could do \n",
        "print( aanhef.find('preambule/al') )\n",
        "# yet it would only find the first.\n",
        "\n"
      ]
    },
    {
      "cell_type": "code",
      "execution_count": 16,
      "metadata": {},
      "outputs": [
        {
          "name": "stdout",
          "output_type": "stream",
          "text": [
            "[<Element al at 0x7fb19af2f480>, <Element al at 0x7fb174915300>, <Element al at 0x7fb174915700>, <Element al at 0x7fb174915640>, <Element al at 0x7fb174915600>, <Element al at 0x7fb174915380>]\n",
            "[<Element al at 0x7fb174915f40>, <Element al at 0x7fb174915280>, <Element al at 0x7fb174915980>, <Element al at 0x7fb174915300>, <Element al at 0x7fb174915940>, <Element al at 0x7fb174915700>]\n"
          ]
        }
      ],
      "source": [
        "#To look for multiple thing, consider\n",
        "    \n",
        "preambule = aanhef.find('preambule')\n",
        "print( preambule.getchildren( ) )   # which would print all direct child elements, _whatever_ those are\n",
        "\n",
        "# if we wanted to be more selective, you might try some filtering: \n",
        "print( preambule.findall( 'al' ) )\n",
        "# here happens to be the same, but if preambule contained non-al nodes, they would not show up)"
      ]
    },
    {
      "cell_type": "code",
      "execution_count": 18,
      "metadata": {},
      "outputs": [
        {
          "data": {
            "text/plain": [
              "[<Element extref at 0x7fb19af0e9c0>,\n",
              " <Element extref at 0x7fb17490f580>,\n",
              " <Element extref at 0x7fb174915d40>,\n",
              " <Element extref at 0x7fb174915a80>,\n",
              " <Element extref at 0x7fb174915e00>]"
            ]
          },
          "execution_count": 18,
          "metadata": {},
          "output_type": "execute_result"
        }
      ],
      "source": [
        "# XPath is a more succinct way of specifying more varied types of query, \n",
        "aanhef.xpath('//preambule//extref')  # this is specific to the lxml etree interface, not the generic one, but wetsuite specifically uses the lxml-based etree\n",
        "\n",
        "# This is more powerful - here conveniently expressing 'extref elements within preambule elements, no matter the elements inbetween'\n",
        "#    but arguably only if you already understand XPath, or end up preferring it over writing longer  it all out\n"
      ]
    },
    {
      "attachments": {},
      "cell_type": "markdown",
      "metadata": {},
      "source": [
        "## Getting out attributes"
      ]
    },
    {
      "cell_type": "code",
      "execution_count": 20,
      "metadata": {},
      "outputs": [
        {
          "name": "stdout",
          "output_type": "stream",
          "text": [
            "<extref doc=\"http://wetten.overheid.nl/cgi-bin/deeplink/law1/title=Participatiewet/article=8a\">artikel 8a, lid 1, aanhef en onderdeel b, van de Participatiewet</extref>, a\n",
            "DOC  = 'http://wetten.overheid.nl/cgi-bin/deeplink/law1/title=Participatiewet/article=8a'\n",
            "TEXT = 'artikel 8a, lid 1, aanhef en onderdeel b, van de Participatiewet'\n",
            "\n",
            "<extref doc=\"http://wetten.overheid.nl/cgi-bin/deeplink/law1/title=IOAW/article=35\">rtikel 35, lid 1, aanhef en onderdeel e, van de Wet inkomensvoorziening ouderen en gedeeltelijk arbeidsongeschikte werkloze werknemers</extref>;\n",
            "DOC  = 'http://wetten.overheid.nl/cgi-bin/deeplink/law1/title=IOAW/article=35'\n",
            "TEXT = 'rtikel 35, lid 1, aanhef en onderdeel e, van de Wet inkomensvoorziening ouderen en gedeeltelijk arbeidsongeschikte werkloze werknemers'\n",
            "\n",
            "<extref doc=\"http://wetten.overheid.nl/cgi-bin/deeplink/law1/title=IOAZ/article=35\">artikel 35, lid 1, aanhef en onderdeel e, van de Wet inkomensvoorziening oudere en gedeeltelijk arbeidsongeschikte gewezen zelfstandigen</extref>, de bepalingen van de\n",
            "DOC  = 'http://wetten.overheid.nl/cgi-bin/deeplink/law1/title=IOAZ/article=35'\n",
            "TEXT = 'artikel 35, lid 1, aanhef en onderdeel e, van de Wet inkomensvoorziening oudere en gedeeltelijk arbeidsongeschikte gewezen zelfstandigen'\n",
            "\n",
            "<extref doc=\"http://wetten.overheid.nl/cgi-bin/deeplink/law1/title=Algemene%20wet%20bestuursrecht\">Algemene wet bestuursrecht</extref>en de\n",
            "DOC  = 'http://wetten.overheid.nl/cgi-bin/deeplink/law1/title=Algemene%20wet%20bestuursrecht'\n",
            "TEXT = 'Algemene wet bestuursrecht'\n",
            "\n",
            "<extref doc=\"http://wetten.overheid.nl/cgi-bin/deeplink/law1/title=Gemeentewet\">Gemeentewet</extref>;\n",
            "DOC  = 'http://wetten.overheid.nl/cgi-bin/deeplink/law1/title=Gemeentewet'\n",
            "TEXT = 'Gemeentewet'\n",
            "\n"
          ]
        }
      ],
      "source": [
        "# there are a few different ways to get out attributes. Less typing:\n",
        "\n",
        "for extref in aanhef.xpath('preambule//extref'):\n",
        "    # print the fragment we're extracting from a  serialized XML, for reference\n",
        "    print( wetsuite.helpers.etree.debug_pretty(extref) )\n",
        "    #print( extref.attrib ) # _all_ attributes as dict, though in these cases there is only one\n",
        "    print( 'DOC  = %r'%extref.get('doc')) # if there was no such attribute, it would return None\n",
        "    print( 'TEXT = %r'%extref.text )\n",
        "    print()"
      ]
    },
    {
      "attachments": {},
      "cell_type": "markdown",
      "metadata": {},
      "source": [
        "## Getting out text"
      ]
    },
    {
      "attachments": {},
      "cell_type": "markdown",
      "metadata": {},
      "source": [
        "### Direct text content, or subtree text?"
      ]
    },
    {
      "cell_type": "code",
      "execution_count": 22,
      "metadata": {},
      "outputs": [
        {
          "data": {
            "text/plain": [
              "'gelet op'"
            ]
          },
          "execution_count": 22,
          "metadata": {},
          "output_type": "execute_result"
        }
      ],
      "source": [
        "alineas = aanhef.xpath('//al')\n",
        "alineas[2].text"
      ]
    },
    {
      "cell_type": "code",
      "execution_count": 23,
      "metadata": {},
      "outputs": [
        {
          "data": {
            "text/plain": [
              "['gelet op',\n",
              " '',\n",
              " 'artikel 8a, lid 1, aanhef en onderdeel b, van de Participatiewet',\n",
              " ', a',\n",
              " 'rtikel 35, lid 1, aanhef en onderdeel e, van de Wet inkomensvoorziening ouderen en gedeeltelijk arbeidsongeschikte werkloze werknemers',\n",
              " ';',\n",
              " 'artikel 35, lid 1, aanhef en onderdeel e, van de Wet inkomensvoorziening oudere en gedeeltelijk arbeidsongeschikte gewezen zelfstandigen',\n",
              " ', de bepalingen van de',\n",
              " 'Algemene wet bestuursrecht',\n",
              " 'en de',\n",
              " 'Gemeentewet',\n",
              " ';']"
            ]
          },
          "execution_count": 23,
          "metadata": {},
          "output_type": "execute_result"
        }
      ],
      "source": [
        "# That seems like elementtree being a smartass - \n",
        "#   that sure is is the text within the element - up to the first child element, which isn't what we wanted.\n",
        "\n",
        "# But what did we want?  If it was:\n",
        "#   \"gelet op artikel 8a, lid 1, aanhef en onderdeel b, van de Participatiewet, artikel 35, lid 1, aanhef en onderdeel e, \n",
        "#    van de Wet inkomensvoorziening ouderen en gedeeltelijk arbeidsongeschikte werkloze werknemers; artikel 35, lid 1, \n",
        "#    aanhef en onderdeel e, van de Wet inkomensvoorziening oudere en gedeeltelijk arbeidsongeschikte gewezen zelfstandigen, \n",
        "#    de bepalingen van de Algemene wet bestuursrecht</extref>en de Gemeentewet;\"\n",
        "# ...then we instead wanted to ask for 'all text (and tail) values inthe tree under a particular starting particular element'. \n",
        "\n",
        "# That's a little more work to do, and we have a function to help\n",
        "wetsuite.helpers.etree.all_text_fragments( alineas[2] )\n",
        "# It pieces together each .text and .tail, so gives a list like:"
      ]
    },
    {
      "cell_type": "code",
      "execution_count": 17,
      "metadata": {},
      "outputs": [
        {
          "data": {
            "text/plain": [
              "'gelet opartikel 8a, lid 1, aanhef en onderdeel b, van de Participatiewet, artikel 35, lid 1, aanhef en onderdeel e, van de Wet inkomensvoorziening ouderen en gedeeltelijk arbeidsongeschikte werkloze werknemers;artikel 35, lid 1, aanhef en onderdeel e, van de Wet inkomensvoorziening oudere en gedeeltelijk arbeidsongeschikte gewezen zelfstandigen, de bepalingen van deAlgemene wet bestuursrechten deGemeentewet;'"
            ]
          },
          "execution_count": 17,
          "metadata": {},
          "output_type": "execute_result"
        }
      ],
      "source": [
        "# Why not return it as as a single string?   We could do:\n",
        "''.join( wetsuite.helpers.etree.all_text_fragments( alineas[2] ) )"
      ]
    },
    {
      "cell_type": "code",
      "execution_count": 18,
      "metadata": {},
      "outputs": [
        {
          "data": {
            "text/plain": [
              "'gelet op  artikel 8a, lid 1, aanhef en onderdeel b, van de Participatiewet , a rtikel 35, lid 1, aanhef en onderdeel e, van de Wet inkomensvoorziening ouderen en gedeeltelijk arbeidsongeschikte werkloze werknemers ; artikel 35, lid 1, aanhef en onderdeel e, van de Wet inkomensvoorziening oudere en gedeeltelijk arbeidsongeschikte gewezen zelfstandigen , de bepalingen van de Algemene wet bestuursrecht en de Gemeentewet ;'"
            ]
          },
          "execution_count": 18,
          "metadata": {},
          "output_type": "execute_result"
        }
      ],
      "source": [
        "# Note that 'opartikel'. Okay, maybe that should have been\n",
        "' '.join( wetsuite.helpers.etree.all_text_fragments( alineas[2] ) )\n",
        "# or, basically equivalent, and a little clearer in intent:\n",
        "#wetsuite.helpers.etree.all_text_fragments( alineas[2], ignore_empty=True, join=' ' )\n",
        "\n",
        "# ...yet now we have an \"a rtikel\". "
      ]
    },
    {
      "cell_type": "code",
      "execution_count": 31,
      "metadata": {},
      "outputs": [
        {
          "name": "stdout",
          "output_type": "stream",
          "text": [
            "Wet van 16 december 2020 tot wijziging van de Wet belastingen op milieugrondslag en de Wet Milieubeheer voor de invoering van een CO2-heffing voor de industrie (Wet CO  2 -heffing industrie) 2020 544 23-12-2020 16-12-2020 35575 2020 544 23-12-2020 16-12-2020 35575 01-01-2021\n"
          ]
        }
      ],
      "source": [
        "# That \"a rtikel\" is easily argued to be a markup mistake (extrefs are used without spaces so _should_ split words)\n",
        "\n",
        "# ...so let's instead consider BWBR0044578\n",
        "bwb_test = wetsuite.helpers.net.download('https://repository.officiele-overheidspublicaties.nl/bwb/BWBR0044578/2021-01-01_0/xml/BWBR0044578_2021-01-01_0.xml')\n",
        "tree = wetsuite.helpers.etree.fromstring( bwb_test )\n",
        "# The intitule is \n",
        "#   Wet van 16 december 2020 tot wijziging van de Wet belastingen op milieugrondslag en de Wet Milieubeheer voor de \n",
        "#   invoering van een CO2-heffing voor de industrie (Wet CO<inf>2</inf> -heffing industrie)\n",
        "# so \n",
        "#   tree.find('wetgeving/intitule').text  \n",
        "# would stop after \"(Wet CO\". \n",
        "\n",
        "from importlib import reload\n",
        "reload( wetsuite.helpers.etree )\n",
        "\n",
        "# So do we want all_text_fragments again, with spaces as we just figured was a good idea?\n",
        "print( wetsuite.helpers.etree.all_text_fragments(  tree.find('wetgeving/intitule'), join=' ') )"
      ]
    },
    {
      "cell_type": "code",
      "execution_count": 32,
      "metadata": {},
      "outputs": [
        {
          "name": "stdout",
          "output_type": "stream",
          "text": [
            "Wet van 16 december 2020 tot wijziging van de Wet belastingen op milieugrondslag en de Wet Milieubeheer voor de invoering van een CO2-heffing voor de industrie (Wet CO2-heffing industrie)202054423-12-202016-12-202035575202054423-12-202016-12-20203557501-01-2021\n"
          ]
        }
      ],
      "source": [
        "# Also, those numbers are there because there's no easy separation between tags that are part of the title and part of the metadata under the same tag.\n",
        "#   there's a stop_at to help with that part\n",
        "\n",
        "# Now it says \"CO  2\" where we probably wanted \"CO2\"\n",
        "print( wetsuite.helpers.etree.all_text_fragments(  tree.find('wetgeving/intitule'), join='') )\n",
        "#   For just titles you could guess we could probably get away with not adding spaces\n",
        "#   but in reality you should check whether that's valid to do\n",
        "\n",
        "\n",
        "# This actually highlights a subtler issue,\n",
        "# that in such free-form documents it is uncertain which elements act as word separators,\n",
        "# and which do not - it's down largely semantics, and possibly also by use\n",
        "#  * not for subscript\n",
        "#  * _probably not_ for bold or italics\n",
        "#  * _probably_ for links\n",
        "# In actual HTML the conventions are at least stronger, but in this document-pretending-to-be-data,\n",
        "# you might want to be able to control that, and we might want to give you .\n",
        "\n",
        "# (...and we have to ignore human mistakes like, above, that second extref anove starting a character late)\n",
        "\n",
        "# TODO: create a specialized text extractor for CVDR, BWB that includes these semantics"
      ]
    },
    {
      "cell_type": "code",
      "execution_count": 35,
      "metadata": {},
      "outputs": [
        {
          "name": "stdout",
          "output_type": "stream",
          "text": [
            "Wet van 16 december 2020 tot wijziging van de Wet belastingen op milieugrondslag en de Wet Milieubeheer voor de invoering van een CO2-heffing voor de industrie (Wet CO2-heffing industrie)\n"
          ]
        },
        {
          "data": {
            "text/plain": [
              "'Wet van 16 december 2020 tot wijziging van de Wet belastingen op milieugrondslag en de Wet Milieubeheer voor de invoering van een CO2-heffing voor de industrie (Wet CO2-heffing industrie)'"
            ]
          },
          "execution_count": 35,
          "metadata": {},
          "output_type": "execute_result"
        }
      ],
      "source": [
        "# Why all the numbers at the end? \n",
        "# \n",
        "#  Well, here the XML is less structured than it perhaps should be - the actual title within the intitule isn't well separated from the metadata tag\n",
        "#  so in this case it seems almost impossible to ask for just that text\n",
        "\n",
        "# Such issues are _generally_ rare, but in this particular case you have to get more creative.\n",
        "\n",
        "# This should probably mean all_text_fragments's ignore_under should come to mean 'ignore subtree when you see an element called this',\n",
        "#   but until then you would need to get more creative.\n",
        "\n",
        "# One way is to use the stop_at argument, which stops walking the tree at the first mention of a node with a particular name\n",
        "print( wetsuite.helpers.etree.all_text_fragments(  tree.find('wetgeving/intitule'), join='', stop_at=['meta-data']) )\n",
        "\n",
        "\n",
        "# A somewhat more selective hack would be to selectively remove the `meta-data` tag \n",
        "#   (based on knowing the structure from the XML schema, and probably work on a copy of the tree)\n",
        "tree = wetsuite.helpers.etree.fromstring( bwb_test ) # parse that text into etree object tree \n",
        "intitule = tree.find('wetgeving/intitule')\n",
        "intitule.remove( intitule.find('meta-data') )\n",
        "wetsuite.helpers.etree.all_text_fragments( intitule, join='')"
      ]
    },
    {
      "attachments": {},
      "cell_type": "markdown",
      "metadata": {},
      "source": [
        "## On (ignoring) namespaces\n",
        "\n",
        "Consider needing to combine data from different sources in one XML document.\n",
        "- If done free-form, there is potential ambiguity about what standard each element (or even attribute) even comes from,\n",
        "- and if they happen to pick the same element (or attribute) name, they may clash and overwrite each other.\n",
        "Namespaces can be thought of as a little tag on each element (and attribute) that assigns it to a well-defined source.\n",
        "\n",
        "\n",
        "Consider the following XML: (a simplified version of document from [here](view-source:https://standaarden.overheid.nl/owms/terms/Leiden_(gemeente).rdf))\n",
        "```\n",
        "<?xml version=\"1.0\" encoding=\"UTF-8\"?>\n",
        "<rdf:RDF xmlns:overheid=\"http://standaarden.overheid.nl/owms/terms/\"\n",
        "         xmlns:rdf=\"http://www.w3.org/1999/02/22-rdf-syntax-ns#\"\n",
        "         xmlns:rdfs=\"http://www.w3.org/2000/01/rdf-schema#\"\n",
        "         xmlns:skos=\"http://www.w3.org/2004/02/skos/core#\">\n",
        "  <rdf:Description rdf:about=\"http://standaarden.overheid.nl/owms/terms/Leiden_(gemeente)\">\n",
        "    <overheid:CBSCode>0546</overheid:CBSCode>\n",
        "    <overheid:overlapsWith rdf:resource=\"http://standaarden.overheid.nl/owms/terms/Hoogheemraadschap_van_Rijnland\"/>\n",
        "    <overheid:overlapsWith rdf:resource=\"http://standaarden.overheid.nl/owms/terms/Zuid-Holland\"/>\n",
        "    <overheid:serviceAreaOf rdf:resource=\"http://standaarden.overheid.nl/owms/terms/Commissie_Regionaal_Overleg_Luchthaven_Schiphol\"/>\n",
        "    <overheid:serviceAreaOf rdf:resource=\"http://standaarden.overheid.nl/owms/terms/Milieudienst_West-Holland\"/>\n",
        "    <overheid:serviceAreaOf rdf:resource=\"http://standaarden.overheid.nl/owms/terms/Regiokorps_Politie_Hollands_Midden\"/>\n",
        "    <overheid:serviceAreaOf rdf:resource=\"http://standaarden.overheid.nl/owms/terms/SZHR\"/>\n",
        "    <overheid:serviceAreaOf rdf:resource=\"http://standaarden.overheid.nl/owms/terms/Servicepunt71\"/>\n",
        "    <overheid:serviceAreaOf rdf:resource=\"http://standaarden.overheid.nl/owms/terms/Veiligheidsregio_Hollands_Midden\"/>\n",
        "    <overheid:serviceAreaOf rdf:resource=\"http://standaarden.overheid.nl/owms/terms/bsgr\"/>\n",
        "    <overheid:serviceAreaOf rdf:resource=\"http://standaarden.overheid.nl/owms/terms/odwhol\"/>\n",
        "    <overheid:serviceAreaOf rdf:resource=\"http://standaarden.overheid.nl/owms/terms/rdoghm\"/>\n",
        "    <overheid:serviceAreaOf rdf:resource=\"http://standaarden.overheid.nl/owms/terms/sohlrl\"/>\n",
        "    <rdf:type rdf:resource=\"http://purl.org/dc/terms/Agent\"/>\n",
        "    <rdf:type rdf:resource=\"http://standaarden.overheid.nl/owms/terms/Agent\"/>\n",
        "    <rdf:type rdf:resource=\"http://standaarden.overheid.nl/owms/terms/Gemeente\"/>\n",
        "    <rdf:type rdf:resource=\"http://standaarden.overheid.nl/owms/terms/Organisatie\"/>\n",
        "    <rdf:type rdf:resource=\"http://standaarden.overheid.nl/owms/terms/Overheidsorganisatie\"/>\n",
        "    <rdf:type rdf:resource=\"http://www.w3.org/2000/01/rdf-schema#Resource\"/>\n",
        "    <rdf:type rdf:resource=\"http://www.w3.org/2002/07/owl#Thing\"/>\n",
        "    <rdfs:label xml:lang=\"nl\">Leiden</rdfs:label>\n",
        "    <skos:prefLabel xml:lang=\"nl\">Leiden</skos:prefLabel>\n",
        "  </rdf:Description>\n",
        "</rdf:RDF>\n",
        "```\n",
        "\n",
        "\n",
        "**technicalities (feel free to skip)**\n",
        "\n",
        "It turns out that (due to the way namespaces were bolted onto XML _after_ initial design)\n",
        "a namespace declaration like `xmlns:overheid=\"http://standaarden.overheid.nl/owms/terms/\"`\n",
        "to humans seems to mean 'can use `overheid:` as a prefix on nodes'.\n",
        "\n",
        "...**but** \n",
        "- That prefix isn't technically part of the document model, \n",
        "- just XML specs cannot even guarantee the same prefix will be used if it were written out again,\n",
        "- and the only thing that actually identifies the namespace is `http://standaarden.overheid.nl/owms/terms/`\n",
        "\n",
        "So when etree (and many other parsers) then sees \n",
        "\t`<overheid:CBSCode>0546</overheid:CBSCode>`\n",
        "it will actually think of that as as an element with name \n",
        "`{http://standaarden.overheid.nl/owms/terms/}CBScode`\n",
        "\n",
        "\n",
        "\n",
        "**correct namespaces is important when producing XML**,\n",
        "in that the document will not conform to a standard that says you must use them.\n",
        "\n",
        "At the same time, **matching namespces is annoying**, and \n",
        "- when you are only _consuming_ XML into something else,\n",
        "- when you are doing so manually rather than with something like XSLT,\n",
        "- when you know that the schemas being combined in your documents do not actually clash (which is 'usually'),\n",
        "then you can consider removing them. \n",
        "\n",
        "Say, if you parsed the above, example, pulled it through `wetsuite.helpers.etree.strip_namespace()`, and printed it out again, you would get:\n",
        "\n",
        "```\n",
        "<RDF>\n",
        "  <Description about=\"http://standaarden.overheid.nl/owms/terms/Leiden_(gemeente)\">\n",
        "    <CBSCode>0546</CBSCode>\n",
        "    <overlapsWith resource=\"http://standaarden.overheid.nl/owms/terms/Hoogheemraadschap_van_Rijnland\"/>\n",
        "    <overlapsWith resource=\"http://standaarden.overheid.nl/owms/terms/Zuid-Holland\"/>\n",
        "    <serviceAreaOf resource=\"http://standaarden.overheid.nl/owms/terms/Commissie_Regionaal_Overleg_Luchthaven_Schiphol\"/>\n",
        "    <serviceAreaOf resource=\"http://standaarden.overheid.nl/owms/terms/Milieudienst_West-Holland\"/>\n",
        "    <serviceAreaOf resource=\"http://standaarden.overheid.nl/owms/terms/Regiokorps_Politie_Hollands_Midden\"/>\n",
        "    <serviceAreaOf resource=\"http://standaarden.overheid.nl/owms/terms/SZHR\"/>\n",
        "    <serviceAreaOf resource=\"http://standaarden.overheid.nl/owms/terms/Servicepunt71\"/>\n",
        "    <serviceAreaOf resource=\"http://standaarden.overheid.nl/owms/terms/Veiligheidsregio_Hollands_Midden\"/>\n",
        "    <serviceAreaOf resource=\"http://standaarden.overheid.nl/owms/terms/bsgr\"/>\n",
        "    <serviceAreaOf resource=\"http://standaarden.overheid.nl/owms/terms/odwhol\"/>\n",
        "    <serviceAreaOf resource=\"http://standaarden.overheid.nl/owms/terms/rdoghm\"/>\n",
        "    <serviceAreaOf resource=\"http://standaarden.overheid.nl/owms/terms/sohlrl\"/>\n",
        "    <type resource=\"http://purl.org/dc/terms/Agent\"/>\n",
        "    <type resource=\"http://standaarden.overheid.nl/owms/terms/Agent\"/>\n",
        "    <type resource=\"http://standaarden.overheid.nl/owms/terms/Gemeente\"/>\n",
        "    <type resource=\"http://standaarden.overheid.nl/owms/terms/Organisatie\"/>\n",
        "    <type resource=\"http://standaarden.overheid.nl/owms/terms/Overheidsorganisatie\"/>\n",
        "    <type resource=\"http://www.w3.org/2000/01/rdf-schema#Resource\"/>\n",
        "    <type resource=\"http://www.w3.org/2002/07/owl#Thing\"/>\n",
        "    <label lang=\"nl\">Leiden</label>\n",
        "    <prefLabel lang=\"nl\">Leiden</prefLabel>\n",
        "  </Description>\n",
        "</RDF>\n",
        "```\n",
        "\n",
        "Is this cheating? \n",
        "\n",
        "Yes.\n",
        "\n",
        "Does it make your life simpler, e.g. let you write `etree.find('Description/CBScode')` \n",
        "instead of `etree.find('{http://www.w3.org/1999/02/22-rdf-syntax-ns#}Description/{http://standaarden.overheid.nl/owms/terms/}CBScode')`? \n",
        "\n",
        "Also yes."
      ]
    },
    {
      "attachments": {},
      "cell_type": "markdown",
      "metadata": {},
      "source": []
    }
  ],
  "metadata": {
    "colab": {
      "include_colab_link": true,
      "provenance": []
    },
    "kernelspec": {
      "display_name": "Python 3",
      "name": "python3"
    },
    "language_info": {
      "codemirror_mode": {
        "name": "ipython",
        "version": 3
      },
      "file_extension": ".py",
      "mimetype": "text/x-python",
      "name": "python",
      "nbconvert_exporter": "python",
      "pygments_lexer": "ipython3",
      "version": "3.8.10"
    }
  },
  "nbformat": 4,
  "nbformat_minor": 0
}
