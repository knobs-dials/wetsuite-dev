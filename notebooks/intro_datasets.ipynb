{
 "cells": [
  {
   "attachments": {},
   "cell_type": "markdown",
   "metadata": {},
   "source": [
    "# Purpose of this notebook\n",
    "\n",
    "Explain why we make datasets, and give a basic introduction-by-example of how to start using them.\n"
   ]
  },
  {
   "cell_type": "markdown",
   "metadata": {},
   "source": [
    "## Why datasets\n",
    "\n",
    "The most up to date information is to find and fetch data directly from the source.\n",
    "\n",
    "However, \n",
    "- fetching data via a website may be too clunky, particularly if it is not made for it, and most aren't\n",
    "\n",
    "- fetching data via code may present too large of a technical learning curve\n",
    "  - even if we ease that, sites may not allow the type of browsing/searching you may need for your purposes \n",
    "    - e.g. any metadata field that isn't made searchable\n",
    "    - or maybe a workaround exists, but is awkward and/or technically complex again (see e.g. the convoluted damocles search)\n",
    "\n",
    "- not all sources make it easy to fetch the result in the\n",
    "\n",
    "- not all sources make it easy to collect\n",
    "\n",
    "- sometimes collecting is very slow\n",
    "\n",
    "\n",
    "Also, \n",
    "- it might be valuable to share sub-datasets you've collected -- or at the very least share the way you've collected\n",
    "\n",
    "\n",
    "\n",
    "\n",
    "\n"
   ]
  },
  {
   "cell_type": "code",
   "execution_count": 8,
   "metadata": {},
   "outputs": [
    {
     "data": {
      "text/plain": [
       "['rvsadviezen-struc',\n",
       " 'kamervragen-struc',\n",
       " 'bwb-mostrecent-xml',\n",
       " 'bwb-mostrecent-meta',\n",
       " 'bwb-mostrecent-text',\n",
       " 'cvdr-mostrecent-xml',\n",
       " 'cvdr-mostrecent-meta',\n",
       " 'cvdr-mostrecent-text',\n",
       " 'woo-besluiten-meta',\n",
       " 'woo-besluiten-text',\n",
       " 'kansspelautoriteit-sancties-txt',\n",
       " 'gemeentes',\n",
       " 'wetnamen',\n",
       " 'tweedekamer-fracties-struc',\n",
       " 'tweedekamer-fracties-membership-struc']"
      ]
     },
     "execution_count": 8,
     "metadata": {},
     "output_type": "execute_result"
    }
   ],
   "source": [
    "import wetsuite.datasets\n",
    "from importlib import reload\n",
    "\n",
    "wetsuite.datasets.list_datasets()\n"
   ]
  },
  {
   "cell_type": "code",
   "execution_count": 19,
   "metadata": {},
   "outputs": [
    {
     "name": "stdout",
     "output_type": "stream",
     "text": [
      "rvsadviezen-struc              The advice under https://raadvanstate.nl/adviezen/ provided as plain text in a nested structure with metadata. \n",
      "kamervragen-struc              Questions from ministers to the government. Provided as a nested data structure.\n",
      "bwb-mostrecent-xml             The latest revision from each BWB-id\n",
      "bwb-mostrecent-meta            The latest revision from each BWB-id\n",
      "bwb-mostrecent-text            The latest revision from each BWB-id\n",
      "cvdr-mostrecent-xml            The latest expression from each CVDR work\n",
      "cvdr-mostrecent-meta           The latest expression from each CVDR work\n",
      "cvdr-mostrecent-text           The latest expression from each CVDR work\n",
      "woo-besluiten-meta             \n",
      "woo-besluiten-text             \n",
      "kansspelautoriteit-sancties-txt Sanction decisions, in plain text, extracted from from the case PDFs under https://kansspelautoriteit.nl/aanpak-misstanden/sanctiebesluiten/\n",
      "gemeentes                      List of municipalities, and some basic information about them.\n",
      "wetnamen                       Some more and less official name variants that are used to refer to laws.\n",
      "tweedekamer-fracties-struc     \n",
      "tweedekamer-fracties-membership-struc \n"
     ]
    }
   ],
   "source": [
    "for name, details in wetsuite.datasets.fetch_index().items():\n",
    "    print( '%-30s %s'%(name, details['short_description']) )"
   ]
  },
  {
   "cell_type": "code",
   "execution_count": 19,
   "metadata": {},
   "outputs": [],
   "source": [
    "xml  = wetsuite.datasets.load('cvdr-mostrecent-xml')\n",
    "meta = wetsuite.datasets.load('cvdr-mostrecent-meta')\n",
    "text = wetsuite.datasets.load('cvdr-mostrecent-text')"
   ]
  },
  {
   "cell_type": "markdown",
   "metadata": {},
   "source": [
    "We have an ongoing discussion of whether to provide these in merged, composite way, \n",
    "with each item"
   ]
  },
  {
   "cell_type": "markdown",
   "metadata": {},
   "source": [
    "## Example datasets\n",
    "\n",
    "There are some more targeted examples, including\n",
    "\n",
    "* CVDR\n",
    "\n",
    "* BWB\n",
    "\n",
    "* kansspelautoriteit-sancties-txt\n",
    "\n",
    "* [`tweedekamer-fracties-struc` and `tweedekamer-fracties-membership-struc`](using_dataset_tweedekamer.ipynb)\n",
    "\n",
    "* [`wetnamen`](using_dataset_woobesluit.ipynb)\n",
    "\n",
    "\n",
    "And some things that are little more than lists, including\n",
    "* [gemeentes](using_dataset_gemeentes.ipynb)\n",
    "\n",
    "* [wetnamen](using_dataset_wetnamen.ipynb)\n",
    "\n"
   ]
  },
  {
   "cell_type": "markdown",
   "metadata": {},
   "source": []
  }
 ],
 "metadata": {
  "kernelspec": {
   "display_name": "Python 3",
   "language": "python",
   "name": "python3"
  },
  "language_info": {
   "codemirror_mode": {
    "name": "ipython",
    "version": 3
   },
   "file_extension": ".py",
   "mimetype": "text/x-python",
   "name": "python",
   "nbconvert_exporter": "python",
   "pygments_lexer": "ipython3",
   "version": "3.8.10"
  },
  "vscode": {
   "interpreter": {
    "hash": "31f2aee4e71d21fbe5cf8b01ff0e069b9275f58929596ceb00d14d90e3e16cd6"
   }
  }
 },
 "nbformat": 4,
 "nbformat_minor": 4
}
