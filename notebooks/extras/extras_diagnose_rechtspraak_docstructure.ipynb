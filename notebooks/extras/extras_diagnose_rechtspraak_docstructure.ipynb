{
 "cells": [
  {
   "attachments": {},
   "cell_type": "markdown",
   "metadata": {},
   "source": [
    "Continuing from [extras_datacollect_rechtspraak](datacollect/extras_datacollect_rechtspraak.ipynb)...\n",
    "\n",
    "\n",
    "\n"
   ]
  },
  {
   "cell_type": "code",
   "execution_count": null,
   "metadata": {},
   "outputs": [],
   "source": [
    "## What does the data XML look like, and what can I easily do with it?"
   ]
  },
  {
   "cell_type": "code",
   "execution_count": 1,
   "metadata": {},
   "outputs": [],
   "source": [
    "import wetsuite.helpers.net\n",
    "import wetsuite.helpers.localdata\n",
    "import wetsuite.helpers.etree\n"
   ]
  },
  {
   "cell_type": "code",
   "execution_count": 2,
   "metadata": {},
   "outputs": [
    {
     "name": "stdout",
     "output_type": "stream",
     "text": [
      "<open-rechtspraak>\n",
      "  <RDF>\n",
      "    <Description>\n",
      "      <identifier>ECLI:NL:HR:2010:BN3914</identifier>\n",
      "      <format>text/xml</format>\n",
      "      <accessRights>public</accessRights>\n",
      "      <modified>2013-04-05T06:48:29</modified>\n",
      "      <issued label=\"Publicatiedatum\">2013-04-05</issued>\n",
      "      <publisher resourceIdentifier=\"http://rechtspraak.nl/\">Raad voor de Rechtspraak</publisher>\n",
      "      <language>nl</language>\n",
      "      <replaces label=\"Vervangt\">BN3914</replaces>\n",
      "      <creator resourceIdentifier=\"http://standaarden.overheid.nl/owms/terms/Hoge_Raad_der_Nederlanden\" scheme=\"overheid.RechterlijkeMacht\" label=\"Instantie\">Hoge Raad</creator>\n",
      "      <date label=\"Uitspraakdatum\">2010-08-13</date>\n",
      "      <zaaknummer label=\"Zaaknr\">09/04963</zaaknummer>\n",
      "      <type resourceIdentifier=\"http://psi.rechtspraak.nl/uitspraak\" language=\"nl\">Uitspraak</type>\n",
      "      <procedure resourceIdentifier=\"http://psi.rechtspraak.nl/procedure#cassatie\" language=\"nl\" label=\"Procedure\">Cassatie</procedure>\n",
      "      <coverage>NL</coverage>\n",
      "      <subject resourceIdentifier=\"http://psi.rechtspraak.nl/rechtsgebied#bestuursrecht_belastingrecht\" label=\"Rechtsgebied\">Bestuursrecht; Belastingrecht</subject>\n",
      "      <hasVersion resourceIdentifier=\"http://psi.rechtspraak.nl/vindplaats\" label=\"Vindplaatsen\">\n",
      "        <list>\n",
      "          <li>Rechtspraak.nl</li>\n",
      "        </list>\n",
      "      </hasVersion>\n",
      "    </Description>\n",
      "    <Description about=\"http://deeplink.rechtspraak.nl/uitspraak?id=ECLI:NL:HR:2010:BN3914\">\n",
      "      <identifier>http://deeplink.rechtspraak.nl/uitspraak?id=ECLI:NL:HR:2010:BN3914</identifier>\n",
      "      <format>text/html</format>\n",
      "      <accessRights>public</accessRights>\n",
      "      <modified>2013-04-05T06:48:29</modified>\n",
      "      <issued label=\"Publicatiedatum\">2010-08-13</issued>\n",
      "      <publisher resourceIdentifier=\"http://rechtspraak.nl/\">Raad voor de Rechtspraak</publisher>\n",
      "      <language>nl</language>\n",
      "      <title language=\"nl\">ECLI:NL:HR:2010:BN3914 Hoge Raad , 13-08-2010 / 09/04963</title>\n",
      "      <abstract resourceIdentifier=\"../../rs:inhoudsindicatie\"/>\n",
      "    </Description>\n",
      "  </RDF>\n",
      "  <inhoudsindicatie id=\"ECLI:NL:HR:2010:BN3914:INH\" lang=\"nl\" space=\"preserve\">\n",
      "    <para>De Hoge Raad heeft het beroep in cassatie afgedaan m.t.v. artikel 81 RO.</para>\n",
      "  </inhoudsindicatie>\n",
      "  <uitspraak id=\"ECLI:NL:HR:2010:BN3914:DOC\" lang=\"nl\" space=\"preserve\">\n",
      "    <para>gewezen op het beroep in cassatie van X wonende te Z tegen de uitspraak van het Gerechtshof te 's-Hertogenbosch van 2 februari 2010, nr. 08/00139, betreffende een beschikking op grond van de Wet waardering onroerende zaken.</para>\n",
      "  </uitspraak>\n",
      "</open-rechtspraak>\n",
      "\n"
     ]
    }
   ],
   "source": [
    "if 0: # let's have a cherry-picked example\n",
    "    bytestring = wetsuite.helpers.net.download('https://data.rechtspraak.nl/uitspraken/content?id=ECLI:NL:RBZWB:2020:5807') \n",
    "else: # or a random example   (note that a lot of them will be without text, that's normal)\n",
    "    rechtspraak_fetched = wetsuite.helpers.localdata.LocalKV('rechtspraak_fetched.db', key_type=str, value_type=bytes)\n",
    "    _, bytestring = rechtspraak_fetched.random_choice()\n",
    "    # TODO: replace with dataset\n",
    "\n",
    "example_tree = wetsuite.helpers.etree.fromstring( bytestring )\n",
    "print( wetsuite.helpers.etree.debug_pretty( example_tree ) ) # print indented\n",
    "#pprint.pprint( wetsuite.datacollect.rechtspraaknl.parse_content( example_tree ) )"
   ]
  },
  {
   "cell_type": "markdown",
   "metadata": {},
   "source": [
    "It seems \n",
    "* there are specific ideas about what should be in what structure (e.g. para in parablock in paragroup,  overview stuff in uitspraak.info)\n",
    "\n",
    "But at the same time, that structure is missing from a lot of documents.\n",
    "\n",
    "TODO: see if that's a thing over time."
   ]
  },
  {
   "cell_type": "code",
   "execution_count": null,
   "metadata": {},
   "outputs": [],
   "source": [
    "from importlib import reload\n",
    "reload(wetsuite.datacollect.rechtspraaknl)\n",
    "\n",
    "pprint.pprint(   wetsuite.datacollect.rechtspraaknl.parse_content( example_tree )   )"
   ]
  },
  {
   "cell_type": "markdown",
   "metadata": {},
   "source": [
    "## Inspect the fetched documents, looking for its text\n",
    "\n",
    "Like in the exploration of the BWB and CVDR data, let's point out there are [schemas](https://www.rechtspraak.nl/SiteCollectionDocuments/Schema-Open-Data-voor-de-Rechtspraak.zip)\n",
    "to the text's structure, but we should take a look at how they're followed or not.\n",
    "\n",
    "And, regardless of that, of how we should flatten that text when we want to,\n",
    "which we do for this dataset.\n",
    "\n",
    "One of the things we do is counting paths, like in the mentioned [cvdr_docstructure](extras_datacollect_koop_cvdr_docstructure.ipynb) and [bwb_docstructure](extras_datacollect_koop_bwb_docstructure.ipynb) notebook.\n",
    "\n",
    "As of this writing, that has guided how rechtspraaknl.parse_content() is implemented, though this needs more work."
   ]
  },
  {
   "cell_type": "code",
   "execution_count": null,
   "metadata": {},
   "outputs": [],
   "source": [
    "count_paths = collections.defaultdict(int)\n",
    "\n",
    "for key, xmldoc_bytes in rechtspraak_fetched.random_sample( 100 ): # we want a small selection to get only a reasonable amount of things to review\n",
    "    tree = wetsuite.helpers.etree.fromstring( xmldoc_bytes )\n",
    "    tree = wetsuite.helpers.etree.strip_namespace( tree )\n",
    "\n",
    "    print(  )\n",
    "    print( '-----------------------------------' )\n",
    "    print( key )\n",
    "\n",
    "    if 0: # check there's any other nodes beyond RDF, inhoudsindicatie, uitspraak, conclusie -- looks like no.\n",
    "        childnames = list( node.tag  for node in tree.findall('*') )\n",
    "        childnames.remove('RDF')\n",
    "        if 'inhoudsindicatie' in childnames:\n",
    "            childnames.remove('inhoudsindicatie')\n",
    "        if 'uitspraak' in childnames:\n",
    "            childnames.remove('uitspraak')\n",
    "        if 'conclusie' in childnames:\n",
    "            childnames.remove('conclusie')\n",
    "        if len(childnames) > 0:\n",
    "            print( childnames )\n",
    "\n",
    "    uitspraak = tree.find('uitspraak')\n",
    "    conclusie = tree.find('conclusie')\n",
    "    \n",
    "    if uitspraak is not None:\n",
    "\n",
    "        for path, count in wetsuite.helpers.etree.path_count( uitspraak ).items():\n",
    "            count_paths[path] += count\n",
    "\n",
    "        try:\n",
    "            parsed = wetsuite.datacollect.rechtspraaknl.parse_content( tree )\n",
    "            print( parsed['uitspraak'] )\n",
    "        except Exception as e:\n",
    "            print( 'ERROR', e )\n",
    "            print( wetsuite.helpers.etree.tostring(uitspraak).decode('u8') )\n",
    "            #raise\n",
    "\n",
    "    elif conclusie is not None:\n",
    "        for path, count in wetsuite.helpers.etree.path_count( conclusie ).items():\n",
    "            count_paths[path] += count\n",
    "\n",
    "        try:\n",
    "            parsed = wetsuite.datacollect.rechtspraaknl.parse_content( tree )\n",
    "            print(   parsed['conclusie'] )\n",
    "        except Exception as e:\n",
    "            print( 'ERROR', e )\n",
    "            print( wetsuite.helpers.etree.tostring(conclusie).decode('u8') )\n",
    "            #raise\n"
   ]
  },
  {
   "cell_type": "code",
   "execution_count": null,
   "metadata": {},
   "outputs": [],
   "source": [
    "# Show those counted paths\n",
    "pci = list( count_paths.items() )\n",
    "pci.sort( key=lambda x:x[0] )\n",
    "for path, count in pci:\n",
    "    print('%7d   %s'%(count, path))"
   ]
  },
  {
   "attachments": {},
   "cell_type": "markdown",
   "metadata": {},
   "source": [
    "## "
   ]
  }
 ],
 "metadata": {
  "kernelspec": {
   "display_name": "Python 3 (ipykernel)",
   "language": "python",
   "name": "python3"
  },
  "language_info": {
   "codemirror_mode": {
    "name": "ipython",
    "version": 3
   },
   "file_extension": ".py",
   "mimetype": "text/x-python",
   "name": "python",
   "nbconvert_exporter": "python",
   "pygments_lexer": "ipython3",
   "version": "3.8.10"
  },
  "vscode": {
   "interpreter": {
    "hash": "31f2aee4e71d21fbe5cf8b01ff0e069b9275f58929596ceb00d14d90e3e16cd6"
   }
  }
 },
 "nbformat": 4,
 "nbformat_minor": 4
}
