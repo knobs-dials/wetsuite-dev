{
  "cells": [
    {
      "attachments": {},
      "cell_type": "markdown",
      "metadata": {
        "colab_type": "text",
        "id": "view-in-github"
      },
      "source": [
        "<a href=\"https://colab.research.google.com/github/scarfboy/wetsuite-dev/blob/main/notebooks/extras/extras_find_references.ipynb\" target=\"_parent\"><img src=\"https://colab.research.google.com/assets/colab-badge.svg\" alt=\"Open In Colab\"/></a>"
      ]
    },
    {
      "cell_type": "code",
      "execution_count": null,
      "metadata": {},
      "outputs": [],
      "source": [
        "# (only) in colab, run this first to install wetsuite from (the most recent) source.   For your own setup, see wetsuite's install guidelines.\n",
        "!pip3 install -U --no-cache-dir --quiet https://github.com/scarfboy/wetsuite-dev/archive/refs/heads/main.zip"
      ]
    },
    {
      "attachments": {},
      "cell_type": "markdown",
      "metadata": {},
      "source": [
        "# Purpose of this notebook\n",
        "\n"
      ]
    },
    {
      "attachments": {},
      "cell_type": "markdown",
      "metadata": {},
      "source": [
        "Seeing how well you can extract references to laws and jurisprudence from relatively free-form text.\n",
        "\n",
        "To support that, there is also [references_lawnames](references_lawnames.ipynb) extracting the names of laws, including less-official references in real-world use."
      ]
    },
    {
      "attachments": {},
      "cell_type": "markdown",
      "metadata": {},
      "source": [
        "## What is our domain?\n",
        "\n",
        "\n",
        "There will be references between documents like national law, EU law, policy, jurisprudence, and other official publications.\n",
        "\n",
        "Such references rae fairly unambiguous to the pragmatic reader, and reasonably so to a mechanical reader.\n",
        "\n",
        "Extracting such references may be useful to varied tasks, \n",
        "such as finding related documents by the references they share use, \n",
        "determine the topics a document covers, \n",
        "or the authority it references, and thereby perhaps intent.\n",
        "\n",
        "\n",
        "Identifiers like ECLI, LJN, and CELEX should prove fairly easy to isolate, and should be unambiguous, being  (with footnotes).\n",
        "\n",
        "There are also names, like `Wet openbaarheid van bestuur`, that are _usually_ unambigious references. That's BWBR0005252, also known as Wob.\n",
        "\n",
        "There are also references into parts of these, like `Artikel 10, tweede lid, aanhef en onder e van de. Wet openbaarheid van bestuur`.\n",
        "\n"
      ]
    },
    {
      "cell_type": "markdown",
      "metadata": {},
      "source": [
        "\n",
        "### References into parts\n",
        "\n",
        "There are also textual references like `Artikel 10, tweede lid, aanhef en onder e van de. Wet openbaarheid van bestuur`\n",
        "or `hoofdstukken 6 tot en met 8 van de Awb`.\n",
        "\n",
        "Such references are fairly brief and clear due to various preferences mentioned in in Hoodstuk 3 Aanwijzingen voor de regelgeving,\n",
        "and in particular [§ 3.3 Aanwijzingen voor de regelgeving](https://wetten.overheid.nl/BWBR0005730/2022-04-01/#Hoofdstuk3_Paragraaf3.3)\n",
        "\n",
        "Yet in practice they are also somewhat messier, because this isn't formalized, and in the end it is peope who type these.\n",
        "Law-to-law references tend to be pretty good, but local regulations less so, \n",
        "probably for the practical reason you would double-and-triple check one more than the other. \n",
        "\n",
        "\n",
        "should be relatively uniformly formatted, so recognizble.\n",
        "\n",
        "With some extra work we could extract the text being referred to (e.g. to show in the sidelines) - or preferably some representation of the selection as you are allowed to pick a subset of parts.\n",
        "\n",
        "https://wetten.overheid.nl/BWBR0005730/2022-04-01/#Hoofdstuk3\n",
        "\n",
        "\n",
        "\n",
        "That law e.g. mentions\n",
        "* \"Indien bij het ontwerpen van een bepaling een sluitende, maar ingewikkelde formulering is gevonden, dient steeds te worden nagegaan of het niet eenvoudiger kan. Ook dient men bedacht te zijn op het weglaten van overbodige woorden. Dus bijvoorbeeld niet ‘Het bepaalde in het tweede lid van artikel 5 is van toepassing’, maar ‘Artikel 5, tweede lid, is van toepassing’.\"\n",
        "\n",
        "* How to resolve shortened, relative references (e.g. different article of a recently mentioned law)\n",
        "\n",
        "* \"De verwijzing naar een regeling wordt zo mogelijk verbijzonderd tot een verwijzing naar artikelen.\"\n",
        "\n",
        "* \"Indien dit de duidelijkheid van de verwijzing vergroot, wordt de verwijzing naar een artikel verbijzonderd tot een verwijzing naar een onderdeel van het artikel.\"\n",
        "\n",
        "* \"Afkortingen worden alleen gebruikt indien dit redelijkerwijs niet te vermijden is. Bij gebruik ervan worden zij in de begripsbepalingen opgenomen.\"\n",
        "\n",
        "Note that there is contextual brevity that is harder to resolve mechanically - see e.g [Aanwijzing 3.27 Aanwijzingen voor de regelgeving](https://wetten.overheid.nl/jci1.3:c:BWBR0005730&hoofdstuk=3&paragraaf=3.3&aanwijzing=3.27&z=2022-04-01&g=2022-04-01)\n",
        "\n",
        "\n",
        "### On leftover ambiguity\n",
        "\n",
        "It is one thing to _detect_ that there is such a reference present.\n",
        "\n",
        "...and another thing entirely to find what exactly it is to,\n",
        "because there are plenty of deviations, \n",
        "like abbreviated names,\n",
        "names that are non-unique prefixes of others,\n",
        "what year the reference was made in and what revision that implies,\n",
        "and other such issues.\n",
        "\n",
        "In practice, the complexity and completeness of such references lies on a sliding scale, of 'how hard do you want to try and how much fuzziness and mistakes will you accept?'\n",
        "\n",
        "\n",
        "If you care for more detail on that, and some solution to resolve references regardless, read things like [This bachelor thesis](https://theses.liacs.nl/pdf/2020-2021-StrijkerJLS.pdf) (and [its code](https://github.com/Strijkerr/BachelorThesis)) and things it mentions, including _M van Opijnen et al. (2015) \"[Beyond the Experiment: the eXtendable Legal Link eXtractor](https://www.google.com/search?q=Beyond%20the%20Experiment%3A%20the%20eXtendable%20Legal%20Link%20eXtractor)\"_\n",
        "\n",
        "\n"
      ]
    },
    {
      "cell_type": "markdown",
      "metadata": {},
      "source": []
    },
    {
      "cell_type": "markdown",
      "metadata": {},
      "source": [
        "\n",
        "\n",
        "### Some practical notes\n",
        "\n",
        "* References would be referring to the version valid at the time of reference, though that should be resolvable\n",
        "\n",
        "\n",
        "\n",
        "* It is useful to recognize _some_ things by document title, or less-formal but common name, which themselves can be learned e.g. from links with free-form text.\n",
        "  * This may work decently for laws, less so for policy or jurisprudence. \n",
        "    * Say, \"Rensing/Polak II\" is fairly unambiguous (even though it's not ECLI:NL:HR:2005:AT4537's name) \n",
        "    * That said, there are also various links that will be named \"Besluit\", or another name that is unique only within that document and not something we should learn generally\n",
        "\n",
        "* there are what you might short references to common and well-known laws shared throughout the community - and references to them that are what you might call global aliases\n",
        "  * Awb\n",
        "* ...but also what you might call aliases local to the scope of a document, e.g. \"the European Convention on Human Right and Fundamental Freedoms (hereinafter 'the Convention')\"\n",
        "  * which are important if you want to resolve \"article 6 of the Convention\"\n",
        "\n",
        "\n",
        "* Some of the data we have is marked up, meaning there are links that are to a formal identifier, and have a less-formal name. \n",
        "  * for example, find `extref` tags in BWB and CVDR's XML form\n",
        "\n",
        "* We also just have text that happens to be references.\n",
        "\n",
        "* perhaps the most important is actually that it is often not clear where the reference ends. A simple example\n",
        "\n",
        "\n",
        "* we have various names are less unique than full names - e.g. [ECLI:NL:PHR:2022:1043](https://linkeddata.overheid.nl/front/portal/spiegel-lijstweergave?id=http%3A%2F%2Flinkeddata.overheid.nl%2Fterms%2Fjurisprudentie%2Fid%2FECLI%3ANL%3APHR%3A2022%3A1043) refers to [Stb. 2001, 580](https://zoek.officielebekendmakingen.nl/stb-2001-580.html), which may be _unambiguously_ called \"Wet van 6 december 2001 tot herziening van het procesrecht voor burgerlijke zaken, in het bijzonder de wijze van procederen in eerste aanleg\", but will probably be called something like \"herziening procesrecht\"\n",
        "\n",
        "* You could look for very specific text patterns, but things like regexps are likely to break under even minor variation\n",
        "  * something like [PEG](https://en.wikipedia.org/wiki/Parsing_expression_grammar)s are preferable\n",
        "\n",
        "\n",
        "\n",
        "* Not all references hade the same function. Consider \"Commission Directive 2014/110/EU of 17 December 2014 amending Directive 2004/33/EC as regards ...\" or \"The substantive provisions of Directive 2004/33/EC were not affected by its amendment by Directive 2014/110/EU ...\" - it would not be hard to take out both references, but it is is up to you to notice that in terms of interpretation, one is referred to, and the other is only mentioned for completeness, or to decide there is a difference between mentions, supporing references, etc.\n",
        "\n"
      ]
    },
    {
      "cell_type": "code",
      "execution_count": 14,
      "metadata": {},
      "outputs": [
        {
          "name": "stdout",
          "output_type": "stream",
          "text": [
            "\n",
            "=== '  artikel 81q lid 3c Gemeentewet  ' ===\n",
            "SOFAR      [ARTIKEL 81Q] lid 3c Gemeentewet\n",
            "MATCHED type=lid                 :   'lid 3c'                   1 chars after \n",
            "SOFAR      [ARTIKEL 81Q LID 3C] Gemeentewet\n",
            "Matched: ''\n",
            "               'artikel':  '81q'\n",
            "                   'lid':  '3c'\n",
            "               'lid_num':  []\n",
            "\n",
            "=== 'artikel 2, eerste, tweede, vijfde, en zesenzestigste lid' ===\n",
            "SOFAR      [ARTIKEL 2], eerste, tweede, vijfde, en zesenzestigste lid\n",
            "MATCHED type=lid                 :   'eerste, tweede, vijfde, en zesenzestigste lid'  2 chars after \n",
            "SOFAR      [ARTIKEL 2, EERSTE, TWEEDE, VIJFDE, EN ZESENZESTIGSTE LID]\n",
            "Matched: 'eerste, tweede, vijfde, en zesenzestigste'\n",
            "               'artikel':  '2'\n",
            "                   'lid':  'eerste, tweede, vijfde, en zesenzestigste'\n",
            "               'lid_num':  [1, 2, 5, 66]\n"
          ]
        }
      ],
      "source": [
        "import pprint, textwrap\n",
        "from importlib import reload\n",
        "\n",
        "import wetsuite.helpers.patterns\n",
        "reload( wetsuite.helpers.patterns )\n",
        "\n",
        "for test in [\n",
        "    #'artikel 5:9, aanhef en onder b, Awb',\n",
        "    #'artikel 8, aanhef en onder c, Wet bescherming persoonsgegevens (Wbp).',\n",
        "    #'artikel 10, tweede lid, aanhef en onder e, van de Wob',\n",
        "    #\"artikel 4, tweede lid, aanhef en onder d, van het reglement van orde voor de ministerraad\",\n",
        "    #\"Artikel 10, tweede lid, aanhef en onder e van de. Wet openbaarheid van bestuur\",\n",
        "    #\"artikel 6:80 lid 1 aanhef en onder b BW\",\n",
        "    #'artikel 4, aanhef en onder d en g, van de standaardvoorwaarden',\n",
        "    #'artikel 3.3, zevende lid, aanhef en onder i, Woo',\n",
        "    #'artikel 15, aanhef en onder a of c (oud) RWN',\n",
        "\n",
        "    '  artikel 81q lid 3c Gemeentewet  ',\n",
        "    #'artikel 4:25, 4:35 van de Awb en artikel 10 van de ASV',\n",
        "    #'Wabo, art. 2.12, eerste lid, aanhef en onder a, sub 1\\xBA',\n",
        "    #'artikel 79, aanhef en onder 6\\xBA',\n",
        "    #'artikel 3.3, zevende lid jo. vijfde lid, aanhef en onder i, Woo',\n",
        "    #'artikel 142, eerste lid, aanhef en onder b (en derde lid), van het Wetboek van Strafvordering',\n",
        "    'artikel 2, eerste, tweede, vijfde, en zesenzestigste lid',\n",
        "    #'art. 166 lid 1 in verbinding met art. 353 lid 1 Rv',\n",
        "\n",
        "    # '(Art. 81 RO)',\n",
        "    # '(als bedoeld in art. 22 Rv.)',\n",
        "    # 'artikel 166 Rv',\n",
        "    # 'artikel 3:303 BW',\n",
        "    # 'artikel 22 Rv',\n",
        "    # 'artikel 4, tweede lid, aanhef en onder d, van het reglement van orde voor de ministerraad',\n",
        "    # 'artikel 5:9, aanhef en onder b, Awb',\n",
        "    # 'artikel 8, aanhef en onder c, Wet bescherming persoonsgegevens (Wbp)',\n",
        "    # 'artikel 10, tweede lid, aanhef en onder e, van de Wob',\n",
        "    # 'artikel 4, tweede lid, aanhef en onder d, van het reglement van orde voor de ministerraad',\n",
        "    # 'Artikel 10, tweede lid, aanhef en onder e van de. Wet openbaarheid van bestuur',\n",
        "    # 'artikel 6:80 lid 1 aanhef en onder b BW',\n",
        "    # 'artikel 142, eerste lid, aanhef en onder b (en derde lid), van het Wetboek van Strafvordering',\n",
        "    # 'artikel 4, aanhef en onder d en g, van de standaardvoorwaarden',\n",
        "    # 'artikel 3.3, zevende lid, aanhef en onder i, Woo',\n",
        "    # 'artikel 3.3, zevende lid jo. vijfde lid, aanhef en onder i, Woo',\n",
        "    # 'artikel 79, aanhef en onder 6\\xBA',\n",
        "    # 'artikel 15, aanhef en onder a of c (oud) RWN',\n",
        "    # 'Wabo, art. 2.12, eerste lid, aanhef en onder a, sub 1\\xBA',\n",
        "    # 'artikel 2, eerste, tweede, en vijfde lid, gestelde eisen voldoen. (Artikel 3, eerste lid, van de Tabaks- en rookwarenwet)',\n",
        "    # 'artikel 2, eerste, tweede, vijfde, even zesenzestigste lid',\n",
        "\n",
        "\n",
        "    #'LJN: AO7817, NJ 2005, 270',\n",
        "    #'LJN: BO6106',\n",
        "    #'LJN: ZC2793, NJ 1999, 685',\n",
        "    #'LJN: AW2089, NJ 2006, 327',\n",
        "]:\n",
        "    #print()\n",
        "    print()\n",
        "    print( '=== %r ==='%test )\n",
        "    matches = wetsuite.helpers.patterns.find_nonidentifier_references( test, debug=1 )\n",
        "    for match in matches:\n",
        "        #print( match )\n",
        "        print('Matched: %r'%match['text'])\n",
        "        #print('Details:')\n",
        "        for k, v in match['details'].items():\n",
        "            print( '    %20r:  %-r'%(k, v) )"
      ]
    },
    {
      "cell_type": "code",
      "execution_count": 1,
      "metadata": {},
      "outputs": [],
      "source": [
        "# Getting some names"
      ]
    },
    {
      "attachments": {},
      "cell_type": "markdown",
      "metadata": {},
      "source": [
        "\n",
        "***LiDo*** extracts a number of such references. For example, for\n",
        "  https://linkeddata.overheid.nl/document/ECLI:NL:PHR:2011:BP5608\n",
        "resolves law references like \n",
        "- (Art. 81 RO)\n",
        "- (als bedoeld in art. 22 Rv.)\n",
        "- art. 166 lid 1 in verbinding met art. 353 lid 1 Rv\n",
        "- artikel 166 Rv\n",
        "- artikel 3:303 BW\n",
        "- artikel 22 Rv\n",
        "\n",
        "- Wetboek van Burgerlijke Rechtsvordering, Artikel 353\n",
        "- Wetboek van Burgerlijke Rechtsvordering, Artikel 22\n",
        "- Wetboek van Burgerlijke Rechtsvordering, Artikel 166\n",
        "- Wet op de rechterlijke organisatie, Artikel 81\n",
        "- Burgerlijk Wetboek Boek 3, Artikel 303\n",
        "\n",
        "and jurisprudence references (LJNs can be looked up to ELCI)\n",
        "- LJN: AO7817, NJ 2005, 270\n",
        "- LJN: BO6106\n",
        "- LJN: ZC2793, NJ 1999, 685\n",
        "- LJN: AW2089, NJ 2006, 327\n",
        "\n",
        "- ECLI:NL:HR:2011:BP5608 - Hoge Raad, 27-05-2011 / 09/04566\n",
        "- ECLI:NL:HR:2011:BO6106 - Hoge Raad, 28-01-2011 / 10/00698\n",
        "- ECLI:NL:HR:2006:AW2089 - Hoge Raad, 09-06-2006 / C05/082HR\n",
        "- ECLI:NL:HR:2004:AO7817 - Hoge Raad, 09-07-2004 / C03/079HR\n",
        "- ECLI:NL:HR:1998:ZC2793 - Hoge Raad, 27-11-1998 / 9016 (C97/081)\n",
        "- ECLI:CE:ECHR:1986:1017JUD000953281 - Europees Hof voor de Rechten van de Mens, 17-10-1986 CASE OF REES v. THE UNITED KINGDOM 9532/81\n",
        "\n",
        "If you want that as data, consider \n",
        "http://linkeddata.overheid.nl/service/get-links?ext-id=ECLI:NL:PHR:2011:BP5608&output=xml\n",
        "though as \n",
        "https://linkeddata.overheid.nl/front/portal/services \n",
        "notes, this is not part of public LiDo so you'll need to request an account first\n",
        "\n",
        "\n",
        "\n"
      ]
    },
    {
      "attachments": {},
      "cell_type": "markdown",
      "metadata": {},
      "source": [
        "\n",
        "\n",
        "For example, \n",
        "- \"artikel 4, tweede lid, aanhef en onder d, van het reglement van orde voor de ministerraad\" would give something like\n",
        "   - BWBR0006501 \n",
        "   - https://wetten.overheid.nl/jci1.3:c:BWBR0006501&artikel=4    or\n",
        "     https://wetten.overheid.nl/jci1.3:c:BWBR0006501&paragraaf=2&artikel=4\n",
        "   - jci1.3:c:BWBR0006501&paragraaf=2&artikel=4\n",
        "   - ['4', \n",
        "      '2', \n",
        "      'Te dien einde beraadslaagt en besluit de raad onder meer over:', \n",
        "      'het bekendheid geven aan beleidsvoornemens in welke vorm dan ook, die van invloed kunnen zijn op de positie van het kabinet, '\n",
        "      'of die belangrijke financiële consequenties kunnen hebben, benevens over beleidsvoornemens van een minister die het beleid van '\n",
        "      'andere ministers kunnen raken en waarover het bereiken van overeenstemming niet mogelijk is gebleken;'\n",
        "     ]\n",
        "\n",
        "- Internal references, e.g. BWBR0004302's artikel 3, lid 1 has \"artikel 2, eerste, tweede, en vijfde lid\" which in that context ought to give\n",
        "   - ['2', \n",
        "      ['1', '2', '5'], \n",
        "      ['Bij of krachtens algemene maatregel van bestuur worden in het belang van de volksgezondheid eisen gesteld aan tabaksproducten, ',\n",
        "       'elektronische dampwaar, nicotinehoudende vloeistof en niet-nicotinehoudende vloeistof met betrekking tot maximumemissieniveaus ',\n",
        "       'en ingrediënten en worden technische eisen gesteld, en kunnen methoden van onderzoek worden aangewezen die bij uitsluiting ',\n",
        "       'beslissend zijn voor de vaststelling of met betrekking tot een product al dan niet aan de daaraan gestelde eisen is voldaan.,\n",
        "\n",
        "              Bij of krachtens algemene maatregel van bestuur worden in het belang van de volksgezondheid eisen gesteld aan de verpakkingseenheid en de buitenverpakking van tabaksproducten en aanverwante producten. De eisen hebben betrekking op:\n",
        "\n",
        "          a. de aanduidingen op verpakkingseenheden en buitenverpakkingen;\n",
        "\n",
        "          b. de hoeveelheid of het aantal stuks dat is verpakt;\n",
        "\n",
        "          c. de presentatie van het product;\n",
        "\n",
        "          d. de sluiting, vorm, afmetingen en materiaal van de verpakkingseenheid of de buitenverpakking; en\n",
        "\n",
        "          e. andere elementen van de verpakkingseenheid en de buitenverpakking die gebruikt kunnen worden om een onderscheid te maken tussen de verschillende merken van een tabaksproduct of een aanverwant product.\n",
        "\n",
        "       'De verpakkingseenheid van elektronische dampwaar bevat een bijsluiter. Onze Minister stelt nadere regels over de inhoud van de bijsluiter.'\n",
        "      ]\n",
        "     ]\n"
      ]
    },
    {
      "cell_type": "code",
      "execution_count": 4,
      "metadata": {},
      "outputs": [],
      "source": [
        "## Looking for clearer cases"
      ]
    },
    {
      "cell_type": "code",
      "execution_count": 3,
      "metadata": {},
      "outputs": [
        {
          "name": "stdout",
          "output_type": "stream",
          "text": [
            "MATCHED type=aanhefonder         :   'aanhef en onder b'        2 chars after \n"
          ]
        },
        {
          "data": {
            "text/plain": [
              "[{'text': 'artikel 5:9, aanhef en onder b',\n",
              "  'details': OrderedDict([('artikel', '5:9'),\n",
              "               ('aanhefonder', 'aanhef en onder b')])}]"
            ]
          },
          "execution_count": 3,
          "metadata": {},
          "output_type": "execute_result"
        }
      ],
      "source": [
        "from wetsuite.helpers.patterns import reference_parse\n",
        "reference_parse('artikel 5:9, aanhef en onder b, Awb')"
      ]
    },
    {
      "attachments": {},
      "cell_type": "markdown",
      "metadata": {},
      "source": [
        "### Going further\n",
        "\n"
      ]
    },
    {
      "attachments": {},
      "cell_type": "markdown",
      "metadata": {},
      "source": [
        "## Learning from LiDo"
      ]
    },
    {
      "attachments": {},
      "cell_type": "markdown",
      "metadata": {},
      "source": [
        "\n",
        "https://linkeddata.overheid.nl/front/portal/spiegel-lijstweergave?id=http%3A%2F%2Flinkeddata.overheid.nl%2Fterms%2Fjurisprudentie%2Fid%2FECLI%3ANL%3APHR%3A2011%3ABP5608&callback=&dates=&fields=&fq=%7B%21tag%3Dlink_richting%7Dlink_richting%3A%22inkomend%22&facet.field=%7B%21ex%3Dlink_richting%7Dlink_richting&facet.field=%7B%21ex%3Dobj_type%7Dobj_type&facet.field=%7B%21ex%3Dobj_organisatie_groep%7Dobj_organisatie_groep&facet.field=%7B%21ex%3Dobj_organisatie%7Dobj_organisatie&facet.field=%7B%21ex%3Dlink_type%7Dlink_type&facet.field=%7B%21ex%3Dobj_jaar%7Dobj_jaar\n",
        "\n"
      ]
    },
    {
      "cell_type": "code",
      "execution_count": null,
      "metadata": {},
      "outputs": [],
      "source": [
        "\n",
        "\n",
        "import urllib.parse\n",
        "\n",
        "urllib.parse.parse_qs('id=http%3A%2F%2Flinkeddata.overheid.nl%2Fterms%2Fjurisprudentie%2Fid%2FECLI%3ANL%3APHR%3A2011%3ABP5608&callback=&dates=&fields=&fq=%7B%21tag%3Dlink_richting%7Dlink_richting%3A%22inkomend%22&facet.field=%7B%21ex%3Dlink_richting%7Dlink_richting&facet.field=%7B%21ex%3Dobj_type%7Dobj_type&facet.field=%7B%21ex%3Dobj_organisatie_groep%7Dobj_organisatie_groep&facet.field=%7B%21ex%3Dobj_organisatie%7Dobj_organisatie&facet.field=%7B%21ex%3Dlink_type%7Dlink_type&facet.field=%7B%21ex%3Dobj_jaar%7Dobj_jaar')\n",
        "\n",
        "\n",
        "\n",
        "\n",
        "\n",
        "\n",
        "\n"
      ]
    }
  ],
  "metadata": {
    "colab": {
      "include_colab_link": true,
      "provenance": []
    },
    "kernelspec": {
      "display_name": "Python 3",
      "language": "python",
      "name": "python3"
    },
    "language_info": {
      "codemirror_mode": {
        "name": "ipython",
        "version": 3
      },
      "file_extension": ".py",
      "mimetype": "text/x-python",
      "name": "python",
      "nbconvert_exporter": "python",
      "pygments_lexer": "ipython3",
      "version": "3.8.10"
    },
    "vscode": {
      "interpreter": {
        "hash": "31f2aee4e71d21fbe5cf8b01ff0e069b9275f58929596ceb00d14d90e3e16cd6"
      }
    }
  },
  "nbformat": 4,
  "nbformat_minor": 0
}
