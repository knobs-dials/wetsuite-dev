{
 "cells": [
  {
   "cell_type": "code",
   "execution_count": 16,
   "metadata": {},
   "outputs": [],
   "source": [
    "import collections, pprint, random\n",
    "\n",
    "import wetsuite.datasets\n",
    "import wetsuite.helpers.etree\n",
    "import wetsuite.helpers.koop_parse"
   ]
  },
  {
   "attachments": {},
   "cell_type": "markdown",
   "metadata": {},
   "source": [
    "## CVDR"
   ]
  },
  {
   "cell_type": "code",
   "execution_count": 28,
   "metadata": {},
   "outputs": [],
   "source": [
    "\n",
    "cvdr_xml = wetsuite.datasets.load('cvdr-mostrecent-xml')\n",
    "\n",
    "cvdr_parsed = [] # list of (source url, etree object) tuples\n",
    "\n",
    "cvdr_urls = cvdr_xml.data.keys()\n",
    "cvdr_urls_subset = random.sample(cvdr_urls, 2000) # 160K is a bit much in RAM, and a sizeable random selection should be enough\n",
    "\n",
    "for cvdr_url in cvdr_urls_subset: \n",
    "    bytestring = cvdr_xml.data.get( cvdr_url )\n",
    "    tree = wetsuite.helpers.etree.fromstring( bytestring )\n",
    "    tree = wetsuite.helpers.etree.strip_namespace( tree )\n",
    "    meta = wetsuite.helpers.koop_parse.cvdr_meta( tree, flatten=True )\n",
    "    tables = tree.xpath('//table')\n",
    "    if len(tables)>0:\n",
    "        cvdr_parsed.append( (cvdr_url, tree, meta['identifier'], tables) )\n",
    "\n",
    "#cvdr_parsed"
   ]
  },
  {
   "attachments": {},
   "cell_type": "markdown",
   "metadata": {},
   "source": [
    "### Figure out which things have tables\n",
    "\n",
    "and roughly how many and roughly are where they are in the document"
   ]
  },
  {
   "cell_type": "code",
   "execution_count": 29,
   "metadata": {},
   "outputs": [
    {
     "name": "stdout",
     "output_type": "stream",
     "text": [
      "2693 tables in 519 (of 2000) CVDRs \n"
     ]
    }
   ],
   "source": [
    "print(\"%d tables in %d (of %d) CVDRs \"%( \n",
    "    sum( len(tables)   for cvdr_url, tree, exprid, tables in cvdr_parsed ),\n",
    "    len( cvdr_parsed ),\n",
    "    len( cvdr_urls_subset )\n",
    "))"
   ]
  },
  {
   "cell_type": "code",
   "execution_count": 42,
   "metadata": {},
   "outputs": [],
   "source": [
    "cvdr_parent_names_count = collections.defaultdict( int )\n",
    "\n",
    "for cvdr_url, tree, exprid, tables in cvdr_parsed:\n",
    "    parent_names = list(table.getparent().tag  for table in tables)\n",
    "    #print( '%-20s %s'%( exprid, ', '.join( parent_names  ) ))\n",
    "    for parent_name in parent_names:\n",
    "        cvdr_parent_names_count[parent_name] += 1\n",
    "\n",
    "#pprint.pprint( list(cvdrs_with_table.items()) )"
   ]
  },
  {
   "cell_type": "code",
   "execution_count": 43,
   "metadata": {},
   "outputs": [
    {
     "data": {
      "text/plain": [
       "defaultdict(int,\n",
       "            {'artikel': 724,\n",
       "             'structuurtekst': 439,\n",
       "             'bijlage': 1122,\n",
       "             'lid': 97,\n",
       "             'nota-toelichting': 144,\n",
       "             'li': 79,\n",
       "             'tekst': 19,\n",
       "             'divisie': 69})"
      ]
     },
     "execution_count": 43,
     "metadata": {},
     "output_type": "execute_result"
    }
   ],
   "source": [
    "cvdr_parent_names_count"
   ]
  },
  {
   "attachments": {},
   "cell_type": "markdown",
   "metadata": {},
   "source": [
    "## BWB"
   ]
  },
  {
   "attachments": {},
   "cell_type": "markdown",
   "metadata": {},
   "source": [
    "Make a preselection of BWBRs with tables, so that we don't have to this each time\n",
    "\n",
    "At the same time, get an idea of what node that table is nested in."
   ]
  },
  {
   "cell_type": "code",
   "execution_count": null,
   "metadata": {},
   "outputs": [],
   "source": [
    "# load BWB documents\n",
    "#   there are currently roughly 37k active toestanden.   \n",
    "#   all of it in one go takes a while, and takes a lot of RAM, so let's make a selection.\n",
    "\n",
    "bwb_parsed = []\n",
    "\n",
    "bwb_xml = wetsuite.datasets.load('bwb-mostrecent-xml')\n",
    "bwb_urls = bwb_xml.data.keys()\n",
    "bwb_urls_subset = random.sample(bwb_urls, 50)\n",
    "\n",
    "for bwb_url in bwb_urls_subset:\n",
    "    bytestring = bwb_xml.data.get( bwb_url )\n",
    "    tree = wetsuite.helpers.etree.fromstring( bytestring )\n",
    "    tree = wetsuite.helpers.etree.strip_namespace( tree )\n",
    "    bwb_parsed.append( (bwb_url, tree) )\n",
    "\n",
    "    meta = wetsuite.helpers.koop_parse.bwb_toestand_usefuls( tree )\n",
    "    tables = tree.xpath('//table')\n",
    "    print(meta)\n",
    "    if len(tables)>0:\n",
    "        bwb_parsed.append( (bwb_url, tree, meta['bwb-id'], tables) )\n",
    "\n",
    "print('DONE parsing %d items'%len(bwb_parsed))"
   ]
  },
  {
   "cell_type": "code",
   "execution_count": 40,
   "metadata": {},
   "outputs": [
    {
     "data": {
      "text/plain": [
       "defaultdict(int,\n",
       "            {'artikel': 724,\n",
       "             'structuurtekst': 439,\n",
       "             'bijlage': 1122,\n",
       "             'lid': 97,\n",
       "             'nota-toelichting': 144,\n",
       "             'li': 79,\n",
       "             'tekst': 19,\n",
       "             'divisie': 69})"
      ]
     },
     "execution_count": 40,
     "metadata": {},
     "output_type": "execute_result"
    }
   ],
   "source": [
    "bwb_parent_names_count = collections.defaultdict( int )\n",
    "\n",
    "for cvdr_url, tree, bwbid, tables in cvdr_parsed:\n",
    "    parent_names = list(table.getparent().tag   for table in tables)\n",
    "    for parent_name in parent_names:\n",
    "        bwb_parent_names_count[parent_name] += 1\n",
    "\n",
    "bwb_parent_names_count\n",
    "#pprint.pprint( list(cvdrs_with_table.items()) )"
   ]
  },
  {
   "attachments": {},
   "cell_type": "markdown",
   "metadata": {},
   "source": [
    "The tables seem to be DocBook style, see e.g. \n",
    "https://www.oasis-open.org/docbook/documentation/reference/html/table.html\n",
    "https://tdg.docbook.org/tdg/4.5/table.html\n",
    "\n",
    "but maybe just grab the rendered version and use pandas?\n",
    "https://pbpython.com/pandas-html-table.html"
   ]
  },
  {
   "cell_type": "code",
   "execution_count": null,
   "metadata": {},
   "outputs": [],
   "source": []
  }
 ],
 "metadata": {
  "kernelspec": {
   "display_name": "Python 3",
   "language": "python",
   "name": "python3"
  },
  "language_info": {
   "codemirror_mode": {
    "name": "ipython",
    "version": 3
   },
   "file_extension": ".py",
   "mimetype": "text/x-python",
   "name": "python",
   "nbconvert_exporter": "python",
   "pygments_lexer": "ipython3",
   "version": "3.8.10"
  },
  "vscode": {
   "interpreter": {
    "hash": "31f2aee4e71d21fbe5cf8b01ff0e069b9275f58929596ceb00d14d90e3e16cd6"
   }
  }
 },
 "nbformat": 4,
 "nbformat_minor": 4
}
