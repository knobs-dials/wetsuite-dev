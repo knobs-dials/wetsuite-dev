{
 "cells": [
  {
   "attachments": {},
   "cell_type": "markdown",
   "metadata": {
    "colab_type": "text",
    "id": "view-in-github"
   },
   "source": [
    "<a href=\"https://colab.research.google.com/github/scarfboy/wetsuite-dev/blob/main/notebooks/extras/extras_diagnose_kamervragen.ipynb\" target=\"_parent\"><img src=\"https://colab.research.google.com/assets/colab-badge.svg\" alt=\"Open In Colab\"/></a>"
   ]
  },
  {
   "cell_type": "code",
   "execution_count": null,
   "metadata": {},
   "outputs": [],
   "source": [
    "# on colab, start with\n",
    "!pip --quiet install https://github.com/scarfboy/wetsuite-dev/archive/refs/heads/main.zip"
   ]
  },
  {
   "attachments": {},
   "cell_type": "markdown",
   "metadata": {},
   "source": [
    "# Purpose of this notebook\n",
    "\n",
    "Inspect how many cases of question-asnwer mismatch are there in the `kamervragen` dataset."
   ]
  },
  {
   "cell_type": "code",
   "execution_count": null,
   "metadata": {
    "id": "LzNo0r36x610"
   },
   "outputs": [],
   "source": [
    "import wetsuite.datasets\n",
    "\n",
    "kamervragen = wetsuite.datasets.load('kamervragen-struc')"
   ]
  },
  {
   "cell_type": "code",
   "execution_count": 1,
   "metadata": {
    "colab": {
     "base_uri": "https://localhost:8080/"
    },
    "id": "M3RzMwNJx8rE",
    "outputId": "dce7076a-332a-4545-efe9-c8c26b0e0bdc"
   },
   "outputs": [
    {
     "ename": "NameError",
     "evalue": "name 'kamervragen' is not defined",
     "output_type": "error",
     "traceback": [
      "\u001B[0;31m---------------------------------------------------------------------------\u001B[0m",
      "\u001B[0;31mNameError\u001B[0m                                 Traceback (most recent call last)",
      "Cell \u001B[0;32mIn[1], line 1\u001B[0m\n\u001B[0;32m----> 1\u001B[0m \u001B[38;5;28mprint\u001B[39m(\u001B[43mkamervragen\u001B[49m\u001B[38;5;241m.\u001B[39mdescription)\n",
      "\u001B[0;31mNameError\u001B[0m: name 'kamervragen' is not defined"
     ]
    }
   ],
   "source": [
    "print(kamervragen.description)"
   ]
  },
  {
   "attachments": {},
   "cell_type": "markdown",
   "metadata": {
    "id": "Y66q-Nflyf3X"
   },
   "source": [
    "# How many cases are there of grouped answers leading to mismatches in numbering?"
   ]
  },
  {
   "cell_type": "code",
   "execution_count": null,
   "metadata": {
    "colab": {
     "base_uri": "https://localhost:8080/"
    },
    "id": "0N77IcqYyWv6",
    "outputId": "3288a67b-062b-42bf-ec8f-4eae7f232810"
   },
   "outputs": [
    {
     "name": "stdout",
     "output_type": "stream",
     "text": [
      "Matched: 219302     Not matched: 12259\n"
     ]
    }
   ],
   "source": [
    "mismatched_qa, matched_qa = 0,0\n",
    "\n",
    "for id, details in list(kamervragen.data.items()):\n",
    "    vraagdata = details['vraagdata']\n",
    "\n",
    "    vraag_numbers = set()\n",
    "    antwoord_numbers = set()\n",
    "\n",
    "    for qa_number in vraagdata:\n",
    "        if 'vraag' in vraagdata[qa_number]:\n",
    "            vraag_numbers.add( qa_number )\n",
    "        if 'antwoord' in vraagdata[qa_number]:\n",
    "            antwoord_numbers.add( qa_number )\n",
    "\n",
    "        diff = vraag_numbers.symmetric_difference( antwoord_numbers )\n",
    "        if len(diff) == 0:\n",
    "            matched_qa    += 1\n",
    "        else:\n",
    "            mismatched_qa += 1\n",
    "            if 0:  # showing all cases in the dataset would be very spammy\n",
    "                print('\\n=== %s ==='%id)\n",
    "                print(\"Vragen:     %s\"%sorted(vraag_numbers))\n",
    "                print(\"Antwoorden: %s\"%sorted(antwoord_numbers))\n",
    "                print(\"Difference: %s\"%sorted(diff))\n",
    "                print( details['urls'][-1] )  # mention the document we used, so we can look at it\n",
    "\n",
    "print( f\"Matched: {matched_qa}     Not matched: {mismatched_qa}\" )"
   ]
  }
 ],
 "metadata": {
  "colab": {
   "authorship_tag": "ABX9TyO+5TnRPxrWr55PNGdM9+C2",
   "include_colab_link": true,
   "provenance": []
  },
  "kernelspec": {
   "display_name": "Python 3",
   "name": "python3"
  },
  "language_info": {
   "name": "python"
  }
 },
 "nbformat": 4,
 "nbformat_minor": 0
}
