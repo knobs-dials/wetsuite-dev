{
 "cells": [
  {
   "attachments": {},
   "cell_type": "markdown",
   "metadata": {
    "colab_type": "text",
    "id": "view-in-github"
   },
   "source": [
    "<a href=\"https://colab.research.google.com/github/knobs-dials/wetsuite-dev/blob/main/notebooks/extras/extras_diagnose_kamervragen.ipynb\" target=\"_parent\"><img src=\"https://colab.research.google.com/assets/colab-badge.svg\" alt=\"Open In Colab\"/></a>"
   ]
  },
  {
   "cell_type": "code",
   "execution_count": null,
   "metadata": {},
   "outputs": [],
   "source": [
    "# (only) in colab, run this first to install wetsuite from (the most recent) source.   For your own setup, see wetsuite's install guidelines.\n",
    "!pip3 install -U --no-cache-dir --quiet https://github.com/scarfboy/wetsuite-dev/archive/refs/heads/main.zip"
   ]
  },
  {
   "attachments": {},
   "cell_type": "markdown",
   "metadata": {},
   "source": [
    "# Purpose of this notebook\n",
    "\n",
    "Inspect how many cases of question-asnwer mismatch are there in the `kamervragen` dataset."
   ]
  },
  {
   "cell_type": "code",
   "execution_count": 2,
   "metadata": {
    "id": "LzNo0r36x610"
   },
   "outputs": [],
   "source": [
    "import wetsuite.datasets\n",
    "\n",
    "kamervragen = wetsuite.datasets.load('kamervragen-struc')"
   ]
  },
  {
   "cell_type": "code",
   "execution_count": 3,
   "metadata": {
    "colab": {
     "base_uri": "https://localhost:8080/"
    },
    "id": "M3RzMwNJx8rE",
    "outputId": "dce7076a-332a-4545-efe9-c8c26b0e0bdc"
   },
   "outputs": [
    {
     "name": "stdout",
     "output_type": "stream",
     "text": [
      "\n",
      "    Questions from members of the parliament (at the moment only tweede kamer) to the government.\n",
      "\n",
      "    Source: The KOOP SRU repositories,  specifically the ah-tk documents (aanhangsels, tweede kamer) within the officielepublicaties set.\n",
      "    Restricted to documents that contain answers (ignoring documents that are only the questions, or only a note that they will be answered later)\n",
      "\n",
      "    The structure of .data looks something like:\n",
      "       {'ah-tk-20102011-2857': {\n",
      "            'identifier': 'ah-tk-20102011-2857',\n",
      "            'urls':   [ 'https://repository.overheid.nl/frbr/officielepublicaties/ah-tk/20102011/ah-tk-20102011-2857/1/metadata/metadata.xml',\n",
      "                        'https://repository.overheid.nl/frbr/officielepublicaties/ah-tk/20102011/ah-tk-20102011-2857/1/xml/ah-tk-20102011-2857.xml',\n",
      "                        ... \n",
      "                      ],\n",
      "            'issued':       '2011-06-17',\n",
      "            'available':    '2011-06-23',\n",
      "            'vergaderjaar': '2010-2011',\n",
      "            'category':     'Zorg en gezondheid | Jongeren',\n",
      "            'type':         ['officiële publicatie', 'Antwoord', 'Aanhangsel van de Handelingen'],\n",
      "            'indiener':     ['A.G. Wolbert'],\n",
      "            'ontvanger':    ['M.L.L.E. Veldhuijzen van Zanten-Hyllner'],\n",
      "            'vraagdata':    {\n",
      "                '1': {\n",
      "                      'vraag':    ['Bent u bekend met de tv-uitzending, waarin o.a. de moeder van Lucas haar verhaal doet?', '<vraag> Bent ...']\n",
      "                   'antwoord':    ['Ja.',  '<antwoord> Ja. ...']\n",
      "                },\n",
      "                '2': {\n",
      "                      'vraag':    ['Staat u nog steeds achter het principe dat mensen mogen kiezen uit zorg in een instelling en/of natura?', '<vraag> ...']]\n",
      "                   'antwoord':    ['Mijn uitgangspunt blijft dat cliënten mogen kiezen bij welke zorgaanbieder zij de zorg in natura willen afnemen.', '<antwoord> ...']]\n",
      "                },\n",
      "       }}\n",
      "\n",
      "    Note that \n",
      "    * the 'vraag' and 'antwoord' give a list of two items:\n",
      "      * plain text, stripped of some references and notes, to have more natural text\n",
      "      * the XML fragment it was taken from, in case you care about those referencs and notes\n",
      "\n",
      "    * the keys in vraagdata are strings, not numbers directly, because...\n",
      "\n",
      "    * questions and/or answers may be grouped, so you may e.g. see questions numbered '5' and '6' and an answer '5 6'.\n",
      "      In this data structure, that means '5' and '6' will have only a 'vraag', and '5 6' will have only an 'antwoord'.\n",
      "      This affects roughly 5% of questions.\n",
      "\n",
      "    * The URLs mentioned are those that were actually used.  There are more, e.g. .pdf, .odt, html, and owms metadata\n",
      "\n",
      "\n",
      "    TODO:\n",
      "    * There are non-numbered questions in the XML, currently omitted - investigate\n",
      "    * summarize how complete this data is with its source in general\n",
      "    * there are mistakes in the XML we could fix (e.g. use of al instead of nr) \n",
      "    \n"
     ]
    }
   ],
   "source": [
    "print(kamervragen.description)"
   ]
  },
  {
   "attachments": {},
   "cell_type": "markdown",
   "metadata": {
    "id": "Y66q-Nflyf3X"
   },
   "source": [
    "# How many cases are there of grouped answers leading to mismatches in numbering?"
   ]
  },
  {
   "cell_type": "code",
   "execution_count": 4,
   "metadata": {
    "colab": {
     "base_uri": "https://localhost:8080/"
    },
    "id": "0N77IcqYyWv6",
    "outputId": "3288a67b-062b-42bf-ec8f-4eae7f232810"
   },
   "outputs": [
    {
     "name": "stdout",
     "output_type": "stream",
     "text": [
      "Matched: 219302     Not matched: 12259\n"
     ]
    }
   ],
   "source": [
    "mismatched_qa, matched_qa = 0,0\n",
    "\n",
    "for id, details in list(kamervragen.data.items()):\n",
    "    vraagdata = details['vraagdata']\n",
    "\n",
    "    vraag_numbers = set()\n",
    "    antwoord_numbers = set()\n",
    "\n",
    "    for qa_number in vraagdata:\n",
    "        if 'vraag' in vraagdata[qa_number]:\n",
    "            vraag_numbers.add( qa_number )\n",
    "        if 'antwoord' in vraagdata[qa_number]:\n",
    "            antwoord_numbers.add( qa_number )\n",
    "\n",
    "        diff = vraag_numbers.symmetric_difference( antwoord_numbers )\n",
    "        if len(diff) == 0:\n",
    "            matched_qa    += 1\n",
    "        else:\n",
    "            mismatched_qa += 1\n",
    "            if 0:  # showing all cases in the dataset would be very spammy\n",
    "                print('\\n=== %s ==='%id)\n",
    "                print(\"Vragen:     %s\"%sorted(vraag_numbers))\n",
    "                print(\"Antwoorden: %s\"%sorted(antwoord_numbers))\n",
    "                print(\"Difference: %s\"%sorted(diff))\n",
    "                print( details['urls'][-1] )  # mention the document we used, so we can look at it\n",
    "\n",
    "print( f\"Matched: {matched_qa}     Not matched: {mismatched_qa}\" )"
   ]
  },
  {
   "cell_type": "code",
   "execution_count": null,
   "metadata": {},
   "outputs": [],
   "source": []
  }
 ],
 "metadata": {
  "colab": {
   "authorship_tag": "ABX9TyO+5TnRPxrWr55PNGdM9+C2",
   "include_colab_link": true,
   "provenance": []
  },
  "kernelspec": {
   "display_name": "Python 3",
   "name": "python3"
  },
  "language_info": {
   "codemirror_mode": {
    "name": "ipython",
    "version": 3
   },
   "file_extension": ".py",
   "mimetype": "text/x-python",
   "name": "python",
   "nbconvert_exporter": "python",
   "pygments_lexer": "ipython3",
   "version": "3.8.10"
  }
 },
 "nbformat": 4,
 "nbformat_minor": 0
}
