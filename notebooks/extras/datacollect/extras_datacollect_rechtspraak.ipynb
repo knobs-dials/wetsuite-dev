{
  "cells": [
    {
      "attachments": {},
      "cell_type": "markdown",
      "metadata": {
        "colab_type": "text",
        "id": "view-in-github"
      },
      "source": [
        "<a href=\"https://colab.research.google.com/github/knobs-dials/wetsuite-dev/blob/main/notebooks/extras/datacollect/extras_datacollect_rechtspraak.ipynb\" target=\"_parent\"><img src=\"https://colab.research.google.com/assets/colab-badge.svg\" alt=\"Open In Colab\"/></a>"
      ]
    },
    {
      "attachments": {},
      "cell_type": "markdown",
      "metadata": {},
      "source": [
        "# Purpose of this notebook\n",
        "\n",
        "Understanding what you can get out of [rechtspraak.nl](https://www.rechtspraak.nl/).\n",
        "\n",
        "Note that this is mostly just showing our work. If the rechtspraak [dataset](../../intro/wetsuite_datasets.ipynb) we provide suits your needs,\n",
        "then running this notebook would just be a slower and more cumbersome way to get basically the same.\n",
        "\n",
        "Somewhat related: [extras_datacollect_rechtspraak_codes](extras_datacollect_rechtspraak_codes.ipynb)"
      ]
    },
    {
      "attachments": {},
      "cell_type": "markdown",
      "metadata": {},
      "source": [
        "## Website, Open data API, and some other notes\n",
        "\n",
        "You are probably familiar with the [rechtspraak.nl](https://rechtspraak.nl) website and its [search that has a number of filters](https://uitspraken.rechtspraak.nl/#!/) (and some [exta query logic for the text](https://www.rechtspraak.nl/Uitspraken/Paginas/Hulp-bij-zoeken.aspx#1ab85aa0-e737-4b56-8ad5-d7cb7954718d77a998be-3c73-40e3-90f7-541fceeb00fd3)), which gives webpage results, with text where present."
      ]
    },
    {
      "attachments": {},
      "cell_type": "markdown",
      "metadata": {},
      "source": [
        "\n",
        "There is also an open data API that exposes much the same in data form.\n",
        "As [its documentation](https://www.rechtspraak.nl/SiteCollectionDocuments/Technische-documentatie-Open-Data-van-de-Rechtspraak.pdf) ([this intro](https://www.rechtspraak.nl/Uitspraken/paginas/open-data.aspx) may also be useful) mentions,\n",
        "- you stick query parameters on the base URL of http://data.rechtspraak.nl/uitspraken/zoeken \n",
        "- the results mainly mention ECLIs, which you can fetch details for via e.g. https://data.rechtspraak.nl/uitspraken/content?id=ECLI:NL:PHR:2011:BP5608 (more notes below)\n",
        "\n",
        "\n",
        "Worthy of note:\n",
        "- the fields you can search mostly matches with the 'Uitgebreid zoeken' at uitspraken.rechtspraak.nl, like\n",
        "  - instantie / court code (basically that third element in the ECLI)\n",
        "  - rechtsgebied\n",
        "  - procedure \n",
        "\n",
        "- **You can't search in the body text**.  This largely limits the API to a 'keep updated with new cases' feed.  \n",
        "  - Worthy of note: the website search (queried via `https://uitspraken.rechtspraak.nl/api/zoek`) does support thhis, and even seems like a better data API than the _actual_ one -- but it doesn't look like it's supposed to be used externally.\n",
        "\n",
        "- there are plenty of cases where there is no text / document.  You can filter for this in the search.\n",
        "\n",
        "- the **identifiers** used are **ECLI** (European Case Law Identifier)\n",
        "  - which in this case will be mainly Dutch ECLIs  (`ECLI:NL:`...). \n",
        "    - used since 2013 or so, and which absorbed the previously used LJN (Landelijk Jurisprudentie Nummer) identifiers.\n",
        "  - court code XX (`ECLI:NL:XX:`...) is used for things not (yet?) assgined to a court, and/or non-Dutch ECLIs,\n",
        "    - rechtspraak.nl may later resolve such ECLIs to a different ECLI. That makes their site the most up-to-date information, that a mirror may not necessarily be aware of (yet). \n",
        "    - Example: ECLI:NL:XX:2009:BJ4574 \n",
        "      - in [XML metadata](https://data.rechtspraak.nl/uitspraken/content?id=ECLI:NL:XX:2009:BJ4574) mentions it's now (isReplacedBy) ECLI:CE:ECHR:2009:0528JUD002671305 (note: )\n",
        "      - in [webpage form](https://uitspraken.rechtspraak.nl/#!/details?id=ECLI:NL:XX:2009:BJ4574) also seems to link to [a place to find it](https://hudoc.echr.coe.int/eng#%7B%22ecli%22:%5B%22ECLI:CE:ECHR:2009:0528JUD002671305%22%5D%7D) (e.g. `hudoc.echr.coe.int` or `e-justice.europa.eu`)."
      ]
    },
    {
      "cell_type": "markdown",
      "metadata": {},
      "source": [
        "For each ECLI you might consider various URLs, including\n",
        "  - XML, e.g. at https://data.rechtspraak.nl/uitspraken/content?id=ECLI:NL:PHR:2011:BP5608\n",
        "    - most interesting when you want case details as data\n",
        "    - (there is a different XML form at https://uitspraken.rechtspraak.nl/api/document/?id=ECLI:NL:PHR:2011:BP5608 but this is for the webpage view, and is less interesting as data)\n",
        "  - the case on the website\n",
        "    - is linked by the website as   https://uitspraken.rechtspraak.nl/InzienDocument?id=ECLI:NL:PHR:2011:BP5608\n",
        "    - it seems the slightly shorter https://deeplink.rechtspraak.nl/uitspraak?id=ECLI:NL:PHR:2011:BP5608 is equivalent\n",
        "    - both of the above redirects to a URL like https://uitspraken.rechtspraak.nl/#!/details?id=ECLI:NL:PHR:2011:BP5608\n",
        "      - which is a general page with scripting that picks up that identifer and then does another request to https://uitspraken.rechtspraak.nl/api/document/?id=ECLI:NL:PHR:2011:BP5608\n",
        "  - The website also often links to LiDo, e.g.  https://linkeddata.overheid.nl/document/ECLI:NL:PHR:2011:BP5608\n",
        "    - If you want that as data, consider http://linkeddata.overheid.nl/service/get-links?ext-id=ECLI:NL:PHR:2011:BP5608&output=xml\n",
        "    - though as https://linkeddata.overheid.nl/front/portal/services notes, this is not part of public LiDo, so you'll need to request an account first\n",
        "\n",
        "\n",
        "Because there are over three million dutch ECLIs on record, getting a lot of data from here would take a while, and they ask you to be nice to their server.\n",
        "There used to be a ZIP file (linked from [https://www.rechtspraak.nl/Uitspraken/paginas/open-data.aspx](https://www.rechtspraak.nl/Uitspraken/paginas/open-data.aspx) you could download to bootstrap your own copy, but [this open data request](https://data.overheid.nl/community/datarequest/zip-bestand-alle-uitspraken) seems to confirm this was removed (and seems to imply that you should get it the hammery way).  As of this writing the URL to the ZIP file still works but they probably removed the link for a reason.\n"
      ]
    },
    {
      "cell_type": "code",
      "execution_count": 1,
      "metadata": {},
      "outputs": [],
      "source": [
        "import collections, random, time\n",
        "\n",
        "import wetsuite.helpers.date\n",
        "import wetsuite.helpers.etree\n",
        "import wetsuite.datacollect.rechtspraaknl\n",
        "import wetsuite.helpers.koop_parse\n",
        "import wetsuite.helpers.meta\n",
        "import wetsuite.helpers.net\n",
        "import wetsuite.helpers.localdata\n",
        "import wetsuite.helpers.notebook"
      ]
    },
    {
      "attachments": {},
      "cell_type": "markdown",
      "metadata": {},
      "source": [
        "### Example of search, its results, and fetching"
      ]
    },
    {
      "cell_type": "markdown",
      "metadata": {},
      "source": [
        "#### Querying \n",
        "\n",
        "The base URL for data is http://data.rechtspraak.nl/uitspraken/ and just that URL will link you to some identifier/value lists"
      ]
    },
    {
      "cell_type": "markdown",
      "metadata": {},
      "source": [
        "The **search** base is http://data.rechtspraak.nl/uitspraken/zoeken\n",
        "\n",
        "Search parameters include: (again, see [the documentation](https://www.rechtspraak.nl/SiteCollectionDocuments/Technische-documentatie-Open-Data-van-de-Rechtspraak.pdf))\n",
        "* from, max  (from is 0-based, max value of max is documented as 1000)\n",
        "* sort - default is by modification date, ascending. `DESC` lets you do descending instead.\n",
        "* type - `Uitspraak` or `Conclusie`\n",
        "* date - date of this uitspraak / conclusie\n",
        "* uitspraakdatum (date, or date range; optional)\n",
        "* instantie - as mentioned in https://data.rechtspraak.nl/Waardelijst/Instanties \n",
        "* subject - rechtsgebied as mentioned in https://data.rechtspraak.nl/Waardelijst/Rechtsgebieden\n",
        "* return - if you specify return=DOC you only get entries for which there is a document; if not you also get entries for which there is only metadata\n",
        "* modified - last change of the metadata and/or text (with some subtleties, e.g. not necessarily of the uitrspraak or conclusie document)\n",
        "* replaces - previous ECLI, or LJN,. for this case.  Meant for backwards compatibility (of searches?).\n"
      ]
    },
    {
      "cell_type": "markdown",
      "metadata": {},
      "source": [
        "For example: http://data.rechtspraak.nl/uitspraken/zoeken?modified=2023-01-01&max=50\n",
        "\n",
        "The response format is [Atom](https://en.wikipedia.org/wiki/Atom_(standard)) and very minimal: title, date, summary, and an URL pointing at the XML data document.\n",
        "\n",
        "...but let's get our code to help:"
      ]
    },
    {
      "cell_type": "code",
      "execution_count": 2,
      "metadata": {},
      "outputs": [
        {
          "name": "stdout",
          "output_type": "stream",
          "text": [
            "[('max', '1000'), ('return', 'DOC'), ('modified', '2023-11-01'), ('modified', '2023-11-02')]\n",
            "https://data.rechtspraak.nl/uitspraken/zoeken?max=1000&return=DOC&modified=2023-11-01&modified=2023-11-02\n",
            "adding 955 entries\n",
            "[('max', '1000'), ('return', 'DOC'), ('modified', '2023-11-02'), ('modified', '2023-11-03')]\n",
            "https://data.rechtspraak.nl/uitspraken/zoeken?max=1000&return=DOC&modified=2023-11-02&modified=2023-11-03\n",
            "adding 467 entries\n",
            "[('max', '1000'), ('return', 'DOC'), ('modified', '2023-11-03'), ('modified', '2023-11-04')]\n",
            "https://data.rechtspraak.nl/uitspraken/zoeken?max=1000&return=DOC&modified=2023-11-03&modified=2023-11-04\n",
            "adding 264 entries\n",
            "[('max', '1000'), ('return', 'DOC'), ('modified', '2023-11-04'), ('modified', '2023-11-05')]\n",
            "https://data.rechtspraak.nl/uitspraken/zoeken?max=1000&return=DOC&modified=2023-11-04&modified=2023-11-05\n",
            "adding 26 entries\n",
            "[('max', '1000'), ('return', 'DOC'), ('modified', '2023-11-05'), ('modified', '2023-11-06')]\n",
            "https://data.rechtspraak.nl/uitspraken/zoeken?max=1000&return=DOC&modified=2023-11-05&modified=2023-11-06\n",
            "adding 6 entries\n",
            "[('max', '1000'), ('return', 'DOC'), ('modified', '2023-11-06'), ('modified', '2023-11-07')]\n",
            "https://data.rechtspraak.nl/uitspraken/zoeken?max=1000&return=DOC&modified=2023-11-06&modified=2023-11-07\n",
            "adding 251 entries\n",
            "[('max', '1000'), ('return', 'DOC'), ('modified', '2023-11-07'), ('modified', '2023-11-08')]\n",
            "https://data.rechtspraak.nl/uitspraken/zoeken?max=1000&return=DOC&modified=2023-11-07&modified=2023-11-08\n",
            "adding 292 entries\n",
            "[('max', '1000'), ('return', 'DOC'), ('modified', '2023-11-08'), ('modified', '2023-11-09')]\n",
            "https://data.rechtspraak.nl/uitspraken/zoeken?max=1000&return=DOC&modified=2023-11-08&modified=2023-11-09\n",
            "adding 536 entries\n",
            "[('max', '1000'), ('return', 'DOC'), ('modified', '2023-11-09'), ('modified', '2023-11-10')]\n",
            "https://data.rechtspraak.nl/uitspraken/zoeken?max=1000&return=DOC&modified=2023-11-09&modified=2023-11-10\n",
            "adding 1000 entries\n",
            "[('max', '1000'), ('return', 'DOC'), ('modified', '2023-11-10'), ('modified', '2023-11-11')]\n",
            "https://data.rechtspraak.nl/uitspraken/zoeken?max=1000&return=DOC&modified=2023-11-10&modified=2023-11-11\n",
            "adding 279 entries\n",
            "[('max', '1000'), ('return', 'DOC'), ('modified', '2023-11-11'), ('modified', '2023-11-12')]\n",
            "https://data.rechtspraak.nl/uitspraken/zoeken?max=1000&return=DOC&modified=2023-11-11&modified=2023-11-12\n",
            "adding 64 entries\n",
            "[('max', '1000'), ('return', 'DOC'), ('modified', '2023-11-12'), ('modified', '2023-11-13')]\n",
            "https://data.rechtspraak.nl/uitspraken/zoeken?max=1000&return=DOC&modified=2023-11-12&modified=2023-11-13\n",
            "adding 20 entries\n",
            "[('max', '1000'), ('return', 'DOC'), ('modified', '2023-11-13'), ('modified', '2023-11-14')]\n",
            "https://data.rechtspraak.nl/uitspraken/zoeken?max=1000&return=DOC&modified=2023-11-13&modified=2023-11-14\n",
            "adding 874 entries\n",
            "[('max', '1000'), ('return', 'DOC'), ('modified', '2023-11-14'), ('modified', '2023-11-15')]\n",
            "https://data.rechtspraak.nl/uitspraken/zoeken?max=1000&return=DOC&modified=2023-11-14&modified=2023-11-15\n",
            "adding 371 entries\n",
            "[('max', '1000'), ('return', 'DOC'), ('modified', '2023-11-15'), ('modified', '2023-11-16')]\n",
            "https://data.rechtspraak.nl/uitspraken/zoeken?max=1000&return=DOC&modified=2023-11-15&modified=2023-11-16\n",
            "adding 395 entries\n",
            "[('max', '1000'), ('return', 'DOC'), ('modified', '2023-11-16'), ('modified', '2023-11-17')]\n",
            "https://data.rechtspraak.nl/uitspraken/zoeken?max=1000&return=DOC&modified=2023-11-16&modified=2023-11-17\n",
            "adding 337 entries\n",
            "[('max', '1000'), ('return', 'DOC'), ('modified', '2023-11-17'), ('modified', '2023-11-18')]\n",
            "https://data.rechtspraak.nl/uitspraken/zoeken?max=1000&return=DOC&modified=2023-11-17&modified=2023-11-18\n",
            "adding 401 entries\n",
            "[('max', '1000'), ('return', 'DOC'), ('modified', '2023-11-18'), ('modified', '2023-11-19')]\n",
            "https://data.rechtspraak.nl/uitspraken/zoeken?max=1000&return=DOC&modified=2023-11-18&modified=2023-11-19\n",
            "adding 36 entries\n",
            "[('max', '1000'), ('return', 'DOC'), ('modified', '2023-11-19'), ('modified', '2023-11-20')]\n",
            "https://data.rechtspraak.nl/uitspraken/zoeken?max=1000&return=DOC&modified=2023-11-19&modified=2023-11-20\n",
            "adding 162 entries\n",
            "[('max', '1000'), ('return', 'DOC'), ('modified', '2023-11-20'), ('modified', '2023-11-21')]\n",
            "https://data.rechtspraak.nl/uitspraken/zoeken?max=1000&return=DOC&modified=2023-11-20&modified=2023-11-21\n",
            "adding 253 entries\n",
            "[('max', '1000'), ('return', 'DOC'), ('modified', '2023-11-21'), ('modified', '2023-11-22')]\n",
            "https://data.rechtspraak.nl/uitspraken/zoeken?max=1000&return=DOC&modified=2023-11-21&modified=2023-11-22\n",
            "adding 1000 entries\n",
            "[('max', '1000'), ('return', 'DOC'), ('modified', '2023-11-22'), ('modified', '2023-11-23')]\n",
            "https://data.rechtspraak.nl/uitspraken/zoeken?max=1000&return=DOC&modified=2023-11-22&modified=2023-11-23\n",
            "adding 508 entries\n",
            "[('max', '1000'), ('return', 'DOC'), ('modified', '2023-11-23'), ('modified', '2023-11-24')]\n",
            "https://data.rechtspraak.nl/uitspraken/zoeken?max=1000&return=DOC&modified=2023-11-23&modified=2023-11-24\n",
            "adding 262 entries\n",
            "[('max', '1000'), ('return', 'DOC'), ('modified', '2023-11-24'), ('modified', '2023-11-25')]\n",
            "https://data.rechtspraak.nl/uitspraken/zoeken?max=1000&return=DOC&modified=2023-11-24&modified=2023-11-25\n",
            "adding 389 entries\n",
            "[('max', '1000'), ('return', 'DOC'), ('modified', '2023-11-25'), ('modified', '2023-11-26')]\n",
            "https://data.rechtspraak.nl/uitspraken/zoeken?max=1000&return=DOC&modified=2023-11-25&modified=2023-11-26\n",
            "adding 44 entries\n",
            "[('max', '1000'), ('return', 'DOC'), ('modified', '2023-11-26'), ('modified', '2023-11-27')]\n",
            "https://data.rechtspraak.nl/uitspraken/zoeken?max=1000&return=DOC&modified=2023-11-26&modified=2023-11-27\n",
            "adding 21 entries\n",
            "[('max', '1000'), ('return', 'DOC'), ('modified', '2023-11-27'), ('modified', '2023-11-28')]\n",
            "https://data.rechtspraak.nl/uitspraken/zoeken?max=1000&return=DOC&modified=2023-11-27&modified=2023-11-28\n",
            "adding 337 entries\n",
            "[('max', '1000'), ('return', 'DOC'), ('modified', '2023-11-28'), ('modified', '2023-11-29')]\n",
            "https://data.rechtspraak.nl/uitspraken/zoeken?max=1000&return=DOC&modified=2023-11-28&modified=2023-11-29\n",
            "adding 383 entries\n",
            "[('max', '1000'), ('return', 'DOC'), ('modified', '2023-11-29'), ('modified', '2023-11-30')]\n",
            "https://data.rechtspraak.nl/uitspraken/zoeken?max=1000&return=DOC&modified=2023-11-29&modified=2023-11-30\n",
            "adding 360 entries\n",
            "[('max', '1000'), ('return', 'DOC'), ('modified', '2023-11-30'), ('modified', '2023-12-01')]\n",
            "https://data.rechtspraak.nl/uitspraken/zoeken?max=1000&return=DOC&modified=2023-11-30&modified=2023-12-01\n",
            "adding 372 entries\n",
            "[('max', '1000'), ('return', 'DOC'), ('modified', '2023-12-01'), ('modified', '2023-12-02')]\n",
            "https://data.rechtspraak.nl/uitspraken/zoeken?max=1000&return=DOC&modified=2023-12-01&modified=2023-12-02\n",
            "adding 599 entries\n",
            "[('max', '1000'), ('return', 'DOC'), ('modified', '2023-12-02'), ('modified', '2023-12-03')]\n",
            "https://data.rechtspraak.nl/uitspraken/zoeken?max=1000&return=DOC&modified=2023-12-02&modified=2023-12-03\n",
            "adding 19 entries\n",
            "[('max', '1000'), ('return', 'DOC'), ('modified', '2023-12-03'), ('modified', '2023-12-04')]\n",
            "https://data.rechtspraak.nl/uitspraken/zoeken?max=1000&return=DOC&modified=2023-12-03&modified=2023-12-04\n",
            "adding 10 entries\n",
            "[('max', '1000'), ('return', 'DOC'), ('modified', '2023-12-04'), ('modified', '2023-12-05')]\n",
            "https://data.rechtspraak.nl/uitspraken/zoeken?max=1000&return=DOC&modified=2023-12-04&modified=2023-12-05\n",
            "adding 304 entries\n",
            "[('max', '1000'), ('return', 'DOC'), ('modified', '2023-12-05'), ('modified', '2023-12-06')]\n",
            "https://data.rechtspraak.nl/uitspraken/zoeken?max=1000&return=DOC&modified=2023-12-05&modified=2023-12-06\n",
            "adding 428 entries\n",
            "[('max', '1000'), ('return', 'DOC'), ('modified', '2023-12-06'), ('modified', '2023-12-07')]\n",
            "https://data.rechtspraak.nl/uitspraken/zoeken?max=1000&return=DOC&modified=2023-12-06&modified=2023-12-07\n",
            "adding 455 entries\n",
            "[('max', '1000'), ('return', 'DOC'), ('modified', '2023-12-07'), ('modified', '2023-12-08')]\n",
            "https://data.rechtspraak.nl/uitspraken/zoeken?max=1000&return=DOC&modified=2023-12-07&modified=2023-12-08\n",
            "adding 433 entries\n",
            "[('max', '1000'), ('return', 'DOC'), ('modified', '2023-12-08'), ('modified', '2023-12-09')]\n",
            "https://data.rechtspraak.nl/uitspraken/zoeken?max=1000&return=DOC&modified=2023-12-08&modified=2023-12-09\n",
            "adding 361 entries\n",
            "[('max', '1000'), ('return', 'DOC'), ('modified', '2023-12-09'), ('modified', '2023-12-10')]\n",
            "https://data.rechtspraak.nl/uitspraken/zoeken?max=1000&return=DOC&modified=2023-12-09&modified=2023-12-10\n",
            "adding 49 entries\n",
            "[('max', '1000'), ('return', 'DOC'), ('modified', '2023-12-10'), ('modified', '2023-12-11')]\n",
            "https://data.rechtspraak.nl/uitspraken/zoeken?max=1000&return=DOC&modified=2023-12-10&modified=2023-12-11\n",
            "adding 56 entries\n",
            "[('max', '1000'), ('return', 'DOC'), ('modified', '2023-12-11'), ('modified', '2023-12-12')]\n",
            "https://data.rechtspraak.nl/uitspraken/zoeken?max=1000&return=DOC&modified=2023-12-11&modified=2023-12-12\n",
            "adding 420 entries\n",
            "[('max', '1000'), ('return', 'DOC'), ('modified', '2023-12-12'), ('modified', '2023-12-13')]\n",
            "https://data.rechtspraak.nl/uitspraken/zoeken?max=1000&return=DOC&modified=2023-12-12&modified=2023-12-13\n",
            "adding 557 entries\n",
            "[('max', '1000'), ('return', 'DOC'), ('modified', '2023-12-13'), ('modified', '2023-12-14')]\n",
            "https://data.rechtspraak.nl/uitspraken/zoeken?max=1000&return=DOC&modified=2023-12-13&modified=2023-12-14\n",
            "adding 500 entries\n",
            "[('max', '1000'), ('return', 'DOC'), ('modified', '2023-12-14'), ('modified', '2023-12-15')]\n",
            "https://data.rechtspraak.nl/uitspraken/zoeken?max=1000&return=DOC&modified=2023-12-14&modified=2023-12-15\n",
            "adding 309 entries\n",
            "[('max', '1000'), ('return', 'DOC'), ('modified', '2023-12-15'), ('modified', '2023-12-16')]\n",
            "https://data.rechtspraak.nl/uitspraken/zoeken?max=1000&return=DOC&modified=2023-12-15&modified=2023-12-16\n",
            "adding 440 entries\n",
            "[('max', '1000'), ('return', 'DOC'), ('modified', '2023-12-16'), ('modified', '2023-12-17')]\n",
            "https://data.rechtspraak.nl/uitspraken/zoeken?max=1000&return=DOC&modified=2023-12-16&modified=2023-12-17\n",
            "adding 21 entries\n",
            "[('max', '1000'), ('return', 'DOC'), ('modified', '2023-12-17'), ('modified', '2023-12-18')]\n",
            "https://data.rechtspraak.nl/uitspraken/zoeken?max=1000&return=DOC&modified=2023-12-17&modified=2023-12-18\n",
            "adding 40 entries\n",
            "[('max', '1000'), ('return', 'DOC'), ('modified', '2023-12-18'), ('modified', '2023-12-19')]\n",
            "https://data.rechtspraak.nl/uitspraken/zoeken?max=1000&return=DOC&modified=2023-12-18&modified=2023-12-19\n",
            "adding 439 entries\n",
            "[('max', '1000'), ('return', 'DOC'), ('modified', '2023-12-19'), ('modified', '2023-12-20')]\n",
            "https://data.rechtspraak.nl/uitspraken/zoeken?max=1000&return=DOC&modified=2023-12-19&modified=2023-12-20\n",
            "adding 504 entries\n",
            "[('max', '1000'), ('return', 'DOC'), ('modified', '2023-12-20'), ('modified', '2023-12-21')]\n",
            "https://data.rechtspraak.nl/uitspraken/zoeken?max=1000&return=DOC&modified=2023-12-20&modified=2023-12-21\n",
            "adding 438 entries\n",
            "[('max', '1000'), ('return', 'DOC'), ('modified', '2023-12-21'), ('modified', '2023-12-22')]\n",
            "https://data.rechtspraak.nl/uitspraken/zoeken?max=1000&return=DOC&modified=2023-12-21&modified=2023-12-22\n",
            "adding 430 entries\n",
            "[('max', '1000'), ('return', 'DOC'), ('modified', '2023-12-22'), ('modified', '2023-12-23')]\n",
            "https://data.rechtspraak.nl/uitspraken/zoeken?max=1000&return=DOC&modified=2023-12-22&modified=2023-12-23\n",
            "adding 590 entries\n",
            "[('max', '1000'), ('return', 'DOC'), ('modified', '2023-12-23'), ('modified', '2023-12-24')]\n",
            "https://data.rechtspraak.nl/uitspraken/zoeken?max=1000&return=DOC&modified=2023-12-23&modified=2023-12-24\n",
            "adding 64 entries\n",
            "[('max', '1000'), ('return', 'DOC'), ('modified', '2023-12-24'), ('modified', '2023-12-25')]\n",
            "https://data.rechtspraak.nl/uitspraken/zoeken?max=1000&return=DOC&modified=2023-12-24&modified=2023-12-25\n",
            "adding 54 entries\n",
            "[('max', '1000'), ('return', 'DOC'), ('modified', '2023-12-25'), ('modified', '2023-12-26')]\n",
            "https://data.rechtspraak.nl/uitspraken/zoeken?max=1000&return=DOC&modified=2023-12-25&modified=2023-12-26\n",
            "adding 1 entries\n",
            "[('max', '1000'), ('return', 'DOC'), ('modified', '2023-12-26'), ('modified', '2023-12-27')]\n",
            "https://data.rechtspraak.nl/uitspraken/zoeken?max=1000&return=DOC&modified=2023-12-26&modified=2023-12-27\n",
            "adding 41 entries\n",
            "[('max', '1000'), ('return', 'DOC'), ('modified', '2023-12-27'), ('modified', '2023-12-28')]\n",
            "https://data.rechtspraak.nl/uitspraken/zoeken?max=1000&return=DOC&modified=2023-12-27&modified=2023-12-28\n",
            "adding 322 entries\n",
            "[('max', '1000'), ('return', 'DOC'), ('modified', '2023-12-28'), ('modified', '2023-12-29')]\n",
            "https://data.rechtspraak.nl/uitspraken/zoeken?max=1000&return=DOC&modified=2023-12-28&modified=2023-12-29\n",
            "adding 329 entries\n"
          ]
        }
      ],
      "source": [
        "overall_entries = {}\n",
        "\n",
        "for range_from, range_to in wetsuite.helpers.date.date_ranges(from_date='2023-11-01', to_date ='2023-12-29', increment_days=1, strftime_format=\"%Y-%m-%d\"):\n",
        "\n",
        "    query = [\n",
        "        ('max',  '1000'),  # seems capped at 1000, which is annoying because some days have more than that.   TODO: deal with that\n",
        "        ('return', 'DOC'),                                          # DOC asks for things with body text only\n",
        "        #('modified', '2023-10-01'), ('modified', '2023-11-01')     # date range    (keep in mind that larger ranges easily means we hit the max)\n",
        "        #('modified', '2023-12-28'),\n",
        "    ]\n",
        "    query.extend( [('modified',range_from), ('modified',range_to)] )\n",
        "    print(query)\n",
        "\n",
        "    search_results = wetsuite.datacollect.rechtspraaknl.search( query )\n",
        "    # search_results is a parsed etree object.\n",
        "    # We could show that relatively raw like    \n",
        "    #print( wetsuite.helpers.etree.debug_pretty(search_results) ) \n",
        "    #  yet our parsed form (each entry as a dict) is little simpler to read:\n",
        "\n",
        "    search_entries = wetsuite.datacollect.rechtspraaknl.parse_search_results( search_results )\n",
        "    # we could make overall_entries a list and just extend() it, but there would probably be a lot of overlap,\n",
        "    # so instead we use the ECLI to deduplicate\n",
        "    print('adding %d entries'%len(search_entries))\n",
        "    for entry_dict in search_entries:\n",
        "        overall_entries[ entry_dict.get('ecli') ] = entry_dict \n",
        "\n",
        "#print( \"Entries in results: %d\\n\"%len(entries) )\n",
        "#for entry in random.sample( entries, 3 ): # show a few random examples\n",
        "#    print('--------------------')\n",
        "#    pprint.pprint(entry)"
      ]
    },
    {
      "cell_type": "markdown",
      "metadata": {},
      "source": [
        "#### Fetching the documents the search refers to"
      ]
    },
    {
      "cell_type": "code",
      "execution_count": 3,
      "metadata": {},
      "outputs": [],
      "source": [
        "rechtspraak_fetched = wetsuite.helpers.localdata.LocalKV('rechtspraak_fetched.db', key_type=str, value_type=bytes)"
      ]
    },
    {
      "cell_type": "code",
      "execution_count": 4,
      "metadata": {},
      "outputs": [
        {
          "data": {
            "application/json": {
              "ascii": false,
              "bar_format": null,
              "colour": null,
              "elapsed": 0.012784957885742188,
              "initial": 0,
              "n": 0,
              "ncols": null,
              "nrows": null,
              "postfix": null,
              "prefix": "fetching... ",
              "rate": null,
              "total": 18878,
              "unit": "it",
              "unit_divisor": 1000,
              "unit_scale": false
            },
            "application/vnd.jupyter.widget-view+json": {
              "model_id": "8b5af94a5b8948b5843600ca0286413e",
              "version_major": 2,
              "version_minor": 0
            },
            "text/plain": [
              "fetching... :   0%|          | 0/18878 [00:00<?, ?it/s]"
            ]
          },
          "metadata": {},
          "output_type": "display_data"
        },
        {
          "name": "stdout",
          "output_type": "stream",
          "text": [
            "Fetched 2221,  while 16657 were cached\n",
            "\n"
          ]
        }
      ],
      "source": [
        "paths = collections.defaultdict(int)\n",
        "\n",
        "count_fetched, count_cached = 0,0\n",
        "\n",
        "pbar = wetsuite.helpers.notebook.progress_bar( len(overall_entries), description='fetching... ')\n",
        "\n",
        "for entry in overall_entries.values():\n",
        "    entry_xml_url = 'https://data.rechtspraak.nl/uitspraken/content?id=%s'%entry['ecli']\n",
        "    bytestring, came_from_cache = wetsuite.helpers.localdata.cached_fetch( rechtspraak_fetched, entry_xml_url)\n",
        "    if came_from_cache:\n",
        "        count_cached +=1\n",
        "    else:\n",
        "        count_fetched += 1\n",
        "    \n",
        "    tree  = wetsuite.helpers.etree.fromstring( bytestring )\n",
        "    tree  = wetsuite.helpers.etree.strip_namespace( tree )\n",
        "        \n",
        "    pbar.value += 1\n",
        "    pbar.description = f\"Fetched {count_fetched}, cached {count_cached}  \"\n",
        "\n",
        "print(f\"Fetched {count_fetched},  while {count_cached} were cached\\n\") # because the progress bar doesn't update after iterating"
      ]
    },
    {
      "attachments": {},
      "cell_type": "markdown",
      "metadata": {},
      "source": [
        "Note:\n",
        "There is a [extras_diagnose_rechtspraak_docstructure](../extras_diagnose_rechtspraak_docstructure.ipynb), \n",
        "an exploration of the documents that informs some of the choices made below,\n",
        "and in particular some of the helper code in wetsuite.datacollect.rechtspraaknl"
      ]
    },
    {
      "attachments": {},
      "cell_type": "markdown",
      "metadata": {},
      "source": [
        "## Start making a dataset"
      ]
    },
    {
      "cell_type": "code",
      "execution_count": 5,
      "metadata": {},
      "outputs": [],
      "source": [
        "rechtspraaknl_extracted = wetsuite.helpers.localdata.MsgpackKV('rechtspraaknl_extracted.db', str, None)"
      ]
    },
    {
      "cell_type": "code",
      "execution_count": 6,
      "metadata": {},
      "outputs": [
        {
          "data": {
            "text/plain": [
              "3193523"
            ]
          },
          "execution_count": 6,
          "metadata": {},
          "output_type": "execute_result"
        }
      ],
      "source": [
        "# how much do we have at all?\n",
        "len( rechtspraak_fetched )"
      ]
    },
    {
      "cell_type": "code",
      "execution_count": 7,
      "metadata": {},
      "outputs": [
        {
          "name": "stdout",
          "output_type": "stream",
          "text": [
            "known-notext store: figuring out figuring out new cases\n"
          ]
        },
        {
          "name": "stderr",
          "output_type": "stream",
          "text": []
        },
        {
          "name": "stderr",
          "output_type": "stream",
          "text": [
            "100%|██████████| 3193523/3193523 [01:19<00:00, 40310.00it/s]\n"
          ]
        },
        {
          "name": "stdout",
          "output_type": "stream",
          "text": [
            "known-notext store: updating\n",
            "  items before update: 2464757\n",
            "  items after update: 2464757\n"
          ]
        }
      ],
      "source": [
        "# speed optimization for a later step:  \n",
        "#   Store cases (by URL) we detect contain no text\n",
        "#   Since this reads gigabytes of data, expect this to take a few minutes\n",
        "#   Note this may take few hundred MB of RAM\n",
        "import tqdm\n",
        "known_notext = set()    # TODO: figure out why we're not putting this in a store\n",
        "\n",
        "print(\"known-notext store: figuring out new cases\")\n",
        "for key, bytestring in tqdm.tqdm( rechtspraak_fetched.items() ):\n",
        "    if key in known_notext: # (this condition only helps for re-runs in the same session that update from newer fetched state)\n",
        "        continue\n",
        "    if b'<conclusie' not in bytestring and b'<uitspraak' not in bytestring: # cheaper than parsing before deciding based on the parse?\n",
        "        known_notext.add( key )\n",
        "\n",
        "print(\"known-notext store: updating\")\n",
        "rechtspraaknl_knownnotext = wetsuite.helpers.localdata.LocalKV('rechtspraaknl_knownnotext.db', str, None)\n",
        "print( \"  items before update:\", len(rechtspraaknl_knownnotext) )\n",
        "current_keys = set( rechtspraaknl_knownnotext.keys() )\n",
        "for url in known_notext:\n",
        "    if url not in current_keys:\n",
        "        rechtspraaknl_knownnotext.put(url, 'y', commit=False)\n",
        "rechtspraaknl_knownnotext.commit()\n",
        "print( \"  items after update:\", len(rechtspraaknl_knownnotext) )\n",
        "#rechtspraaknl_extracted._put_meta('valtype','msgpack') # I do believe that's internal now; TODO: test"
      ]
    },
    {
      "cell_type": "markdown",
      "metadata": {},
      "source": [
        "### (incremental) parsing and storing"
      ]
    },
    {
      "cell_type": "code",
      "execution_count": 8,
      "metadata": {},
      "outputs": [],
      "source": [
        "# these are used in the update section. \n",
        "known_notext_urls      = set( rechtspraaknl_knownnotext.keys() )  # Set, not list, so that 'in' isn't slow as molasses.\n",
        "already_extracted_urls = set( rechtspraaknl_extracted.keys() )"
      ]
    },
    {
      "cell_type": "code",
      "execution_count": 10,
      "metadata": {},
      "outputs": [
        {
          "data": {
            "application/json": {
              "ascii": false,
              "bar_format": null,
              "colour": null,
              "elapsed": 0.009885787963867188,
              "initial": 0,
              "n": 0,
              "ncols": null,
              "nrows": null,
              "postfix": null,
              "prefix": "parsing...",
              "rate": null,
              "total": 3193523,
              "unit": "it",
              "unit_divisor": 1000,
              "unit_scale": false
            },
            "application/vnd.jupyter.widget-view+json": {
              "model_id": "2264e0ae2d86471884bdadb8c0350b92",
              "version_major": 2,
              "version_minor": 0
            },
            "text/plain": [
              "parsing...:   0%|          | 0/3193523 [00:00<?, ?it/s]"
            ]
          },
          "metadata": {},
          "output_type": "display_data"
        },
        {
          "name": "stdout",
          "output_type": "stream",
          "text": [
            "212 conclusies and 10496 uitspraken   (and 2464757 that have no text)\n"
          ]
        }
      ],
      "source": [
        "count_uitspraken, count_conclusies, count_neither, count_skip  =  0, 0, 0, 0\n",
        "\n",
        "selected_keys = list(rechtspraak_fetched.keys()) # all keys\n",
        "random.shuffle(selected_keys)\n",
        "#selected_keys = random.sample( selected_keys, 50000 ) # uncomment during debug, if you want to get just a subset, faster\n",
        "pbar = wetsuite.helpers.notebook.progress_bar( len(selected_keys), description='parsing...')\n",
        "\n",
        "for key in selected_keys:\n",
        "    pbar.value += 1\n",
        "    pbar.description = f\"{count_conclusies} conclusies, {count_uitspraken} uitspraken, {count_neither} neither, {count_skip} skipped \" \n",
        "\n",
        "    if key in known_notext_urls: # we previously figured it had no text, no sense trying\n",
        "        count_neither += 1\n",
        "        continue\n",
        "    \n",
        "    if key in already_extracted_urls:  # only when adding incrementally; won't update\n",
        "        count_skip += 1\n",
        "        continue\n",
        "\n",
        "    # actually load\n",
        "    bytestring = rechtspraak_fetched.get(key)\n",
        "\n",
        "    if b'<conclusie' not in bytestring and b'<uitspraak' not in bytestring: # cheaper than parsing before deciding based on the parse?\n",
        "        count_neither += 1\n",
        "        continue\n",
        "\n",
        "    # actually parse\n",
        "    tree = wetsuite.helpers.etree.fromstring( bytestring )\n",
        "    tree = wetsuite.helpers.etree.strip_namespace( tree )\n",
        "\n",
        "    uitspraak = tree.find('uitspraak')\n",
        "    conclusie = tree.find('conclusie')\n",
        "    \n",
        "    if uitspraak is not None:\n",
        "        count_uitspraken += 1\n",
        "        rechtspraaknl_extracted.put(key,  wetsuite.datacollect.rechtspraaknl.parse_content( tree )  )\n",
        "        #collected[key] = wetsuite.datacollect.rechtspraaknl.parse_content( tree )\n",
        "        \n",
        "    elif conclusie is not None:\n",
        "        count_conclusies += 1\n",
        "        rechtspraaknl_extracted.put(key,  wetsuite.datacollect.rechtspraaknl.parse_content( tree )  )\n",
        "        #collected[key] = wetsuite.datacollect.rechtspraaknl.parse_content( tree )\n",
        "        \n",
        "    else: # actually shouldn't happen\n",
        "        count_neither += 1\n",
        "    #    print( wetsuite.helpers.etree.debug_pretty( example_tree ) ) # print indented\n",
        "    #    #raise ValueError()\n",
        "    #    break\n",
        "\n",
        "print(f\"{count_conclusies} conclusies and {count_uitspraken} uitspraken   (and {count_neither} that have no text)\")       "
      ]
    }
  ],
  "metadata": {
    "colab": {
      "include_colab_link": true,
      "provenance": []
    },
    "kernelspec": {
      "display_name": "Python 3",
      "language": "python",
      "name": "python3"
    },
    "language_info": {
      "codemirror_mode": {
        "name": "ipython",
        "version": 3
      },
      "file_extension": ".py",
      "mimetype": "text/x-python",
      "name": "python",
      "nbconvert_exporter": "python",
      "pygments_lexer": "ipython3",
      "version": "3.8.10"
    },
    "vscode": {
      "interpreter": {
        "hash": "31f2aee4e71d21fbe5cf8b01ff0e069b9275f58929596ceb00d14d90e3e16cd6"
      }
    }
  },
  "nbformat": 4,
  "nbformat_minor": 0
}
