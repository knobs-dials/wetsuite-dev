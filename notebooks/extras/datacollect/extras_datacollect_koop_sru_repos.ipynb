{
  "cells": [
    {
      "attachments": {},
      "cell_type": "markdown",
      "metadata": {
        "colab_type": "text",
        "id": "view-in-github"
      },
      "source": [
        "<a href=\"https://colab.research.google.com/github/knobs-dials/wetsuite-dev/blob/main/examples/datacollect_koop_repos.ipynb\" target=\"_parent\"><img src=\"https://colab.research.google.com/assets/colab-badge.svg\" alt=\"Open In Colab\"/></a>"
      ]
    },
    {
      "attachments": {},
      "cell_type": "markdown",
      "metadata": {
        "id": "rCIrIWma5Omg"
      },
      "source": [
        "## This notebook's goal\n",
        "\n",
        "Showing you how to address KOOP's repositories directly using the SRU interface, to access BWB, CVDR, and some others,\n",
        "aiming to get machine-readable data, and possibly human-readable documents.\n",
        "\n",
        "You will not need this to search at all, but you might want to read this to specialize a little.\n",
        "\n",
        "Directly talking to these repositories may be the most up-to-date source for this data, and may avoid the need for database to store things in.\n",
        "If you use something like colab you don't even need to install anything on your own computers.\n",
        "\n",
        "The first goal is to show this as a route of fetching data in an automated way - not to do much with the result just yet."
      ]
    },
    {
      "cell_type": "markdown",
      "metadata": {},
      "source": [
        "That said, it's on the low-level technical side, so you need to be comfortable with python, working with a new query language,\n",
        "and it can't hurt to think think about bulk requests and perhaps caching.\n",
        "\n",
        "This may be a little overwhelming, and **you may well prefer to load the bwb or cvdr datasets we provide**."
      ]
    },
    {
      "cell_type": "code",
      "execution_count": null,
      "metadata": {
        "id": "c5Aiyiq2uHLV"
      },
      "outputs": [],
      "source": [
        "# For local installs you can install the wetsuite package once.  \n",
        "# In colab you get a disposable environment each time,  and will have to start with this install each time. \n",
        "!pip3 --quiet install -U https://github.com/knobs-dials/wetsuite-dev/archive/refs/heads/main.zip"
      ]
    },
    {
      "cell_type": "code",
      "execution_count": 2,
      "metadata": {
        "id": "ZfK62wjZnmxc"
      },
      "outputs": [],
      "source": [
        "# imports we'll be using\n",
        "import pprint, datetime, random\n",
        "\n",
        "import dateutil.parser\n",
        "\n",
        "import wetsuite.datasets\n",
        "import wetsuite.datacollect.koop_repositories\n",
        "import wetsuite.helpers.koop_parse"
      ]
    },
    {
      "attachments": {},
      "cell_type": "markdown",
      "metadata": {
        "id": "E5VTqCvUXvLJ"
      },
      "source": [
        "## On SRU\n",
        "\n",
        "SRU ([Search/Retrieval via URL](https://en.wikipedia.org/wiki/Search/Retrieve_via_URL)) was created as a search API with simpler and standard formats and interchange, so is easier to implement than specialized protocols. You could _almost_ use it without a library.\n",
        "\n",
        "It has just two operations:\n",
        "* `explain` - \"hello server, describe yourself\"\n",
        "* `searchRetrieve` - \"I would like the results for this query please\"\n",
        "\n",
        "Exactly how powerful/flexible any search is depends on the backend you are talking to - it varies how many metadata fields are exposed usefully (explain will tell you that) and which query operations are supported.\n",
        "\n",
        "We provide a basic class to interact with the repositories we are most interested in.\n",
        "We'll introduce its functions by example, and programmers may also care to read e.g. `help( wetsuite.datacollect.koop_repositories.BWB() )`."
      ]
    },
    {
      "attachments": {},
      "cell_type": "markdown",
      "metadata": {
        "id": "wooIWz6yc_a1"
      },
      "source": [
        "# Searching KOOP's repositories via their SRU API\n",
        "\n",
        "KOOP's repositories give access to the data behind wetten.overheid.nl, lokaleregelgeving.overheid.nl, and others."
      ]
    },
    {
      "attachments": {},
      "cell_type": "markdown",
      "metadata": {
        "id": "Z20UHIkjdKro"
      },
      "source": [
        "## Example: Query basics, on the BWB (Basis WettenBestand) \n",
        "\n",
        "KOOP's BWB repository can be seen as the data equivalent of https://wetten.overheid.nl\n",
        "\n",
        "There is some [technical intrduction to searching the BWB with SRU](https://www.overheid.nl/sites/default/files/wetten/Gebruikersdocumentatie%20BWB%20-%20Zoeken%20binnen%20het%20basiswettenbestand%20v1.3.1.pdf).\n",
        "Notably, this route to the BWB does not seem to allow searching the body text ([wetten.overheid.nl](https://wetten.overheid.nl/) does).\n",
        "As such, this may mainly be useful for [known-item searches](https://en.wikipedia.org/wiki/Known-item_search), date ranges, and such."
      ]
    },
    {
      "cell_type": "code",
      "execution_count": 3,
      "metadata": {
        "id": "upamRjU9ewwu"
      },
      "outputs": [],
      "source": [
        "sru_bwb = wetsuite.datacollect.koop_repositories.BWB()  # object that knows where to fetch from"
      ]
    },
    {
      "cell_type": "code",
      "execution_count": 3,
      "metadata": {
        "colab": {
          "base_uri": "https://localhost:8080/"
        },
        "id": "V1-XbI54W2A5",
        "outputId": "518634c4-3253-44ab-838c-904c4879af3a"
      },
      "outputs": [
        {
          "name": "stdout",
          "output_type": "stream",
          "text": [
            "{'database/numRecs': '129614',\n",
            " 'description': 'Gemeenschappelijke zoekdienst van overheid.nl voor BWB Online',\n",
            " 'explain_url': 'http://zoekservice.overheid.nl/sru/Search?&version=1.2&x-connection=BWB&operation=explain',\n",
            " 'extent': 'Dutch national legislation',\n",
            " 'host': 'zoekservice.overheid.nl',\n",
            " 'indices': [('dcterms', 'identifier'),\n",
            "             ('dcterms', 'modified'),\n",
            "             ('dcterms', 'type'),\n",
            "             ('overheid', 'authority'),\n",
            "             ('overheidbwb', 'rechtsgebied'),\n",
            "             ('overheidbwb', 'overheidsdomein'),\n",
            "             ('overheidbwb', 'onderwerpVerdrag'),\n",
            "             ('overheidbwb', 'titel'),\n",
            "             ('overheidbwb', 'afkorting'),\n",
            "             ('overheidbwb', 'wetsfamilie'),\n",
            "             ('overheidbwb', 'geldigheidsdatum'),\n",
            "             ('overheidbwb', 'zichtdatum'),\n",
            "             ('overheidbwb', 'bekendmaking'),\n",
            "             ('overheidbwb', 'dossiernummer')],\n",
            " 'port': '80',\n",
            " 'sets': [('dcterms',\n",
            "           'http://purl.org/dc/terms/',\n",
            "           'Indexes in the namespace \"http://purl.org/dc/terms/\"'),\n",
            "          ('overheid',\n",
            "           'http://standaarden.overheid.nl/owms/terms/',\n",
            "           'Indexes in the namespace '\n",
            "           '\"http://standaarden.overheid.nl/owms/terms/\"'),\n",
            "          ('overheidbwb',\n",
            "           'http://standaarden.overheid.nl/bwb/terms/',\n",
            "           'Indexes in the namespace '\n",
            "           '\"http://standaarden.overheid.nl/bwb/terms/\"')],\n",
            " 'title': 'Overheid.nl search and retrieval service'}\n"
          ]
        }
      ],
      "source": [
        "pprint.pprint( sru_bwb.explain_parsed() )  # this is a self-decripion of the API for you to read, mainly useful to figure out the names of indices that you can search in"
      ]
    },
    {
      "attachments": {},
      "cell_type": "markdown",
      "metadata": {
        "id": "wmRLczjFbBdz"
      },
      "source": [
        "**The query syntax** is Common Query Language.\n",
        "\n",
        "You can get fairly far copying examples, or guessing based on them. \n",
        "\n",
        "For the more technically minded:\n",
        "- parts of a query are ***`indexname operator term`***, e.g. \n",
        "  - `overheidbwb.titel = kip` \n",
        "  - `dcterms.modified > 2022-01-01`\n",
        "  - `body any woning` \n",
        "  - use doublequotes when there's a space or one of `<>=/()` in the term, e.g. `dcterms.title = \"wet kip\"`\n",
        "- the operators supported vary per field and per server (some servers get fancy, many do not), so unless you stick to the very basics, then check its `explain`, and/or its documentation\n",
        "  - dates and numbers mostly have: `<` `<=` `>`, `>=` `=` \n",
        "  - text field often have most of:\n",
        "    - `any`:      you can see `body any \"foo bar\"`  as short for   `body any foo  OR  body any bar`\n",
        "    - `all`:      you can see `body all \"foo bar\"`  as short for   `body any foo  AND  body any bar`\n",
        "    - `==`:      exact match\n",
        "    - `exact`:    exact match\n",
        "    - `adj`       exact phrase search - these words should appear adjacent as specified\n",
        "    - `=`:        server choice, e.g. for text might be `==` or `adj` if present\n",
        "- you can combine multiple of those `index operator term` chunks, using AND and OR, and brackets, see e.g. the CVDR example below\n",
        "\n",
        "**Some details vary per server, and per repository in it**, e.g. \n",
        "  - which indexes (mostly named fields) are in searchable, and what they are called \n",
        "    - you can do an `explain` to find out.\n",
        "  - how search results actually point to the actual documents that they describe\n",
        "  - there may be shorthands for index names, e.g. BWB allows 'titel' meaning 'overheidbwb.titel'\n",
        "  - The more detailed question you have, the more you have to figure out repository details. We try to provide helper functions."
      ]
    },
    {
      "cell_type": "code",
      "execution_count": 4,
      "metadata": {
        "id": "XqqNqxMXdJh2"
      },
      "outputs": [],
      "source": [
        "# we will try a few queries, so a 'summarize result items' helps keep our code brief\n",
        "def print_bwb_results(records):\n",
        "    ' takes a list of etree object '\n",
        "    for i, record in enumerate( records ): \n",
        "        print('\\n***  Record %d of %d  ***'%(i+1, sru_bwb.numberOfRecords))\n",
        "        # each record is an ElementTree style object - which is clunky whenever you just want to just pick out a few values to show\n",
        "        #   we provide functions that parse that into python data structures, in this case: \n",
        "        meta = wetsuite.helpers.koop_parse.bwb_searchresult_meta(record)\n",
        "        pprint.pprint(meta)    \n"
      ]
    },
    {
      "attachments": {},
      "cell_type": "markdown",
      "metadata": {
        "id": "cfhIj33br9ZL"
      },
      "source": [
        "### Known-item search"
      ]
    },
    {
      "cell_type": "code",
      "execution_count": 5,
      "metadata": {
        "colab": {
          "base_uri": "https://localhost:8080/"
        },
        "id": "bCgOS-5frxqm",
        "outputId": "c91432d3-4700-43f2-e19e-da3953f88fb4"
      },
      "outputs": [
        {
          "name": "stdout",
          "output_type": "stream",
          "text": [
            "\n",
            "***  Record 1 of 4  ***\n",
            "{'authority': 'Binnenlandse Zaken en Koninkrijksrelaties',\n",
            " 'created': '2022-05-01',\n",
            " 'creator': 'Ministerie van Binnenlandse Zaken en Koninkrijksrelaties',\n",
            " 'geldigheidsperiode_einddatum': '2022-07-31',\n",
            " 'geldigheidsperiode_startdatum': '2022-05-01',\n",
            " 'identifier': 'BWBR0045754',\n",
            " 'language': 'nl',\n",
            " 'locatie_manifest': 'https://repository.officiele-overheidspublicaties.nl/bwb/BWBR0045754/manifest.xml',\n",
            " 'locatie_toestand': 'https://repository.officiele-overheidspublicaties.nl/bwb/BWBR0045754/2022-05-01_0/xml/BWBR0045754_2022-05-01_0.xml',\n",
            " 'locatie_wti': 'https://repository.officiele-overheidspublicaties.nl/bwb/BWBR0045754/BWBR0045754.WTI',\n",
            " 'modified': '2023-02-01',\n",
            " 'overheidsdomein': 'Overheid, bestuur en koninkrijk',\n",
            " 'rechtsgebied': 'Bestuursrecht',\n",
            " 'title': 'Wet open overheid',\n",
            " 'toestand': 'http://wetten.overheid.nl/id/BWBR0045754/2022-05-01/0',\n",
            " 'type': 'wet',\n",
            " 'zichtperiode_einddatum': '9999-12-31',\n",
            " 'zichtperiode_startdatum': '2022-05-01'}\n",
            "\n",
            "***  Record 2 of 4  ***\n",
            "{'authority': 'Binnenlandse Zaken en Koninkrijksrelaties',\n",
            " 'created': '2022-08-01',\n",
            " 'creator': 'Ministerie van Binnenlandse Zaken en Koninkrijksrelaties',\n",
            " 'geldigheidsperiode_einddatum': '2023-02-17',\n",
            " 'geldigheidsperiode_startdatum': '2022-08-01',\n",
            " 'identifier': 'BWBR0045754',\n",
            " 'language': 'nl',\n",
            " 'locatie_manifest': 'https://repository.officiele-overheidspublicaties.nl/bwb/BWBR0045754/manifest.xml',\n",
            " 'locatie_toestand': 'https://repository.officiele-overheidspublicaties.nl/bwb/BWBR0045754/2022-08-01_0/xml/BWBR0045754_2022-08-01_0.xml',\n",
            " 'locatie_wti': 'https://repository.officiele-overheidspublicaties.nl/bwb/BWBR0045754/BWBR0045754.WTI',\n",
            " 'modified': '2023-02-22',\n",
            " 'overheidsdomein': 'Overheid, bestuur en koninkrijk',\n",
            " 'rechtsgebied': 'Bestuursrecht',\n",
            " 'title': 'Wet open overheid',\n",
            " 'toestand': 'http://wetten.overheid.nl/id/BWBR0045754/2022-08-01/0',\n",
            " 'type': 'wet',\n",
            " 'zichtperiode_einddatum': '9999-12-31',\n",
            " 'zichtperiode_startdatum': '2022-08-01'}\n",
            "\n",
            "***  Record 3 of 4  ***\n",
            "{'authority': 'Binnenlandse Zaken en Koninkrijksrelaties',\n",
            " 'created': '2023-02-22',\n",
            " 'creator': 'Ministerie van Binnenlandse Zaken en Koninkrijksrelaties',\n",
            " 'geldigheidsperiode_einddatum': '2023-03-31',\n",
            " 'geldigheidsperiode_startdatum': '2023-02-18',\n",
            " 'identifier': 'BWBR0045754',\n",
            " 'language': 'nl',\n",
            " 'locatie_manifest': 'https://repository.officiele-overheidspublicaties.nl/bwb/BWBR0045754/manifest.xml',\n",
            " 'locatie_toestand': 'https://repository.officiele-overheidspublicaties.nl/bwb/BWBR0045754/2023-02-18_0/xml/BWBR0045754_2023-02-18_0.xml',\n",
            " 'locatie_wti': 'https://repository.officiele-overheidspublicaties.nl/bwb/BWBR0045754/BWBR0045754.WTI',\n",
            " 'modified': '2023-04-01',\n",
            " 'overheidsdomein': 'Overheid, bestuur en koninkrijk',\n",
            " 'rechtsgebied': 'Bestuursrecht',\n",
            " 'title': 'Wet open overheid',\n",
            " 'toestand': 'http://wetten.overheid.nl/id/BWBR0045754/2023-02-18/0',\n",
            " 'type': 'wet',\n",
            " 'zichtperiode_einddatum': '9999-12-31',\n",
            " 'zichtperiode_startdatum': '2023-02-18'}\n",
            "\n",
            "***  Record 4 of 4  ***\n",
            "{'authority': 'Binnenlandse Zaken en Koninkrijksrelaties',\n",
            " 'created': '2023-04-01',\n",
            " 'creator': 'Ministerie van Binnenlandse Zaken en Koninkrijksrelaties',\n",
            " 'geldigheidsperiode_einddatum': '9999-12-31',\n",
            " 'geldigheidsperiode_startdatum': '2023-04-01',\n",
            " 'identifier': 'BWBR0045754',\n",
            " 'language': 'nl',\n",
            " 'locatie_manifest': 'https://repository.officiele-overheidspublicaties.nl/bwb/BWBR0045754/manifest.xml',\n",
            " 'locatie_toestand': 'https://repository.officiele-overheidspublicaties.nl/bwb/BWBR0045754/2023-04-01_0/xml/BWBR0045754_2023-04-01_0.xml',\n",
            " 'locatie_wti': 'https://repository.officiele-overheidspublicaties.nl/bwb/BWBR0045754/BWBR0045754.WTI',\n",
            " 'modified': '2023-04-01',\n",
            " 'overheidsdomein': 'Overheid, bestuur en koninkrijk',\n",
            " 'rechtsgebied': 'Bestuursrecht',\n",
            " 'title': 'Wet open overheid',\n",
            " 'toestand': 'http://wetten.overheid.nl/id/BWBR0045754/2023-04-01/0',\n",
            " 'type': 'wet',\n",
            " 'zichtperiode_einddatum': '9999-12-31',\n",
            " 'zichtperiode_startdatum': '2023-04-01'}\n"
          ]
        }
      ],
      "source": [
        "print_bwb_results( sru_bwb.search_retrieve_many( 'dcterms.identifier = BWBR0045754', up_to=5 ) ) # up to 5: if we happen to have a lot of results, don't fetch and print all\n",
        "\n",
        "\n",
        "#sru_bwb.search_retrieve_many('dcterms.identifier==BWBR0001840', callback=bwb_callback) # Grondwet\n",
        "\n",
        "#sru_bwb.search_retrieve_many('dcterms.identifier==BWBR0004825', callback=bwb_callback) # Reglement verkeersregels en verkeerstekens, to see how e.g. images work"
      ]
    },
    {
      "attachments": {},
      "cell_type": "markdown",
      "metadata": {
        "id": "tDEAYMfRFCQJ"
      },
      "source": [
        "It turns out each version over time gets its own search result.\n",
        "\n",
        "Also meaning that, to get a current version, you might want to filter by things\n",
        "such as that `geldigheidsperiode_einddatum`. (We do something similar in the CVDR example below)"
      ]
    },
    {
      "attachments": {},
      "cell_type": "markdown",
      "metadata": {
        "id": "Ww48kOJjsJHX"
      },
      "source": [
        "### Title search"
      ]
    },
    {
      "cell_type": "code",
      "execution_count": 6,
      "metadata": {
        "colab": {
          "base_uri": "https://localhost:8080/"
        },
        "id": "Q0g4_Xhar7DN",
        "outputId": "eb1504ea-498f-4c33-f0ac-aa3eb1c34e70"
      },
      "outputs": [
        {
          "name": "stdout",
          "output_type": "stream",
          "text": [
            "\n",
            "***  Record 1 of 2  ***\n",
            "{'authority': 'Volksgezondheid, Welzijn en Sport',\n",
            " 'created': '2015-07-02',\n",
            " 'creator': 'Ministerie van Binnenlandse Zaken en Koninkrijksrelaties',\n",
            " 'geldigheidsperiode_einddatum': '2022-04-13',\n",
            " 'geldigheidsperiode_startdatum': '2001-04-13',\n",
            " 'identifier': 'BWBR0012348',\n",
            " 'language': 'nl',\n",
            " 'locatie_manifest': 'https://repository.officiele-overheidspublicaties.nl/bwb/BWBR0012348/manifest.xml',\n",
            " 'locatie_toestand': 'https://repository.officiele-overheidspublicaties.nl/bwb/BWBR0012348/2001-04-13_0/xml/BWBR0012348_2001-04-13_0.xml',\n",
            " 'locatie_wti': 'https://repository.officiele-overheidspublicaties.nl/bwb/BWBR0012348/BWBR0012348.WTI',\n",
            " 'modified': '2022-04-15',\n",
            " 'overheidsdomein': 'Economie en ondernemen',\n",
            " 'rechtsgebied': 'Ondernemingspraktijk',\n",
            " 'title': 'Warenwetbesluit formaldehyde in textiel',\n",
            " 'toestand': 'http://wetten.overheid.nl/id/BWBR0012348/2001-04-13/0',\n",
            " 'type': 'AMvB',\n",
            " 'zichtperiode_einddatum': '9999-12-31',\n",
            " 'zichtperiode_startdatum': '2001-04-13'}\n",
            "\n",
            "***  Record 2 of 2  ***\n",
            "{'authority': 'Volksgezondheid, Welzijn en Sport',\n",
            " 'created': '2021-10-15',\n",
            " 'creator': 'Ministerie van Binnenlandse Zaken en Koninkrijksrelaties',\n",
            " 'geldigheidsperiode_einddatum': '9999-12-31',\n",
            " 'geldigheidsperiode_startdatum': '2021-10-15',\n",
            " 'identifier': 'BWBR0045628',\n",
            " 'language': 'nl',\n",
            " 'locatie_manifest': 'https://repository.officiele-overheidspublicaties.nl/bwb/BWBR0045628/manifest.xml',\n",
            " 'locatie_toestand': 'https://repository.officiele-overheidspublicaties.nl/bwb/BWBR0045628/2021-10-15_0/xml/BWBR0045628_2021-10-15_0.xml',\n",
            " 'locatie_wti': 'https://repository.officiele-overheidspublicaties.nl/bwb/BWBR0045628/BWBR0045628.WTI',\n",
            " 'modified': '2021-10-15',\n",
            " 'overheidsdomein': 'Overheid, bestuur en koninkrijk',\n",
            " 'rechtsgebied': 'Bestuursrecht',\n",
            " 'title': 'Specifiek interventiebeleid NVWA Textiel (IB02-SPEC 60, versie 01)',\n",
            " 'toestand': 'http://wetten.overheid.nl/id/BWBR0045628/2021-10-15/0',\n",
            " 'type': 'beleidsregel',\n",
            " 'zichtperiode_einddatum': '9999-12-31',\n",
            " 'zichtperiode_startdatum': '2021-10-15'}\n"
          ]
        }
      ],
      "source": [
        "print_bwb_results( sru_bwb.search_retrieve_many( 'overheidbwb.titel any textiel', up_to=5 ) )"
      ]
    },
    {
      "attachments": {},
      "cell_type": "markdown",
      "metadata": {
        "id": "wmLy-EY_sW8k"
      },
      "source": [
        "### Changes this year"
      ]
    },
    {
      "cell_type": "code",
      "execution_count": 8,
      "metadata": {},
      "outputs": [
        {
          "data": {
            "text/plain": [
              "2023"
            ]
          },
          "execution_count": 8,
          "metadata": {},
          "output_type": "execute_result"
        }
      ],
      "source": []
    },
    {
      "cell_type": "code",
      "execution_count": 9,
      "metadata": {
        "colab": {
          "base_uri": "https://localhost:8080/"
        },
        "id": "OjkyKv0nsXI8",
        "outputId": "9d406bd9-83c3-4b09-d632-bf6d3cbbdd98"
      },
      "outputs": [
        {
          "name": "stdout",
          "output_type": "stream",
          "text": [
            "\n",
            "***  Record 1 of 14437  ***\n",
            "{'authority': 'Veiligheid en Justitie',\n",
            " 'created': '2015-07-01',\n",
            " 'creator': 'Ministerie van Binnenlandse Zaken en Koninkrijksrelaties',\n",
            " 'geldigheidsperiode_einddatum': '2002-06-30',\n",
            " 'geldigheidsperiode_startdatum': '2002-01-01',\n",
            " 'identifier': 'BWBR0001827',\n",
            " 'language': 'nl',\n",
            " 'locatie_manifest': 'https://repository.officiele-overheidspublicaties.nl/bwb/BWBR0001827/manifest.xml',\n",
            " 'locatie_toestand': 'https://repository.officiele-overheidspublicaties.nl/bwb/BWBR0001827/2002-01-01_0/xml/BWBR0001827_2002-01-01_0.xml',\n",
            " 'locatie_wti': 'https://repository.officiele-overheidspublicaties.nl/bwb/BWBR0001827/BWBR0001827.WTI',\n",
            " 'modified': '2023-02-25',\n",
            " 'overheidsdomein': 'Rechtspraak',\n",
            " 'rechtsgebied': 'Burgerlijk procesrecht',\n",
            " 'title': 'Wetboek van Burgerlijke Rechtsvordering (geldt in geval van '\n",
            "          'digitaal procederen)',\n",
            " 'toestand': 'http://wetten.overheid.nl/id/BWBR0001827/2002-01-01/0',\n",
            " 'type': 'wet',\n",
            " 'zichtperiode_einddatum': '9999-12-31',\n",
            " 'zichtperiode_startdatum': '2002-01-01'}\n",
            "\n",
            "***  Record 2 of 14437  ***\n",
            "{'authority': 'Veiligheid en Justitie',\n",
            " 'created': '2015-07-01',\n",
            " 'creator': 'Ministerie van Binnenlandse Zaken en Koninkrijksrelaties',\n",
            " 'geldigheidsperiode_einddatum': '2002-08-31',\n",
            " 'geldigheidsperiode_startdatum': '2002-07-01',\n",
            " 'identifier': 'BWBR0001827',\n",
            " 'language': 'nl',\n",
            " 'locatie_manifest': 'https://repository.officiele-overheidspublicaties.nl/bwb/BWBR0001827/manifest.xml',\n",
            " 'locatie_toestand': 'https://repository.officiele-overheidspublicaties.nl/bwb/BWBR0001827/2002-07-01_0/xml/BWBR0001827_2002-07-01_0.xml',\n",
            " 'locatie_wti': 'https://repository.officiele-overheidspublicaties.nl/bwb/BWBR0001827/BWBR0001827.WTI',\n",
            " 'modified': '2023-02-25',\n",
            " 'overheidsdomein': 'Rechtspraak',\n",
            " 'rechtsgebied': 'Burgerlijk procesrecht',\n",
            " 'title': 'Wetboek van Burgerlijke Rechtsvordering (geldt in geval van '\n",
            "          'digitaal procederen)',\n",
            " 'toestand': 'http://wetten.overheid.nl/id/BWBR0001827/2002-07-01/0',\n",
            " 'type': 'wet',\n",
            " 'zichtperiode_einddatum': '2004-03-25',\n",
            " 'zichtperiode_startdatum': '2002-07-01'}\n",
            "\n",
            "***  Record 3 of 14437  ***\n",
            "{'authority': 'Veiligheid en Justitie',\n",
            " 'created': '2015-07-01',\n",
            " 'creator': 'Ministerie van Binnenlandse Zaken en Koninkrijksrelaties',\n",
            " 'geldigheidsperiode_einddatum': '2002-08-31',\n",
            " 'geldigheidsperiode_startdatum': '2002-07-01',\n",
            " 'identifier': 'BWBR0001827',\n",
            " 'language': 'nl',\n",
            " 'locatie_manifest': 'https://repository.officiele-overheidspublicaties.nl/bwb/BWBR0001827/manifest.xml',\n",
            " 'locatie_toestand': 'https://repository.officiele-overheidspublicaties.nl/bwb/BWBR0001827/2002-07-01_1/xml/BWBR0001827_2002-07-01_1.xml',\n",
            " 'locatie_wti': 'https://repository.officiele-overheidspublicaties.nl/bwb/BWBR0001827/BWBR0001827.WTI',\n",
            " 'modified': '2023-02-25',\n",
            " 'overheidsdomein': 'Rechtspraak',\n",
            " 'rechtsgebied': 'Burgerlijk procesrecht',\n",
            " 'title': 'Wetboek van Burgerlijke Rechtsvordering (geldt in geval van '\n",
            "          'digitaal procederen)',\n",
            " 'toestand': 'http://wetten.overheid.nl/id/BWBR0001827/2002-07-01/1',\n",
            " 'type': 'wet',\n",
            " 'zichtperiode_einddatum': '9999-12-31',\n",
            " 'zichtperiode_startdatum': '2004-03-26'}\n",
            "\n",
            "***  Record 4 of 14437  ***\n",
            "{'authority': 'Veiligheid en Justitie',\n",
            " 'created': '2015-07-01',\n",
            " 'creator': 'Ministerie van Binnenlandse Zaken en Koninkrijksrelaties',\n",
            " 'geldigheidsperiode_einddatum': '2002-12-31',\n",
            " 'geldigheidsperiode_startdatum': '2002-09-01',\n",
            " 'identifier': 'BWBR0001827',\n",
            " 'language': 'nl',\n",
            " 'locatie_manifest': 'https://repository.officiele-overheidspublicaties.nl/bwb/BWBR0001827/manifest.xml',\n",
            " 'locatie_toestand': 'https://repository.officiele-overheidspublicaties.nl/bwb/BWBR0001827/2002-09-01_0/xml/BWBR0001827_2002-09-01_0.xml',\n",
            " 'locatie_wti': 'https://repository.officiele-overheidspublicaties.nl/bwb/BWBR0001827/BWBR0001827.WTI',\n",
            " 'modified': '2023-02-25',\n",
            " 'overheidsdomein': 'Rechtspraak',\n",
            " 'rechtsgebied': 'Burgerlijk procesrecht',\n",
            " 'title': 'Wetboek van Burgerlijke Rechtsvordering (geldt in geval van '\n",
            "          'digitaal procederen)',\n",
            " 'toestand': 'http://wetten.overheid.nl/id/BWBR0001827/2002-09-01/0',\n",
            " 'type': 'wet',\n",
            " 'zichtperiode_einddatum': '2004-03-25',\n",
            " 'zichtperiode_startdatum': '2002-09-01'}\n",
            "\n",
            "***  Record 5 of 14437  ***\n",
            "{'authority': 'Veiligheid en Justitie',\n",
            " 'created': '2015-07-01',\n",
            " 'creator': 'Ministerie van Binnenlandse Zaken en Koninkrijksrelaties',\n",
            " 'geldigheidsperiode_einddatum': '2002-12-31',\n",
            " 'geldigheidsperiode_startdatum': '2002-09-01',\n",
            " 'identifier': 'BWBR0001827',\n",
            " 'language': 'nl',\n",
            " 'locatie_manifest': 'https://repository.officiele-overheidspublicaties.nl/bwb/BWBR0001827/manifest.xml',\n",
            " 'locatie_toestand': 'https://repository.officiele-overheidspublicaties.nl/bwb/BWBR0001827/2002-09-01_1/xml/BWBR0001827_2002-09-01_1.xml',\n",
            " 'locatie_wti': 'https://repository.officiele-overheidspublicaties.nl/bwb/BWBR0001827/BWBR0001827.WTI',\n",
            " 'modified': '2023-02-25',\n",
            " 'overheidsdomein': 'Rechtspraak',\n",
            " 'rechtsgebied': 'Burgerlijk procesrecht',\n",
            " 'title': 'Wetboek van Burgerlijke Rechtsvordering (geldt in geval van '\n",
            "          'digitaal procederen)',\n",
            " 'toestand': 'http://wetten.overheid.nl/id/BWBR0001827/2002-09-01/1',\n",
            " 'type': 'wet',\n",
            " 'zichtperiode_einddatum': '9999-12-31',\n",
            " 'zichtperiode_startdatum': '2004-03-26'}\n"
          ]
        }
      ],
      "source": [
        "this_year = str(datetime.date.today().year)\n",
        "print_bwb_results( sru_bwb.search_retrieve_many( 'dcterms.modified >= %s-01-01'%this_year, up_to=5 ) )"
      ]
    },
    {
      "attachments": {},
      "cell_type": "markdown",
      "metadata": {
        "id": "qJtqcQk1e225"
      },
      "source": [
        "## CVDR\n",
        "The CVDR repository can be seen as the data equivalent of https://lokaleregelgeving.overheid.nl\n",
        "\n",
        "Checking what we can search:"
      ]
    },
    {
      "cell_type": "code",
      "execution_count": 13,
      "metadata": {
        "colab": {
          "base_uri": "https://localhost:8080/"
        },
        "id": "jw4kEEu1e3MM",
        "outputId": "79b231c4-87ba-46d8-cd99-4574724f7fdf"
      },
      "outputs": [
        {
          "name": "stdout",
          "output_type": "stream",
          "text": [
            "{'database/numRecs': '266775',\n",
            " 'description': 'Gemeenschappelijke zoekdienst van overheid.nl voor Centrale '\n",
            "                'Voorziening Decentrale Regelgeving',\n",
            " 'explain_url': 'http://zoekservice.overheid.nl/sru/Search?&version=1.2&x-connection=cvdr&operation=explain',\n",
            " 'extent': 'Lokale regelingen of the Dutch government',\n",
            " 'host': 'zoekservice.overheid.nl',\n",
            " 'indices': [('dcterms', 'identifier'),\n",
            "             ('dcterms', 'title'),\n",
            "             ('dcterms', 'language'),\n",
            "             ('dcterms', 'creator'),\n",
            "             ('dcterms', 'modified'),\n",
            "             ('dcterms', 'isFormatOf'),\n",
            "             ('dcterms', 'alternative'),\n",
            "             ('dcterms', 'source'),\n",
            "             ('dcterms', 'isRatifiedBy'),\n",
            "             ('dcterms', 'subject'),\n",
            "             ('dcterms', 'issued'),\n",
            "             (None, 'workid'),\n",
            "             (None, 'bronformaat'),\n",
            "             (None, 'organisatieType'),\n",
            "             (None, 'sorteerTitel'),\n",
            "             (None, 'gemeente'),\n",
            "             (None, 'provincie'),\n",
            "             (None, 'waterschap'),\n",
            "             (None, 'regionaalsamenwerkingsorgaan'),\n",
            "             (None, 'koninkrijksdeel'),\n",
            "             (None, 'nederlandseantillen'),\n",
            "             (None, 'deelgemeente'),\n",
            "             (None, 'caribischopenbaarlichaam'),\n",
            "             (None, 'anderopenbaarlichaam'),\n",
            "             (None, 'eilandgebied'),\n",
            "             (None, 'relevance'),\n",
            "             ('overheidrg', 'body'),\n",
            "             ('overheidrg', 'wti'),\n",
            "             ('overheidrg', 'keyword'),\n",
            "             ('overheidrg', 'alternatieveIdentifier'),\n",
            "             ('overheidrg', 'opvolgerVan'),\n",
            "             ('overheidrg', 'inwerkingtredingDatum'),\n",
            "             ('overheidrg', 'terugwerkendekrachtDatum'),\n",
            "             ('overheidrg', 'uitwerkingtredingDatum'),\n",
            "             ('overheidrg', 'betreft'),\n",
            "             ('overheidrg', 'kenmerk'),\n",
            "             ('overheidrg', 'onderwerp'),\n",
            "             ('overheidrg', 'redactioneleToevoeging'),\n",
            "             ('overheidrg', 'gedelegeerdeRegelgeving'),\n",
            "             ('overheidrg', 'datumGeldendOp'),\n",
            "             ('overheidrg', 'postcodeCijfers'),\n",
            "             ('overheidrg', 'indexeerdatum')],\n",
            " 'port': '80',\n",
            " 'sets': [('dcterms',\n",
            "           'http://purl.org/dc/terms/',\n",
            "           'Indexes in the namespace \"http://purl.org/dc/terms/\"'),\n",
            "          ('overheidrg',\n",
            "           'http://standaarden.overheid.nl/cvdr/terms/',\n",
            "           'Indexes in the namespace '\n",
            "           '\"http://standaarden.overheid.nl/cvdr/terms/\"')],\n",
            " 'title': 'Overheid.nl search and retrieval service'}\n"
          ]
        }
      ],
      "source": [
        "sru_cvdr = wetsuite.datacollect.koop_repositories.CVDR()\n",
        "\n",
        "pprint.pprint( sru_cvdr.explain_parsed() ) # seeing which indexes are here. \n",
        "# This one has a more complex information model, so you can dig a little deeper to see what you can do with it."
      ]
    },
    {
      "attachments": {},
      "cell_type": "markdown",
      "metadata": {
        "id": "6XwCG0kqe3mt"
      },
      "source": [
        "### Damocles\n",
        "Let's try looking for Amsterdam's policy around on [Wet damocles](https://nl.wikipedia.org/wiki/Wet_Damocles).\n",
        "\n",
        "As [the relevant SRU manual](https://data.overheid.nl/sites/default/files/dataset/d0cca537-44ea-48cf-9880-fa21e1a7058f/resources/Handleiding%2BSRU%2B2.0.pdf) mentions in passing, `dt.spatial` refers to where it applies, `dt.creator` refers to who is responsible for creating the document. For this case we assume they are the same. Also, this repository lets us write `creator` instead of `dt.creator`, etc., nice for a bit of readability in these examples."
      ]
    },
    {
      "cell_type": "code",
      "execution_count": 14,
      "metadata": {
        "id": "2107IgKrvMCg"
      },
      "outputs": [],
      "source": [
        "# we'll be playing with queries, so make 'show results' a minimal amount of typing away\n",
        "def print_cvdr_results(records):  \n",
        "    ' takes a list of etree object '\n",
        "    print('fetched %d records\\n'%len(records))\n",
        "    for i, record in enumerate( records ):\n",
        "        print('***  Record %d of %d  ***'%(i+1, sru_cvdr.numberOfRecords))\n",
        "        meta = wetsuite.helpers.koop_parse.cvdr_meta(record, flatten=True) # flatten smushes down possibly-repeated fields into a single value. Good enough (only) for presentation.\n",
        "        pprint.pprint( meta )"
      ]
    },
    {
      "cell_type": "code",
      "execution_count": 15,
      "metadata": {},
      "outputs": [
        {
          "name": "stdout",
          "output_type": "stream",
          "text": [
            "fetched 1 records\n",
            "\n",
            "***  Record 1 of 3848  ***\n",
            "{'alternatieveIdentifier': '',\n",
            " 'alternative': 'Verordening op de vastgoedregistratie',\n",
            " 'betreft': 'nieuwe regeling',\n",
            " 'creator': 'Amsterdam (overheid:Gemeente)',\n",
            " 'gedelegeerdeRegelgeving': '<al>Geen</al>',\n",
            " 'identifier': 'CVDR108223_1',\n",
            " 'inwerkingtredingDatum': '2008-10-01',\n",
            " 'isFormatOf': 'Gemeenteblad 2008, afd. 3A, nr. 182/461 ()',\n",
            " 'isRatifiedBy': 'gemeenteraad (overheid:BestuursorgaanGemeente)',\n",
            " 'issued': '2008-10-01',\n",
            " 'kenmerk': 'Gemeenteblad 2008, afd. 1, nr. 461',\n",
            " 'language': 'nl',\n",
            " 'modified': '2018-01-30',\n",
            " 'onderwerp': 'Ruimtelijke ordening, grondbeleid en bouwen',\n",
            " 'opvolgerVan': '',\n",
            " 'organisatietype': 'Gemeente',\n",
            " 'preferred_url': 'https://lokaleregelgeving.overheid.nl/CVDR108223/1',\n",
            " 'publicatieurl_xhtml': 'https://repository.officiele-overheidspublicaties.nl/cvdr/CVDR108223/1/html/CVDR108223_1.html',\n",
            " 'publicatieurl_xml': 'https://repository.officiele-overheidspublicaties.nl/cvdr/CVDR108223/1/xml/CVDR108223_1.xml',\n",
            " 'redactioneleToevoeging': '<al>Geen</al>',\n",
            " 'source': 'Gemeentewet, art. 149 '\n",
            "           '(http://wetten.overheid.nl/cgi-bin/deeplink/law1/title=Gemeentewet)',\n",
            " 'subject': 'ruimtelijke ordening, verkeer en vervoer',\n",
            " 'title': 'Verordening op de vastgoedregistratie',\n",
            " 'type': 'regeling (overheid:Informatietype)',\n",
            " 'uitwerkingtredingDatum': '2011-05-20'}\n"
          ]
        }
      ],
      "source": [
        "# See if we can search for amsterdam\n",
        "print_cvdr_results( sru_cvdr.search_retrieve_many( '(creator any Amsterdam) ', up_to=1 ) ) # show just one of many results, we only check whether it works"
      ]
    },
    {
      "cell_type": "code",
      "execution_count": 11,
      "metadata": {
        "colab": {
          "base_uri": "https://localhost:8080/"
        },
        "id": "lmW6ITNJeWQn",
        "outputId": "6a186d22-b527-4c97-885d-4e20ee0d47b5"
      },
      "outputs": [
        {
          "name": "stdout",
          "output_type": "stream",
          "text": [
            "fetched 0 records\n",
            "\n"
          ]
        }
      ],
      "source": [
        "# alright, now also require 'damocles' in the body text\n",
        "print_cvdr_results( sru_cvdr.search_retrieve_many( '(creator any Amsterdam) AND (body any damocles)', up_to=5 ) ) "
      ]
    },
    {
      "attachments": {},
      "cell_type": "markdown",
      "metadata": {
        "id": "hFf4vIFSeqrp"
      },
      "source": [
        "Nothing. Hm. Maybe it's called 'damoclesbeleid'?"
      ]
    },
    {
      "cell_type": "code",
      "execution_count": 12,
      "metadata": {
        "colab": {
          "base_uri": "https://localhost:8080/"
        },
        "id": "IUfLd_DKeqzO",
        "outputId": "69454ae3-0a4d-410b-87ea-df9b9fe91276"
      },
      "outputs": [
        {
          "name": "stdout",
          "output_type": "stream",
          "text": [
            "fetched 1 records\n",
            "\n",
            "***  Record 1 of 1  ***\n",
            "{'alternatieveIdentifier': '',\n",
            " 'alternative': 'Verzamelbesluit van de burgemeester van de gemeente Amsterdam '\n",
            "                'verband houdende met de herindeling van de gemeenten '\n",
            "                'Amsterdam en Weesp',\n",
            " 'betreft': 'nieuwe regeling',\n",
            " 'creator': 'Amsterdam (overheid:Gemeente)',\n",
            " 'identifier': 'CVDR674918_1',\n",
            " 'inwerkingtredingDatum': '2022-03-25',\n",
            " 'isFormatOf': 'gmb-2022-138618 '\n",
            "               '(https://zoek.officielebekendmakingen.nl/gmb-2022-138618)',\n",
            " 'isRatifiedBy': 'burgemeester (overheid:BestuursorgaanGemeente)',\n",
            " 'issued': '2022-03-07',\n",
            " 'kenmerk': 'Onbekend.',\n",
            " 'language': 'nl',\n",
            " 'modified': '2022-03-25',\n",
            " 'onderwerp': '',\n",
            " 'opvolgerVan': '',\n",
            " 'organisatietype': 'Gemeente',\n",
            " 'preferred_url': 'https://lokaleregelgeving.overheid.nl/CVDR674918/1',\n",
            " 'publicatieurl_xhtml': 'https://repository.officiele-overheidspublicaties.nl/cvdr/CVDR674918/1/html/CVDR674918_1.html',\n",
            " 'publicatieurl_xml': 'https://repository.officiele-overheidspublicaties.nl/cvdr/CVDR674918/1/xml/CVDR674918_1.xml',\n",
            " 'redactioneleToevoeging': '',\n",
            " 'source': 'artikel 28 van de Wet algemene regels herindeling '\n",
            "           '(1.0:c:BWBR0003718&artikel=28&g=2021-10-01),  artikel 30 van de '\n",
            "           'Wet algemene regels herindeling '\n",
            "           '(1.0:c:BWBR0003718&artikel=30&g=2021-10-01)',\n",
            " 'subject': 'bestuur en recht',\n",
            " 'title': 'Verzamelbesluit van de burgemeester van de gemeente Amsterdam '\n",
            "          'verband houdende met de herindeling van de gemeenten Amsterdam en '\n",
            "          'Weesp',\n",
            " 'type': 'regeling (overheid:Informatietype)',\n",
            " 'uitwerkingtredingDatum': ''}\n"
          ]
        }
      ],
      "source": [
        "print_cvdr_results( sru_cvdr.search_retrieve_many( '(creator any Amsterdam) AND (body any damocles  OR  body any damoclesbeleid)', up_to=5 ) )"
      ]
    },
    {
      "attachments": {},
      "cell_type": "markdown",
      "metadata": {
        "id": "hDs8IdO7ey1T"
      },
      "source": [
        "Not actually what we want - it's about reorganization and just happens to mention [Damoclesbeleid gemeente Weesp](https://lokaleregelgeving.overheid.nl/CVDR622223/1). \n",
        "\n",
        "If it exists, it probably isn't ***called*** damocles. \n",
        "\n",
        "Let's widen that to also include things that mention one of `drugs softdrugs harddrugs handelshoeveelheid opiumwet 13b` AND mention one of `sluiting herstelsanctie bestuursdwang`. \n",
        "\n",
        "This is a practical consideration: we _will_ get too many results, but what we want should at least be in there,  and filtering out can be easier than continuing to guess. "
      ]
    },
    {
      "cell_type": "code",
      "execution_count": 13,
      "metadata": {
        "colab": {
          "base_uri": "https://localhost:8080/"
        },
        "id": "fdwnatePey8J",
        "outputId": "4dd3c3ef-3a90-411d-fa92-6f1d48310c8c"
      },
      "outputs": [
        {
          "name": "stdout",
          "output_type": "stream",
          "text": [
            "fetched 5 records\n",
            "\n",
            "***  Record 1 of 114  ***\n",
            "{'alternatieveIdentifier': '',\n",
            " 'alternative': 'Beleidsregels sluitingen en heropeningen Amsterdam',\n",
            " 'betreft': 'nieuwe regeling',\n",
            " 'creator': 'Amsterdam (overheid:Gemeente)',\n",
            " 'identifier': 'CVDR640125_1',\n",
            " 'inwerkingtredingDatum': '2020-05-08',\n",
            " 'isFormatOf': 'gmb-2020-115757 '\n",
            "               '(https://zoek.officielebekendmakingen.nl/gmb-2020-115757)',\n",
            " 'isRatifiedBy': 'burgemeester (overheid:BestuursorgaanGemeente)',\n",
            " 'issued': '2020-04-24',\n",
            " 'kenmerk': 'Onbekend.',\n",
            " 'language': 'nl',\n",
            " 'modified': '2020-05-08',\n",
            " 'onderwerp': '',\n",
            " 'opvolgerVan': '',\n",
            " 'organisatietype': 'Gemeente',\n",
            " 'preferred_url': 'https://lokaleregelgeving.overheid.nl/CVDR640125/1',\n",
            " 'publicatieurl_xhtml': 'https://repository.officiele-overheidspublicaties.nl/cvdr/CVDR640125/1/html/CVDR640125_1.html',\n",
            " 'publicatieurl_xml': 'https://repository.officiele-overheidspublicaties.nl/cvdr/CVDR640125/1/xml/CVDR640125_1.xml',\n",
            " 'redactioneleToevoeging': '<al>Deze regeling vervangt de beleidsregels '\n",
            "                           'neergelegd in de Notitie inzake het sluitings- en '\n",
            "                           'heropeningsbeleid met betrekking tot artikel 13b '\n",
            "                           'van de Opiumwet en artikel 2.7 van de Algemene '\n",
            "                           'Plaatselijke Verordening, van 21 april 2005 '\n",
            "                           '(Gemeenteblad 4 mei 2005, afdeling 1 ,nr. '\n",
            "                           '223).</al>',\n",
            " 'source': 'artikel 4:81 van de Algemene wet bestuursrecht '\n",
            "           '(1.0:c:BWBR0005537&artikel=4%3A81&g=2020-04-15),  artikel 13b van '\n",
            "           'de Opiumwet (1.0:c:BWBR0001941&artikel=13b&g=2020-01-01),  artikel '\n",
            "           '172, derde lid, van de Gemeentewet '\n",
            "           '(1.0:c:BWBR0005416&artikel=172&lid=3&g=2020-01-01),  artikel 174a '\n",
            "           'van de Gemeentewet (1.0:c:BWBR0005416&artikel=174a&g=2020-01-01),  '\n",
            "           'https://decentrale.regelgeving.overheid.nl/cvdr/xhtmloutput/historie/amsterdam/72510/72510_9.html '\n",
            "           '()',\n",
            " 'subject': 'bestuur en recht',\n",
            " 'title': 'Beleidsregel van de burgemeester van de gemeente Amsterdam houdende '\n",
            "          'regels omtrent sluitingen en heropeningen (Beleidsregels sluitingen '\n",
            "          'en heropeningen Amsterdam)',\n",
            " 'type': 'regeling (overheid:Informatietype)',\n",
            " 'uitwerkingtredingDatum': '2023-02-01'}\n",
            "***  Record 2 of 114  ***\n",
            "{'alternatieveIdentifier': '',\n",
            " 'alternative': 'Beleidsregels sluitingen en heropeningen Amsterdam',\n",
            " 'betreft': 'nieuwe regeling',\n",
            " 'creator': 'Amsterdam (overheid:Gemeente)',\n",
            " 'identifier': 'CVDR691619_1',\n",
            " 'inwerkingtredingDatum': '2023-02-01',\n",
            " 'isFormatOf': 'gmb-2023-39609 '\n",
            "               '(https://zoek.officielebekendmakingen.nl/gmb-2023-39609)',\n",
            " 'isRatifiedBy': 'burgemeester (overheid:BestuursorgaanGemeente)',\n",
            " 'issued': '2023-01-19',\n",
            " 'kenmerk': 'Onbekend.',\n",
            " 'language': 'nl',\n",
            " 'modified': '2023-02-01',\n",
            " 'onderwerp': '',\n",
            " 'opvolgerVan': '',\n",
            " 'organisatietype': 'Gemeente',\n",
            " 'preferred_url': 'https://lokaleregelgeving.overheid.nl/CVDR691619/1',\n",
            " 'publicatieurl_xhtml': 'https://repository.officiele-overheidspublicaties.nl/cvdr/CVDR691619/1/html/CVDR691619_1.html',\n",
            " 'publicatieurl_xml': 'https://repository.officiele-overheidspublicaties.nl/cvdr/CVDR691619/1/xml/CVDR691619_1.xml',\n",
            " 'redactioneleToevoeging': '<al>Deze regeling vervangt de Beleidsregels '\n",
            "                           'Sluitingen en Heropeningen Amsterdam.</al>',\n",
            " 'source': 'artikel 4:81 van de Algemene wet bestuursrecht '\n",
            "           '(1.0:c:BWBR0005537&artikel=4%3A81&g=2023-01-01),  artikel 13b van '\n",
            "           'de Opiumwet (1.0:c:BWBR0001941&artikel=13b&g=2023-01-01),  artikel '\n",
            "           '172, derde lid, van de Gemeentewet '\n",
            "           '(1.0:c:BWBR0005416&artikel=172&lid=3&g=2023-01-01),  artikel 174a '\n",
            "           'van de Gemeentewet (1.0:c:BWBR0005416&artikel=174a&g=2023-01-01),  '\n",
            "           'artikel 175 van de Gemeentewet '\n",
            "           '(1.0:c:BWBR0005416&artikel=175&g=2023-01-01),  Algemene '\n",
            "           'Plaatselijke Verordening 2008 '\n",
            "           '(https://lokaleregelgeving.overheid.nl/CVDR72510/45)',\n",
            " 'subject': 'openbare orde en veiligheid',\n",
            " 'title': 'Besluit van de burgemeester van de gemeente Amsterdam houdende '\n",
            "          'beleidsregels over de sluitingsbevoegdheid op grond van de '\n",
            "          'Opiumwet, de Gemeentewet en de Algemene Plaatselijke Verordening '\n",
            "          '2008 (Beleidsregels sluitingen en heropeningen Amsterdam)',\n",
            " 'type': 'regeling (overheid:Informatietype)',\n",
            " 'uitwerkingtredingDatum': ''}\n",
            "***  Record 3 of 114  ***\n",
            "{'alternatieveIdentifier': '',\n",
            " 'alternative': 'Algemene Plaatselijke Verordening 2008',\n",
            " 'betreft': 'art. 3.1.2. onder u, art. 3.6, art. 3.14 lid 2, art. 3.19, art. '\n",
            "            '3.21 en de toelichting op deze artikelen',\n",
            " 'creator': 'Amsterdam (overheid:Gemeente)',\n",
            " 'gedelegeerdeRegelgeving': '<al>Geen</al>',\n",
            " 'identifier': '72510_10',\n",
            " 'inwerkingtredingDatum': '2012-08-02',\n",
            " 'isFormatOf': 'Gemeenteblad 2012, afd. 3A, nr. 100/524 ()',\n",
            " 'isRatifiedBy': 'gemeenteraad (overheid:BestuursorgaanGemeente)',\n",
            " 'issued': '2013-03-18',\n",
            " 'kenmerk': 'Gemeenteblad 2012, afd. 1, nr. 524',\n",
            " 'language': 'nl',\n",
            " 'modified': '2013-04-12',\n",
            " 'onderwerp': 'Openbare orde en veiligheid',\n",
            " 'opvolgerVan': '',\n",
            " 'organisatietype': 'Gemeente',\n",
            " 'preferred_url': 'https://lokaleregelgeving.overheid.nl/72510/10',\n",
            " 'publicatieurl_xhtml': 'https://repository.officiele-overheidspublicaties.nl/cvdr/72510/10/html/72510_10.html',\n",
            " 'publicatieurl_xml': 'https://repository.officiele-overheidspublicaties.nl/cvdr/72510/10/xml/72510_10.xml',\n",
            " 'redactioneleToevoeging': '<al>Geen</al>',\n",
            " 'source': 'Gemeentewet, art. 149 '\n",
            "           '(http://wetten.overheid.nl/cgi-bin/deeplink/law1/title=Gemeentewet)',\n",
            " 'title': 'Algemene Plaatselijke Verordening 2008',\n",
            " 'type': 'regeling (overheid:Informatietype)',\n",
            " 'uitwerkingtredingDatum': '2013-03-18'}\n",
            "***  Record 4 of 114  ***\n",
            "{'alternatieveIdentifier': '',\n",
            " 'alternative': 'Algemene Plaatselijke Verordening 2008',\n",
            " 'betreft': 'wijziging art. 4.13',\n",
            " 'creator': 'Amsterdam (overheid:Gemeente)',\n",
            " 'identifier': '72510_4',\n",
            " 'inwerkingtredingDatum': '2009-10-01',\n",
            " 'isFormatOf': 'Gemeenteblad 2009, afd. 3A, nr. 145/384 '\n",
            "               '(http://www.regelgeving.amsterdam.nl/centralestad/algemene_plaatselijke_verordening_2008/20091001)',\n",
            " 'isRatifiedBy': 'gemeenteraad (overheid:BestuursorgaanGemeente)',\n",
            " 'kenmerk': 'Gemeenteblad 2009, afd. 1, nr. 384',\n",
            " 'language': 'nl',\n",
            " 'modified': '2009-10-26',\n",
            " 'onderwerp': '',\n",
            " 'opvolgerVan': '',\n",
            " 'organisatietype': 'Gemeente',\n",
            " 'preferred_url': 'https://lokaleregelgeving.overheid.nl/72510/4',\n",
            " 'publicatieurl_xhtml': 'https://repository.officiele-overheidspublicaties.nl/cvdr/72510/4/html/72510_4.html',\n",
            " 'publicatieurl_xml': 'https://repository.officiele-overheidspublicaties.nl/cvdr/72510/4/xml/72510_4.xml',\n",
            " 'redactioneleToevoeging': '',\n",
            " 'source': 'Gemeentewet, art. 149 '\n",
            "           '(http://wetten.overheid.nl/cgi-bin/deeplink/law1/title=Gemeentewet)',\n",
            " 'title': 'Algemene Plaatselijke Verordening 2008',\n",
            " 'type': 'regeling (overheid:Informatietype)',\n",
            " 'uitwerkingtredingDatum': '2009-11-01'}\n",
            "***  Record 5 of 114  ***\n",
            "{'alternatieveIdentifier': '',\n",
            " 'alternative': 'Algemene Plaatselijke Verordening 2008',\n",
            " 'betreft': 'wijziging toelichting art. 4.27 lid 2 onder b',\n",
            " 'creator': 'Amsterdam (overheid:Gemeente)',\n",
            " 'identifier': '72510_5',\n",
            " 'inwerkingtredingDatum': '2009-11-01',\n",
            " 'isFormatOf': 'Gemeenteblad 2009, afd. 3A, nr. 160/375 '\n",
            "               '(http://www.regelgeving.amsterdam.nl/centralestad/algemene_plaatselijke_verordening_2008/20091101)',\n",
            " 'isRatifiedBy': 'gemeenteraad (overheid:BestuursorgaanGemeente)',\n",
            " 'kenmerk': 'Gemeenteblad 2009, afd. 1, nr. 375',\n",
            " 'language': 'nl',\n",
            " 'modified': '2009-12-30',\n",
            " 'onderwerp': '',\n",
            " 'opvolgerVan': '',\n",
            " 'organisatietype': 'Gemeente',\n",
            " 'preferred_url': 'https://lokaleregelgeving.overheid.nl/72510/5',\n",
            " 'publicatieurl_xhtml': 'https://repository.officiele-overheidspublicaties.nl/cvdr/72510/5/html/72510_5.html',\n",
            " 'publicatieurl_xml': 'https://repository.officiele-overheidspublicaties.nl/cvdr/72510/5/xml/72510_5.xml',\n",
            " 'redactioneleToevoeging': '',\n",
            " 'source': 'Gemeentewet, art. 149 '\n",
            "           '(http://wetten.overheid.nl/cgi-bin/deeplink/law1/title=Gemeentewet)',\n",
            " 'title': 'Algemene Plaatselijke Verordening 2008',\n",
            " 'type': 'regeling (overheid:Informatietype)',\n",
            " 'uitwerkingtredingDatum': '2009-12-28'}\n"
          ]
        }
      ],
      "source": [
        "print_cvdr_results( sru_cvdr.search_retrieve_many( '(creator any \"Amsterdam\") AND ( (body any \"damoclesbeleid damocles\") OR (body any \"drugs softdrugs harddrugs handelshoeveelheid opiumwet 13b\") AND (body any \"sluiting herstelsanctie bestuursdwang\"))', up_to=5 ) )\n",
        "\n"
      ]
    },
    {
      "attachments": {},
      "cell_type": "markdown",
      "metadata": {
        "id": "fyD55XLugody"
      },
      "source": [
        "There it is, plus a bunch of unrelated and expired entries.  We'll get to the expiry part of that in the next section."
      ]
    },
    {
      "attachments": {},
      "cell_type": "markdown",
      "metadata": {
        "id": "s_D98WGcmnIg"
      },
      "source": [
        "### Damocles per municipality\n",
        "\n",
        "We have a list of municipalities:"
      ]
    },
    {
      "cell_type": "code",
      "execution_count": 17,
      "metadata": {
        "colab": {
          "base_uri": "https://localhost:8080/"
        },
        "id": "GznrOETBmq9B",
        "outputId": "083df52c-fc59-4110-8253-af23b8e6a02e"
      },
      "outputs": [
        {
          "name": "stdout",
          "output_type": "stream",
          "text": [
            "\n",
            "    This is largely the more interesting fields from https://organisaties.overheid.nl/export/Gemeenten.csv\n",
            "    augmented with RDF-like data like that under https://standaarden.overheid.nl/owms/terms/Leiden_(gemeente)\n",
            "\n",
            "    \n",
            "    .data is a list of dicts, one per gemeente (currently 344 of them). Keys in that dict include:\n",
            "    \n",
            "    'Namen' - a list of name variants. \n",
            "       Usually just the short name, and a longer one with \"Gemeente \" in front\n",
            "       Sometimes with alternative names, e.g. [\"Den Bosch\", \"Gemeente 's-Hertogenbosch\", \"'s-Hertogenbosch\"]\n",
            "       We have used these as \"Match one of these\" to search for gemeentebeleid per gemeente\n",
            "   \n",
            "    Descriptions like 'Aantal inwoners', 'Oppervlakte'\n",
            "    \n",
            "    Organisational relations like \n",
            "      - 'Bevat plaatsen'\n",
            "      - 'Overlaps with', mentioning Provinces, Waterschappen\n",
            "      - 'Service area of' - things like GGD, Police, Social services  (each item is a list because we tend to have a full name and an abbreviation)\n",
            "      - 'Predecessors' - mentions previous gemeente names\n",
            "\n",
            "    Useful in other APIs / joining with other data\n",
            "    - 'OWMS URI'\n",
            "    - 'CBSCode', 'Organisatiecode'\n",
            "    \n",
            "    Politics\n",
            "    - 'Totaal aantal zetels', 'Raad'\n",
            "\n",
            "\n",
            "    This vesion was fetched on 2023-01-27\n",
            "            \n"
          ]
        }
      ],
      "source": [
        "gem = wetsuite.datasets.load('gemeentes')\n",
        "print( gem.description )"
      ]
    },
    {
      "cell_type": "code",
      "execution_count": 18,
      "metadata": {
        "colab": {
          "base_uri": "https://localhost:8080/"
        },
        "id": "gFxGgORwnPKc",
        "outputId": "1e481741-f258-4fe1-a5b3-72de5bcb36b3"
      },
      "outputs": [
        {
          "name": "stdout",
          "output_type": "stream",
          "text": [
            "{'Aantal inwoners': '74298',\n",
            " 'Bevat plaatsen': ['Blokker', 'Hoorn NH', 'Zwaag'],\n",
            " 'CBSCode': '0405',\n",
            " 'Namen': ['Hoorn', 'Gemeente Hoorn'],\n",
            " 'OWMS URI': 'http://standaarden.overheid.nl/owms/terms/Hoorn_(gemeente)',\n",
            " 'Oppervlakte': [52, 'km2'],\n",
            " 'Organisatiecode': 'gm0405',\n",
            " 'Overlaps with': [['Hoogheemraadschap Hollands Noorderkwartier'],\n",
            "                   ['Noord-Holland']],\n",
            " 'Predecessors': [],\n",
            " 'Raad': [['Fractie Tonnaer', 6],\n",
            "          ['Hoorn lokaal', 4],\n",
            "          ['ÉénHoorn', 4],\n",
            "          ['GroenLinks', 4],\n",
            "          ['VVD', 3],\n",
            "          ['D66', 3],\n",
            "          ['PvdA', 3],\n",
            "          ['CDA', 2],\n",
            "          ['Liberaal Hoorn', 2],\n",
            "          ['Sociaal Hoorn', 2],\n",
            "          ['De Realistische Partij', 1],\n",
            "          ['ChristenUnie', 1]],\n",
            " 'Service area of': [['Afvalbeheer Westfriesland', 'ABWF'],\n",
            "                     ['Gemeentelijke Gezondheidsdienst Hollands Noorden',\n",
            "                      'GGD HN',\n",
            "                      'GGD Hollands Noorden',\n",
            "                      '1620'],\n",
            "                     ['Milieudienst Westfriesland'],\n",
            "                     ['OD NHN', 'Omgevingsdienst Noord-Holland Noord'],\n",
            "                     ['RUD NHN',\n",
            "                      'Regionale Uitvoeringsdienst Noord-Holland Noord'],\n",
            "                     ['Recreatieschap Westfriesland'],\n",
            "                     ['Regiokorps Politie Noord-Holland-Noord'],\n",
            "                     ['Veiligheidsregio Noord-Holland Noord'],\n",
            "                     ['Veiligheidsregio Noord-Holland-Noord'],\n",
            "                     ['WerkSaam', 'WerkSaam Westfriesland'],\n",
            "                     ['Westfries Archief, Regionaal Historisch Centrum voor '\n",
            "                      'West-Friesland',\n",
            "                      'WFA',\n",
            "                      'Westfries Archief']],\n",
            " 'Totaal aantal zetels': '35'}\n"
          ]
        }
      ],
      "source": [
        "# Showing one random example of gemeente data.\n",
        "#   in this example we only actually care about 'Namen', though\n",
        "pprint.pprint( random.choice( gem.data ) )"
      ]
    },
    {
      "attachments": {},
      "cell_type": "markdown",
      "metadata": {
        "id": "n3rjSWgaF8_R"
      },
      "source": [
        "For each municipality, we pick out 'Namen' and put it in a query:"
      ]
    },
    {
      "cell_type": "code",
      "execution_count": 20,
      "metadata": {
        "colab": {
          "base_uri": "https://localhost:8080/"
        },
        "id": "DB6Ty3BOnWSd",
        "outputId": "71f39d2c-fec2-4230-b498-af5a98564e2a"
      },
      "outputs": [
        {
          "name": "stdout",
          "output_type": "stream",
          "text": [
            "\n",
            " ==  56  hits for   Den Haag / Gemeente Den Haag / 's-Gravenhage == \n",
            "     CVDR645629_1  2020-11-10..            Beleidsregel toezicht bedrijfsmatige activiteiten 2020\n",
            "     CVDR674619_1  2022-03-24..            Beleidsregel bestuurlijke boete, sluiting en beheerovername op grond van de Woningwet Den Haag 2022\n",
            "     CVDR690428_1  2023-01-01..            Beleidsregel beoordeling levensgedrag Den Haag 2023\n",
            "     CVDR11313_53  2022-12-01..            Algemene plaatselijke verordening voor de gemeente Den Haag\n",
            "\n",
            " ==  25  hits for   Den Helder / Gemeente Den Helder == \n",
            "     CVDR657606_1  2021-05-15..            Beleidsregel van de burgemeester van de gemeente Den Helder, houdende regels over sluiting van lokalen en woningen op grond van artikel 13b Opiumwet (Damoclesbeleid Den Helder 2021)\n",
            "     CVDR674768_1  2022-03-26..            Beleidsregels van de burgemeester van de gemeente Den Helder, houdende regels omtrent coffeeshops (Beleid coffeeshops Den Helder 2022)\n",
            "     CVDR627607_1  2019-09-20..            Besluit van de gemeenteraad van de gemeente Den Helder houdende regels omtrent vergunningverlening, toezicht en handhaving\n",
            "     CVDR670333_2  2022-03-25..            Besluit van de raad van de gemeente Den Helder tot vaststelling van de Algemene plaatselijke verordening Den Helder 2021 (Algemene plaatselijke verordening Den Helder 2021)\n",
            "     CVDR655148_1  2021-03-13..            Beleidsregels van het college van burgemeester en wethouders van de gemeente Den Helder, houdende regels over bijstandsverlening aan zelfstandigen (Beleidsregels Bijstandsverlening zelfstandigen (Bbz 2004) gemeente Den Helder)\n",
            "     CVDR657181_1  2021-05-01..            Beleidsregel van het college van burgemeester en wethouders van de gemeente Den Helder houdende regels omtrent de procedures, voorschriften en afspraken rond evenementenvergunningen\n",
            "     CVDR695416_1  2024-01-01..            Besluit van de gemeenteraad van de gemeente Den Helder, houdende regels over de fysieke leefomgeving (Verordening Fysieke Leefomgeving Den Helder)\n",
            "\n",
            " ==  13  hits for   Deurne / Gemeente Deurne == \n",
            "     CVDR665664_1  2021-12-04..            Beleidsregel handhavingsprotocol Opiumwet 13b Deurne 2021\n",
            "     CVDR490139_4  2021-12-30..            Algemene Plaatselijke Verordening Deurne 2018\n",
            "     CVDR640681_4  2022-11-18..2023-06-02  Algemene mandaatregeling Deurne 2020\n",
            "\n",
            " ==  15  hits for   Deventer / Gemeente Deventer == \n",
            "      CVDR19959_1  2009-11-04..            Beleidsregels handhavingsprotocol art. 13b Opiumwet\n",
            "     CVDR375267_1  2015-08-22..            Gedoog- en handhavingsarrangement artikel 13b Opiumwet\n",
            "     CVDR665128_3  2022-12-03..            Algemene plaatselijke verordening Deventer\n",
            "     CVDR640609_1  2020-05-28..            Beleidsregel van de burgemeester van de gemeente Deventer houdende regels omtrent aanpak woonoverlast gemeente Deventer\n",
            "\n",
            " ==  22  hits for   Diemen / Gemeente Diemen == \n",
            "     CVDR449569_1  2017-04-05..            Geüniformeerd bestuursrechtelijk handhavingsbeleid met betrekking tot overtredingen van de Opiumwet (Sluitings- en heropeningsbeleid)\n",
            "     CVDR483831_5  2022-03-01..            Algemene Plaatselijke Verordening Diemen 2015\n",
            "     CVDR693548_1  2023-03-22..            Uitvoerings- en handhavingsbeleid VTH Omgevingsrecht Gemeente Diemen 2023 - 2026\n",
            "     CVDR684528_1  2022-11-26..            Uitvoeringsplan vergunningverlening, toezicht en handhaving omgevingsrecht en openbare orde & veiligheid gemeente Diemen 2021\n",
            "     CVDR684216_1  2022-11-24..            Meerjarenbeleidsplan integrale veiligheid 2019-2022\n",
            "     CVDR486018_1  2018-03-15..            Beleidsregel Wet aanpak woonoverlast gemeente Diemen\n",
            "     CVDR487010_1  2018-04-13..            Uitvoeringsplan vergunningverlening, toezicht en handhaving omgevingsrecht gemeente Diemen 2018\n",
            "     CVDR626625_1  2019-07-26..            Integraal vergunningverlenings-, toezichts- en handhavingsbeleid gemeente Diemen 2019-2022\n",
            "     CVDR672622_1  2022-02-10..            Bevoegdhedenregeling gemeente Diemen April 2021\n",
            "     CVDR438689_1  2017-01-01..            Integraal VTH beleid gemeente Diemen 2017 en 2018\n"
          ]
        }
      ],
      "source": [
        "for gemeente_dict in gem.data[65:70]: # looking for den haag  with its other name, to check that the code and search are not not tripping over that.      (-35:-30  exposes a current repo bug)\n",
        "\n",
        "    # we probably want to search in the index called 'creator'\n",
        "    # when there are multiple names, we accept any of them.\n",
        "    # doublequotes because there's spaces in some.\n",
        "    query_gemeente_names = ' OR '.join( '(creator = \"%s\")'%naam   for naam in gemeente_dict['Namen'] )\n",
        "\n",
        "    # this is the query we settled on earlier, plus the name requirement\n",
        "    query = '(%s) AND ( (body any \"damoclesbeleid damocles\")  OR  (body any \"drugs softdrugs harddrugs handelshoeveelheid opiumwet 13b\") AND (body any \"sluiting herstelsanctie bestuursdwang\"))'%( \n",
        "        query_gemeente_names\n",
        "    )\n",
        "\n",
        "    ## search and fetch only first page, just so that num_records is filled in to report\n",
        "    cvdr = wetsuite.datacollect.koop_repositories.CVDR()\n",
        "    cvdr.search_retrieve( query ) \n",
        "    print( \"\\n == %3d  hits for   %s == \"%(cvdr.num_records(), ' / '.join(gemeente_dict['Namen'])) )\n",
        "\n",
        "    ## search and fetch all, summarizing each record as we go  (callback style instead)\n",
        "    def show_brief( record ): \n",
        "        meta = wetsuite.helpers.koop_parse.cvdr_meta( record, flatten=True )\n",
        "        uit = meta.get('uitwerkingtredingDatum', None)  # ignore things that are expired, because they were probably replaced by something else also in the results  (side note: the expiry data doesn't look 100% correct)\n",
        "\n",
        "        # old policies are still in here, and we can reasonably assume that ones that expired will probably be replaced by another in the results, so we can just hide them. \n",
        "        # Yes, this can also be done in the query\n",
        "        if uit not in (None,'')  and  (dateutil.parser.parse(uit.split('+')[0]).date() < datetime.date.today()):  # TODO: push newer code that avoids the need for that + nonsense\n",
        "            pass\n",
        "        else:\n",
        "            print( \"  %15s  %10s..%-10s  %s\"%( meta.get('identifier'), meta.get('inwerkingtredingDatum'),  meta.get('uitwerkingtredingDatum',''),  meta.get('title')) )\n",
        "            #print('    URL: %s'%meta.get('publicatieurl_xml') )     # 'publicatieurl_xml' points to text in structured XML.  There is also 'publicatieurl_xhtml' (more browser-presentable),  and 'preferred_url' (a link to the page that lokaleregelgeving.overheid.nl would also send you to)\n",
        "            \n",
        "            if False: # If you wanted to extract the text, this would be a (very crude) start:\n",
        "              xml_data = wetsuite.helpers.net.download( meta.get('publicatieurl_xml') )\n",
        "              tree = etree.strip_namespace( etree.fromstring( xml_data ) )\n",
        "              for al in tree.find('body/regeling/regeling-tekst').getiterator('al'):\n",
        "                  print(  ''.join( etree.all_text_fragments(al) )  )\n",
        "\n",
        "    cvdr.search_retrieve_many( query, callback=show_brief ) # all results, and show brief summary, mainly just titles"
      ]
    },
    {
      "attachments": {},
      "cell_type": "markdown",
      "metadata": {
        "id": "ZFZ7kfyqeqC6"
      },
      "source": [
        "Always think and check, rather than trust automation blindly.\n",
        "\n",
        "In this case, consider:\n",
        "- the above search doesn't have a good hit for Den Haag. \n",
        "  - They do actually have a policy, but [on their website](https://denhaag.raadsinformatie.nl/modules/13/Overige_bestuurlijke_stukken/113642) rather than in in CVDR. There are other cases like this, which you will probably only really find out by hand.\n",
        "<!-- -->\n",
        "\n",
        "- [CVDR19959/1](https://lokaleregelgeving.overheid.nl/CVDR19959/1) and [CVDR375267/1](https://lokaleregelgeving.overheid.nl/CVDR375267/1) look to me like the same thing, for Deventer, and both mention they are current. \n",
        "  - I can't tell offhand whether that's correct, or they e.g. forgot to mark the older one as ended when the newer one was introduced. There are a handful more cases like these, so it might instead have some practical or legal reason I am not aware of.\n",
        "<!-- -->\n",
        "\n",
        "- Municipality mergers means names change over time, e.g. `Kollumerland en Nieuwkruisland` (a.k.a. `Kollumerland ca.`), `Dongeradeel`, en `Ferwerderadeel` are now `Noardeast-Fryslân`.\n",
        "  - Presumably they don't re-issue all policy on that day, which probably means most active policy is still under the old name? \n",
        "    - TODO: actually look into that - it might be worth putting the previous name in the gemeente dataset\n",
        "<!-- -->\n",
        "\n",
        "- Municipality naming converntions may throw you off. Consider e.g.:\n",
        "  - `Den Haag` is also known as `'s-Gravenhage`, and `Den Bosch` is also known as `'s-Hertogenbosch`\n",
        "  - abbreviations, e.g. `Nuenen, Gerwen en Nederwetten` may appear as `Neunen c.a.` - and I would assume also just `Neunen`\n",
        "  - somewhat less officially, Frisian towns should be assumed to an have two equivalent names. This may be subtle (`Dantumadeel` versus `Dantumadiel`) or less so (`Leeuwarden` versus `Ljouwert`)\n",
        "\n",
        "<!-- -->\n",
        "\n",
        "- There is a `Bergen` (municipality _and_ town) in Noord Holland and a `Bergen` (municipality _and_ town) in Limburg. \n",
        "  - In [this government list](https://organisaties.overheid.nl/export/Gemeenten.csv) the municipalities are called `Bergen (L)` and `Bergen NH` but it seems a poor idea to assume that is precisely how they appear in all use. You should proably assume searches by name will mix these two, for you to resolve manually (it would be nice if we could search by gemeentecode/organisatiecode, here gm0893 and gm0373 respectively).\n"
      ]
    },
    {
      "attachments": {},
      "cell_type": "markdown",
      "metadata": {
        "id": "_rEw9Jb_hBx7"
      },
      "source": [
        "### Some other searches"
      ]
    },
    {
      "attachments": {},
      "cell_type": "markdown",
      "metadata": {
        "id": "cRVnaP8xf3G2"
      },
      "source": [
        "Another sort of search that may be interesting:"
      ]
    },
    {
      "cell_type": "code",
      "execution_count": 23,
      "metadata": {
        "colab": {
          "base_uri": "https://localhost:8080/"
        },
        "id": "se3AE3iJf3NF",
        "outputId": "9395124c-7efc-4991-db60-ce1f913e2696"
      },
      "outputs": [
        {
          "name": "stdout",
          "output_type": "stream",
          "text": [
            "     CVDR172769_3  2023-07-01  Bouwverordening Enschede 2012\n",
            "     CVDR213613_4  2024-01-01  Algemeen delegatiebesluit\n",
            "    CVDR296035_12  2023-07-03  Parkeerverordening 2013\n",
            "     CVDR296525_3  2024-01-01  Bouwverordening gemeente Buren 2013\n",
            "     CVDR298206_2  2023-09-01  Verordening geldelijke voorzieningen commissieleden\n",
            "     CVDR332619_3  2024-01-01  Bouwverordening\n",
            "     CVDR375606_7  2023-05-27  Besluit bedieningstijden bruggen en sluizen 2007\n",
            "     CVDR376306_2  2023-07-01  Algemeen delegatiebesluit Vlissingen 2015\n",
            "     CVDR406898_3  2023-05-25  Verordening op de Adviescommissie POP3 Gelderland\n",
            "     CVDR413094_8  2023-07-01  Verordening leerlingenvervoer gemeente Borsele 2016\n",
            "    CVDR418922_13  2023-07-06  Algemene Plaatselijke Verordening voor Arnhem\n",
            "     CVDR452422_2  2024-01-01  Besluit tot wijziging van de Haven- en Kadeverordening 2016\n",
            "      CVDR51448_2  2024-01-01  Monumentenverordening Gemeente Maasdriel 2010\n",
            "     CVDR622795_2  2023-06-02  Besluit van het college van burgemeester en wethouders van de gemeente Zoetermeer houdende regels omtrent Privacy- en beheerregeling BRP\n",
            "     CVDR624587_5  2023-06-01  Subsidieregeling onderwijsachterstandenbeleid 2020\n",
            "     CVDR628889_4  2023-07-01  VASTGESTELD SUBSIDIEREGELING KINDEROPVANG BRUMMEN\n",
            "     CVDR630727_5  2023-05-25  Besluit van het college van burgemeester en wethouders van de gemeente Haarlem houdende regels omtrent de uitvoering van de Afvalstoffenverordening (Uitvoeringsbesluit Afvalstoffenverordening Haarlem 2019)\n",
            "     CVDR636483_3  2023-05-26  Mandaatregeling 2020\n",
            "     CVDR641497_2  2023-05-25  Besluit van het college van burgemeester en wethouders van de gemeente Zandvoort houdende regels omtrent uitvoering afvalstoffenverordening (Uitvoeringsbesluit Afvalstoffenverordening Zandvoort 2020)\n",
            "     CVDR642338_2  2023-05-31  Verordening op de Financiële commissie gemeente Rheden 2020\n",
            "NOTE: there were 673 matching items, we fetched only 20\n"
          ]
        }
      ],
      "source": [
        "### All changes in the last week\n",
        "\n",
        "import wetsuite.helpers.etree\n",
        "one_week_ago = datetime.date.today() - datetime.timedelta(days=7) # python date/datetime objects let you do that\n",
        "\n",
        "fetched_records = sru_cvdr.search_retrieve_many( 'dcterms.modified > %s'%( one_week_ago.strftime('%Y-%m-%d') ), # date as text, yyyy-mm-dd style \n",
        "                                         up_to=20  )\n",
        "for record in fetched_records:\n",
        "    #print( wetsuite.helpers.etree.tostring(record).decode('u8') )\n",
        "    meta = wetsuite.helpers.koop_parse.cvdr_meta( record, flatten=True )\n",
        "    # you can argue over whether for date you want 'modified', 'issued', 'inwerkingtredingDatum', and maybe show 'terugwerkendekrachtDatum'\n",
        "    print( \"  %15s  %10s  %s\"%( meta.get('identifier'), meta.get('modified'),  meta.get('title','') ) )\n",
        "\n",
        "if len(fetched_records) < sru_cvdr.num_records():\n",
        "    print(\"NOTE: there were %d matching items, we fetched only %d\"%(sru_cvdr.num_records(), len(fetched_records)))"
      ]
    },
    {
      "cell_type": "code",
      "execution_count": null,
      "metadata": {},
      "outputs": [],
      "source": [
        "# unsorted:\n",
        "\n",
        "\n",
        "# -----------------------------------------------\n",
        "\n",
        "#sru_cvdr.search_retrieve_many(\"creator any Delft\", at_a_time=1000, up_to=50000, callback=cvdr_callback)\n",
        "#sru_cvdr.search_retrieve_many(\"creator any Amsterdam\", at_a_time=1000, up_to=50000, callback=cvdr_callback)\n",
        "#sru_cvdr.search_retrieve_many(\"creator any Utrecht\", at_a_time=1000, up_to=50000, callback=cvdr_callback)\n",
        "\n",
        "#sru_cvdr.search_retrieve_many(\"title any Damocles or title any damoclesbeleid\", at_a_time=1000, up_to=50000, callback=cvdr_callback)\n",
        "#sru_cvdr.search_retrieve_many(\"title any Opiumwet and title any 13b\", at_a_time=1000, up_to=50000, callback=cvdr_callback)\n",
        "#sru_cvdr.search_retrieve_many(\"title any Opiumwet and title any 13\", at_a_time=1000, up_to=50000, callback=cvdr_callback)\n",
        "#sru_cvdr.search_retrieve_many(\"dcterms.source any BWBR0001941\", at_a_time=1000, up_to=50000, callback=cvdr_callback)\n",
        "#sru_cvdr.search_retrieve_many(\"dcterms.source any 13b\", at_a_time=1000, up_to=50000, callback=cvdr_callback)\n",
        "#sru_cvdr.search_retrieve_many(\"dcterms.source any opiumwet\", at_a_time=1000, up_to=50000, callback=cvdr_callback)\n",
        "#sru_cvdr.search_retrieve_many(\"isFormatOf='CVDR640125'\", at_a_time=1000, up_to=50000, callback=cvdr_callback)\n",
        "#  https://repository.officiele-overheidspublicaties.nl/CVDR/CVDR640125/1/xml/CVDR640125_1.xml\n",
        "\n",
        "\n",
        "#sru_cvdr.search_retrieve_many('dcterms.modified>=2022-06-01', at_a_time=1000, up_to=50000, callback=cvdr_callback)\n",
        "#sru_cvdr.search_retrieve_many('dcterms.modified>=2022-01-01 and dcterms.modified<=2022-06-01', at_a_time=1000, up_to=50000, callback=cvdr_callback)\n",
        "#sru_cvdr.search_retrieve_many('dcterms.modified>=2021-01-01 and dcterms.modified<=2021-12-31', up_to=50000, callback=cvdr_callback) \n",
        "#sru_cvdr.search_retrieve_many('dcterms.modified>=2013-01-01 and dcterms.modified<=2013-12-31', up_to=50000, callback=cvdr_callback) \n",
        "#sru_cvdr.search_retrieve_many('dcterms.modified<=2012-12-31', up_to=50000, callback=cvdr_callback) \n",
        "\n",
        "# doesn't seem to let you search for \"all versions of\"\n",
        "#sru_cvdr.search_retrieve_many(\"dcterms.identifier=CVDR272112_2\", at_a_time=1000, up_to=50000, callback=cvdr_callback)\n",
        "#sru_cvdr.search_retrieve_many(\"dcterms.identifier=CVDR272112\", at_a_time=1000, up_to=50000, callback=cvdr_callback)\n",
        "\n",
        "# ERROR case\n",
        "#sru_cvdr.search_retrieve_many(\"dcterms.identifier=CVDR7915_1\", at_a_time=1000, up_to=50000, callback=cvdr_callback)"
      ]
    },
    {
      "attachments": {},
      "cell_type": "markdown",
      "metadata": {
        "id": "ByJtV7w9e8JJ"
      },
      "source": [
        "## Other related code"
      ]
    },
    {
      "cell_type": "code",
      "execution_count": 24,
      "metadata": {
        "colab": {
          "base_uri": "https://localhost:8080/"
        },
        "id": "XpkzF3DWe9Pn",
        "outputId": "429c5ab7-ae87-4517-99ba-2cdc887b7643"
      },
      "outputs": [
        {
          "data": {
            "text/plain": [
              "['CVDR165982_1', 'CVDR165982_2']"
            ]
          },
          "execution_count": 24,
          "metadata": {},
          "output_type": "execute_result"
        }
      ],
      "source": [
        "# there are a bunch of helper functions to help you deal with search results (e.g. parsing metadata and identifiers) \n",
        "# ...and to some degree the documents.  One or two are used above.    \n",
        "# TODO: document, explain, demonstrate more\n",
        "\n",
        "# there are also some more specific tools, like:\n",
        "\n",
        "# \"given a CVDR work id (or specific expression ID implying the work), find all knovn expression IDs for that work ID\"\n",
        "wetsuite.helpers.koop_parse.cvdr_versions_for_work( 'CVDR165982' ) \n",
        "#   will also accept expression IDs, e.g. CVDR165982_1, which it treats as its work ID.\n",
        "#   Note that this does a search, so will not be fast to do for a large list of them."
      ]
    },
    {
      "attachments": {},
      "cell_type": "markdown",
      "metadata": {
        "id": "iwEgTt93fRU5"
      },
      "source": [
        "# Officiele publicaties\n",
        "\n",
        "There is some more technical detail in https://www.koopoverheid.nl/binaries/koop/documenten/instructies/2021/02/09/handleiding-voor-het-uitvragen-van-de-collectie-officiele-publicaties/Handleiding+SRU2.0+v1.2+28052021.pdf also touches on details"
      ]
    },
    {
      "attachments": {},
      "cell_type": "markdown",
      "metadata": {},
      "source": [
        "## PLOOI\n",
        "\n",
        "https://kia.pleio.nl/file/download/e7fad70c-b2f6-4fd3-ac85-e3b8d0cd9ead/plooi-technische-handreiking.pdf\n",
        "\n",
        "https://kia.pleio.nl/file/download/a56145c5-89be-4445-8e10-ecbc5458c895/plooi-handreiking-voor-informatie.pdf"
      ]
    },
    {
      "cell_type": "code",
      "execution_count": null,
      "metadata": {},
      "outputs": [],
      "source": [
        "sru_plooi = wetsuite.datacollect.koop_repositories.PLOOI( verbose=False )\n",
        "pprint.pprint( sru_plooi.explain_parsed() ) # seeing which indexes are here. "
      ]
    },
    {
      "cell_type": "code",
      "execution_count": null,
      "metadata": {},
      "outputs": [],
      "source": [
        "def handle_plooi_record(rec):\n",
        "    print( rec )\n",
        "\n",
        "\n",
        "#sru_plooi.search_retrieve_many( 'plooi.informatiecategorie any Wob', up_to=5, callback=handle_plooi_record )\n",
        "\n",
        "sru_plooi.search_retrieve_many( 'dcterms.type = \"beslissing op verzoek art. 3 Wob\"', up_to=5, callback=handle_plooi_record )\n",
        "\n",
        "\n",
        "# It seems that individual results are documents that can be part of a larger request, e.g. \n",
        "#  https://open.overheid.nl/Details/ronl-0347ff50b0d03b10060fe4bf242431d97d85a3ad/1\n",
        "#  https://open.overheid.nl/Details/ronl-5719be0c0a840f7c63413cf1c00d8d5eab3177c1/1\n",
        "# are part of\n",
        "#  https://open.overheid.nl/Details/ronl-6d82bce1a0afdcbc0d5640b9992bac1631d830c5/1\n",
        "\n",
        "# The inventaris also refers to the things already public.\n",
        "\n"
      ]
    }
  ],
  "metadata": {
    "colab": {
      "include_colab_link": true,
      "provenance": [],
      "toc_visible": true
    },
    "kernelspec": {
      "display_name": "Python 3",
      "name": "python3"
    },
    "language_info": {
      "codemirror_mode": {
        "name": "ipython",
        "version": 3
      },
      "file_extension": ".py",
      "mimetype": "text/x-python",
      "name": "python",
      "nbconvert_exporter": "python",
      "pygments_lexer": "ipython3",
      "version": "3.8.10"
    }
  },
  "nbformat": 4,
  "nbformat_minor": 0
}
