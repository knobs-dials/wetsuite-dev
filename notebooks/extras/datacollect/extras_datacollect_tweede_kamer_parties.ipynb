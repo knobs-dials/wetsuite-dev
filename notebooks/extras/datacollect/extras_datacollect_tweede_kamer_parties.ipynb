{
 "cells": [
  {
   "cell_type": "markdown",
   "metadata": {},
   "source": [
    "# Purpose of this notebook\n",
    "\n",
    "Do something useful with the  [relational data model](https://opendata.tweedekamer.nl/documentatie/informatiemodel) that the tweede kamer provides -- see also \n",
    "[extras_datacollect_tweede_kamer_dossiers](extras_datacollect_tweede_kamer_dossiers.ipynb).\n"
   ]
  },
  {
   "cell_type": "markdown",
   "metadata": {},
   "source": [
    "Our quest is \"make a list of Who is part of what party.\n",
    "\n",
    "This involves four different resources: Persoon, FractieZetelPersoon, FractieZetel, Fractie\n",
    "\n",
    "You can see FractieZetelPersoon is a many-to-many joiner table\n",
    "- a reference to a FractieZetel, which itself just references a Fractie\n",
    "- a reference to a and Persoon\n",
    "\n",
    "Persoon and Fractie have no references so are just details to each item.\n",
    "\n",
    "The below code does relational joins for party membership, \n",
    "then flattens the results by adding membership to the persoon details."
   ]
  },
  {
   "cell_type": "code",
   "execution_count": 1,
   "metadata": {},
   "outputs": [],
   "source": [
    "import json\n",
    "import pprint\n",
    "\n",
    "import wetsuite.datacollect.tweedekamer_nl   # contains some basic code dealing with this API\n",
    "import wetsuite.helpers.etree"
   ]
  },
  {
   "cell_type": "code",
   "execution_count": 2,
   "metadata": {},
   "outputs": [
    {
     "name": "stdout",
     "output_type": "stream",
     "text": [
      "Fetching Persoon\n",
      "Fetching Fractie\n",
      "Fetching FractieZetel\n",
      "Fetching FractieZetelPersoon\n"
     ]
    }
   ],
   "source": [
    "# Fetch all resources of the mentioned soort.\n",
    "# We need four of the. The combination should take a minute or two.\n",
    "print(\"Fetching Persoon\")\n",
    "data_Persoon            = wetsuite.datacollect.tweedekamer_nl.merge_etrees( wetsuite.datacollect.tweedekamer_nl.fetch_all( 'Persoon' ) )\n",
    "print(\"Fetching Fractie\")\n",
    "data_Fractie            = wetsuite.datacollect.tweedekamer_nl.merge_etrees( wetsuite.datacollect.tweedekamer_nl.fetch_all( 'Fractie' ) )\n",
    "print(\"Fetching FractieZetel\")\n",
    "data_FractieZetel       = wetsuite.datacollect.tweedekamer_nl.merge_etrees( wetsuite.datacollect.tweedekamer_nl.fetch_all( 'FractieZetel' ) )\n",
    "print(\"Fetching FractieZetelPersoon\")\n",
    "data_FractieZetelPesoon = wetsuite.datacollect.tweedekamer_nl.merge_etrees( wetsuite.datacollect.tweedekamer_nl.fetch_all( 'FractieZetelPersoon' ) )"
   ]
  },
  {
   "cell_type": "code",
   "execution_count": 4,
   "metadata": {},
   "outputs": [],
   "source": [
    "# Fetched this way, we need to do what amounts to a manual JOIN of relational data\n",
    "\n",
    "# We can make life simpler for ourselfes by making it easier to fetch varied individual items:\n",
    "#   split into items, let us look up by id, and by type\n",
    "id_thing = {}   #               guid -> detailsdict\n",
    "by_type  = {}   #     soort/category -> list of all such detailsdicts\n",
    "\n",
    "for etree in (data_Persoon, data_Fractie, data_FractieZetel, data_FractieZetelPesoon):\n",
    "    for entry_dict in wetsuite.datacollect.tweedekamer_nl.entry_dicts( etree ):\n",
    "        id_thing[ entry_dict['id'] ] = entry_dict\n",
    "\n",
    "        category = entry_dict['category']\n",
    "        if category not in by_type:\n",
    "            by_type[category] = []\n",
    "        by_type[ category ].append( entry_dict )"
   ]
  },
  {
   "cell_type": "code",
   "execution_count": 5,
   "metadata": {},
   "outputs": [
    {
     "name": "stdout",
     "output_type": "stream",
     "text": [
      "  FractieZetelPersoon item without FractieZetel - huh? {'title': 'd73d7f69-1235-4746-aa94-84b593909bfc', 'updated': '2023-08-29T14:00:09Z', 'category': 'fractieZetelPersoon', 'id': 'd73d7f69-1235-4746-aa94-84b593909bfc'}\n",
      "  FractieZetelPersoon item without FractieZetel - huh? {'title': '8cca26af-365a-46fc-b72f-c42b2a17a992', 'updated': '2023-12-06T13:48:37Z', 'category': 'fractieZetelPersoon', 'id': '8cca26af-365a-46fc-b72f-c42b2a17a992'}\n",
      "  FractieZetelPersoon item without FractieZetel - huh? {'title': '6d685347-a5c8-498b-94df-b7bbb1bc1272', 'updated': '2023-12-06T13:48:37Z', 'category': 'fractieZetelPersoon', 'id': '6d685347-a5c8-498b-94df-b7bbb1bc1272'}\n"
     ]
    }
   ],
   "source": [
    "# The join-y code\n",
    "persoon_combined = {}  # which is mostly still the persoon dicts, except we added a key that is the membership\n",
    "\n",
    "for fzp_dict in by_type['fractieZetelPersoon']:\n",
    "    if 'fractieZetel' not in fzp_dict:\n",
    "        print(\"  FractieZetelPersoon item without FractieZetel - huh? %r\"%fzp_dict)\n",
    "        continue\n",
    "\n",
    "    _, fractiezetel_id = fzp_dict['fractieZetel']\n",
    "    _, persoon_id      = fzp_dict['persoon']\n",
    "\n",
    "    fractiezetel_dict = id_thing[ fractiezetel_id   ]\n",
    "    persoon_dict      = id_thing[ persoon_id ]\n",
    "\n",
    "    _, fractie_id = fractiezetel_dict['fractie']\n",
    "    frac_dict = id_thing[ fractie_id ]\n",
    "\n",
    "    if persoon_id not in persoon_combined:\n",
    "        persoon_combined[ persoon_id ] = persoon_dict\n",
    "        persoon_combined[ persoon_id ]['fractie_membership'] = []\n",
    "        \n",
    "    persoon_combined[ persoon_id ]['fractie_membership'].append( \n",
    "        {\n",
    "            'fractie_id':frac_dict['id'], \n",
    "            'fractie_afkorting':frac_dict['afkorting'], \n",
    "            # maybe more or all of frac_dict?\n",
    "            'functie':fzp_dict['functie'], \n",
    "            'van':fzp_dict['van'], \n",
    "            'totEnMet':fzp_dict['totEnMet'],\n",
    "        } \n",
    "    )\n"
   ]
  },
  {
   "cell_type": "code",
   "execution_count": 51,
   "metadata": {},
   "outputs": [],
   "source": [
    "fracs = {} # id -> details, for consistency with the above and easier lookup\n",
    "for fracs_dict in by_type['fractie']:\n",
    "    fracs[ fracs_dict['id'] ] = fracs_dict"
   ]
  },
  {
   "cell_type": "code",
   "execution_count": 78,
   "metadata": {},
   "outputs": [
    {
     "name": "stdout",
     "output_type": "stream",
     "text": [
      "WRITING tweedekamer-fractie-membership-struc.json\n",
      "WRITING tweedekamer-fracties-struc.json\n"
     ]
    }
   ],
   "source": [
    "\n",
    "print(\"WRITING tweedekamer-fractie-membership-struc.json\")\n",
    "with open('tweedekamer-fractie-membership-struc.json','wb') as jsonfile:\n",
    "    jsonfile.write( json.dumps({ \n",
    "        'description_short':''' Description of people, including party memberships over time. ''',\n",
    "        'description':      ''' Description of people, including party memberships over time(each with fractie_afkorting, functie, van, totEnMet) ''',\n",
    "        'data':persoon_combined} ).encode('ascii')\n",
    "    )\n",
    "\n",
    "print(\"WRITING tweedekamer-fracties-struc.json\")\n",
    "with open('tweedekamer-fracties-struc.json','wb') as jsonfile:\n",
    "    jsonfile.write( json.dumps({ \n",
    "        'description_short':''' Description of political parties/fracties. ''',\n",
    "        'description':      ''' Description of political parties/fracties.\n",
    "\n",
    "    Items look something like: \n",
    "        {'title': 'ae48391e-ce4d-47e0-86e3-ee310282f66f',\n",
    "        'updated': '2023-12-06T13:48:37Z',\n",
    "        'category': 'fractie',\n",
    "        'nummer': '50311',\n",
    "        'afkorting': 'Volt',\n",
    "        'naamNl': 'Volt',\n",
    "        'naamEn': 'Volt',\n",
    "        'aantalZetels': '2',\n",
    "        'aantalStemmen': '178802',\n",
    "        'datumActief': '2021-03-31',\n",
    "        'datumInactief': None,\n",
    "        'id': 'ae48391e-ce4d-47e0-86e3-ee310282f66f'}\n",
    "        ''',\n",
    "        'data':fracs} ).encode('ascii')\n",
    "    )\n"
   ]
  }
 ],
 "metadata": {
  "kernelspec": {
   "display_name": "Python 3 (ipykernel)",
   "language": "python",
   "name": "python3"
  },
  "language_info": {
   "codemirror_mode": {
    "name": "ipython",
    "version": 3
   },
   "file_extension": ".py",
   "mimetype": "text/x-python",
   "name": "python",
   "nbconvert_exporter": "python",
   "pygments_lexer": "ipython3",
   "version": "3.8.10"
  },
  "vscode": {
   "interpreter": {
    "hash": "31f2aee4e71d21fbe5cf8b01ff0e069b9275f58929596ceb00d14d90e3e16cd6"
   }
  }
 },
 "nbformat": 4,
 "nbformat_minor": 4
}
