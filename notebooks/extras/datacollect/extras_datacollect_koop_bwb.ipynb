{
 "cells": [
  {
   "attachments": {},
   "cell_type": "markdown",
   "metadata": {},
   "source": [
    "# Purpose of this notebook\n",
    "\n",
    "Show how we fetch data from the CVDR repository to be used to create our corresponding datasets"
   ]
  },
  {
   "cell_type": "markdown",
   "metadata": {},
   "source": [
    "## Fetching"
   ]
  },
  {
   "cell_type": "code",
   "execution_count": 3,
   "metadata": {},
   "outputs": [],
   "source": [
    "import re, collections\n",
    "import tqdm\n",
    "import wetsuite.helpers.etree\n",
    "import wetsuite.helpers.localdata\n",
    "import wetsuite.helpers.koop_parse\n",
    "import wetsuite.datacollect.koop_repositories "
   ]
  },
  {
   "cell_type": "code",
   "execution_count": 4,
   "metadata": {},
   "outputs": [],
   "source": [
    "# from all fetched:\n",
    "bwb_fetched         = wetsuite.helpers.localdata.LocalKV( 'bwb_fetched.db', str, bytes )"
   ]
  },
  {
   "cell_type": "code",
   "execution_count": 9,
   "metadata": {},
   "outputs": [
    {
     "name": "stdout",
     "output_type": "stream",
     "text": [
      "[SRU searchRetrieve] fetching 'http://zoekservice.overheid.nl/sru/Search?&version=1.2&x-connection=BWB&operation=searchRetrieve&startRecord=1&maximumRecords=1000&query=dcterms.modified%3E%3D2023-11-01'\n"
     ]
    }
   ],
   "source": [
    "def bwb_callback(record):\n",
    "    ''' BWB records follow http://standaarden.overheid.nl/sru/gzd.xsd\n",
    "        \n",
    "        Right now we merge all the parts of a record into one dict, \n",
    "            which throws away some structure (on top of the already removed namespaces)\n",
    "            but is easier to deal with.\n",
    "    '''\n",
    "    meta = wetsuite.helpers.koop_parse.bwb_searchresult_meta( record )\n",
    "\n",
    "    # toestand xml\n",
    "    _, toestand_came_from_cache = wetsuite.helpers.localdata.cached_fetch( bwb_fetched,  meta['locatie_toestand'],  force_refetch=False )\n",
    "    force_refetch_meta = (not toestand_came_from_cache) # (only) if we got a toestand we didn't previously have, assume the metadata also changed\n",
    "    \n",
    "    # manifest and WTI\n",
    "    _, man_cached = wetsuite.helpers.localdata.cached_fetch( bwb_fetched,  meta['locatie_manifest'],  force_refetch=force_refetch_meta )\n",
    "    _, wti_cached = wetsuite.helpers.localdata.cached_fetch( bwb_fetched,  meta['locatie_wti'],       force_refetch=force_refetch_meta )\n",
    "\n",
    "    if (not toestand_came_from_cache or not man_cached or not wti_cached):\n",
    "        print( \"FETCHED new data for %s: %s\"%(meta['identifier'], [not toestand_came_from_cache, not man_cached, not wti_cached]) )\n",
    "        print('    ',meta)\n",
    "\n",
    "\n",
    "sru_bwb = wetsuite.datacollect.koop_repositories.BWB( verbose=True )\n",
    "_ = sru_bwb.search_retrieve_many('dcterms.modified>=2023-11-01', up_to=20000, at_a_time=1000, callback=bwb_callback)\n",
    "\n",
    "#sru_bwb.search_retrieve_many('dcterms.identifier==BWBR0004825', callback=bwb_callback) # Reglement verkeersregels en verkeerstekens, to see how images work\n",
    "#sru_bwb.search_retrieve_many('dcterms.identifier==BWBR0001840', callback=bwb_callback) # Grondwet"
   ]
  },
  {
   "cell_type": "markdown",
   "metadata": {},
   "source": []
  },
  {
   "cell_type": "markdown",
   "metadata": {},
   "source": [
    "## Creating dataset"
   ]
  },
  {
   "cell_type": "code",
   "execution_count": null,
   "metadata": {},
   "outputs": [],
   "source": [
    "if 0: # CONSIDERING: smaller subset to start with\n",
    "    bwb_2023_xml = wetsuite.helpers.localdata.LocalKV( 'bwb_2023_xml.db', str, bytes )\n",
    "\n",
    "    for key in bwb_fetched.keys():\n",
    "        if key.endswith('xml') and '/2023-' in key: # not as good as reading the metadata, but good enough for now\n",
    "            bwb_2023_xml.put( key, bwb_fetched.get(key) )\n",
    "    len( bwb_2023_xml )"
   ]
  },
  {
   "cell_type": "code",
   "execution_count": null,
   "metadata": {},
   "outputs": [],
   "source": [
    "# go through all fetched, figure out latest XML for each BWBR (also manifest, wti)\n",
    "\n",
    "bwbr_toestanden = collections.defaultdict(list)  # BWB-id -> (toestand_sortname, toestand_url)\n",
    "bwbr_wti        = {}\n",
    "bwbr_manifest   = {}\n",
    "\n",
    "for url in bwb_fetched.keys():\n",
    "    bwbr = re.search('/bwb/(BWBR[0-9]{7})', url) # CONSIDER: seeing if we can separate collections less hackily. Maybe just mark source when inserting?\n",
    "    if bwbr is not None:\n",
    "        bwbr = bwbr.groups()[0] # the text\n",
    "\n",
    "        toestand_match =  re.search('/bwb/(BWBR[0-9]{7})(/[0-9].*[.]xml)', url) # TODO: this is too hacky, clean up\n",
    "\n",
    "        if url.endswith('manifest.xml'): # e.g. https://repository.officiele-overheidspublicaties.nl/bwb/BWBR0019805/manifest.xml\n",
    "            bwbr_manifest[bwbr] = url\n",
    "\n",
    "        elif url.endswith('.WTI'): # e.g.  https://repository.officiele-overheidspublicaties.nl/bwb/BWBR0016700/BWBR0016700.WTI\n",
    "            bwbr_wti[bwbr] = url\n",
    "\n",
    "        elif toestand_match is not None: # e.g. #https://repository.officiele-overheidspublicaties.nl/bwb/BWBR0001840/2002-03-21_0/xml/BWBR0001840_2002-03-21_0.xml\n",
    "            bwbr, sortname = toestand_match.groups() # assume that date is lexically sortable\n",
    "            bwbr_toestanden[bwbr].append( (sortname,url) )\n",
    "        else:\n",
    "            pass\n",
    "            print( \"SKIP         %s\"%url )\n",
    "\n",
    "print( 'Unique BWB-ids:', len(bwbr_toestanden) )"
   ]
  },
  {
   "cell_type": "code",
   "execution_count": null,
   "metadata": {},
   "outputs": [],
   "source": [
    "bwb_latestonly_xml = wetsuite.helpers.localdata.LocalKV( 'bwb_latestonly_xml.db', str, bytes )\n",
    "bwb_latestonly_xml._put_meta('description','')"
   ]
  },
  {
   "cell_type": "code",
   "execution_count": null,
   "metadata": {},
   "outputs": [],
   "source": [
    "# what we're making:\n",
    "\n",
    "print(\"Finding latest versions\")\n",
    "for bwbr in tqdm.tqdm( bwbr_toestanden ):\n",
    "    #print(bwbr)\n",
    "    for key, url in sorted(bwbr_toestanden[bwbr], reverse=True): # latest first\n",
    "        #print('  ',url)\n",
    "        bwb_latestonly_xml.put(url, bwb_fetched.get(url), commit=False)\n",
    "        break\n",
    "    \n",
    "bwb_latestonly_xml.commit()\n"
   ]
  },
  {
   "cell_type": "code",
   "execution_count": null,
   "metadata": {},
   "outputs": [],
   "source": [
    "# Extract from those latest versions\n",
    "\n",
    "bwb_latestonly_text = wetsuite.helpers.localdata.LocalKV( 'bwb_latestonly_text.db', str, str )\n",
    "bwb_latestonly_text._put_meta('description','')\n",
    "\n",
    "bwb_latestonly_meta = wetsuite.helpers.localdata.MsgpackKV( 'bwb_latestonly_meta.db', str, None )\n",
    "bwb_latestonly_meta._put_meta('valtype','msgpack')\n",
    "bwb_latestonly_meta._put_meta('description','')\n",
    "\n",
    "for bwbr, xml_bytes in tqdm.tqdm( bwb_latestonly_xml.items() ):\n",
    "        tree = wetsuite.helpers.etree.fromstring( xml_bytes )\n",
    "\n",
    "        meta = wetsuite.helpers.koop_parse.bwb_toestand_usefuls(tree)\n",
    "        #print(meta)\n",
    "        bwb_latestonly_meta.put(bwbr, meta, commit=False)\n",
    "\n",
    "        text = wetsuite.helpers.koop_parse.bwb_toestand_text(tree)\n",
    "        #print(text)\n",
    "        bwb_latestonly_text.put(bwbr, text, commit=False)\n",
    "\n",
    "        #break\n",
    "bwb_latestonly_meta.commit()\n",
    "bwb_latestonly_text.commit()"
   ]
  }
 ],
 "metadata": {
  "kernelspec": {
   "display_name": "Python 3 (ipykernel)",
   "language": "python",
   "name": "python3"
  },
  "language_info": {
   "codemirror_mode": {
    "name": "ipython",
    "version": 3
   },
   "file_extension": ".py",
   "mimetype": "text/x-python",
   "name": "python",
   "nbconvert_exporter": "python",
   "pygments_lexer": "ipython3",
   "version": "3.8.10"
  },
  "vscode": {
   "interpreter": {
    "hash": "31f2aee4e71d21fbe5cf8b01ff0e069b9275f58929596ceb00d14d90e3e16cd6"
   }
  }
 },
 "nbformat": 4,
 "nbformat_minor": 4
}
