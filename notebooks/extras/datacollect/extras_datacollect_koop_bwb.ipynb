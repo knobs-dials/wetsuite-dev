{
 "cells": [
  {
   "attachments": {},
   "cell_type": "markdown",
   "metadata": {},
   "source": [
    "# Purpose of this notebook\n",
    "\n",
    "Show how we fetch data from the BWB repository to be used to create our corresponding datasets\n",
    "\n",
    "TODO: finish, this is a copy-paste from a script"
   ]
  },
  {
   "cell_type": "markdown",
   "metadata": {},
   "source": [
    "## Fetching"
   ]
  },
  {
   "cell_type": "code",
   "execution_count": 5,
   "metadata": {},
   "outputs": [],
   "source": [
    "import re\n",
    "import collections\n",
    "import datetime\n",
    "import pprint\n",
    "import random\n",
    "\n",
    "import wetsuite.helpers.etree\n",
    "import wetsuite.helpers.notebook\n",
    "import wetsuite.helpers.localdata\n",
    "import wetsuite.helpers.koop_parse\n",
    "import wetsuite.datacollect.koop_repositories "
   ]
  },
  {
   "cell_type": "code",
   "execution_count": 2,
   "metadata": {},
   "outputs": [],
   "source": [
    "# contains toestand, manifest, and wti downloads\n",
    "bwb_fetched = wetsuite.helpers.localdata.LocalKV( 'bwb_fetched.db', str, bytes )"
   ]
  },
  {
   "cell_type": "code",
   "execution_count": 6,
   "metadata": {},
   "outputs": [
    {
     "name": "stdout",
     "output_type": "stream",
     "text": [
      "[SRU searchRetrieve] fetching 'http://zoekservice.overheid.nl/sru/Search?&version=1.2&x-connection=BWB&operation=searchRetrieve&startRecord=1&maximumRecords=500&query=dcterms.modified%20%3E%3D%202023-12-24'\n",
      "[SRU searchRetrieve] fetching 'http://zoekservice.overheid.nl/sru/Search?&version=1.2&x-connection=BWB&operation=searchRetrieve&startRecord=501&maximumRecords=500&query=dcterms.modified%20%3E%3D%202023-12-24'\n",
      "[SRU searchRetrieve] fetching 'http://zoekservice.overheid.nl/sru/Search?&version=1.2&x-connection=BWB&operation=searchRetrieve&startRecord=1001&maximumRecords=500&query=dcterms.modified%20%3E%3D%202023-12-24'\n",
      "[SRU searchRetrieve] fetching 'http://zoekservice.overheid.nl/sru/Search?&version=1.2&x-connection=BWB&operation=searchRetrieve&startRecord=1501&maximumRecords=500&query=dcterms.modified%20%3E%3D%202023-12-24'\n",
      "[SRU searchRetrieve] fetching 'http://zoekservice.overheid.nl/sru/Search?&version=1.2&x-connection=BWB&operation=searchRetrieve&startRecord=2001&maximumRecords=500&query=dcterms.modified%20%3E%3D%202023-12-24'\n",
      "[SRU searchRetrieve] fetching 'http://zoekservice.overheid.nl/sru/Search?&version=1.2&x-connection=BWB&operation=searchRetrieve&startRecord=2501&maximumRecords=500&query=dcterms.modified%20%3E%3D%202023-12-24'\n"
     ]
    }
   ],
   "source": [
    "def bwb_search_callback( search_record_node ):\n",
    "    ''' BWB records follow http://standaarden.overheid.nl/sru/gzd.xsd\n",
    "        \n",
    "        Right now we merge all the parts of a record into one dict, \n",
    "            which throws away some structure (on top of the already removed namespaces)\n",
    "            but is easier to deal with.\n",
    "    '''\n",
    "    #print( wetsuite.helpers.etree.debug_pretty( record ) ) # for later reference, if you want to extract more out of these search records\n",
    "    meta_dict = wetsuite.helpers.koop_parse.bwb_searchresult_meta( search_record_node )\n",
    "\n",
    "    # toestand XML\n",
    "    _, toestand_came_from_cache = wetsuite.helpers.localdata.cached_fetch( bwb_fetched,  meta_dict['locatie_toestand'],  force_refetch=False )\n",
    "\n",
    "    # manifest and WTI - assume these probably changed (so need to be refetched) if we got a toestand we didn't previously have\n",
    "    force_refetch_meta = (not toestand_came_from_cache)     \n",
    "    _, man_cached = wetsuite.helpers.localdata.cached_fetch( bwb_fetched,  meta_dict['locatie_manifest'],  force_refetch=force_refetch_meta )\n",
    "    _, wti_cached = wetsuite.helpers.localdata.cached_fetch( bwb_fetched,  meta_dict['locatie_wti'],       force_refetch=force_refetch_meta )\n",
    "\n",
    "    if (not toestand_came_from_cache or not man_cached or not wti_cached): # fetched anything new? Mention that.\n",
    "        print( \"FETCHED new data for %s - %r\"%(meta_dict['identifier'],meta_dict) )\n",
    "\n",
    "\n",
    "# This is a \"add recent changes\", after previously haveing done a lot more fetching\n",
    "sru_bwb = wetsuite.datacollect.koop_repositories.BWB( verbose=True )\n",
    "_ = sru_bwb.search_retrieve_many('dcterms.modified >= %s'%(\n",
    "    (datetime.date.today() - datetime.timedelta(days=30)).strftime('%Y-%m-%d') # one month ago\n",
    "    ), up_to=20000, at_a_time=500, callback=bwb_search_callback)"
   ]
  },
  {
   "cell_type": "markdown",
   "metadata": {},
   "source": [
    "## Take that downloaded store, extract useful things into datasets\n",
    "\n",
    "CONSIDER: smaller subset to start with, e.g. just 2023"
   ]
  },
  {
   "cell_type": "code",
   "execution_count": 5,
   "metadata": {},
   "outputs": [
    {
     "name": "stdout",
     "output_type": "stream",
     "text": [
      "Grouping relevant URLs\n"
     ]
    },
    {
     "data": {
      "application/json": {
       "ascii": false,
       "bar_format": null,
       "colour": null,
       "elapsed": 0.009595394134521484,
       "initial": 0,
       "n": 0,
       "ncols": null,
       "nrows": null,
       "postfix": null,
       "prefix": "",
       "rate": null,
       "total": 207001,
       "unit": "it",
       "unit_divisor": 1000,
       "unit_scale": false
      },
      "application/vnd.jupyter.widget-view+json": {
       "model_id": "da4ffd8912cb4de1b1b7db977d9dedd1",
       "version_major": 2,
       "version_minor": 0
      },
      "text/plain": [
       "  0%|          | 0/207001 [00:00<?, ?it/s]"
      ]
     },
     "metadata": {},
     "output_type": "display_data"
    },
    {
     "name": "stdout",
     "output_type": "stream",
     "text": [
      "We have 37778 Unique BWB-id groups\n",
      "Finding latest versions\n"
     ]
    },
    {
     "data": {
      "application/json": {
       "ascii": false,
       "bar_format": null,
       "colour": null,
       "elapsed": 0.012238025665283203,
       "initial": 0,
       "n": 0,
       "ncols": null,
       "nrows": null,
       "postfix": null,
       "prefix": "",
       "rate": null,
       "total": 37778,
       "unit": "it",
       "unit_divisor": 1000,
       "unit_scale": false
      },
      "application/vnd.jupyter.widget-view+json": {
       "model_id": "de970ac801864c349bdfb380b90c07dd",
       "version_major": 2,
       "version_minor": 0
      },
      "text/plain": [
       "  0%|          | 0/37778 [00:00<?, ?it/s]"
      ]
     },
     "metadata": {},
     "output_type": "display_data"
    }
   ],
   "source": [
    "from importlib import reload\n",
    "reload( wetsuite.helpers.notebook )\n",
    "\n",
    "# go through all fetched URLS and group   manifest, wti, and all toestand,   per BWB-id\n",
    "# assume URL structure is consistent, which they seem to be.\n",
    "\n",
    "bwbr_groups = collections.defaultdict(dict)  #  bwbr -> { toestanden:   latest_toestand:    wti:    manifest:  }\n",
    "\n",
    "print(\"Grouping relevant URLs\")\n",
    "\n",
    "for url in wetsuite.helpers.notebook.ProgressBar( bwb_fetched.keys() ):\n",
    "\n",
    "    # both filters for basic URLs we care about at all (in case other things got dropped in),\n",
    "    # and filters for URLs with BWBR  - which implies skipping BWBV (verdragen/treaties), BWBW (?)\n",
    "    # (the matching here and below is a little hacky, though, clean up?)\n",
    "    bwbr = re.search('/bwb/(BWBR[0-9]{7})', url)\n",
    "    if bwbr is not None:\n",
    "        bwbr = bwbr.groups()[0] # the BWBR-and-number text\n",
    "\n",
    "        if url.endswith('manifest.xml'): # e.g. https://repository.officiele-overheidspublicaties.nl/bwb/BWBR0019805/manifest.xml\n",
    "            bwbr_groups[bwbr]['manifest_url'] = url\n",
    "            continue\n",
    "\n",
    "        if url.endswith('.WTI'):         # e.g.  https://repository.officiele-overheidspublicaties.nl/bwb/BWBR0016700/BWBR0016700.WTI\n",
    "            bwbr_groups[bwbr]['wti_url'] = url\n",
    "            continue\n",
    "\n",
    "        toestand_match =  re.search('/bwb/(BWBR[0-9]{7})(/[0-9].*[.]xml)', url) \n",
    "        if toestand_match is not None: # e.g. #https://repository.officiele-overheidspublicaties.nl/bwb/BWBR0001840/2002-03-21_0/xml/BWBR0001840_2002-03-21_0.xml\n",
    "            _, sortname = toestand_match.groups() # assume that date is lexically sortable\n",
    "            # those will be something like 'BWBR0001821'  and  '/1998-01-01_0/xml/BWBR0001821_1998-01-01_0.xml'\n",
    "            if 'toestanden' not in bwbr_groups[bwbr]:\n",
    "                bwbr_groups[bwbr]['toestanden'] = []\n",
    "            bwbr_groups[bwbr]['toestanden'].append( (sortname,url) )\n",
    "            continue\n",
    "        \n",
    "        print( \"SKIP / LOOKAT   %s\"%url )\n",
    "\n",
    "\n",
    "print( 'We have %d Unique BWB-id groups'%len(bwbr_groups) )\n",
    "\n",
    "\n",
    "print( \"Finding latest versions\" )\n",
    "for bwbr, details in wetsuite.helpers.notebook.ProgressBar( list( bwbr_groups.items() ) ): # within each BWB-id\n",
    "    for key, url in sorted( details['toestanden'], reverse=True ): # latest first, then use only the first\n",
    "        bwbr_groups[bwbr]['latest_toestand_url'] = url\n",
    "        break\n",
    "\n",
    "\n"
   ]
  },
  {
   "cell_type": "code",
   "execution_count": 6,
   "metadata": {},
   "outputs": [
    {
     "name": "stdout",
     "output_type": "stream",
     "text": [
      "Writing latest-toestand-XML dataset\n"
     ]
    },
    {
     "data": {
      "application/json": {
       "ascii": false,
       "bar_format": null,
       "colour": null,
       "elapsed": 0.009624958038330078,
       "initial": 0,
       "n": 0,
       "ncols": null,
       "nrows": null,
       "postfix": null,
       "prefix": "",
       "rate": null,
       "total": 37778,
       "unit": "it",
       "unit_divisor": 1000,
       "unit_scale": false
      },
      "application/vnd.jupyter.widget-view+json": {
       "model_id": "940e1d4f2cc14c79aa9b8a359d9d7635",
       "version_major": 2,
       "version_minor": 0
      },
      "text/plain": [
       "  0%|          | 0/37778 [00:00<?, ?it/s]"
      ]
     },
     "metadata": {},
     "output_type": "display_data"
    }
   ],
   "source": [
    "# Dataset: The latest toestand per BWB-id, as its original XML\n",
    "print(\"Writing latest-toestand-XML dataset\")\n",
    "\n",
    "bwb_latestonly_xml = wetsuite.helpers.localdata.LocalKV( 'bwb_latestonly_xml.db', str, bytes ) # bwbr -> xmlbytes\n",
    "bwb_latestonly_xml._put_meta('description','TODO')\n",
    "\n",
    "for bwbr, details in wetsuite.helpers.notebook.ProgressBar( bwbr_groups.items() ): # within each BWB-id\n",
    "    bwb_latestonly_xml.put(bwbr, bwb_fetched.get( details['latest_toestand_url'] ),  commit=False)\n",
    "    \n",
    "bwb_latestonly_xml.commit()"
   ]
  },
  {
   "cell_type": "code",
   "execution_count": 16,
   "metadata": {},
   "outputs": [
    {
     "data": {
      "application/json": {
       "ascii": false,
       "bar_format": null,
       "colour": null,
       "elapsed": 0.016301631927490234,
       "initial": 0,
       "n": 0,
       "ncols": null,
       "nrows": null,
       "postfix": null,
       "prefix": "",
       "rate": null,
       "total": 37778,
       "unit": "it",
       "unit_divisor": 1000,
       "unit_scale": false
      },
      "application/vnd.jupyter.widget-view+json": {
       "model_id": "c96c4df2865b4c58b40974bb60cd157d",
       "version_major": 2,
       "version_minor": 0
      },
      "text/plain": [
       "  0%|          | 0/37778 [00:00<?, ?it/s]"
      ]
     },
     "metadata": {},
     "output_type": "display_data"
    }
   ],
   "source": [
    "# Now do some extraction and also make that datasets\n",
    "from importlib import reload\n",
    "reload(wetsuite.helpers.koop_parse)\n",
    "\n",
    "autocommit = False  # faster but locks database if you stop it, so less handy during debug\n",
    "#autocommit = True\n",
    "\n",
    "bwb_latestonly_text = wetsuite.helpers.localdata.LocalKV( 'bwb_latestonly_text.db', str, str )\n",
    "bwb_latestonly_text._put_meta('description','TODO')\n",
    "\n",
    "bwb_latestonly_meta = wetsuite.helpers.localdata.MsgpackKV( 'bwb_latestonly_meta.db', str, None )\n",
    "bwb_latestonly_meta._put_meta('description','TODO')\n",
    "\n",
    "\n",
    "#for bwbr, details in wetsuite.helpers.notebook.ProgressBar( random.sample( list(bwbr_groups.items()), 100) ): # debug: test on a few\n",
    "for bwbr, details in wetsuite.helpers.notebook.ProgressBar( bwbr_groups.items() ): # within each BWB-id\n",
    "\n",
    "    toestand_tree = wetsuite.helpers.etree.fromstring( bwb_fetched.get( details['latest_toestand_url'] ) )\n",
    "\n",
    "    text          = wetsuite.helpers.koop_parse.bwb_toestand_text(toestand_tree)\n",
    "\n",
    "    meta_dict     = wetsuite.helpers.koop_parse.bwb_toestand_usefuls(toestand_tree)\n",
    "\n",
    "    wti_url       = details['wti_url']\n",
    "    if wti_url is not None:\n",
    "        wti_tree              = wetsuite.helpers.etree.fromstring( bwb_fetched.get( wti_url ) )\n",
    "        meta_dict['wti']      = wetsuite.helpers.koop_parse.bwb_wti_usefuls(wti_tree)\n",
    "\n",
    "\n",
    "    manifest_url  = details['manifest_url']\n",
    "    if manifest_url is not None:\n",
    "        manifest_tree         = wetsuite.helpers.etree.fromstring( bwb_fetched.get( manifest_url ) )\n",
    "        meta_dict['manifest'] = wetsuite.helpers.koop_parse.bwb_manifest_usefuls(manifest_tree)\n",
    "\n",
    "        # redundant, but sometimes nice to have more accessible\n",
    "        version_dates = list()\n",
    "        for expression in manifest_tree.findall('expression'):\n",
    "            version_dates.append( expression.find('metadata/datum_inwerkingtreding').text )\n",
    "            meta_dict['version_dates'] = version_dates\n",
    "\n",
    "\n",
    "    # intitule     = merged.get('intitule', None)\n",
    "    # citeertitel  = merged.get('citeertitel', None)\n",
    "    # soort        = merged.get('soort', None)\n",
    "\n",
    "    # authority          = merged.get('authority', None)\n",
    "    # overheidsdomeinen  = merged.get('overheidsdomeinen', None)\n",
    "    # rechtsgebieden     = merged.get('rechtsgebieden', None)\n",
    "    # if rechtsgebieden is not None:\n",
    "    #     #list of tuples, e.g.\n",
    "    #     #  (Belastingrecht,Vennootschapsbelastingrecht),  (Belastingrecht,Dividendbelasting)\n",
    "    #     # Typically just one tuple, but let's handle it multiple properly, because the database expects a text[]\n",
    "    #     temp = []\n",
    "    #     for rgtup in rechtsgebieden:\n",
    "    #         temp.append( ' - '.join( list( rg   for rg in rgtup   if rg is not None ) ) ) # flattened, but in a recoverable way\n",
    "    #     rechtsgebieden = temp\n",
    "                \n",
    "    #pprint.pprint(meta_dict)\n",
    "\n",
    "    bwb_latestonly_text.put(bwbr, text, commit=autocommit)\n",
    "\n",
    "    bwb_latestonly_meta.put(bwbr, meta_dict, commit=autocommit)\n",
    "\n",
    "bwb_latestonly_meta.commit()\n",
    "bwb_latestonly_text.commit()"
   ]
  }
 ],
 "metadata": {
  "kernelspec": {
   "display_name": "Python 3 (ipykernel)",
   "language": "python",
   "name": "python3"
  },
  "language_info": {
   "codemirror_mode": {
    "name": "ipython",
    "version": 3
   },
   "file_extension": ".py",
   "mimetype": "text/x-python",
   "name": "python",
   "nbconvert_exporter": "python",
   "pygments_lexer": "ipython3",
   "version": "3.8.10"
  },
  "vscode": {
   "interpreter": {
    "hash": "31f2aee4e71d21fbe5cf8b01ff0e069b9275f58929596ceb00d14d90e3e16cd6"
   }
  }
 },
 "nbformat": 4,
 "nbformat_minor": 4
}
