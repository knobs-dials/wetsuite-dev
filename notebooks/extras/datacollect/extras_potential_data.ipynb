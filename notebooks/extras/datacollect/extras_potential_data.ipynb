{
 "cells": [
  {
   "attachments": {},
   "cell_type": "markdown",
   "metadata": {},
   "source": [
    "# Purpose of this notebook\n",
    "\n",
    "Mention the various potential sources of data we have found, including many we chose not to use for datasets (yet?).\n"
   ]
  },
  {
   "cell_type": "markdown",
   "metadata": {},
   "source": [
    "## European data"
   ]
  },
  {
   "cell_type": "markdown",
   "metadata": {},
   "source": [
    "#### EUR-Lex\n",
    "\n",
    "\n",
    "**What**: \n",
    "- EU law, case law, documents from the [Official Journal](https://en.wikipedia.org/wiki/Official_Journal_of_the_European_Union) (OJ / OJEU), other public EU documents\n",
    "- mostly as HTML, PDF \n",
    "- often in multiple languages (up to the [(currently) 24 official EU languages](https://european-union.europa.eu/principles-countries-history/languages_en))\n",
    "  - potential parallel data?\n",
    "  - which languages may depend on context; none of them are a given\n",
    "\n",
    "\n",
    "\n",
    "**Accessible via**: Site, API (SPARQL or SOAP)\n",
    "\n",
    "**Identifiers used**: [CELEX](#celex_notes), [ECLI](#ecli_notes), [ELI notes](#eli_notes)\n",
    "\n",
    "**Source and/or responsible parties**: Publications Office of the European Union\n",
    "\n",
    "**Content license**: TODO: read again, but looks like [CC-BY for contents, PD for metadata](https://eur-lex.europa.eu/content/legal-notice/legal-notice.html)\n",
    "\n",
    "<!--\n",
    "https://eur-lex.europa.eu/search.html?scope=EURLEX&text=1308%2F2013&lang=nl&type=quick&qid=1675872839170\n",
    "\n",
    "\n",
    "where \n",
    ": reference is probably something like <tt>[[CELEX]]:32013R1308</tt>\n",
    ": and language is something like EN or NL ()\n",
    "\n",
    "EUR-Lex URLs look like\n",
    ": https://eur-lex.europa.eu/legal-content/''language''/TXT/?uri=''reference''\n",
    ": https://eur-lex.europa.eu/legal-content/NL/TXT/HTML/?uri=CELEX:32013R1308\n",
    ": https://eur-lex.europa.eu/legal-content/NL/TXT/PDF/?uri=CELEX:32013R1308\n",
    "\n",
    "\n",
    "The document structure looks very rendered, but you can pick the overall structure out of it.\n",
    "-->\n",
    "\n",
    "\n",
    "There are also [data interfaces](https://eur-lex.europa.eu/content/welcome/data-reuse.html)\n",
    "\n",
    "\n",
    "\n",
    "See also: \n",
    "* https://eur-lex.europa.eu/homepage.html?locale=en\n"
   ]
  },
  {
   "cell_type": "markdown",
   "metadata": {},
   "source": [
    "### HUDOC\n",
    "\n",
    "**What**: European Court of Human Rights (ECHR)'s documents\n",
    "\n",
    "**Accessible via**: Webpage (though its own search API might be used)\n",
    "\n",
    "**Identifiers used**: its own? (including application numbers)\n",
    "\n",
    "**Source and/or responsible**: European Court of Human Rights (ECHR) {{verify}}\n",
    "\n",
    "**Content license**: [this page mentions](https://echr.coe.int/Pages/home.aspx?p=disclaimer) \"provided the source is acknowledged (ECHR-CEDH) and the reproduction is made for private use or for the purposes of information and education in connection with the Court’s activities [...] and that any such reproduction is free of charge. [...] Users should nevertheless be aware that certain information and texts may be protected under intellectual property law, in particular by copyright.\" \n",
    "\n",
    "<!--\n",
    "HUDOC has an application number,\n",
    "e.g.\n",
    "https://hudoc.echr.coe.int/eng#{%22itemid%22:[%22001-72205%22]}\n",
    "refers to \n",
    "https://hudoc.echr.coe.int/eng#{%22appno%22:[%2231465/96%22]}\n",
    "-->\n",
    "\n",
    "See also:\n",
    "* https://hudoc.echr.coe.int\n",
    "\n",
    "* http://www.echr.coe.int/Documents/HUDOC_Manual_ENG.PDF\n",
    "\n",
    "* https://en.wikipedia.org/wiki/European_Convention_on_Human_Rights\n"
   ]
  },
  {
   "cell_type": "markdown",
   "metadata": {},
   "source": [
    "### Eurovoc\n",
    "\n",
    "Vocabulary, in the 'please use this form to refer to X', so also a basis for the semantics, linked data sense?\n"
   ]
  },
  {
   "cell_type": "markdown",
   "metadata": {},
   "source": [
    "## Dutch data"
   ]
  },
  {
   "cell_type": "markdown",
   "metadata": {},
   "source": [
    "### Legal restrictions on data\n",
    "\n",
    "As [Bestanden en hergebruik](https://www.overheid.nl/help/officiele-bekendmakingen/bestanden-en-hergebruik#OEP005) points out,\n",
    "[Artikel 11 van de Auteurswet, BWBR0001886](http://wetten.overheid.nl/jci1.3:c:BWBR0001886&hoofdstuk=I&paragraaf=3&artikel=11) says,\n",
    "**\"Er bestaat geen auteursrecht op wetten, besluiten en verordeningen, door de openbare macht uitgevaardigd, noch op rechterlijke uitspraken en administratieve beslissingen\"**\n",
    "\n",
    "Which seems to mean that the contents of \n",
    "laws (wetten),\n",
    "ordinances (verordeningen),\n",
    "and court judgments (vonnissen van rechtbanken)\n",
    "may have an author but no (copy)rights can be withheld.\n",
    "\n",
    "\n",
    "While implicitly true from that law, some sources note this more explicitly. \n",
    "For example, [this entry](https://data.overheid.nl/dataset/basis-wetten-bestand) marks the Basis Wetten Bestand as [CC0](https://en.wikipedia.org/wiki/Creative_Commons_license#Zero_/_public_domain),\n",
    "which seems purely a reiteration of intent, of something that was already free to use due to the mentioned law.\n",
    "\n",
    "\n",
    "Other government publications __may__ not be public domain. \n",
    "\n",
    "Apparently you can still copy and publish such data - __except__ if those specific copyrights are explicitly mentioned to be reserved (voorbehouden).\n",
    "\n",
    "<!-- -->\n",
    "\n",
    "Consider for example the nature of varied [ZBO](https://nl.wikipedia.org/wiki/Zelfstandig_bestuursorgaan)s. \n",
    "\n",
    "Most seem to _effectively_ be government, but a few are edge cases, so you probably want to check out what they say about licensing.\n",
    "\n",
    "For example, \n",
    "* [acm.nl](https://www.acm.nl/nl/copyright) seems to reiterate, roughly, 'free to use/publish except where those rights are mentioned to be reserved. Like our logo.' \n",
    "* kansspelautoriteit.nl seems to put copyright on its website, but I do believe that applies to the site; the sanctions themselves are decisions that seem to be covered under that Article 11{{verify}}. \n",
    "\n",
    "Ask your local friendly expert about such details.\n",
    "\n"
   ]
  }
 ],
 "metadata": {
  "kernelspec": {
   "display_name": "Python 3.8.10 64-bit",
   "language": "python",
   "name": "python3"
  },
  "language_info": {
   "codemirror_mode": {
    "name": "ipython",
    "version": 3
   },
   "file_extension": ".py",
   "mimetype": "text/x-python",
   "name": "python",
   "nbconvert_exporter": "python",
   "pygments_lexer": "ipython3",
   "version": "3.8.10"
  },
  "orig_nbformat": 4,
  "vscode": {
   "interpreter": {
    "hash": "31f2aee4e71d21fbe5cf8b01ff0e069b9275f58929596ceb00d14d90e3e16cd6"
   }
  }
 },
 "nbformat": 4,
 "nbformat_minor": 2
}
