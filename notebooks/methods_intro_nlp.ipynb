{
 "cells": [
  {
   "attachments": {},
   "cell_type": "markdown",
   "metadata": {},
   "source": [
    "## Goal of this notebook\n",
    "\n",
    "So you may have heard of topic modeling, semantic indexing, sentiment analysis.\n",
    "\n",
    "What are each of these good at?\n",
    "\n",
    "\n",
    "Surely this is \"AI\", meaning \"if you can give examples of what it should prodice, it can learn to do that?\" \n",
    "Well, sometimes yes, sometimes no.\n",
    "\n",
    "\n",
    "Choosing the right tool for the job can sometimes be most of the work to answering your \n",
    "-- or the reason you\n",
    "\n",
    "\n",
    "When you come in with a very practical legal question, \n",
    "you want to know what methods will work for you.\n",
    "\n",
    "\n",
    "Such choices is partly why 'data scientist' is now a common job title.\n",
    "\n"
   ]
  },
  {
   "attachments": {},
   "cell_type": "markdown",
   "metadata": {},
   "source": [
    "\n",
    "This notebook tries to give you some expectations of\n",
    "* what some common NLP (and adjacent) methods can do.\n",
    "* what each will probably _not_ perform very well at -- knowing the ceiling can save a lot of time\n",
    "* what choices you must bake in in terms of method variants \n",
    "  - \"I want a classifier, but what is this question about 'multi-label or exclusive classes'?\"\n",
    "* what choices you must bake in in terms of parameters\n",
    "  - will it work a lot better if, say, the amount of target clusters you request happens to suits the data better? \n",
    "* what choices you must bake in in terms of data \n",
    "  - does it require you to create extensive training? \n",
    "  - Will it work out of the box and can you refine it for a specific task?\n",
    "\n",
    "And sometimes the crux of why something is a good or bad choice is relatively mathematical property\n",
    "\n",
    "\n",
    "We _will_ hide a lot of technical details.   Those are only important further down the line.\n",
    "\n",
    "\n",
    "Even if you end up using an automated, web-based thing, \n",
    "it can help know what to expect - and what you still want to find an engineer for.\n"
   ]
  },
  {
   "attachments": {},
   "cell_type": "markdown",
   "metadata": {},
   "source": [
    "# What can we do with little more than counting?\n"
   ]
  },
  {
   "attachments": {},
   "cell_type": "markdown",
   "metadata": {},
   "source": [
    "## tf-idf"
   ]
  },
  {
   "attachments": {},
   "cell_type": "markdown",
   "metadata": {},
   "source": [
    "## Collocations\n",
    "\n",
    "Collocations are a set of words that occur together more often than chance. \n",
    "\n",
    "Linguistics may focus more on discovering these,\n",
    "while e.g. language learning uses the results to highlight and teach grammatical idiosyncracies, \n",
    "e.g. that we have a _bright_ idea (rather than), may prefer _strong_ tea (rather than powerful),\n",
    "_make_ a bed (and that that means we tidy rather than construct it),\n",
    "ships have a maiden voyage (historical use, okay?).\n",
    "\n",
    "When you see collocations mentioned as an analytical method, it is statistics applied to find such terms. \n",
    "Often relatively basic statistics, and a fundemantally comparative thing - 'more than chance' is based on\n",
    "using some text for reference of how common things are.\n",
    "\n",
    "This can be a general corpus of text, but could also be the dataset itself,\n",
    "which gives different results, akin to asking a layperson or legal analist what text jumps out at them.\n",
    "\n",
    "\n",
    "Collocation tends to give messy output, for a number of relatively basic reasons,\n",
    "such as that it is naive of the edges of phrases, so outputs a lot of things involving only part of a phrase, e.g. \n",
    "you'll get '634 bedoelde minimum' instead of 'het in artikel 634 bedoelde minimum', \n",
    "and NLP can help with this in concept - yet but that specific example isn't the easiest case.\n",
    "\n",
    "Sure it'll pick up interesting things like 'inkomen naar arbeidsvermogen' and 'schuldsaneringsregeling natuurlijke personen'.\n",
    "\n",
    "...but there's lots more things that just happen to be regular constructions, like 'Hetzelfde geldt', 'door verloop',\n",
    "'indien zij', 'heeft ingestemd', 'mede gelet', 'tijdstip waarop', 'als bedoeld', 'ter zake', 'ten nadele'. \n",
    "Are those worth noting at all? Sure.  Are they very meaningful? Not so much.\n",
    "\n",
    "More importantly, can you tell them apart? Again, not easily.\n",
    "\n",
    "\n",
    "Collocation analysis is a relatively blunt instrument,\n",
    "useful to picking up names of people, names of things (which may include interesting topics), jargon, and such, but not much more."
   ]
  },
  {
   "attachments": {},
   "cell_type": "markdown",
   "metadata": {},
   "source": []
  },
  {
   "attachments": {},
   "cell_type": "markdown",
   "metadata": {},
   "source": [
    "# Topic modeling"
   ]
  },
  {
   "cell_type": "code",
   "execution_count": null,
   "metadata": {
    "vscode": {
     "languageId": "plaintext"
    }
   },
   "outputs": [],
   "source": [
    "Roughly, topic modelling is about grouping documents via representative topics.\n",
    "\n",
    "It varies with method how this is calculated, how much we rely on external data or not,\n",
    "what the results even look like, how controllable the steps are, and more, \n",
    "but recent methods tend to \n",
    "- aim for a modest amount of topics per document\n",
    "- aim for a modest amount of words per topic\n",
    "- calculate the coherence of topics so that this can be largely unsupervised\n",
    "   - How this is calculated and whether that comes from the dataset (might do more with unknown terms, but be messier) or e.g. existing vectors (which might be stronger but miss things)\n",
    " \n",
    "\n",
    "Might be useful for:\n",
    "- exploring larger collections of data \n",
    "  - finding groupings within them, without having to clarify how\n",
    "  - finding topics you were not aware of being discussed, or being as common as they are\n",
    "\n",
    "Might be less useful for\n",
    "- working on a small amount or even single documents\n",
    "  - particularly if it doesn't fit in the set you had already\n",
    "- finding unusual documents or topics\n"
   ]
  },
  {
   "attachments": {},
   "cell_type": "markdown",
   "metadata": {},
   "source": [
    "# Semantic indexing\n",
    "\n",
    "The goal of semantic indexing is to represent a document so that you can find it based on what the contents mean.\n",
    "\n",
    "Which, in itself, is a bit handwavey. \n",
    "\n",
    "The ways to go about this vary a lot, and how well it works, for which tasks, will vary.\n",
    "How much you could refine it for a specific dataset also varies.\n",
    "\n",
    "You can imagine it helps search (a phrase packs more semantic value than its words),\n",
    "but also that how much it helps search is very limited because one or two words will never\n",
    "pack a _lot_ of semantic value.\n",
    "\n",
    "Do you want it for search? To find similar documents to what you already have?\n",
    "Distinguishing documents within a set you already have?\n",
    "\n",
    "\n",
    "Do you want it to be fully automatic,\n",
    "or do you specifically aim to specialize it for a specific dataset?\n",
    "\n",
    "You can imagine that being fuzzier is easily\n",
    "Do you want it to not pay attention to certain kinds of paragraphs (e.g. XXX)?\n"
   ]
  },
  {
   "cell_type": "markdown",
   "metadata": {},
   "source": []
  },
  {
   "cell_type": "code",
   "execution_count": null,
   "metadata": {
    "vscode": {
     "languageId": "plaintext"
    }
   },
   "outputs": [],
   "source": [
    "# Collocations\n"
   ]
  },
  {
   "cell_type": "code",
   "execution_count": null,
   "metadata": {
    "vscode": {
     "languageId": "plaintext"
    }
   },
   "outputs": [],
   "source": []
  }
 ],
 "metadata": {
  "kernelspec": {
   "display_name": "Python 3",
   "language": "python",
   "name": "python3"
  },
  "language_info": {
   "codemirror_mode": {
    "name": "ipython",
    "version": 3
   },
   "file_extension": ".py",
   "mimetype": "text/x-python",
   "name": "python",
   "nbconvert_exporter": "python",
   "pygments_lexer": "ipython3",
   "version": "3.8.10"
  },
  "vscode": {
   "interpreter": {
    "hash": "31f2aee4e71d21fbe5cf8b01ff0e069b9275f58929596ceb00d14d90e3e16cd6"
   }
  }
 },
 "nbformat": 4,
 "nbformat_minor": 4
}
