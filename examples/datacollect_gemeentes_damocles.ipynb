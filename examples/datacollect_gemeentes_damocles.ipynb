{
  "cells": [
    {
      "cell_type": "markdown",
      "metadata": {
        "id": "view-in-github",
        "colab_type": "text"
      },
      "source": [
        "<a href=\"https://colab.research.google.com/github/scarfboy/wetsuite-dev/blob/main/examples/datacollect_gemeentes_damocles.ipynb\" target=\"_parent\"><img src=\"https://colab.research.google.com/assets/colab-badge.svg\" alt=\"Open In Colab\"/></a>"
      ]
    },
    {
      "cell_type": "code",
      "execution_count": null,
      "metadata": {
        "id": "rIeR0U9GNsSf"
      },
      "outputs": [],
      "source": [
        "!pip --quiet install https://github.com/scarfboy/wetsuite-dev/archive/refs/heads/main.zip"
      ]
    },
    {
      "cell_type": "markdown",
      "source": [
        "# Goal\n",
        "\n",
        "This is an exercise in finding specific policy per municipality, to be able to compare their content.\n",
        "\n",
        "To start, we need a list of municipalities. "
      ],
      "metadata": {
        "id": "JTgI7g-Cb8An"
      }
    },
    {
      "cell_type": "code",
      "execution_count": 17,
      "metadata": {
        "colab": {
          "base_uri": "https://localhost:8080/"
        },
        "id": "6BHONSsONsSg",
        "outputId": "9114bf1a-e0fc-40e7-a4cd-644b95c5c1b1"
      },
      "outputs": [
        {
          "output_type": "stream",
          "name": "stdout",
          "text": [
            "\n",
            "    This is largely the more interesting fields from https://organisaties.overheid.nl/export/Gemeenten.csv\n",
            "    augmented with RDF-like data like that under https://standaarden.overheid.nl/owms/terms/Leiden_(gemeente)\n",
            "\n",
            "    \n",
            "    .data is a list of dicts, one per gemeente (currently 344 of them). Keys in that dict include:\n",
            "    \n",
            "    'Namen' - a list of name variants. \n",
            "       Usually just the short name, and a longer one with \"Gemeente \" in front\n",
            "       Sometimes with alternative names, e.g. [\"Den Bosch\", \"Gemeente 's-Hertogenbosch\", \"'s-Hertogenbosch\"]\n",
            "       We have used these as \"Match one of these\" to search for gemeentebeleid per gemeente\n",
            "   \n",
            "    Descriptions like 'Aantal inwoners', 'Oppervlakte'\n",
            "    \n",
            "    Organisational relations like \n",
            "      - 'Bevat plaatsen'\n",
            "      - 'Overlaps with', mentioning Provinces, Waterschappen\n",
            "      - 'Service area of' - things like GGD, Police, Social services  (each item is a list because we tend to have a full name and an abbreviation)\n",
            "      - 'Predecessors' - mentions previous gemeente names\n",
            "\n",
            "    Useful in other APIs / joining with other data\n",
            "    - 'OWMS URI'\n",
            "    - 'CBSCode', 'Organisatiecode'\n",
            "    \n",
            "    Politics\n",
            "    - 'Totaal aantal zetels', 'Raad'\n",
            "\n",
            "\n",
            "    This vesion was fetched on 2023-01-27\n",
            "            \n"
          ]
        }
      ],
      "source": [
        "import wetsuite.datasets\n",
        "gem = wetsuite.datasets.load('gemeentes')\n",
        "print( gem.description )\n",
        "\n",
        "# you to get a random example, but in this case we're only interested in the names\n",
        "# pprint.pprint( random.choice( gem.data ) )"
      ]
    },
    {
      "cell_type": "markdown",
      "metadata": {
        "id": "qHUGvNGqNsSk"
      },
      "source": [
        "## Search per municpality\n",
        "\n",
        "The only thing of the above that we use is the names. \n",
        "\n",
        "The below does searches into the CVDR repository (see also the datacollect_koop_repos example for more introduction to the repositories).\n",
        "\n",
        "\n",
        "We are considering making a friendlier way of doing this, that lies somewhere between \"doing 344 separate queries on a website\" and \"let's teach you python (and leave you to weird data errors)\".\n",
        "\n",
        "If we want to use SRU, let's remind ourselves of the indices we can search in:"
      ]
    },
    {
      "cell_type": "code",
      "source": [
        "import pprint\n",
        "cvdr = wetsuite.datacollect.koop_repositories.CVDR()\n",
        "pprint.pprint( cvdr.explain_parsed() )"
      ],
      "metadata": {
        "id": "KrrloxMHlWHj",
        "outputId": "80210f43-a9bc-410e-a8f5-88f6237e342d",
        "colab": {
          "base_uri": "https://localhost:8080/"
        }
      },
      "execution_count": 20,
      "outputs": [
        {
          "output_type": "stream",
          "name": "stdout",
          "text": [
            "{'database/numRecs': '262919',\n",
            " 'description': 'Gemeenschappelijke zoekdienst van overheid.nl voor Centrale '\n",
            "                'Voorziening Decentrale Regelgeving',\n",
            " 'explain_url': 'http://zoekservice.overheid.nl/sru/Search?&version=1.2&x-connection=cvdr&operation=explain',\n",
            " 'extent': 'Lokale regelingen of the Dutch government',\n",
            " 'host': 'zoekservice.overheid.nl',\n",
            " 'indices': [('dcterms', 'identifier'),\n",
            "             ('dcterms', 'title'),\n",
            "             ('dcterms', 'language'),\n",
            "             ('dcterms', 'creator'),\n",
            "             ('dcterms', 'modified'),\n",
            "             ('dcterms', 'isFormatOf'),\n",
            "             ('dcterms', 'alternative'),\n",
            "             ('dcterms', 'source'),\n",
            "             ('dcterms', 'isRatifiedBy'),\n",
            "             ('dcterms', 'subject'),\n",
            "             ('dcterms', 'issued'),\n",
            "             (None, 'workid'),\n",
            "             (None, 'bronformaat'),\n",
            "             (None, 'organisatieType'),\n",
            "             (None, 'sorteerTitel'),\n",
            "             (None, 'gemeente'),\n",
            "             (None, 'provincie'),\n",
            "             (None, 'waterschap'),\n",
            "             (None, 'regionaalsamenwerkingsorgaan'),\n",
            "             (None, 'koninkrijksdeel'),\n",
            "             (None, 'nederlandseantillen'),\n",
            "             (None, 'deelgemeente'),\n",
            "             (None, 'caribischopenbaarlichaam'),\n",
            "             (None, 'anderopenbaarlichaam'),\n",
            "             (None, 'eilandgebied'),\n",
            "             (None, 'relevance'),\n",
            "             ('overheidrg', 'body'),\n",
            "             ('overheidrg', 'wti'),\n",
            "             ('overheidrg', 'keyword'),\n",
            "             ('overheidrg', 'alternatieveIdentifier'),\n",
            "             ('overheidrg', 'opvolgerVan'),\n",
            "             ('overheidrg', 'inwerkingtredingDatum'),\n",
            "             ('overheidrg', 'terugwerkendekrachtDatum'),\n",
            "             ('overheidrg', 'uitwerkingtredingDatum'),\n",
            "             ('overheidrg', 'betreft'),\n",
            "             ('overheidrg', 'kenmerk'),\n",
            "             ('overheidrg', 'onderwerp'),\n",
            "             ('overheidrg', 'redactioneleToevoeging'),\n",
            "             ('overheidrg', 'gedelegeerdeRegelgeving'),\n",
            "             ('overheidrg', 'datumGeldendOp'),\n",
            "             ('overheidrg', 'postcodeCijfers'),\n",
            "             ('overheidrg', 'indexeerdatum')],\n",
            " 'port': '80',\n",
            " 'sets': [('dcterms',\n",
            "           'http://purl.org/dc/terms/',\n",
            "           'Indexes in the namespace \"http://purl.org/dc/terms/\"'),\n",
            "          ('overheidrg',\n",
            "           'http://standaarden.overheid.nl/cvdr/terms/',\n",
            "           'Indexes in the namespace '\n",
            "           '\"http://standaarden.overheid.nl/cvdr/terms/\"')],\n",
            " 'title': 'Overheid.nl search and retrieval service'}\n"
          ]
        }
      ]
    },
    {
      "cell_type": "markdown",
      "source": [
        "As [the manual](https://data.overheid.nl/sites/default/files/dataset/d0cca537-44ea-48cf-9880-fa21e1a7058f/resources/Handleiding%2BSRU%2B2.0.pdf) mentions, `dt.spatial` refers to where it applies, `dt.creator` refers to who is responsible for creating the document, though for this case we assume they are the same."
      ],
      "metadata": {
        "id": "2JFu9UuimOiV"
      }
    },
    {
      "cell_type": "markdown",
      "source": [
        "\n",
        "Say that our interest is the policy around a municipality removing people from their home based on the presence of drugs. This is nicknamed the damocles policy. However, that name will also include policies against coffee shops, and may be mentioned in a municipality's general local regulation, we should expect a few results too many.\n",
        "\n",
        "Also, not all the policies may mention this name, so and we picked some words that are very likely to appear in the body of texts dealing with this.\n",
        "\n",
        "Those considerations, and the query below, are the result of a few iterations of doing searches and seeing what comes out."
      ],
      "metadata": {
        "id": "giJ-qljRldER"
      }
    },
    {
      "cell_type": "code",
      "execution_count": 15,
      "metadata": {
        "colab": {
          "base_uri": "https://localhost:8080/"
        },
        "id": "-3uncOAxNsSl",
        "outputId": "d0ceb8b7-4f10-4160-9929-74ee18ae0124"
      },
      "outputs": [
        {
          "output_type": "stream",
          "name": "stdout",
          "text": [
            "\n",
            " ==  56  hits for   Den Haag / Gemeente Den Haag / 's-Gravenhage == \n",
            "     CVDR645629_1  2020-11-10..            Beleidsregel toezicht bedrijfsmatige activiteiten 2020\n",
            "     CVDR674619_1  2022-03-24..            Beleidsregel bestuurlijke boete, sluiting en beheerovername op grond van de Woningwet Den Haag 2022\n",
            "     CVDR690428_1  2023-01-01..            Beleidsregel beoordeling levensgedrag Den Haag 2023\n",
            "     CVDR11313_53  2022-12-01..            Algemene plaatselijke verordening voor de gemeente Den Haag\n",
            "\n",
            " ==  24  hits for   Den Helder / Gemeente Den Helder == \n",
            "     CVDR657606_1  2021-05-15..            Beleidsregel van de burgemeester van de gemeente Den Helder, houdende regels over sluiting van lokalen en woningen op grond van artikel 13b Opiumwet (Damoclesbeleid Den Helder 2021)\n",
            "     CVDR674768_1  2022-03-26..            Beleidsregels van de burgemeester van de gemeente Den Helder, houdende regels omtrent coffeeshops (Beleid coffeeshops Den Helder 2022)\n",
            "     CVDR627607_1  2019-09-20..            Besluit van de gemeenteraad van de gemeente Den Helder houdende regels omtrent vergunningverlening, toezicht en handhaving\n",
            "     CVDR670333_2  2022-03-25..            Besluit van de raad van de gemeente Den Helder tot vaststelling van de Algemene plaatselijke verordening Den Helder 2021 (Algemene plaatselijke verordening Den Helder 2021)\n",
            "     CVDR655148_1  2021-03-13..            Beleidsregels van het college van burgemeester en wethouders van de gemeente Den Helder, houdende regels over bijstandsverlening aan zelfstandigen (Beleidsregels Bijstandsverlening zelfstandigen (Bbz 2004) gemeente Den Helder)\n",
            "     CVDR657181_1  2021-05-01..            Beleidsregel van het college van burgemeester en wethouders van de gemeente Den Helder houdende regels omtrent de procedures, voorschriften en afspraken rond evenementenvergunningen\n"
          ]
        }
      ],
      "source": [
        "import datetime\n",
        "import dateutil.parser\n",
        "import wetsuite.datacollect.koop_repositories\n",
        "import wetsuite.helpers.etree as etree\n",
        "import wetsuite.helpers.net\n",
        "\n",
        "\n",
        "# the weird offset is trying to find Den Haag with its other name, to check that the search is not tripping over that\n",
        "#  ...and to illustrate there isn't actually a good hit for some - Den Haag does actually have a policy, but not in CVDR\n",
        "for gemeente_dict in gem.data[65:67]: # -35:-30  \n",
        "    ## Construct a complex-looking query to mean:\n",
        "    #   (match gemeente by one of its names)  AND (  mentions 'damocles'   OR   (mentions drugs or the opiumwet  AND  mentions words you likely see around putting people out of their house)\n",
        "    # This is a practical consideration: we _will_ get too many results, but at least what we want is probably in there,  and filtering out can be easier than searching again \n",
        "    query_gemeente_names = ' OR '.join( '(creator = \"%s\")'%naam   for naam in gemeente_dict['Namen'] )\n",
        "    query = '(%s) AND ( (body any \"damoclesbeleid damocles\")  OR  (body any \"drugs softdrugs harddrugs handelshoeveelheid opiumwet 13b\") AND (body any \"sluiting herstelsanctie bestuursdwang\"))'%( \n",
        "        query_gemeente_names\n",
        "    )\n",
        "\n",
        "    ## search and fetch only first page, just so that num_records is filled in to report\n",
        "    cvdr = wetsuite.datacollect.koop_repositories.CVDR()\n",
        "    cvdr.search_retrieve( query ) \n",
        "    print( \"\\n == %3d  hits for   %s == \"%(cvdr.num_records(), ' / '.join(gemeente_dict['Namen'])) )\n",
        "\n",
        "    ## search and fetch all, summarizing each record as we go\n",
        "    def show_brief( record ): \n",
        "        meta = wetsuite.datacollect.koop_repositories.cvdr_meta( record, flatten=True )\n",
        "        uit = meta.get('uitwerkingtredingDatum', None)  # ignore things that are expired, because they were probably replaced by something else also in the results  (note: the repo's expiry data doesn't look 100% correct)\n",
        "\n",
        "        # policies that are altered get a new document in here.\n",
        "        #  So if the last day is before today, then there should be another in the search results that _does_ apply.\n",
        "        if uit not in (None,'')  and  (dateutil.parser.parse(uit.split('+')[0]).date() < datetime.date.today()): # so don't show it. Yes, this can also be done in the query (TODO: remove the need for that +)\n",
        "            pass\n",
        "        else:\n",
        "            print( \"  %15s  %10s..%-10s  %s\"%( meta.get('identifier'), meta.get('inwerkingtredingDatum'),  meta.get('uitwerkingtredingDatum',''),  meta.get('title')) )\n",
        "            #print('    URL: %s'%meta.get('publicatieurl_xml') )     # 'publicatieurl_xml' points to text in structured XML.  There is also 'publicatieurl_xhtml' (more browser-presentable),  and 'preferred_url' (a link to the page that lokaleregelgeving.overheid.nl would also send you to)\n",
        "            \n",
        "            if False: # If you wanted to extract the text, this would be a (very crude) start:\n",
        "              xml_data = wetsuite.helpers.net.download( meta.get('publicatieurl_xml') )\n",
        "              tree = etree.strip_namespace( etree.fromstring( xml_data ) )\n",
        "              for al in tree.find('body/regeling/regeling-tekst').getiterator('al'):\n",
        "                  print(  ''.join( etree.all_text_fragments(al) )  )\n",
        "\n",
        "\n",
        "    cvdr.search_retrieve_many( query, callback=show_brief ) # all results, and show brief summary, mainly just titles\n"
      ]
    },
    {
      "cell_type": "code",
      "source": [],
      "metadata": {
        "id": "odlpYCBHIHZm"
      },
      "execution_count": null,
      "outputs": []
    }
  ],
  "metadata": {
    "kernelspec": {
      "display_name": "Python 3 (ipykernel)",
      "language": "python",
      "name": "python3"
    },
    "language_info": {
      "codemirror_mode": {
        "name": "ipython",
        "version": 2
      },
      "file_extension": ".py",
      "mimetype": "text/x-python",
      "name": "python",
      "nbconvert_exporter": "python",
      "pygments_lexer": "ipython2",
      "version": "2.7.18"
    },
    "orig_nbformat": 4,
    "vscode": {
      "interpreter": {
        "hash": "31f2aee4e71d21fbe5cf8b01ff0e069b9275f58929596ceb00d14d90e3e16cd6"
      }
    },
    "colab": {
      "provenance": [],
      "include_colab_link": true
    }
  },
  "nbformat": 4,
  "nbformat_minor": 0
}