{
 "cells": [
  {
   "cell_type": "code",
   "execution_count": null,
   "metadata": {},
   "outputs": [],
   "source": [
    "!pip --quiet install https://github.com/scarfboy/wetsuite-dev/archive/refs/heads/main.zip"
   ]
  },
  {
   "cell_type": "code",
   "execution_count": null,
   "metadata": {},
   "outputs": [],
   "source": [
    "import wetsuite.datasets\n",
    "gem = wetsuite.datasets.load('gemeentes')\n",
    "print( gem.description )"
   ]
  },
  {
   "cell_type": "code",
   "execution_count": 41,
   "metadata": {},
   "outputs": [
    {
     "name": "stdout",
     "output_type": "stream",
     "text": [
      "{'Aantal inwoners': '25627',\n",
      " 'Bevat plaatsen': ['Voorschoten'],\n",
      " 'CBSCode': '0626',\n",
      " 'Namen': ['Voorschoten', 'Gemeente Voorschoten'],\n",
      " 'OWMS URI': 'http://standaarden.overheid.nl/owms/terms/Voorschoten_(gemeente)',\n",
      " 'Oppervlakte': [11, 'km2'],\n",
      " 'Organisatiecode': 'gm0626',\n",
      " 'Overlaps with': [['Hoogheemraadschap van Rijnland'], ['Zuid-Holland']],\n",
      " 'Predecessors': [],\n",
      " 'Raad': [['VVD', 4],\n",
      "          ['CDA', 4],\n",
      "          ['GroenLinks', 4],\n",
      "          ['Voorschoten Lokaal', 4],\n",
      "          ['D66', 3],\n",
      "          ['SP', 1],\n",
      "          ['PvdA', 1]],\n",
      " 'Service area of': [['1600',\n",
      "                      'RDOG HM',\n",
      "                      'Regionale dienst openbare gezondheidszorg Hollands '\n",
      "                      'Midden',\n",
      "                      'RDOG Hollands Midden'],\n",
      "                     ['BSGR', 'Belastingsamenwerking Gouwe-Rijnland'],\n",
      "                     ['Inkoopbureau H-10'],\n",
      "                     ['Omgevingsdienst West-Holland', 'ODWH'],\n",
      "                     ['Regiokorps Politie Hollands Midden'],\n",
      "                     ['Samenwerkingsorgaan Holland Rijnland'],\n",
      "                     ['Servicebureau Jeugdhulp Haaglanden'],\n",
      "                     ['Veiligheidsregio Hollands Midden'],\n",
      "                     ['Werkorganisatie Duivenvoorde']],\n",
      " 'Totaal aantal zetels': '21'}\n"
     ]
    }
   ],
   "source": [
    "import pprint, random\n",
    "\n",
    "pprint.pprint( random.choice( gem.data ) )  # show details for one random gemeente"
   ]
  },
  {
   "attachments": {},
   "cell_type": "markdown",
   "metadata": {},
   "source": [
    "## Beleidsregels per gemeente\n",
    "\n",
    "This uses the data together to do a specific search into the KOOP repositories (see also the datacollect_koop_repos example, for more introduction),\n",
    "one per municipality.\n",
    "\n",
    "Which uses nothing beyond the names."
   ]
  },
  {
   "cell_type": "code",
   "execution_count": 2,
   "metadata": {},
   "outputs": [
    {
     "ename": "ImportError",
     "evalue": "No module named wetsuite.datacollect.koop_repositories",
     "output_type": "error",
     "traceback": [
      "\u001b[0;31m---------------------------------------------------------------------------\u001b[0m",
      "\u001b[0;31mImportError\u001b[0m                               Traceback (most recent call last)",
      "\u001b[0;32m<ipython-input-2-8ba542ff3059>\u001b[0m in \u001b[0;36m<module>\u001b[0;34m()\u001b[0m\n\u001b[0;32m----> 1\u001b[0;31m \u001b[0;32mimport\u001b[0m \u001b[0mwetsuite\u001b[0m\u001b[0;34m.\u001b[0m\u001b[0mdatacollect\u001b[0m\u001b[0;34m.\u001b[0m\u001b[0mkoop_repositories\u001b[0m\u001b[0;34m\u001b[0m\u001b[0m\n\u001b[0m\u001b[1;32m      2\u001b[0m \u001b[0;32mimport\u001b[0m \u001b[0mwetsuite\u001b[0m\u001b[0;34m.\u001b[0m\u001b[0mhelpers\u001b[0m\u001b[0;34m.\u001b[0m\u001b[0metree\u001b[0m \u001b[0;32mas\u001b[0m \u001b[0metree\u001b[0m\u001b[0;34m\u001b[0m\u001b[0m\n\u001b[1;32m      3\u001b[0m \u001b[0;34m\u001b[0m\u001b[0m\n\u001b[1;32m      4\u001b[0m \u001b[0;31m# this uses only One reason for this not-really-a-dataset was the names, so we can do things like look for beleidsregels per gemeente\u001b[0m\u001b[0;34m\u001b[0m\u001b[0;34m\u001b[0m\u001b[0m\n\u001b[1;32m      5\u001b[0m \u001b[0;34m\u001b[0m\u001b[0m\n",
      "\u001b[0;31mImportError\u001b[0m: No module named wetsuite.datacollect.koop_repositories"
     ]
    }
   ],
   "source": [
    "import wetsuite.datacollect.koop_repositories\n",
    "import wetsuite.helpers.etree as etree\n",
    "\n",
    "# this uses only One reason for this not-really-a-dataset was the names, so we can do things like look for beleidsregels per gemeente\n",
    "\n",
    "def show_result_title(record):\n",
    "    ''' Take the title out of the search results. \n",
    "        Ignore how this code works for now, because we absolutel need to make this easier for you to do.\n",
    "    '''\n",
    "    gzd = record.find('recordData')[0]\n",
    "    owmskern     = wetsuite.helpers.etree.kvelements_to_dict( originalData.find('meta/owmskern')   )\n",
    "    owmsmantel   = wetsuite.helpers.etree.kvelements_to_dict( originalData.find('meta/owmsmantel') ) \n",
    "    cvdripm      = wetsuite.helpers.etree.kvelements_to_dict( originalData.find('meta/cvdripm')     ) \n",
    "    enrichedData = wetsuite.helpers.etree.kvelements_to_dict( gzd.find('enrichedData') )\n",
    "\n",
    "    merged = {}\n",
    "    merged.update(owmskern)\n",
    "    merged.update(owmsmantel)\n",
    "    merged.update(cvdripm)\n",
    "    merged.update(enrichedData)\n",
    "\n",
    "\n",
    "for gemeente_dict in gem.data[63:70]:  # the weird offset is tring to find Den Haag with its other name, to check that the search is not tripping over that\n",
    "    query_gnames = ' OR '.join( '(creator any \"%s\")'%naam  for naam in gemeente_dict['Namen'] )\n",
    "\n",
    "    # Complex-looking query to look for \n",
    "    #   (one of the gemeentenames)  AND (   'damocles'   OR   (something mentioning both drugs or the opiumwet  AND  one of the words you likely see around putting people out of their house )\n",
    "    # This is a practical consideration: we _will_ get too many results, but at least what we want is probably in there \n",
    "    query = '(%s) AND ( (body any \"damoclesbeleid damocles\")  OR  (body any \"drugs softdrugs harddrugs handelshoeveelheid opiumwet 13b\") AND (body any \"sluiting herstelsanctie bestuursdwang\"))'%( \n",
    "        query_gnames\n",
    "    )\n",
    "    #print( query )\n",
    "\n",
    "    cvdr = wetsuite.datacollect.koop_repositories.CVDR()\n",
    "    cvdr.search_retrieve( query ) # search and fetch only first page, just so that num_records is filled in \n",
    "    print( \"%3d  hits for   %s \"%(cvdr.num_records(), ' / '.join(gemeente_dict['Namen'])) )\n",
    "\n",
    "    cvdr.search_retrieve_many( query, callback=show_result_title ) # all results, and show titles\n",
    "\n",
    "    #print()\n",
    "\n"
   ]
  },
  {
   "cell_type": "code",
   "execution_count": null,
   "metadata": {},
   "outputs": [],
   "source": []
  }
 ],
 "metadata": {
  "kernelspec": {
   "display_name": "Python 3 (ipykernel)",
   "language": "python",
   "name": "python3"
  },
  "language_info": {
   "codemirror_mode": {
    "name": "ipython",
    "version": 2
   },
   "file_extension": ".py",
   "mimetype": "text/x-python",
   "name": "python",
   "nbconvert_exporter": "python",
   "pygments_lexer": "ipython2",
   "version": "2.7.18"
  },
  "orig_nbformat": 4,
  "vscode": {
   "interpreter": {
    "hash": "31f2aee4e71d21fbe5cf8b01ff0e069b9275f58929596ceb00d14d90e3e16cd6"
   }
  }
 },
 "nbformat": 4,
 "nbformat_minor": 2
}
