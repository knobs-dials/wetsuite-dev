{
  "cells": [
    {
      "cell_type": "markdown",
      "metadata": {
        "id": "view-in-github",
        "colab_type": "text"
      },
      "source": [
        "<a href=\"https://colab.research.google.com/github/scarfboy/wetsuite-dev/blob/main/examples/dataset_gemeentes.ipynb\" target=\"_parent\"><img src=\"https://colab.research.google.com/assets/colab-badge.svg\" alt=\"Open In Colab\"/></a>"
      ]
    },
    {
      "cell_type": "code",
      "execution_count": null,
      "metadata": {
        "id": "rIeR0U9GNsSf"
      },
      "outputs": [],
      "source": [
        "!pip --quiet install https://github.com/scarfboy/wetsuite-dev/archive/refs/heads/main.zip"
      ]
    },
    {
      "cell_type": "code",
      "execution_count": 3,
      "metadata": {
        "colab": {
          "base_uri": "https://localhost:8080/"
        },
        "id": "6BHONSsONsSg",
        "outputId": "0e815f10-5c68-4277-ecc3-32d9afaafe97"
      },
      "outputs": [
        {
          "output_type": "stream",
          "name": "stdout",
          "text": [
            "\n",
            "    This is largely the more interesting fields from https://organisaties.overheid.nl/export/Gemeenten.csv\n",
            "    augmented with RDF-like data like that under https://standaarden.overheid.nl/owms/terms/Leiden_(gemeente)\n",
            "\n",
            "    \n",
            "    .data is a list of dicts, one per gemeente (currently 344 of them). Keys in that dict include:\n",
            "    \n",
            "    'Namen' - a list of name variants. \n",
            "       Usually just the short name, and a longer one with \"Gemeente \" in front\n",
            "       Sometimes with alternative names, e.g. [\"Den Bosch\", \"Gemeente 's-Hertogenbosch\", \"'s-Hertogenbosch\"]\n",
            "       We have used these as \"Match one of these\" to search for gemeentebeleid per gemeente\n",
            "   \n",
            "    Descriptions like 'Aantal inwoners', 'Oppervlakte'\n",
            "    \n",
            "    Organisational relations like \n",
            "      - 'Bevat plaatsen'\n",
            "      - 'Overlaps with', mentioning Provinces, Waterschappen\n",
            "      - 'Service area of' - things like GGD, Police, Social services  (each item is a list because we tend to have a full name and an abbreviation)\n",
            "      - 'Predecessors' - mentions previous gemeente names\n",
            "\n",
            "    Useful in other APIs / joining with other data\n",
            "    - 'OWMS URI'\n",
            "    - 'CBSCode', 'Organisatiecode'\n",
            "    \n",
            "    Politics\n",
            "    - 'Totaal aantal zetels', 'Raad'\n",
            "\n",
            "\n",
            "    This vesion was fetched on 2023-01-27\n",
            "            \n"
          ]
        }
      ],
      "source": [
        "import wetsuite.datasets\n",
        "gem = wetsuite.datasets.load('gemeentes')\n",
        "print( gem.description )"
      ]
    },
    {
      "cell_type": "code",
      "execution_count": 36,
      "metadata": {
        "colab": {
          "base_uri": "https://localhost:8080/"
        },
        "id": "4l0lRiSyNsSi",
        "outputId": "a0bb3d62-17f2-42ef-b505-fa265fdefbe2"
      },
      "outputs": [
        {
          "output_type": "stream",
          "name": "stdout",
          "text": [
            "{'Aantal inwoners': '51119',\n",
            " 'Bevat plaatsen': ['Akkrum',\n",
            "                    'Aldeboarn',\n",
            "                    'Bontebok',\n",
            "                    'De Knipe',\n",
            "                    'Gersloot',\n",
            "                    'Haskerdijken',\n",
            "                    'Heerenveen',\n",
            "                    'Hoornsterzwaag',\n",
            "                    'Jubbega',\n",
            "                    'Katlijk',\n",
            "                    'Luinjeberd',\n",
            "                    'Mildam',\n",
            "                    'Nes Gem Heerenveen',\n",
            "                    'Nieuwebrug',\n",
            "                    'Nieuwehorne',\n",
            "                    'Nieuweschoot',\n",
            "                    'Oranjewoud',\n",
            "                    'Oudehorne',\n",
            "                    'Oudeschoot',\n",
            "                    'Terband',\n",
            "                    'Tjalleberd'],\n",
            " 'CBSCode': '0074',\n",
            " 'Namen': ['Heerenveen', 'Gemeente Heerenveen'],\n",
            " 'OWMS URI': 'http://standaarden.overheid.nl/owms/terms/Heerenveen_(gemeente)',\n",
            " 'Oppervlakte': [140, 'km2'],\n",
            " 'Organisatiecode': 'gm0074',\n",
            " 'Overlaps with': [['Fryslân'], ['Wetterskip Fryslân']],\n",
            " 'Predecessors': [],\n",
            " 'Raad': [['PvdA', 7],\n",
            "          ['VVD', 4],\n",
            "          ['Heerenveen Lokaal', 3],\n",
            "          ['FNP', 3],\n",
            "          ['CDA', 3],\n",
            "          ['D66', 3],\n",
            "          ['GroenLinks', 3],\n",
            "          ['Gemeentebelangen Heerenveen', 2],\n",
            "          ['SP', 2],\n",
            "          ['ChristenUnie', 1]],\n",
            " 'Service area of': [['1040', 'GGD Fryslân'],\n",
            "                     ['FUMO',\n",
            "                      'Fryske Utfieringstsjinst Miljeu en Omjouwing',\n",
            "                      'Friese Uitvoeringsdienst Milieu en Omgeving'],\n",
            "                     ['Gemeenschappelijke Regeling SW Fryslân'],\n",
            "                     ['Ontwikkelingsmaatschappij Bedrijvenparken A7 '\n",
            "                      'Heerenveen-Joure'],\n",
            "                     ['Recreatieschap voor het Friese water en land de '\n",
            "                      'Marrekrite',\n",
            "                      'Marrekrite'],\n",
            "                     ['Regiokorps Politie Fryslân'],\n",
            "                     ['Servicebureau De Friese Wouden'],\n",
            "                     ['Sociale werkvoorziening Fryslân'],\n",
            "                     ['Veiligheidsregio Fryslân', 'VRF'],\n",
            "                     ['hûs en hiem, welstandsadvisering en monumentenzorg']],\n",
            " 'Totaal aantal zetels': '31'}\n"
          ]
        }
      ],
      "source": [
        "import pprint, random\n",
        "\n",
        "pprint.pprint( random.choice( gem.data ) )  # show details for one random gemeente"
      ]
    },
    {
      "cell_type": "markdown",
      "metadata": {
        "id": "qHUGvNGqNsSk"
      },
      "source": [
        "## Beleidsregels per gemeente\n",
        "\n",
        "One reason for this not-really-a-dataset was just the names, so we can do things like look for beleidsregels per gemeente.0\n",
        "\n",
        "The below example combines the names with a specific search into the KOOP repositories, one per municipality (see also the datacollect_koop_repos example for more introduction to the repositories)."
      ]
    },
    {
      "cell_type": "code",
      "execution_count": 33,
      "metadata": {
        "colab": {
          "base_uri": "https://localhost:8080/"
        },
        "id": "-3uncOAxNsSl",
        "outputId": "7b26e103-082d-415b-da5f-d7ad081f0ca1"
      },
      "outputs": [
        {
          "output_type": "stream",
          "name": "stdout",
          "text": [
            "\n",
            " ==  30  hits for   Delft / Gemeente Delft == \n",
            "     CVDR681430_1  2022-09-21..            Beleidsregel bestuurlijke handhaving artikel 13b Opiumwet, Delft 2022\n",
            "     CVDR663040_1  2021-10-16..            Coffeeshopbeleid Delft 2021 (met handhavingsarrangement)\n",
            "     CVDR681180_1  2022-09-13..            Handhavingsarrangement mensenhandel voor Delft\n",
            "    CVDR185002_20  2022-10-27..            Algemene plaatselijke verordening voor Delft\n",
            "      CVDR45720_2  2010-10-11..            Horeca Exploitatieverordening voor Delft\n",
            "     CVDR681261_1  2022-09-15..            Uitvoeringsplan Veiligheid Prioriteiten 2022\n",
            "\n",
            " ==  56  hits for   Den Haag / Gemeente Den Haag / 's-Gravenhage == \n",
            "     CVDR645629_1  2020-11-10..            Beleidsregel toezicht bedrijfsmatige activiteiten 2020\n",
            "     CVDR674619_1  2022-03-24..            Beleidsregel bestuurlijke boete, sluiting en beheerovername op grond van de Woningwet Den Haag 2022\n",
            "     CVDR690428_1  2023-01-01..            Beleidsregel beoordeling levensgedrag Den Haag 2023\n",
            "     CVDR11313_53  2022-12-01..            Algemene plaatselijke verordening voor de gemeente Den Haag\n",
            "\n",
            " ==  24  hits for   Den Helder / Gemeente Den Helder == \n",
            "     CVDR657606_1  2021-05-15..            Beleidsregel van de burgemeester van de gemeente Den Helder, houdende regels over sluiting van lokalen en woningen op grond van artikel 13b Opiumwet (Damoclesbeleid Den Helder 2021)\n",
            "     CVDR674768_1  2022-03-26..            Beleidsregels van de burgemeester van de gemeente Den Helder, houdende regels omtrent coffeeshops (Beleid coffeeshops Den Helder 2022)\n",
            "     CVDR627607_1  2019-09-20..            Besluit van de gemeenteraad van de gemeente Den Helder houdende regels omtrent vergunningverlening, toezicht en handhaving\n",
            "     CVDR670333_2  2022-03-25..            Besluit van de raad van de gemeente Den Helder tot vaststelling van de Algemene plaatselijke verordening Den Helder 2021 (Algemene plaatselijke verordening Den Helder 2021)\n",
            "     CVDR655148_1  2021-03-13..            Beleidsregels van het college van burgemeester en wethouders van de gemeente Den Helder, houdende regels over bijstandsverlening aan zelfstandigen (Beleidsregels Bijstandsverlening zelfstandigen (Bbz 2004) gemeente Den Helder)\n",
            "     CVDR657181_1  2021-05-01..            Beleidsregel van het college van burgemeester en wethouders van de gemeente Den Helder houdende regels omtrent de procedures, voorschriften en afspraken rond evenementenvergunningen\n"
          ]
        }
      ],
      "source": [
        "import datetime\n",
        "import wetsuite.datacollect.koop_repositories\n",
        "import wetsuite.helpers.etree as etree\n",
        "import wetsuite.helpers.net\n",
        "\n",
        "\n",
        "# the weird offset is trying to find Den Haag with its other name, to check that the search is not tripping over that\n",
        "#  ...and to illustrate there isn't actually a good hit for some - Den Haag does actually have a policy, but not in CVDR\n",
        "for gemeente_dict in gem.data[64:67]:  \n",
        "    query_gemeente_names = ' OR '.join( '(creator = \"%s\")'%naam  for naam in gemeente_dict['Namen'] )\n",
        "\n",
        "    ## Construct a complex-looking query to mean:\n",
        "    #   (match gemeente by one of its names)  AND (  mentions 'damocles'   OR   (mentions drugs or the opiumwet  AND  mentions words you likely see around putting people out of their house)\n",
        "    # This is a practical consideration: we _will_ get too many results, but at least what we want is probably in there,  and filtering out can be easier than searching again \n",
        "    query = '(%s) AND ( (body any \"damoclesbeleid damocles\")  OR  (body any \"drugs softdrugs harddrugs handelshoeveelheid opiumwet 13b\") AND (body any \"sluiting herstelsanctie bestuursdwang\"))'%( \n",
        "        query_gemeente_names\n",
        "    )\n",
        "    #print( query )\n",
        "\n",
        "\n",
        "    ## search and fetch only first page, just so that num_records is filled in to report\n",
        "    cvdr = wetsuite.datacollect.koop_repositories.CVDR()\n",
        "    cvdr.search_retrieve( query ) \n",
        "    print( \"\\n == %3d  hits for   %s == \"%(cvdr.num_records(), ' / '.join(gemeente_dict['Namen'])) )\n",
        "\n",
        "    ## search and fetch all, summarizing each record as we go\n",
        "    def show_brief( record ): \n",
        "        ''' a brief summary of each search result.   \n",
        "            Ignore how this code works for now, because we absolutely need to make this easier for you to do. '''\n",
        "        #print( etree.tostring( gzd ).decode('u8') ) # for debug, seeing what's in that record\n",
        "        gzd = record.find('recordData')[0]\n",
        "        owmskern     = etree.kvelements_to_dict( gzd.find('originalData/meta/owmskern') )\n",
        "        cvdripm      = etree.kvelements_to_dict( gzd.find('originalData/meta/cvdripm')  )\n",
        "        enrichedData = etree.kvelements_to_dict( gzd.find('enrichedData')               )\n",
        "        # ignore things that were expired, because they were probably replaced by something else also in the results  (note: the repo's expiry data doesn't look 100% correct)\n",
        "        uit = cvdripm.get('uitwerkingtredingDatum', None) # if there is no uitwerkingtreding, it still applies. If it is a date before todat, it does not.\n",
        "        if uit is not None  and  (datetime.datetime.strptime(uit,\"%Y-%m-%d\").date() < datetime.date.today()): \n",
        "           pass # expired\n",
        "        else:\n",
        "          print( \"  %15s  %10s..%-10s  %s\"%( owmskern.get('identifier'),  cvdripm.get('inwerkingtredingDatum'),  cvdripm.get('uitwerkingtredingDatum',''),  owmskern.get('title')) )\n",
        "          #print('    URL: %s'%enrichedData.get('publicatieurl_xml') ) \n",
        "          # 'publicatieurl_xml' points to text in structured XML.  There is also 'publicatieurl_xhtml' (more browser-presentable),  and 'preferred_url' (a link to the page that lokaleregelgeving.overheid.nl would also send you to)\n",
        "\n",
        "    cvdr.search_retrieve_many( query, callback=show_brief ) # all results, and show titles\n"
      ]
    },
    {
      "cell_type": "code",
      "execution_count": null,
      "metadata": {
        "id": "EJHjHJhxNsSn"
      },
      "outputs": [],
      "source": []
    }
  ],
  "metadata": {
    "kernelspec": {
      "display_name": "Python 3 (ipykernel)",
      "language": "python",
      "name": "python3"
    },
    "language_info": {
      "codemirror_mode": {
        "name": "ipython",
        "version": 2
      },
      "file_extension": ".py",
      "mimetype": "text/x-python",
      "name": "python",
      "nbconvert_exporter": "python",
      "pygments_lexer": "ipython2",
      "version": "2.7.18"
    },
    "orig_nbformat": 4,
    "vscode": {
      "interpreter": {
        "hash": "31f2aee4e71d21fbe5cf8b01ff0e069b9275f58929596ceb00d14d90e3e16cd6"
      }
    },
    "colab": {
      "provenance": [],
      "include_colab_link": true
    }
  },
  "nbformat": 4,
  "nbformat_minor": 0
}