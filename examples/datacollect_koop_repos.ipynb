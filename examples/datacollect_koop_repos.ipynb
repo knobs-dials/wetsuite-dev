{
  "nbformat": 4,
  "nbformat_minor": 0,
  "metadata": {
    "colab": {
      "provenance": [],
      "toc_visible": true,
      "include_colab_link": true
    },
    "kernelspec": {
      "name": "python3",
      "display_name": "Python 3"
    },
    "language_info": {
      "name": "python"
    }
  },
  "cells": [
    {
      "cell_type": "markdown",
      "metadata": {
        "id": "view-in-github",
        "colab_type": "text"
      },
      "source": [
        "<a href=\"https://colab.research.google.com/github/scarfboy/wetsuite-dev/blob/main/examples/datacollect_koop_repos.ipynb\" target=\"_parent\"><img src=\"https://colab.research.google.com/assets/colab-badge.svg\" alt=\"Open In Colab\"/></a>"
      ]
    },
    {
      "cell_type": "code",
      "execution_count": null,
      "metadata": {
        "id": "c5Aiyiq2uHLV"
      },
      "outputs": [],
      "source": [
        "# For local installs you can install the package once.   In colab you get a disposable environment and will have to start with this install each time. \n",
        "!pip3 --quiet install -U https://github.com/scarfboy/wetsuite-dev/archive/refs/heads/main.zip"
      ]
    },
    {
      "cell_type": "code",
      "source": [
        "# imports we'll be using\n",
        "import pprint, datetime, random\n",
        "\n",
        "import dateutil.parser\n",
        "\n",
        "import wetsuite.datasets\n",
        "import wetsuite.datacollect.koop_repositories"
      ],
      "metadata": {
        "id": "ZfK62wjZnmxc"
      },
      "execution_count": null,
      "outputs": []
    },
    {
      "cell_type": "markdown",
      "source": [
        "## On SRU\n",
        "\n",
        "SRU ([Search/Retrieval via URL](https://en.wikipedia.org/wiki/Search/Retrieve_via_URL)) was created as a simpler to use search API, that uses browser-style fetches rather than specialized protocols. \n",
        "You construct a query, put it in an URL, and you get back the result as XML.\n",
        "\n",
        "It has just two basic operations:\n",
        "* `explain` - \"hello server, describe yourself\"\n",
        "* `searchRetrieve` - \"I would like the results for this query please\"\n",
        "The functions we provide is barely more than explain, search. If you want to see, run e.g. `help( wetsuite.datacollect.koop_repositories.BWB() )` but we'll introduce these functions by example below."
      ],
      "metadata": {
        "id": "E5VTqCvUXvLJ"
      }
    },
    {
      "cell_type": "markdown",
      "source": [
        "# Searching KOOP's repositories via their SRU API\n",
        "\n",
        "KOOP's repositories give access to the data behind wetten.overheid.nl, lokaleregelgeving.overheid.nl, and others."
      ],
      "metadata": {
        "id": "wooIWz6yc_a1"
      }
    },
    {
      "cell_type": "markdown",
      "source": [
        "## Example: Query basics, on the BWB (Basis WettenBestand) \n",
        "\n",
        "There is some technical documentation at https://www.overheid.nl/sites/default/files/wetten/Gebruikersdocumentatie%20BWB%20-%20Zoeken%20binnen%20het%20basiswettenbestand%20v1.3.1.pdf \n",
        "\n",
        "The SRU interface to BWB does not seem to allow searching the body text as [wetten.overheid.nl](https://wetten.overheid.nl/) does.\n",
        "As such, this may mainly be useful for [known-item searches](https://en.wikipedia.org/wiki/Known-item_search), date ranges, and such."
      ],
      "metadata": {
        "id": "Z20UHIkjdKro"
      }
    },
    {
      "cell_type": "code",
      "source": [
        "sru_bwb = wetsuite.datacollect.koop_repositories.BWB()  # object that mostly just knows where to fetch from"
      ],
      "metadata": {
        "id": "upamRjU9ewwu"
      },
      "execution_count": null,
      "outputs": []
    },
    {
      "cell_type": "code",
      "source": [
        "pprint.pprint( sru_bwb.explain_parsed() )  # this is a self-decripion of the API for you to read, mainly useful to figure out the names of indices that you can search in"
      ],
      "metadata": {
        "id": "V1-XbI54W2A5",
        "outputId": "518634c4-3253-44ab-838c-904c4879af3a",
        "colab": {
          "base_uri": "https://localhost:8080/"
        }
      },
      "execution_count": null,
      "outputs": [
        {
          "output_type": "stream",
          "name": "stdout",
          "text": [
            "{'database/numRecs': '128970',\n",
            " 'description': 'Gemeenschappelijke zoekdienst van overheid.nl voor BWB Online',\n",
            " 'explain_url': 'http://zoekservice.overheid.nl/sru/Search?&version=1.2&x-connection=BWB&operation=explain',\n",
            " 'extent': 'Dutch national legislation',\n",
            " 'host': 'zoekservice.overheid.nl',\n",
            " 'indices': [('dcterms', 'identifier'),\n",
            "             ('dcterms', 'modified'),\n",
            "             ('dcterms', 'type'),\n",
            "             ('overheid', 'authority'),\n",
            "             ('overheidbwb', 'rechtsgebied'),\n",
            "             ('overheidbwb', 'overheidsdomein'),\n",
            "             ('overheidbwb', 'onderwerpVerdrag'),\n",
            "             ('overheidbwb', 'titel'),\n",
            "             ('overheidbwb', 'afkorting'),\n",
            "             ('overheidbwb', 'wetsfamilie'),\n",
            "             ('overheidbwb', 'geldigheidsdatum'),\n",
            "             ('overheidbwb', 'zichtdatum'),\n",
            "             ('overheidbwb', 'bekendmaking'),\n",
            "             ('overheidbwb', 'dossiernummer')],\n",
            " 'port': '80',\n",
            " 'sets': [('dcterms',\n",
            "           'http://purl.org/dc/terms/',\n",
            "           'Indexes in the namespace \"http://purl.org/dc/terms/\"'),\n",
            "          ('overheid',\n",
            "           'http://standaarden.overheid.nl/owms/terms/',\n",
            "           'Indexes in the namespace '\n",
            "           '\"http://standaarden.overheid.nl/owms/terms/\"'),\n",
            "          ('overheidbwb',\n",
            "           'http://standaarden.overheid.nl/bwb/terms/',\n",
            "           'Indexes in the namespace '\n",
            "           '\"http://standaarden.overheid.nl/bwb/terms/\"')],\n",
            " 'title': 'Overheid.nl search and retrieval service'}\n"
          ]
        }
      ]
    },
    {
      "cell_type": "markdown",
      "source": [
        "**The query syntax** is Common Query Language.\n",
        "\n",
        "You can get fairly far copying examples, or guessing based on them, but for them more technically minded:\n",
        "- parts of a query are ***`indexname operator term`***, e.g. \n",
        "  - `overheidbwb.titel = chicken` \n",
        "  - `dcterms.modified > 2022-01-01`\n",
        "  - `body any wet`\n",
        "  - use doublequotes when there's a space or one of `<>=/()` in the term (or just always), e.g. `dcterms.title = \"chicken soup\"`\n",
        "- the operators supported vary per field and per server (some servers get fancy, many do not), so unless you stick to the very basics, then check its `explain`, and/or its documentation\n",
        "  - dates and numbers mostly have: `<` `<=` `>`, `>=` `=` \n",
        "  - text field often have most of:\n",
        "    - `any`:      roughly speaking, `body any \"foo bar\"`   is short for   `body any foo  OR  body any bar`\n",
        "    - `all`:      roughly speaking, `body all \"foo bar\"`   is short for   `body any foo  AND  body any bar`\n",
        "    - `==`:      exact match\n",
        "    - `exact`:    exact match\n",
        "    - `=`:        server choice, e.g. for text might be `==` or `adj` if present\n",
        "- you can combine multiple of those `index operator term` chunks, using AND and OR, and brackets, see e.g. the CVDR example below\n",
        "\n",
        "**Some details vary per server, and per repository in it**, e.g. \n",
        "  - which indexes (mostly named fields) are in searchable, and what they are called \n",
        "    - you can do an `explain` to find out.\n",
        "  - how search results actually point to the actual documents that they describe\n",
        "  - there may be shorthands for index names, e.g. BWB allows 'titel' meaning 'overheidbwb.titel'\n",
        "  - ...etc. The more detailed question you have, the more you have to figure out repository details. We try to provide helper functions."
      ],
      "metadata": {
        "id": "wmRLczjFbBdz"
      }
    },
    {
      "cell_type": "code",
      "source": [
        "# Some example queries\n",
        "\n",
        "# we will try a few queries, so make 'print a few results' short to call\n",
        "\n",
        "def print_bwb_results(records):\n",
        "    ' takes a list of etree object '\n",
        "    for i, record in enumerate( records ): # just the first 5, to keep this example output brief\n",
        "        print('\\n***  Record %d of %d  ***'%(i+1, sru_bwb.numberOfRecords))\n",
        "        # the record itself is XML, in parsed form (ElementTree style objects), which is clunky whenever you just want to just pick out a few values. \n",
        "        # We provide functions that parse that into python data structures, in this case: \n",
        "        meta = wetsuite.datacollect.koop_repositories.bwb_searchresult_meta(record)\n",
        "        pprint.pprint(meta)    \n"
      ],
      "metadata": {
        "id": "XqqNqxMXdJh2"
      },
      "execution_count": null,
      "outputs": []
    },
    {
      "cell_type": "markdown",
      "source": [
        "### Known-item search"
      ],
      "metadata": {
        "id": "cfhIj33br9ZL"
      }
    },
    {
      "cell_type": "code",
      "source": [
        "print_bwb_results( sru_bwb.search_retrieve_many( 'dcterms.identifier = BWBR0045754', up_to=5 ) ) # up to 5: if we happen to have a lot of results, don't fetch and print all\n"
      ],
      "metadata": {
        "colab": {
          "base_uri": "https://localhost:8080/"
        },
        "id": "bCgOS-5frxqm",
        "outputId": "c91432d3-4700-43f2-e19e-da3953f88fb4"
      },
      "execution_count": null,
      "outputs": [
        {
          "output_type": "stream",
          "name": "stdout",
          "text": [
            "\n",
            "***  Record 1 of 3  ***\n",
            "{'authority': 'Binnenlandse Zaken en Koninkrijksrelaties',\n",
            " 'created': '2022-05-01',\n",
            " 'creator': 'Ministerie van Binnenlandse Zaken en Koninkrijksrelaties',\n",
            " 'geldigheidsperiode_einddatum': '2022-07-31',\n",
            " 'geldigheidsperiode_startdatum': '2022-05-01',\n",
            " 'identifier': 'BWBR0045754',\n",
            " 'language': 'nl',\n",
            " 'locatie_manifest': 'https://repository.officiele-overheidspublicaties.nl/bwb/BWBR0045754/manifest.xml',\n",
            " 'locatie_toestand': 'https://repository.officiele-overheidspublicaties.nl/bwb/BWBR0045754/2022-05-01_0/xml/BWBR0045754_2022-05-01_0.xml',\n",
            " 'locatie_wti': 'https://repository.officiele-overheidspublicaties.nl/bwb/BWBR0045754/BWBR0045754.WTI',\n",
            " 'modified': '2023-02-01',\n",
            " 'overheidsdomein': 'Overheid, bestuur en koninkrijk',\n",
            " 'rechtsgebied': 'Bestuursrecht',\n",
            " 'title': 'Wet open overheid',\n",
            " 'toestand': 'http://wetten.overheid.nl/id/BWBR0045754/2022-05-01/0',\n",
            " 'type': 'wet',\n",
            " 'zichtperiode_einddatum': '9999-12-31',\n",
            " 'zichtperiode_startdatum': '2022-05-01'}\n",
            "\n",
            "***  Record 2 of 3  ***\n",
            "{'authority': 'Binnenlandse Zaken en Koninkrijksrelaties',\n",
            " 'created': '2022-08-01',\n",
            " 'creator': 'Ministerie van Binnenlandse Zaken en Koninkrijksrelaties',\n",
            " 'geldigheidsperiode_einddatum': '2023-02-17',\n",
            " 'geldigheidsperiode_startdatum': '2022-08-01',\n",
            " 'identifier': 'BWBR0045754',\n",
            " 'language': 'nl',\n",
            " 'locatie_manifest': 'https://repository.officiele-overheidspublicaties.nl/bwb/BWBR0045754/manifest.xml',\n",
            " 'locatie_toestand': 'https://repository.officiele-overheidspublicaties.nl/bwb/BWBR0045754/2022-08-01_0/xml/BWBR0045754_2022-08-01_0.xml',\n",
            " 'locatie_wti': 'https://repository.officiele-overheidspublicaties.nl/bwb/BWBR0045754/BWBR0045754.WTI',\n",
            " 'modified': '2023-02-22',\n",
            " 'overheidsdomein': 'Overheid, bestuur en koninkrijk',\n",
            " 'rechtsgebied': 'Bestuursrecht',\n",
            " 'title': 'Wet open overheid',\n",
            " 'toestand': 'http://wetten.overheid.nl/id/BWBR0045754/2022-08-01/0',\n",
            " 'type': 'wet',\n",
            " 'zichtperiode_einddatum': '9999-12-31',\n",
            " 'zichtperiode_startdatum': '2022-08-01'}\n",
            "\n",
            "***  Record 3 of 3  ***\n",
            "{'authority': 'Binnenlandse Zaken en Koninkrijksrelaties',\n",
            " 'created': '2023-02-22',\n",
            " 'creator': 'Ministerie van Binnenlandse Zaken en Koninkrijksrelaties',\n",
            " 'geldigheidsperiode_einddatum': '9999-12-31',\n",
            " 'geldigheidsperiode_startdatum': '2023-02-18',\n",
            " 'identifier': 'BWBR0045754',\n",
            " 'language': 'nl',\n",
            " 'locatie_manifest': 'https://repository.officiele-overheidspublicaties.nl/bwb/BWBR0045754/manifest.xml',\n",
            " 'locatie_toestand': 'https://repository.officiele-overheidspublicaties.nl/bwb/BWBR0045754/2023-02-18_0/xml/BWBR0045754_2023-02-18_0.xml',\n",
            " 'locatie_wti': 'https://repository.officiele-overheidspublicaties.nl/bwb/BWBR0045754/BWBR0045754.WTI',\n",
            " 'modified': '2023-02-22',\n",
            " 'overheidsdomein': 'Overheid, bestuur en koninkrijk',\n",
            " 'rechtsgebied': 'Bestuursrecht',\n",
            " 'title': 'Wet open overheid',\n",
            " 'toestand': 'http://wetten.overheid.nl/id/BWBR0045754/2023-02-18/0',\n",
            " 'type': 'wet',\n",
            " 'zichtperiode_einddatum': '9999-12-31',\n",
            " 'zichtperiode_startdatum': '2023-02-18'}\n"
          ]
        }
      ]
    },
    {
      "cell_type": "markdown",
      "source": [
        "### Title search"
      ],
      "metadata": {
        "id": "Ww48kOJjsJHX"
      }
    },
    {
      "cell_type": "code",
      "source": [
        "print_bwb_results( sru_bwb.search_retrieve_many( 'overheidbwb.titel any textiel', up_to=5 ) )"
      ],
      "metadata": {
        "colab": {
          "base_uri": "https://localhost:8080/"
        },
        "id": "Q0g4_Xhar7DN",
        "outputId": "eb1504ea-498f-4c33-f0ac-aa3eb1c34e70"
      },
      "execution_count": null,
      "outputs": [
        {
          "output_type": "stream",
          "name": "stdout",
          "text": [
            "***  Record 1 of 2  ***\n",
            "{'authority': 'Volksgezondheid, Welzijn en Sport',\n",
            " 'created': '2015-07-02',\n",
            " 'creator': 'Ministerie van Binnenlandse Zaken en Koninkrijksrelaties',\n",
            " 'geldigheidsperiode_einddatum': '2022-04-13',\n",
            " 'geldigheidsperiode_startdatum': '2001-04-13',\n",
            " 'identifier': 'BWBR0012348',\n",
            " 'language': 'nl',\n",
            " 'locatie_manifest': 'https://repository.officiele-overheidspublicaties.nl/bwb/BWBR0012348/manifest.xml',\n",
            " 'locatie_toestand': 'https://repository.officiele-overheidspublicaties.nl/bwb/BWBR0012348/2001-04-13_0/xml/BWBR0012348_2001-04-13_0.xml',\n",
            " 'locatie_wti': 'https://repository.officiele-overheidspublicaties.nl/bwb/BWBR0012348/BWBR0012348.WTI',\n",
            " 'modified': '2022-04-15',\n",
            " 'overheidsdomein': 'Economie en ondernemen',\n",
            " 'rechtsgebied': 'Ondernemingspraktijk',\n",
            " 'title': 'Warenwetbesluit formaldehyde in textiel',\n",
            " 'toestand': 'http://wetten.overheid.nl/id/BWBR0012348/2001-04-13/0',\n",
            " 'type': 'AMvB',\n",
            " 'zichtperiode_einddatum': '9999-12-31',\n",
            " 'zichtperiode_startdatum': '2001-04-13'}\n",
            "***  Record 2 of 2  ***\n",
            "{'authority': 'Volksgezondheid, Welzijn en Sport',\n",
            " 'created': '2021-10-15',\n",
            " 'creator': 'Ministerie van Binnenlandse Zaken en Koninkrijksrelaties',\n",
            " 'geldigheidsperiode_einddatum': '9999-12-31',\n",
            " 'geldigheidsperiode_startdatum': '2021-10-15',\n",
            " 'identifier': 'BWBR0045628',\n",
            " 'language': 'nl',\n",
            " 'locatie_manifest': 'https://repository.officiele-overheidspublicaties.nl/bwb/BWBR0045628/manifest.xml',\n",
            " 'locatie_toestand': 'https://repository.officiele-overheidspublicaties.nl/bwb/BWBR0045628/2021-10-15_0/xml/BWBR0045628_2021-10-15_0.xml',\n",
            " 'locatie_wti': 'https://repository.officiele-overheidspublicaties.nl/bwb/BWBR0045628/BWBR0045628.WTI',\n",
            " 'modified': '2021-10-15',\n",
            " 'overheidsdomein': 'Overheid, bestuur en koninkrijk',\n",
            " 'rechtsgebied': 'Bestuursrecht',\n",
            " 'title': 'Specifiek interventiebeleid NVWA Textiel (IB02-SPEC 60, versie 01)',\n",
            " 'toestand': 'http://wetten.overheid.nl/id/BWBR0045628/2021-10-15/0',\n",
            " 'type': 'beleidsregel',\n",
            " 'zichtperiode_einddatum': '9999-12-31',\n",
            " 'zichtperiode_startdatum': '2021-10-15'}\n"
          ]
        }
      ]
    },
    {
      "cell_type": "markdown",
      "source": [
        "### Changes this year"
      ],
      "metadata": {
        "id": "wmLy-EY_sW8k"
      }
    },
    {
      "cell_type": "code",
      "source": [
        "print_bwb_results( sru_bwb.search_retrieve_many( 'dcterms.modified >= 2023-01-01', up_to=5 ) )"
      ],
      "metadata": {
        "colab": {
          "base_uri": "https://localhost:8080/"
        },
        "id": "OjkyKv0nsXI8",
        "outputId": "9d406bd9-83c3-4b09-d632-bf6d3cbbdd98"
      },
      "execution_count": null,
      "outputs": [
        {
          "output_type": "stream",
          "name": "stdout",
          "text": [
            "\n",
            "***  Record 1 of 10080  ***\n",
            "{'authority': 'Veiligheid en Justitie',\n",
            " 'created': '2015-07-01',\n",
            " 'creator': 'Ministerie van Binnenlandse Zaken en Koninkrijksrelaties',\n",
            " 'geldigheidsperiode_einddatum': '2002-06-30',\n",
            " 'geldigheidsperiode_startdatum': '2002-01-01',\n",
            " 'identifier': 'BWBR0001827',\n",
            " 'language': 'nl',\n",
            " 'locatie_manifest': 'https://repository.officiele-overheidspublicaties.nl/bwb/BWBR0001827/manifest.xml',\n",
            " 'locatie_toestand': 'https://repository.officiele-overheidspublicaties.nl/bwb/BWBR0001827/2002-01-01_0/xml/BWBR0001827_2002-01-01_0.xml',\n",
            " 'locatie_wti': 'https://repository.officiele-overheidspublicaties.nl/bwb/BWBR0001827/BWBR0001827.WTI',\n",
            " 'modified': '2023-02-25',\n",
            " 'overheidsdomein': 'Rechtspraak',\n",
            " 'rechtsgebied': 'Burgerlijk procesrecht',\n",
            " 'title': 'Wetboek van Burgerlijke Rechtsvordering (geldt in geval van '\n",
            "          'digitaal procederen)',\n",
            " 'toestand': 'http://wetten.overheid.nl/id/BWBR0001827/2002-01-01/0',\n",
            " 'type': 'wet',\n",
            " 'zichtperiode_einddatum': '9999-12-31',\n",
            " 'zichtperiode_startdatum': '2002-01-01'}\n",
            "\n",
            "***  Record 2 of 10080  ***\n",
            "{'authority': 'Veiligheid en Justitie',\n",
            " 'created': '2015-07-01',\n",
            " 'creator': 'Ministerie van Binnenlandse Zaken en Koninkrijksrelaties',\n",
            " 'geldigheidsperiode_einddatum': '2002-08-31',\n",
            " 'geldigheidsperiode_startdatum': '2002-07-01',\n",
            " 'identifier': 'BWBR0001827',\n",
            " 'language': 'nl',\n",
            " 'locatie_manifest': 'https://repository.officiele-overheidspublicaties.nl/bwb/BWBR0001827/manifest.xml',\n",
            " 'locatie_toestand': 'https://repository.officiele-overheidspublicaties.nl/bwb/BWBR0001827/2002-07-01_0/xml/BWBR0001827_2002-07-01_0.xml',\n",
            " 'locatie_wti': 'https://repository.officiele-overheidspublicaties.nl/bwb/BWBR0001827/BWBR0001827.WTI',\n",
            " 'modified': '2023-02-25',\n",
            " 'overheidsdomein': 'Rechtspraak',\n",
            " 'rechtsgebied': 'Burgerlijk procesrecht',\n",
            " 'title': 'Wetboek van Burgerlijke Rechtsvordering (geldt in geval van '\n",
            "          'digitaal procederen)',\n",
            " 'toestand': 'http://wetten.overheid.nl/id/BWBR0001827/2002-07-01/0',\n",
            " 'type': 'wet',\n",
            " 'zichtperiode_einddatum': '2004-03-25',\n",
            " 'zichtperiode_startdatum': '2002-07-01'}\n",
            "\n",
            "***  Record 3 of 10080  ***\n",
            "{'authority': 'Veiligheid en Justitie',\n",
            " 'created': '2015-07-01',\n",
            " 'creator': 'Ministerie van Binnenlandse Zaken en Koninkrijksrelaties',\n",
            " 'geldigheidsperiode_einddatum': '2002-08-31',\n",
            " 'geldigheidsperiode_startdatum': '2002-07-01',\n",
            " 'identifier': 'BWBR0001827',\n",
            " 'language': 'nl',\n",
            " 'locatie_manifest': 'https://repository.officiele-overheidspublicaties.nl/bwb/BWBR0001827/manifest.xml',\n",
            " 'locatie_toestand': 'https://repository.officiele-overheidspublicaties.nl/bwb/BWBR0001827/2002-07-01_1/xml/BWBR0001827_2002-07-01_1.xml',\n",
            " 'locatie_wti': 'https://repository.officiele-overheidspublicaties.nl/bwb/BWBR0001827/BWBR0001827.WTI',\n",
            " 'modified': '2023-02-25',\n",
            " 'overheidsdomein': 'Rechtspraak',\n",
            " 'rechtsgebied': 'Burgerlijk procesrecht',\n",
            " 'title': 'Wetboek van Burgerlijke Rechtsvordering (geldt in geval van '\n",
            "          'digitaal procederen)',\n",
            " 'toestand': 'http://wetten.overheid.nl/id/BWBR0001827/2002-07-01/1',\n",
            " 'type': 'wet',\n",
            " 'zichtperiode_einddatum': '9999-12-31',\n",
            " 'zichtperiode_startdatum': '2004-03-26'}\n",
            "\n",
            "***  Record 4 of 10080  ***\n",
            "{'authority': 'Veiligheid en Justitie',\n",
            " 'created': '2015-07-01',\n",
            " 'creator': 'Ministerie van Binnenlandse Zaken en Koninkrijksrelaties',\n",
            " 'geldigheidsperiode_einddatum': '2002-12-31',\n",
            " 'geldigheidsperiode_startdatum': '2002-09-01',\n",
            " 'identifier': 'BWBR0001827',\n",
            " 'language': 'nl',\n",
            " 'locatie_manifest': 'https://repository.officiele-overheidspublicaties.nl/bwb/BWBR0001827/manifest.xml',\n",
            " 'locatie_toestand': 'https://repository.officiele-overheidspublicaties.nl/bwb/BWBR0001827/2002-09-01_0/xml/BWBR0001827_2002-09-01_0.xml',\n",
            " 'locatie_wti': 'https://repository.officiele-overheidspublicaties.nl/bwb/BWBR0001827/BWBR0001827.WTI',\n",
            " 'modified': '2023-02-25',\n",
            " 'overheidsdomein': 'Rechtspraak',\n",
            " 'rechtsgebied': 'Burgerlijk procesrecht',\n",
            " 'title': 'Wetboek van Burgerlijke Rechtsvordering (geldt in geval van '\n",
            "          'digitaal procederen)',\n",
            " 'toestand': 'http://wetten.overheid.nl/id/BWBR0001827/2002-09-01/0',\n",
            " 'type': 'wet',\n",
            " 'zichtperiode_einddatum': '2004-03-25',\n",
            " 'zichtperiode_startdatum': '2002-09-01'}\n",
            "\n",
            "***  Record 5 of 10080  ***\n",
            "{'authority': 'Veiligheid en Justitie',\n",
            " 'created': '2015-07-01',\n",
            " 'creator': 'Ministerie van Binnenlandse Zaken en Koninkrijksrelaties',\n",
            " 'geldigheidsperiode_einddatum': '2002-12-31',\n",
            " 'geldigheidsperiode_startdatum': '2002-09-01',\n",
            " 'identifier': 'BWBR0001827',\n",
            " 'language': 'nl',\n",
            " 'locatie_manifest': 'https://repository.officiele-overheidspublicaties.nl/bwb/BWBR0001827/manifest.xml',\n",
            " 'locatie_toestand': 'https://repository.officiele-overheidspublicaties.nl/bwb/BWBR0001827/2002-09-01_1/xml/BWBR0001827_2002-09-01_1.xml',\n",
            " 'locatie_wti': 'https://repository.officiele-overheidspublicaties.nl/bwb/BWBR0001827/BWBR0001827.WTI',\n",
            " 'modified': '2023-02-25',\n",
            " 'overheidsdomein': 'Rechtspraak',\n",
            " 'rechtsgebied': 'Burgerlijk procesrecht',\n",
            " 'title': 'Wetboek van Burgerlijke Rechtsvordering (geldt in geval van '\n",
            "          'digitaal procederen)',\n",
            " 'toestand': 'http://wetten.overheid.nl/id/BWBR0001827/2002-09-01/1',\n",
            " 'type': 'wet',\n",
            " 'zichtperiode_einddatum': '9999-12-31',\n",
            " 'zichtperiode_startdatum': '2004-03-26'}\n"
          ]
        }
      ]
    },
    {
      "cell_type": "markdown",
      "source": [
        "## CVDR\n",
        "The CVDR repository can be seen as the data equivalent of https://lokaleregelgeving.overheid.nl\n",
        "\n",
        "Checking what we can search:"
      ],
      "metadata": {
        "id": "qJtqcQk1e225"
      }
    },
    {
      "cell_type": "code",
      "source": [
        "sru_cvdr = wetsuite.datacollect.koop_repositories.CVDR()\n",
        "\n",
        "pprint.pprint( sru_cvdr.explain_parsed() ) # seeing which indexes are here. \n",
        "# This one has a more complex information model, so you can dig a little deeper to see what you can do with it."
      ],
      "metadata": {
        "colab": {
          "base_uri": "https://localhost:8080/"
        },
        "id": "jw4kEEu1e3MM",
        "outputId": "79b231c4-87ba-46d8-cd99-4574724f7fdf"
      },
      "execution_count": null,
      "outputs": [
        {
          "output_type": "stream",
          "name": "stdout",
          "text": [
            "{'database/numRecs': '263153',\n",
            " 'description': 'Gemeenschappelijke zoekdienst van overheid.nl voor Centrale '\n",
            "                'Voorziening Decentrale Regelgeving',\n",
            " 'explain_url': 'http://zoekservice.overheid.nl/sru/Search?&version=1.2&x-connection=cvdr&operation=explain',\n",
            " 'extent': 'Lokale regelingen of the Dutch government',\n",
            " 'host': 'zoekservice.overheid.nl',\n",
            " 'indices': [('dcterms', 'identifier'),\n",
            "             ('dcterms', 'title'),\n",
            "             ('dcterms', 'language'),\n",
            "             ('dcterms', 'creator'),\n",
            "             ('dcterms', 'modified'),\n",
            "             ('dcterms', 'isFormatOf'),\n",
            "             ('dcterms', 'alternative'),\n",
            "             ('dcterms', 'source'),\n",
            "             ('dcterms', 'isRatifiedBy'),\n",
            "             ('dcterms', 'subject'),\n",
            "             ('dcterms', 'issued'),\n",
            "             (None, 'workid'),\n",
            "             (None, 'bronformaat'),\n",
            "             (None, 'organisatieType'),\n",
            "             (None, 'sorteerTitel'),\n",
            "             (None, 'gemeente'),\n",
            "             (None, 'provincie'),\n",
            "             (None, 'waterschap'),\n",
            "             (None, 'regionaalsamenwerkingsorgaan'),\n",
            "             (None, 'koninkrijksdeel'),\n",
            "             (None, 'nederlandseantillen'),\n",
            "             (None, 'deelgemeente'),\n",
            "             (None, 'caribischopenbaarlichaam'),\n",
            "             (None, 'anderopenbaarlichaam'),\n",
            "             (None, 'eilandgebied'),\n",
            "             (None, 'relevance'),\n",
            "             ('overheidrg', 'body'),\n",
            "             ('overheidrg', 'wti'),\n",
            "             ('overheidrg', 'keyword'),\n",
            "             ('overheidrg', 'alternatieveIdentifier'),\n",
            "             ('overheidrg', 'opvolgerVan'),\n",
            "             ('overheidrg', 'inwerkingtredingDatum'),\n",
            "             ('overheidrg', 'terugwerkendekrachtDatum'),\n",
            "             ('overheidrg', 'uitwerkingtredingDatum'),\n",
            "             ('overheidrg', 'betreft'),\n",
            "             ('overheidrg', 'kenmerk'),\n",
            "             ('overheidrg', 'onderwerp'),\n",
            "             ('overheidrg', 'redactioneleToevoeging'),\n",
            "             ('overheidrg', 'gedelegeerdeRegelgeving'),\n",
            "             ('overheidrg', 'datumGeldendOp'),\n",
            "             ('overheidrg', 'postcodeCijfers'),\n",
            "             ('overheidrg', 'indexeerdatum')],\n",
            " 'port': '80',\n",
            " 'sets': [('dcterms',\n",
            "           'http://purl.org/dc/terms/',\n",
            "           'Indexes in the namespace \"http://purl.org/dc/terms/\"'),\n",
            "          ('overheidrg',\n",
            "           'http://standaarden.overheid.nl/cvdr/terms/',\n",
            "           'Indexes in the namespace '\n",
            "           '\"http://standaarden.overheid.nl/cvdr/terms/\"')],\n",
            " 'title': 'Overheid.nl search and retrieval service'}\n"
          ]
        }
      ]
    },
    {
      "cell_type": "markdown",
      "source": [
        "### Damocles\n",
        "Let's try looking for Amsterdam's policy around on [Wet damocles](https://nl.wikipedia.org/wiki/Wet_Damocles).\n",
        "\n",
        "As [the relevant SRU manual](https://data.overheid.nl/sites/default/files/dataset/d0cca537-44ea-48cf-9880-fa21e1a7058f/resources/Handleiding%2BSRU%2B2.0.pdf) mentions in passing, `dt.spatial` refers to where it applies, `dt.creator` refers to who is responsible for creating the document. For this case we assume they are the same. Also, this repository lets us write `creator` instead of `dt.creator`, etc., nice for a bit of readability in these examples."
      ],
      "metadata": {
        "id": "6XwCG0kqe3mt"
      }
    },
    {
      "cell_type": "code",
      "source": [
        "# we'll be playing with queries, so make 'show results' a minimal amount of typing away\n",
        "def print_cvdr_results(records):  \n",
        "    ' takes a list of etree object '\n",
        "    print('fetched %d records\\n'%len(records))\n",
        "    for i, record in enumerate( records ):\n",
        "        print('***  Record %d of %d  ***'%(i+1, sru_cvdr.numberOfRecords))\n",
        "        meta = wetsuite.datacollect.koop_repositories.cvdr_meta(record, flatten=True) # flatten smushes down possibly-repeated fields into a single value. Good enough (only) for presentation.\n",
        "        pprint.pprint( meta )"
      ],
      "metadata": {
        "id": "2107IgKrvMCg"
      },
      "execution_count": null,
      "outputs": []
    },
    {
      "cell_type": "code",
      "source": [
        "print_cvdr_results( sru_cvdr.search_retrieve_many( '(creator any Amsterdam) AND (body any damocles)', up_to=5 ) ) # 5: if you have 10k results, let's not fetch and print all of them"
      ],
      "metadata": {
        "colab": {
          "base_uri": "https://localhost:8080/"
        },
        "id": "lmW6ITNJeWQn",
        "outputId": "6a186d22-b527-4c97-885d-4e20ee0d47b5"
      },
      "execution_count": null,
      "outputs": [
        {
          "output_type": "stream",
          "name": "stdout",
          "text": [
            "fetched 0 records\n",
            "\n"
          ]
        }
      ]
    },
    {
      "cell_type": "markdown",
      "source": [
        "Nothing. Hm. Maybe it's called 'damoclesbeleid'?"
      ],
      "metadata": {
        "id": "hFf4vIFSeqrp"
      }
    },
    {
      "cell_type": "code",
      "source": [
        "print_cvdr_results( sru_cvdr.search_retrieve_many( '(creator any Amsterdam) AND (body any damocles  OR  body any damoclesbeleid)', up_to=5 ) )"
      ],
      "metadata": {
        "colab": {
          "base_uri": "https://localhost:8080/"
        },
        "id": "IUfLd_DKeqzO",
        "outputId": "69454ae3-0a4d-410b-87ea-df9b9fe91276"
      },
      "execution_count": null,
      "outputs": [
        {
          "output_type": "stream",
          "name": "stdout",
          "text": [
            "fetched 1 records\n",
            "\n",
            "***  Record 1 of 1  ***\n",
            "{'alternatieveIdentifier': '',\n",
            " 'alternative': 'Verzamelbesluit van de burgemeester van de gemeente Amsterdam '\n",
            "                'verband houdende met de herindeling van de gemeenten '\n",
            "                'Amsterdam en Weesp',\n",
            " 'betreft': 'nieuwe regeling',\n",
            " 'creator': 'Amsterdam (overheid:Gemeente)',\n",
            " 'identifier': 'CVDR674918_1',\n",
            " 'inwerkingtredingDatum': '2022-03-25',\n",
            " 'isFormatOf': 'gmb-2022-138618 '\n",
            "               '(https://zoek.officielebekendmakingen.nl/gmb-2022-138618)',\n",
            " 'isRatifiedBy': 'burgemeester (overheid:BestuursorgaanGemeente)',\n",
            " 'issued': '2022-03-07',\n",
            " 'kenmerk': 'Onbekend.',\n",
            " 'language': 'nl',\n",
            " 'modified': '2022-03-25',\n",
            " 'onderwerp': '',\n",
            " 'opvolgerVan': '',\n",
            " 'organisatietype': 'Gemeente',\n",
            " 'preferred_url': 'https://lokaleregelgeving.overheid.nl/CVDR674918/1',\n",
            " 'publicatieurl_xhtml': 'https://repository.officiele-overheidspublicaties.nl/cvdr/CVDR674918/1/html/CVDR674918_1.html',\n",
            " 'publicatieurl_xml': 'https://repository.officiele-overheidspublicaties.nl/cvdr/CVDR674918/1/xml/CVDR674918_1.xml',\n",
            " 'redactioneleToevoeging': '',\n",
            " 'source': 'artikel 28 van de Wet algemene regels herindeling '\n",
            "           '(1.0:c:BWBR0003718&artikel=28&g=2021-10-01),  artikel 30 van de '\n",
            "           'Wet algemene regels herindeling '\n",
            "           '(1.0:c:BWBR0003718&artikel=30&g=2021-10-01)',\n",
            " 'subject': 'bestuur en recht',\n",
            " 'title': 'Verzamelbesluit van de burgemeester van de gemeente Amsterdam '\n",
            "          'verband houdende met de herindeling van de gemeenten Amsterdam en '\n",
            "          'Weesp',\n",
            " 'type': 'regeling (overheid:Informatietype)',\n",
            " 'uitwerkingtredingDatum': ''}\n"
          ]
        }
      ]
    },
    {
      "cell_type": "markdown",
      "source": [
        "Not actually what we want - it's about reorganization and just happens to mention [Damoclesbeleid gemeente Weesp](https://lokaleregelgeving.overheid.nl/CVDR622223/1). \n",
        "\n",
        "If it exists, it probably isn't ***called*** damocles. \n",
        "\n",
        "Let's widen that to also include things that mention one of `drugs softdrugs harddrugs handelshoeveelheid opiumwet 13b` AND mention one of `sluiting herstelsanctie bestuursdwang`. \n",
        "\n",
        "This is a practical consideration: we _will_ get too many results, but at least what we want is probably in there,  and filtering out can be easier than searching again "
      ],
      "metadata": {
        "id": "hDs8IdO7ey1T"
      }
    },
    {
      "cell_type": "code",
      "source": [
        "print_cvdr_results( sru_cvdr.search_retrieve_many( '(creator any \"Amsterdam\") AND ( (body any \"damoclesbeleid damocles\") OR (body any \"drugs softdrugs harddrugs handelshoeveelheid opiumwet 13b\") AND (body any \"sluiting herstelsanctie bestuursdwang\"))', up_to=5 ) )\n",
        "\n"
      ],
      "metadata": {
        "colab": {
          "base_uri": "https://localhost:8080/"
        },
        "id": "fdwnatePey8J",
        "outputId": "4dd3c3ef-3a90-411d-fa92-6f1d48310c8c"
      },
      "execution_count": null,
      "outputs": [
        {
          "output_type": "stream",
          "name": "stdout",
          "text": [
            "fetched 5 records\n",
            "\n",
            "***  Record 1 of 113  ***\n",
            "{'alternatieveIdentifier': '',\n",
            " 'alternative': 'Beleidsregels sluitingen en heropeningen Amsterdam',\n",
            " 'betreft': 'nieuwe regeling',\n",
            " 'creator': 'Amsterdam (overheid:Gemeente)',\n",
            " 'identifier': 'CVDR640125_1',\n",
            " 'inwerkingtredingDatum': '2020-05-08',\n",
            " 'isFormatOf': 'gmb-2020-115757 '\n",
            "               '(https://zoek.officielebekendmakingen.nl/gmb-2020-115757)',\n",
            " 'isRatifiedBy': 'burgemeester (overheid:BestuursorgaanGemeente)',\n",
            " 'issued': '2020-04-24',\n",
            " 'kenmerk': 'Onbekend.',\n",
            " 'language': 'nl',\n",
            " 'modified': '2020-05-08',\n",
            " 'onderwerp': '',\n",
            " 'opvolgerVan': '',\n",
            " 'organisatietype': 'Gemeente',\n",
            " 'preferred_url': 'https://lokaleregelgeving.overheid.nl/CVDR640125/1',\n",
            " 'publicatieurl_xhtml': 'https://repository.officiele-overheidspublicaties.nl/cvdr/CVDR640125/1/html/CVDR640125_1.html',\n",
            " 'publicatieurl_xml': 'https://repository.officiele-overheidspublicaties.nl/cvdr/CVDR640125/1/xml/CVDR640125_1.xml',\n",
            " 'redactioneleToevoeging': '<al>Deze regeling vervangt de beleidsregels '\n",
            "                           'neergelegd in de Notitie inzake het sluitings- en '\n",
            "                           'heropeningsbeleid met betrekking tot artikel 13b '\n",
            "                           'van de Opiumwet en artikel 2.7 van de Algemene '\n",
            "                           'Plaatselijke Verordening, van 21 april 2005 '\n",
            "                           '(Gemeenteblad 4 mei 2005, afdeling 1 ,nr. '\n",
            "                           '223).</al>',\n",
            " 'source': 'artikel 4:81 van de Algemene wet bestuursrecht '\n",
            "           '(1.0:c:BWBR0005537&artikel=4%3A81&g=2020-04-15),  artikel 13b van '\n",
            "           'de Opiumwet (1.0:c:BWBR0001941&artikel=13b&g=2020-01-01),  artikel '\n",
            "           '172, derde lid, van de Gemeentewet '\n",
            "           '(1.0:c:BWBR0005416&artikel=172&lid=3&g=2020-01-01),  artikel 174a '\n",
            "           'van de Gemeentewet (1.0:c:BWBR0005416&artikel=174a&g=2020-01-01),  '\n",
            "           'https://decentrale.regelgeving.overheid.nl/cvdr/xhtmloutput/historie/amsterdam/72510/72510_9.html '\n",
            "           '()',\n",
            " 'subject': 'bestuur en recht',\n",
            " 'title': 'Beleidsregel van de burgemeester van de gemeente Amsterdam houdende '\n",
            "          'regels omtrent sluitingen en heropeningen (Beleidsregels sluitingen '\n",
            "          'en heropeningen Amsterdam)',\n",
            " 'type': 'regeling (overheid:Informatietype)',\n",
            " 'uitwerkingtredingDatum': ''}\n",
            "***  Record 2 of 113  ***\n",
            "{'alternatieveIdentifier': '',\n",
            " 'alternative': 'Beleidsregels sluitingen en heropeningen Amsterdam',\n",
            " 'betreft': 'nieuwe regeling',\n",
            " 'creator': 'Amsterdam (overheid:Gemeente)',\n",
            " 'identifier': 'CVDR691619_1',\n",
            " 'inwerkingtredingDatum': '2023-02-01',\n",
            " 'isFormatOf': 'gmb-2023-39609 '\n",
            "               '(https://zoek.officielebekendmakingen.nl/gmb-2023-39609)',\n",
            " 'isRatifiedBy': 'burgemeester (overheid:BestuursorgaanGemeente)',\n",
            " 'issued': '2023-01-19',\n",
            " 'kenmerk': 'Onbekend.',\n",
            " 'language': 'nl',\n",
            " 'modified': '2023-02-01',\n",
            " 'onderwerp': '',\n",
            " 'opvolgerVan': '',\n",
            " 'organisatietype': 'Gemeente',\n",
            " 'preferred_url': 'https://lokaleregelgeving.overheid.nl/CVDR691619/1',\n",
            " 'publicatieurl_xhtml': 'https://repository.officiele-overheidspublicaties.nl/cvdr/CVDR691619/1/html/CVDR691619_1.html',\n",
            " 'publicatieurl_xml': 'https://repository.officiele-overheidspublicaties.nl/cvdr/CVDR691619/1/xml/CVDR691619_1.xml',\n",
            " 'redactioneleToevoeging': '<al>Deze regeling vervangt de Beleidsregels '\n",
            "                           'Sluitingen en Heropeningen Amsterdam.</al>',\n",
            " 'source': 'artikel 4:81 van de Algemene wet bestuursrecht '\n",
            "           '(1.0:c:BWBR0005537&artikel=4%3A81&g=2023-01-01),  artikel 13b van '\n",
            "           'de Opiumwet (1.0:c:BWBR0001941&artikel=13b&g=2023-01-01),  artikel '\n",
            "           '172, derde lid, van de Gemeentewet '\n",
            "           '(1.0:c:BWBR0005416&artikel=172&lid=3&g=2023-01-01),  artikel 174a '\n",
            "           'van de Gemeentewet (1.0:c:BWBR0005416&artikel=174a&g=2023-01-01),  '\n",
            "           'artikel 175 van de Gemeentewet '\n",
            "           '(1.0:c:BWBR0005416&artikel=175&g=2023-01-01),  Algemene '\n",
            "           'Plaatselijke Verordening 2008 '\n",
            "           '(https://lokaleregelgeving.overheid.nl/CVDR72510/45)',\n",
            " 'subject': 'openbare orde en veiligheid',\n",
            " 'title': 'Besluit van de burgemeester van de gemeente Amsterdam houdende '\n",
            "          'beleidsregels over de sluitingsbevoegdheid op grond van de '\n",
            "          'Opiumwet, de Gemeentewet en de Algemene Plaatselijke Verordening '\n",
            "          '2008 (Beleidsregels sluitingen en heropeningen Amsterdam)',\n",
            " 'type': 'regeling (overheid:Informatietype)',\n",
            " 'uitwerkingtredingDatum': ''}\n",
            "***  Record 3 of 113  ***\n",
            "{'alternatieveIdentifier': '',\n",
            " 'alternative': 'Algemene Plaatselijke Verordening 2008',\n",
            " 'betreft': 'art. 3.1.2. onder u, art. 3.6, art. 3.14 lid 2, art. 3.19, art. '\n",
            "            '3.21 en de toelichting op deze artikelen',\n",
            " 'creator': 'Amsterdam (overheid:Gemeente)',\n",
            " 'gedelegeerdeRegelgeving': '<al>Geen</al>',\n",
            " 'identifier': '72510_10',\n",
            " 'inwerkingtredingDatum': '2012-08-02',\n",
            " 'isFormatOf': 'Gemeenteblad 2012, afd. 3A, nr. 100/524 ()',\n",
            " 'isRatifiedBy': 'gemeenteraad (overheid:BestuursorgaanGemeente)',\n",
            " 'issued': '2013-03-18',\n",
            " 'kenmerk': 'Gemeenteblad 2012, afd. 1, nr. 524',\n",
            " 'language': 'nl',\n",
            " 'modified': '2013-04-12',\n",
            " 'onderwerp': 'Openbare orde en veiligheid',\n",
            " 'opvolgerVan': '',\n",
            " 'organisatietype': 'Gemeente',\n",
            " 'preferred_url': 'https://lokaleregelgeving.overheid.nl/72510/10',\n",
            " 'publicatieurl_xhtml': 'https://repository.officiele-overheidspublicaties.nl/cvdr/72510/10/html/72510_10.html',\n",
            " 'publicatieurl_xml': 'https://repository.officiele-overheidspublicaties.nl/cvdr/72510/10/xml/72510_10.xml',\n",
            " 'redactioneleToevoeging': '<al>Geen</al>',\n",
            " 'source': 'Gemeentewet, art. 149 '\n",
            "           '(http://wetten.overheid.nl/cgi-bin/deeplink/law1/title=Gemeentewet)',\n",
            " 'title': 'Algemene Plaatselijke Verordening 2008',\n",
            " 'type': 'regeling (overheid:Informatietype)',\n",
            " 'uitwerkingtredingDatum': '2013-03-18'}\n",
            "***  Record 4 of 113  ***\n",
            "{'alternatieveIdentifier': '',\n",
            " 'alternative': 'Algemene Plaatselijke Verordening 2008',\n",
            " 'betreft': 'wijziging art. 4.13',\n",
            " 'creator': 'Amsterdam (overheid:Gemeente)',\n",
            " 'identifier': '72510_4',\n",
            " 'inwerkingtredingDatum': '2009-10-01',\n",
            " 'isFormatOf': 'Gemeenteblad 2009, afd. 3A, nr. 145/384 '\n",
            "               '(http://www.regelgeving.amsterdam.nl/centralestad/algemene_plaatselijke_verordening_2008/20091001)',\n",
            " 'isRatifiedBy': 'gemeenteraad (overheid:BestuursorgaanGemeente)',\n",
            " 'kenmerk': 'Gemeenteblad 2009, afd. 1, nr. 384',\n",
            " 'language': 'nl',\n",
            " 'modified': '2009-10-26',\n",
            " 'onderwerp': '',\n",
            " 'opvolgerVan': '',\n",
            " 'organisatietype': 'Gemeente',\n",
            " 'preferred_url': 'https://lokaleregelgeving.overheid.nl/72510/4',\n",
            " 'publicatieurl_xhtml': 'https://repository.officiele-overheidspublicaties.nl/cvdr/72510/4/html/72510_4.html',\n",
            " 'publicatieurl_xml': 'https://repository.officiele-overheidspublicaties.nl/cvdr/72510/4/xml/72510_4.xml',\n",
            " 'redactioneleToevoeging': '',\n",
            " 'source': 'Gemeentewet, art. 149 '\n",
            "           '(http://wetten.overheid.nl/cgi-bin/deeplink/law1/title=Gemeentewet)',\n",
            " 'title': 'Algemene Plaatselijke Verordening 2008',\n",
            " 'type': 'regeling (overheid:Informatietype)',\n",
            " 'uitwerkingtredingDatum': '2009-11-01'}\n",
            "***  Record 5 of 113  ***\n",
            "{'alternatieveIdentifier': '',\n",
            " 'alternative': 'Algemene Plaatselijke Verordening 2008',\n",
            " 'betreft': 'wijziging toelichting art. 4.27 lid 2 onder b',\n",
            " 'creator': 'Amsterdam (overheid:Gemeente)',\n",
            " 'identifier': '72510_5',\n",
            " 'inwerkingtredingDatum': '2009-11-01',\n",
            " 'isFormatOf': 'Gemeenteblad 2009, afd. 3A, nr. 160/375 '\n",
            "               '(http://www.regelgeving.amsterdam.nl/centralestad/algemene_plaatselijke_verordening_2008/20091101)',\n",
            " 'isRatifiedBy': 'gemeenteraad (overheid:BestuursorgaanGemeente)',\n",
            " 'kenmerk': 'Gemeenteblad 2009, afd. 1, nr. 375',\n",
            " 'language': 'nl',\n",
            " 'modified': '2009-12-30',\n",
            " 'onderwerp': '',\n",
            " 'opvolgerVan': '',\n",
            " 'organisatietype': 'Gemeente',\n",
            " 'preferred_url': 'https://lokaleregelgeving.overheid.nl/72510/5',\n",
            " 'publicatieurl_xhtml': 'https://repository.officiele-overheidspublicaties.nl/cvdr/72510/5/html/72510_5.html',\n",
            " 'publicatieurl_xml': 'https://repository.officiele-overheidspublicaties.nl/cvdr/72510/5/xml/72510_5.xml',\n",
            " 'redactioneleToevoeging': '',\n",
            " 'source': 'Gemeentewet, art. 149 '\n",
            "           '(http://wetten.overheid.nl/cgi-bin/deeplink/law1/title=Gemeentewet)',\n",
            " 'title': 'Algemene Plaatselijke Verordening 2008',\n",
            " 'type': 'regeling (overheid:Informatietype)',\n",
            " 'uitwerkingtredingDatum': '2009-12-28'}\n"
          ]
        }
      ]
    },
    {
      "cell_type": "markdown",
      "source": [
        "There it is, plus a bunch of unrelated and expired entries. \n",
        "\n",
        "We'll get to the expiry part of that next:"
      ],
      "metadata": {
        "id": "fyD55XLugody"
      }
    },
    {
      "cell_type": "markdown",
      "source": [
        "### Damocles per municipality\n",
        "\n",
        "We have a list of municipalities:"
      ],
      "metadata": {
        "id": "s_D98WGcmnIg"
      }
    },
    {
      "cell_type": "code",
      "source": [
        "gem = wetsuite.datasets.load('gemeentes')\n",
        "print( gem.description )"
      ],
      "metadata": {
        "colab": {
          "base_uri": "https://localhost:8080/"
        },
        "id": "GznrOETBmq9B",
        "outputId": "083df52c-fc59-4110-8253-af23b8e6a02e"
      },
      "execution_count": null,
      "outputs": [
        {
          "output_type": "stream",
          "name": "stdout",
          "text": [
            "\n",
            "    This is largely the more interesting fields from https://organisaties.overheid.nl/export/Gemeenten.csv\n",
            "    augmented with RDF-like data like that under https://standaarden.overheid.nl/owms/terms/Leiden_(gemeente)\n",
            "\n",
            "    \n",
            "    .data is a list of dicts, one per gemeente (currently 344 of them). Keys in that dict include:\n",
            "    \n",
            "    'Namen' - a list of name variants. \n",
            "       Usually just the short name, and a longer one with \"Gemeente \" in front\n",
            "       Sometimes with alternative names, e.g. [\"Den Bosch\", \"Gemeente 's-Hertogenbosch\", \"'s-Hertogenbosch\"]\n",
            "       We have used these as \"Match one of these\" to search for gemeentebeleid per gemeente\n",
            "   \n",
            "    Descriptions like 'Aantal inwoners', 'Oppervlakte'\n",
            "    \n",
            "    Organisational relations like \n",
            "      - 'Bevat plaatsen'\n",
            "      - 'Overlaps with', mentioning Provinces, Waterschappen\n",
            "      - 'Service area of' - things like GGD, Police, Social services  (each item is a list because we tend to have a full name and an abbreviation)\n",
            "      - 'Predecessors' - mentions previous gemeente names\n",
            "\n",
            "    Useful in other APIs / joining with other data\n",
            "    - 'OWMS URI'\n",
            "    - 'CBSCode', 'Organisatiecode'\n",
            "    \n",
            "    Politics\n",
            "    - 'Totaal aantal zetels', 'Raad'\n",
            "\n",
            "\n",
            "    This vesion was fetched on 2023-01-27\n",
            "            \n"
          ]
        }
      ]
    },
    {
      "cell_type": "code",
      "source": [
        "# Showing one random example.\n",
        "# Here we only care about 'Namen'\n",
        "pprint.pprint( random.choice( gem.data ) )"
      ],
      "metadata": {
        "colab": {
          "base_uri": "https://localhost:8080/"
        },
        "id": "gFxGgORwnPKc",
        "outputId": "1e481741-f258-4fe1-a5b3-72de5bcb36b3"
      },
      "execution_count": null,
      "outputs": [
        {
          "output_type": "stream",
          "name": "stdout",
          "text": [
            "{'Aantal inwoners': '45822',\n",
            " 'Bevat plaatsen': ['Veldhoven'],\n",
            " 'CBSCode': '0861',\n",
            " 'Namen': ['Veldhoven', 'Gemeente Veldhoven'],\n",
            " 'OWMS URI': 'http://standaarden.overheid.nl/owms/terms/Veldhoven_(gemeente)',\n",
            " 'Oppervlakte': [31, 'km2'],\n",
            " 'Organisatiecode': 'gm0861',\n",
            " 'Overlaps with': [['Noord-Brabant'], ['Waterschap De Dommel']],\n",
            " 'Predecessors': [],\n",
            " 'Raad': [['Hart voor Veldhoven', 9],\n",
            "          ['Gemeente Belangen Veldhoven', 6],\n",
            "          ['VVD', 5],\n",
            "          ['GroenLinks/PvdA', 3],\n",
            "          ['Senioren Veldhoven', 2],\n",
            "          ['CDA', 2],\n",
            "          ['D66', 2]],\n",
            " 'Service area of': [['GGD Brabant-Zuidoost', '1630'],\n",
            "                     ['Metropoolregio Eindhoven', 'MRE'],\n",
            "                     ['Omgevingsdienst Zuidoost-Brabant'],\n",
            "                     ['Regiokorps Politie Brabant-Zuid-Oost'],\n",
            "                     ['Regionaal samenwerkingsorgaan openbaar basisonderwijs '\n",
            "                      'De Kempen'],\n",
            "                     ['Samenwerkingsverband Regio Eindhoven'],\n",
            "                     ['Veiligheidsregio Brabant-Zuidoost'],\n",
            "                     ['Werkvoorzieningschap regio Eindhoven']],\n",
            " 'Totaal aantal zetels': '29'}\n"
          ]
        }
      ]
    },
    {
      "cell_type": "code",
      "source": [
        "for gemeente_dict in gem.data[65:70]: # looking for den haag  with its other name, to check that the search is not tripping over that.      (-35:-30  exposes a current repo bug)\n",
        "    query_gemeente_names = ' OR '.join( '(creator = \"%s\")'%naam   for naam in gemeente_dict['Namen'] )\n",
        "\n",
        "    query = '(%s) AND ( (body any \"damoclesbeleid damocles\")  OR  (body any \"drugs softdrugs harddrugs handelshoeveelheid opiumwet 13b\") AND (body any \"sluiting herstelsanctie bestuursdwang\"))'%( \n",
        "        query_gemeente_names\n",
        "    )\n",
        "\n",
        "    ## search and fetch only first page, just so that num_records is filled in to report\n",
        "    cvdr = wetsuite.datacollect.koop_repositories.CVDR()\n",
        "    cvdr.search_retrieve( query ) \n",
        "    print( \"\\n == %3d  hits for   %s == \"%(cvdr.num_records(), ' / '.join(gemeente_dict['Namen'])) )\n",
        "\n",
        "    ## search and fetch all, summarizing each record as we go  (callback style instead)\n",
        "    def show_brief( record ): \n",
        "        meta = wetsuite.datacollect.koop_repositories.cvdr_meta( record, flatten=True )\n",
        "        uit = meta.get('uitwerkingtredingDatum', None)  # ignore things that are expired, because they were probably replaced by something else also in the results  (side note: the expiry data doesn't look 100% correct)\n",
        "\n",
        "        # old policies are still in here, and we can reasonably assume that ones that expired will probably be replaced by another in the results, so we can just hide them. \n",
        "        # Yes, this can also be done in the query\n",
        "        if uit not in (None,'')  and  (dateutil.parser.parse(uit.split('+')[0]).date() < datetime.date.today()):  # TODO: push newer code that avoids the need for that + nonsense\n",
        "            pass\n",
        "        else:\n",
        "            print( \"  %15s  %10s..%-10s  %s\"%( meta.get('identifier'), meta.get('inwerkingtredingDatum'),  meta.get('uitwerkingtredingDatum',''),  meta.get('title')) )\n",
        "            #print('    URL: %s'%meta.get('publicatieurl_xml') )     # 'publicatieurl_xml' points to text in structured XML.  There is also 'publicatieurl_xhtml' (more browser-presentable),  and 'preferred_url' (a link to the page that lokaleregelgeving.overheid.nl would also send you to)\n",
        "            \n",
        "            if False: # If you wanted to extract the text, this would be a (very crude) start:\n",
        "              xml_data = wetsuite.helpers.net.download( meta.get('publicatieurl_xml') )\n",
        "              tree = etree.strip_namespace( etree.fromstring( xml_data ) )\n",
        "              for al in tree.find('body/regeling/regeling-tekst').getiterator('al'):\n",
        "                  print(  ''.join( etree.all_text_fragments(al) )  )\n",
        "\n",
        "    cvdr.search_retrieve_many( query, callback=show_brief ) # all results, and show brief summary, mainly just titles"
      ],
      "metadata": {
        "colab": {
          "base_uri": "https://localhost:8080/"
        },
        "id": "DB6Ty3BOnWSd",
        "outputId": "71f39d2c-fec2-4230-b498-af5a98564e2a"
      },
      "execution_count": null,
      "outputs": [
        {
          "output_type": "stream",
          "name": "stdout",
          "text": [
            "\n",
            " ==  56  hits for   Den Haag / Gemeente Den Haag / 's-Gravenhage == \n",
            "     CVDR645629_1  2020-11-10..            Beleidsregel toezicht bedrijfsmatige activiteiten 2020\n",
            "     CVDR674619_1  2022-03-24..            Beleidsregel bestuurlijke boete, sluiting en beheerovername op grond van de Woningwet Den Haag 2022\n",
            "     CVDR690428_1  2023-01-01..            Beleidsregel beoordeling levensgedrag Den Haag 2023\n",
            "     CVDR11313_53  2022-12-01..            Algemene plaatselijke verordening voor de gemeente Den Haag\n",
            "\n",
            " ==  24  hits for   Den Helder / Gemeente Den Helder == \n",
            "     CVDR657606_1  2021-05-15..            Beleidsregel van de burgemeester van de gemeente Den Helder, houdende regels over sluiting van lokalen en woningen op grond van artikel 13b Opiumwet (Damoclesbeleid Den Helder 2021)\n",
            "     CVDR674768_1  2022-03-26..            Beleidsregels van de burgemeester van de gemeente Den Helder, houdende regels omtrent coffeeshops (Beleid coffeeshops Den Helder 2022)\n",
            "     CVDR627607_1  2019-09-20..            Besluit van de gemeenteraad van de gemeente Den Helder houdende regels omtrent vergunningverlening, toezicht en handhaving\n",
            "     CVDR670333_2  2022-03-25..            Besluit van de raad van de gemeente Den Helder tot vaststelling van de Algemene plaatselijke verordening Den Helder 2021 (Algemene plaatselijke verordening Den Helder 2021)\n",
            "     CVDR655148_1  2021-03-13..            Beleidsregels van het college van burgemeester en wethouders van de gemeente Den Helder, houdende regels over bijstandsverlening aan zelfstandigen (Beleidsregels Bijstandsverlening zelfstandigen (Bbz 2004) gemeente Den Helder)\n",
            "     CVDR657181_1  2021-05-01..            Beleidsregel van het college van burgemeester en wethouders van de gemeente Den Helder houdende regels omtrent de procedures, voorschriften en afspraken rond evenementenvergunningen\n",
            "\n",
            " ==  13  hits for   Deurne / Gemeente Deurne == \n",
            "     CVDR665664_1  2021-12-04..            Beleidsregel handhavingsprotocol Opiumwet 13b Deurne 2021\n",
            "     CVDR490139_4  2021-12-30..            Algemene Plaatselijke Verordening Deurne 2018\n",
            "     CVDR640681_4  2022-11-18..            Algemene mandaatregeling Deurne 2020\n",
            "\n",
            " ==  15  hits for   Deventer / Gemeente Deventer == \n",
            "      CVDR19959_1  2009-11-04..            Beleidsregels handhavingsprotocol art. 13b Opiumwet\n",
            "     CVDR375267_1  2015-08-22..            Gedoog- en handhavingsarrangement artikel 13b Opiumwet\n",
            "     CVDR665128_3  2022-12-03..            Algemene plaatselijke verordening Deventer\n",
            "     CVDR640609_1  2020-05-28..            Beleidsregel van de burgemeester van de gemeente Deventer houdende regels omtrent aanpak woonoverlast gemeente Deventer\n",
            "\n",
            " ==  21  hits for   Diemen / Gemeente Diemen == \n",
            "     CVDR449569_1  2017-04-05..            Geüniformeerd bestuursrechtelijk handhavingsbeleid met betrekking tot overtredingen van de Opiumwet (Sluitings- en heropeningsbeleid)\n",
            "     CVDR483831_5  2022-03-01..            Algemene Plaatselijke Verordening Diemen 2015\n",
            "     CVDR684528_1  2022-11-26..            Uitvoeringsplan vergunningverlening, toezicht en handhaving omgevingsrecht en openbare orde & veiligheid gemeente Diemen 2021\n",
            "     CVDR684216_1  2022-11-24..            Meerjarenbeleidsplan integrale veiligheid 2019-2022\n",
            "     CVDR486018_1  2018-03-15..            Beleidsregel Wet aanpak woonoverlast gemeente Diemen\n",
            "     CVDR487010_1  2018-04-13..            Uitvoeringsplan vergunningverlening, toezicht en handhaving omgevingsrecht gemeente Diemen 2018\n",
            "     CVDR626625_1  2019-07-26..            Integraal vergunningverlenings-, toezichts- en handhavingsbeleid gemeente Diemen 2019-2022\n",
            "     CVDR672622_1  2022-02-10..            Bevoegdhedenregeling gemeente Diemen April 2021\n",
            "     CVDR438689_1  2017-01-01..            Integraal VTH beleid gemeente Diemen 2017 en 2018\n"
          ]
        }
      ]
    },
    {
      "cell_type": "markdown",
      "source": [
        "Always think when you are trusting automation blindly.\n",
        "In this case, consider:\n",
        "- the above search doesn't have a good hit for Den Haag. \n",
        "  - They do actually have a policy, but [on their website](https://denhaag.raadsinformatie.nl/modules/13/Overige_bestuurlijke_stukken/113642) rather than in in CVDR. There are other cases like this, which you will probably only really find out by hand.\n",
        "\n",
        "- [CVDR19959/1](https://lokaleregelgeving.overheid.nl/CVDR19959/1) and [CVDR375267/1](https://lokaleregelgeving.overheid.nl/CVDR375267/1) look to me like the same thing, for Deventer, and both mention they are current. \n",
        "  - I can't tell offhand whether that's right, or they e.g. forgot to mark the older one as ended when the newer one was introduced. There are a handful more cases like these, so it might instead have some practical/legal reason I am not aware of.\n",
        "\n",
        "- Municipality mergers means names change over time, e.g. `Kollumerland en Nieuwkruisland` (a.k.a. `Kollumerland ca.`), `Dongeradeel`, en `Ferwerderadeel` are now `Noardeast-Fryslân`.\n",
        "  - Presumably they don't re-issue all policy on that day, which probably means most active policy is still under the old name? TODO: actually look into that\n",
        "\n",
        "- There is a `Bergen` in Noord Holland and a `Bergen` in limburg. \n",
        "  - In [this government list](https://organisaties.overheid.nl/export/Gemeenten.csv) they are called `Bergen (L)` and `Bergen NH` but it seems a poor idea to assume that is precisely how they always appear. Assume searches by name will mix the two, for you to resolve manually (it would be nice if we could search by gemeentecode/organisatiecode, here gm0893 and gm0373 respectively).\n",
        "\n",
        "- Municipality naming converntions may throw you off. Consider e.g.:\n",
        "  - `Den Haag` is also known as `'s-Gravenhage`, `Den Bosch` also as `'s-Hertogenbosch`\n",
        "  - abbreviations, e.g. `Nuenen, Gerwen en Nederwetten` may appear as `Neunen c.a.` - and I wouldn't rule out just `Neunen`\n",
        "  - somewhat less officially, Frisian towns should be assumed to have two equivalent names. It varies whether that's subtle (`Dantumadeel` versus `Dantumadiel`) or less so (`Leeuwarden` versus `Ljouwert`)"
      ],
      "metadata": {
        "id": "ZFZ7kfyqeqC6"
      }
    },
    {
      "cell_type": "markdown",
      "source": [
        "### Some other searches"
      ],
      "metadata": {
        "id": "_rEw9Jb_hBx7"
      }
    },
    {
      "cell_type": "markdown",
      "source": [
        "Another sort of search that may be interesting: \n",
        "All changes in the last week\n"
      ],
      "metadata": {
        "id": "cRVnaP8xf3G2"
      }
    },
    {
      "cell_type": "code",
      "source": [
        "import wetsuite.helpers.etree\n",
        "one_week_ago = datetime.date.today() - datetime.timedelta(days=7) # python date/datetime objects let you do that\n",
        "\n",
        "records = sru_cvdr.search_retrieve_many( 'dcterms.modified > %s'%( one_week_ago.strftime('%Y-%m-%d') ), # date as text, yyyy-mm-dd style \n",
        "                                         up_to=20  )\n",
        "for record in records:\n",
        "    #print( wetsuite.helpers.etree.tostring(record).decode('u8') )\n",
        "    meta = wetsuite.datacollect.koop_repositories.cvdr_meta( record, flatten=True )\n",
        "    # you can argue over whether for date you want 'modified', 'issued', 'inwerkingtredingDatum', and maybe show 'terugwerkendekrachtDatum'\n",
        "    print( \"  %15s  %10s  %s\"%( meta.get('identifier'), meta.get('modified'),  meta.get('title','') ) )\n",
        "\n",
        "if len(records) < sru_cvdr.num_records():\n",
        "    print(\"NOTE: there were %d matching items, we fetched only %d\"%(sru_cvdr.num_records(), len(records)))"
      ],
      "metadata": {
        "colab": {
          "base_uri": "https://localhost:8080/"
        },
        "id": "se3AE3iJf3NF",
        "outputId": "9395124c-7efc-4991-db60-ce1f913e2696"
      },
      "execution_count": null,
      "outputs": [
        {
          "output_type": "stream",
          "name": "stdout",
          "text": [
            "     CVDR172769_3  2023-07-01  Bouwverordening Enschede 2012\n",
            "     CVDR213613_4  2024-01-01  Algemeen delegatiebesluit\n",
            "     CVDR29742_10  2023-03-02  Mandaatbesluit\n",
            "    CVDR321083_24  2023-03-02  Algemene plaatselijke verordening 2014 (APV)\n",
            "     CVDR327625_3  2023-03-01  Nadere regels terrassen gemeente Kampen  2014\n",
            "    CVDR328752_24  2023-02-28  Mandaat- en volmachtbesluit Schiedam 2013\n",
            "     CVDR330127_2  2023-02-23  Verordening commissie bezwaarschriften gemeente Raalte\n",
            "    CVDR333496_11  2023-02-25  ALGEMENE PLAATSELIJKE VERORDENING GEMEENTE KATWIJK 2014\n",
            "     CVDR358128_5  2023-03-29  Reglement van orde voor de vergaderingen en andere werkzaamheden van Provinciale Staten en Statencommissies van Noord-Holland 2015\n",
            "     CVDR358128_6  2023-04-01  Reglement van orde voor de vergaderingen en andere werkzaamheden van Provinciale Staten en Statencommissies van Noord-Holland 2015\n",
            "     CVDR363771_5  2023-03-23  Reglement van Bestuur voor het Hoogheemraadschap van Delfland\n",
            "     CVDR363809_7  2023-03-23  Reglement van bestuur voor het waterschap Hollandse Delta\n",
            "     CVDR363819_5  2023-03-23  Reglement van bestuur voor het Hoogheemraadschap van Schieland en de Krimpenerwaard\n",
            "     CVDR364458_5  2023-03-23  Reglement van bestuur voor het Hoogheemraadschap van Rijnland\n",
            "     CVDR369200_2  2023-02-28  Deelverordening behorende bij de Algemene Subsidieverordening 2015\n",
            "     CVDR376306_2  2023-07-01  Algemeen delegatiebesluit Vlissingen 2015\n",
            "     CVDR452007_6  2023-02-28  Beleidsregels sociaal domein gemeente Uitgeest 2017\n",
            "     CVDR452239_5  2023-02-28  Beleidsregels sociaal domein gemeente Bergen 2017\n",
            "     CVDR458640_5  2023-02-28  Beleidsregels sociaal domein gemeente Castricum 2017\n",
            "     CVDR458957_5  2023-02-28  Beleidsregels sociaal domein gemeente Heiloo 2017\n",
            "NOTE: there were 678 matching items, we fetched only 20\n"
          ]
        }
      ]
    },
    {
      "cell_type": "markdown",
      "source": [
        "## Other related code"
      ],
      "metadata": {
        "id": "ByJtV7w9e8JJ"
      }
    },
    {
      "cell_type": "code",
      "source": [
        "# there are a bunch of helper functions to help you deal with search results (e.g. parsing metadata and identifiers) \n",
        "# ...and to some degree the documents.  One or two are used above.    \n",
        "# TODO: document, explain, demonstrate more\n",
        "\n",
        "# there are also some more specific tools, like:\n",
        "\n",
        "# \"given a CVDR work id (or specific expression ID implying the work), find all knovn expression IDs for that work ID\"\n",
        "wetsuite.datacollect.koop_repositories.cvdr_versions_for_work( 'CVDR165982' ) # will also accept expression IDs, e.g. CVDR165982_1, treats it as its work ID.\n"
      ],
      "metadata": {
        "id": "XpkzF3DWe9Pn",
        "colab": {
          "base_uri": "https://localhost:8080/"
        },
        "outputId": "429c5ab7-ae87-4517-99ba-2cdc887b7643"
      },
      "execution_count": null,
      "outputs": [
        {
          "output_type": "stream",
          "name": "stdout",
          "text": [
            "HIT 'CVDR165982' -> ['CVDR165982_1', 'CVDR165982_2']\n"
          ]
        },
        {
          "output_type": "execute_result",
          "data": {
            "text/plain": [
              "['CVDR165982_1', 'CVDR165982_2']"
            ]
          },
          "metadata": {},
          "execution_count": 26
        }
      ]
    },
    {
      "cell_type": "markdown",
      "source": [
        "# Officiele publicaties\n",
        "\n",
        "There is some more technical detail in https://www.koopoverheid.nl/binaries/koop/documenten/instructies/2021/02/09/handleiding-voor-het-uitvragen-van-de-collectie-officiele-publicaties/Handleiding+SRU2.0+v1.2+28052021.pdf also touches on details"
      ],
      "metadata": {
        "id": "iwEgTt93fRU5"
      }
    },
    {
      "cell_type": "code",
      "source": [],
      "metadata": {
        "id": "ng0I9JQHRwO-"
      },
      "execution_count": null,
      "outputs": []
    }
  ]
}