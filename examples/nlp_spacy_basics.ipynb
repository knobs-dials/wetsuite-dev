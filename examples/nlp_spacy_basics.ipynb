{
  "cells": [
    {
      "cell_type": "markdown",
      "metadata": {
        "id": "view-in-github",
        "colab_type": "text"
      },
      "source": [
        "<a href=\"https://colab.research.google.com/github/scarfboy/wetsuite-dev/blob/main/examples/nlp_spacy_basics.ipynb\" target=\"_parent\"><img src=\"https://colab.research.google.com/assets/colab-badge.svg\" alt=\"Open In Colab\"/></a>"
      ]
    },
    {
      "cell_type": "markdown",
      "metadata": {
        "id": "3NCj8rkQMsdx"
      },
      "source": [
        "## Intro to spacy\n",
        "This is a crash-course introduction to the NLP functionality in spacy, \n",
        "for people seeing spacy code in this project, who have not used it before.\n",
        "\n",
        "Note this focuses largely on lower level, more mechanical uses."
      ]
    },
    {
      "cell_type": "markdown",
      "metadata": {
        "id": "qKsX4tkxMsd0"
      },
      "source": [
        "## Installing, Importing, Loading\n",
        "\n",
        "initial load of spacy can take a while.  It's one reason notebooks are useful for exploration, as this will stay loaded in the background\n",
        "\n",
        "It is also likely to spit out a lot of warnings, which you can ignore (and could suppress)"
      ]
    },
    {
      "cell_type": "code",
      "execution_count": null,
      "metadata": {
        "id": "KnJ0ICGoMsd1"
      },
      "outputs": [],
      "source": [
        "# ON YOUR OWN COMPUTER(S) you need to install only once, and may well care about GPU setup for performance reasons.\n",
        "# ON GOOGLE COLAB you get a fresh environment you need to set up each time, and for some quick tests it's often easier to not bother with GPU - so the below doesn't.\n",
        "\n",
        "# you can run most of the below with a standard spacy install (pip3 install -U spacy) but we use a few helpers\n",
        "!pip --quiet install https://github.com/scarfboy/wetsuite-dev/archive/refs/heads/main.zip\n",
        "\n",
        "# also, download models you may use\n",
        "!python3 -m spacy download en_core_web_lg    # reasonable on CPU\n",
        "!python3 -m spacy download en_core_web_trf   # works better, but can be rather slow without GPU set up"
      ]
    },
    {
      "cell_type": "code",
      "execution_count": null,
      "metadata": {
        "id": "EUJ1XGlDMseC"
      },
      "outputs": [],
      "source": [
        "import spacy\n",
        "import spacy.displacy\n",
        "import wetsuite.helpers.spacy    # some helpers of our own, barely used here."
      ]
    },
    {
      "cell_type": "code",
      "execution_count": 4,
      "metadata": {
        "colab": {
          "base_uri": "https://localhost:8080/"
        },
        "id": "k1JuforaMseP",
        "outputId": "1cde349d-59c2-41eb-ada7-53925225c6a6"
      },
      "outputs": [
        {
          "output_type": "stream",
          "name": "stdout",
          "text": [
            "==== tok2vec ====\n",
            "Apply a \"token-to-vector\" model and set its outputs in the doc.tensor\n",
            "    attribute. This is mostly useful to share a single subnetwork between multiple\n",
            "    components, e.g. to have one embedding and CNN network shared between a\n",
            "    parser, tagger and NER.\n",
            "\n",
            "    In order to use the `Tok2Vec` predictions, subsequent components should use\n",
            "    the `Tok2VecListener` layer as the tok2vec subnetwork of their model. This\n",
            "    layer will read data from the `doc.tensor` attribute during prediction.\n",
            "    During training, the `Tok2Vec` component will save its prediction and backprop\n",
            "    callback for each batch, so that the subsequent components can backpropagate\n",
            "    to the shared weights. This implementation is used because it allows us to\n",
            "    avoid relying on object identity within the models to achieve the parameter\n",
            "    sharing.\n",
            "    \n",
            "\n",
            "==== tagger ====\n",
            "Pipeline component for part-of-speech tagging.\n",
            "\n",
            "    DOCS: https://spacy.io/api/tagger\n",
            "    \n",
            "\n",
            "==== parser ====\n",
            "DependencyParser(vocab, model, name='parser', moves=None, update_with_oracle_cut_size=100, *, min_action_freq=30, learn_tokens=False, beam_width=1, beam_density=0.0, beam_update_prob=0.0, multitasks=tuple(), incorrect_spans_key=None, scorer=parser_score)\n",
            "Pipeline component for dependency parsing.\n",
            "\n",
            "    DOCS: https://spacy.io/api/dependencyparser\n",
            "    \n",
            "\n",
            "==== attribute_ruler ====\n",
            "Set token-level attributes for tokens matched by Matcher patterns.\n",
            "    Additionally supports importing patterns from tag maps and morph rules.\n",
            "\n",
            "    DOCS: https://spacy.io/api/attributeruler\n",
            "    \n",
            "\n",
            "==== lemmatizer ====\n",
            "English lemmatizer. Only overrides is_base_form.\n",
            "\n",
            "==== ner ====\n",
            "EntityRecognizer(vocab, model, name='ner', moves=None, update_with_oracle_cut_size=100, *, beam_width=1, beam_density=0.0, beam_update_prob=0.0, multitasks=tuple(), incorrect_spans_key=None, scorer=ner_score)\n",
            "Pipeline component for named entity recognition.\n",
            "\n",
            "    DOCS: https://spacy.io/api/entityrecognizer\n",
            "    \n",
            "\n"
          ]
        }
      ],
      "source": [
        "# load models to use\n",
        "english_lg = spacy.load('en_core_web_lg')   \n",
        "english_trf = spacy.load('en_core_web_trf')\n",
        "# Tutorials often call the loaded model object 'nlp'.  This uses more describive names because we use more than one.\n",
        "\n",
        "\n",
        "# what components are in this model's pipeline - what does it calculate and annotate?\n",
        "for pipe_name in english_lg.pipe_names:\n",
        "    print( '==== %s ====\\n%s\\n'%(pipe_name, english_lg.get_pipe(pipe_name).__doc__) )"
      ]
    },
    {
      "cell_type": "markdown",
      "metadata": {
        "id": "8dnONe0XMseT"
      },
      "source": [
        "## Inspection of a parse"
      ]
    },
    {
      "cell_type": "code",
      "execution_count": null,
      "metadata": {
        "colab": {
          "base_uri": "https://localhost:8080/"
        },
        "id": "0vfiotnDMseW",
        "outputId": "601b8d7a-44bf-4d66-e99a-29caf5aa98bb"
      },
      "outputs": [
        {
          "output_type": "stream",
          "name": "stdout",
          "text": [
            "TOKENS\n",
            "  Machine/NOUN  learning/NOUN  can/AUX  be/AUX  easy/ADJ  ./PUNCT  Deep/PROPN  Learning/PROPN  is/AUX  n't/PART  straightforward/ADJ  ./PUNCT  Ducks/NOUN  are/AUX  nice/ADJ  ./PUNCT  Cats/NOUN  and/CCONJ  dogs/NOUN  are/AUX  cute/ADJ  ./PUNCT  Neural/ADJ  nets/NOUN  are/AUX  useful/ADJ  ./PUNCT  Long/PROPN  Cat/PROPN  looks/VERB  like/ADP  a/DET  name/NOUN  ./PUNCT\n",
            "\n",
            "SENTENCES\n",
            "  Machine learning can be easy.\n",
            "  Deep Learning isn't straightforward.\n",
            "  Ducks are nice.\n",
            "  Cats and dogs are cute.\n",
            "  Neural nets are useful.\n",
            "  Long Cat looks like a name.\n"
          ]
        }
      ],
      "source": [
        "# Calling a model object with some text produces a Doc object, the analysis of that text.\n",
        "statements_txt = \"Machine learning can be easy. Deep Learning isn't straightforward. Ducks are nice. Cats and dogs are cute. Neural nets are useful. Long Cat looks like a name.\"\n",
        "statements_doc = english_trf( statements_txt )\n",
        "\n",
        "# Iterating that object gives you a series of Token objects.\n",
        "print(\"TOKENS\")\n",
        "for tok in statements_doc: \n",
        "    print( '  %s/%s'%(tok.text,  tok.pos_),  end='' )  # print token text, and its part of speech tag\n",
        "\n",
        "\n",
        "# Pipeline components usually annotate their results onto Doc and/or the Token objects - more on that below.\n",
        "# \n",
        "# One example of data annotated on the doc is the sentence splitting that various models do  (often in the parser components)\n",
        "# The sents attribute gives you a sequence of Span objects, each of which is a sequences of tokens from the document these Spans belong to\n",
        "print(\"\\n\\nSENTENCES\")\n",
        "for sent in statements_doc.sents:  # https://spacy.io/api/doc#sents\n",
        "    print( '  %s'%sent.text )\n",
        "    #for tok in sent: \n",
        "    #    print( '  %s/%s'%(tok.text,  tok.pos_), end='' )"
      ]
    },
    {
      "cell_type": "code",
      "execution_count": null,
      "metadata": {
        "colab": {
          "base_uri": "https://localhost:8080/"
        },
        "id": "Es-Py76oMsea",
        "outputId": "a2b0a24f-f78d-4b19-bcfd-264a6e59c60f"
      },
      "outputs": [
        {
          "output_type": "stream",
          "name": "stdout",
          "text": [
            "\n",
            "NOUN CHUNKS\n",
            "    Machine learning       head=learning          head.dep_=nsubj\n",
            "    Deep Learning          head=Learning          head.dep_=nsubj\n",
            "    Ducks                  head=Ducks             head.dep_=nsubj\n",
            "    Cats                   head=Cats              head.dep_=nsubj\n",
            "    dogs                   head=dogs              head.dep_=conj\n",
            "    Neural nets            head=nets              head.dep_=nsubj\n",
            "    Long Cat               head=Cat               head.dep_=nsubj\n",
            "    a name                 head=name              head.dep_=pobj\n",
            "\n",
            "NAMED ENTITIES\n",
            "    Deep Learning          label=WORK_OF_ART   head=Learning          head.dep_=nsubj\n",
            "    Long Cat               label=ORG          head=Cat               head.dep_=nsubj\n"
          ]
        }
      ],
      "source": [
        "# Various models try to find sequences of nouns that seem to belong together (somewhat like noun phrases, but that is not exactly the goal).\n",
        "print(\"\\nNOUN CHUNKS\")    # https://spacy.io/api/doc#noun_chunks\n",
        "for nc in statements_doc.noun_chunks:\n",
        "    print( '    %-20s   head=%-15s   head.dep_=%s'%(nc.text, nc.root.text, nc.root.dep_))\n",
        "\n",
        "\n",
        "# There is also a more directed approeach to extracting named entities. \n",
        "#  Note that this may give somewhat messy and/or incomplete results.\n",
        "print(\"\\nNAMED ENTITIES\") # https://spacy.io/api/doc#ents\n",
        "for ent in english_lg( statements_txt ).ents:  # using the other model because _trf doesn't find any.\n",
        "    print( '    %-20s   label=%-10s   head=%-15s   head.dep_=%s'%(ent.text, ent.label_, ent.root.text, ent.root.dep_))"
      ]
    },
    {
      "cell_type": "code",
      "execution_count": null,
      "metadata": {
        "colab": {
          "base_uri": "https://localhost:8080/"
        },
        "id": "8Apfg25JMseb",
        "outputId": "c416cdc1-9e60-4e91-d480-4188a7658030"
      },
      "outputs": [
        {
          "output_type": "stream",
          "name": "stdout",
          "text": [
            "           TEXT           LEMMA      NORMALIZED        POS        TAG      STOP?   UNKNOWN?        EXPL(POS)  EXPL(TAG)\n",
            "              I               I               i       PRON        PRP       True       True          pronoun  pronoun, personal\n",
            "             do              do              do        AUX        VBP       True       True        auxiliary  verb, non-3rd person singular present\n",
            "            n't             not             not       PART         RB       True       True         particle  adverb\n",
            "          think           think           think       VERB         VB      False       True             verb  verb, base form\n",
            "           this            this            this       PRON         DT       True       True          pronoun  determiner\n",
            "            was              be             was        AUX        VBD       True       True        auxiliary  verb, past tense\n",
            "        complex         complex         complex        ADJ         JJ      False       True        adjective  adjective (English), other noun-modifier (Chinese)\n",
            "              .               .               .      PUNCT          .      False       True      punctuation  punctuation mark, sentence closer\n"
          ]
        }
      ],
      "source": [
        "# pipelines add further attributes to tokens, which including but not limited to\n",
        "# - (there's .orth_ but it seems to be an implementation detail, and practically equivalent to .text)\n",
        "# - .lemma: lemmatized form of a token\n",
        "# - .norm:  normalized form of a token  (seems to mostly resolve contractions, though is often largely the same as lemmatizer output)\n",
        "# - .pos_:  coarse tagging  (often following wider conventions)\n",
        "# - .tag:   finer taggging  (more easily model/language specific)\n",
        "\n",
        "fields = '%15s %15s %15s %10s %10s %10s %10s  %15s  %s' # (for aligned printing)\n",
        "head = ('TEXT', 'LEMMA', 'NORMALIZED', 'POS', 'TAG', 'STOP?', 'UNKNOWN?', 'EXPL(POS)', 'EXPL(TAG)')   # unknown as in 'out of vocabulary'\n",
        "print( fields % head )\n",
        "complicated = english_trf( \"I don't think this was complex.\")\n",
        "for tok in complicated:\n",
        "    print( fields%(tok.text, tok.lemma_, tok.norm_, tok.pos_, tok.tag_, tok.is_stop, tok.is_oov, spacy.explain(tok.pos_), spacy.explain(tok.tag_) ) )\n",
        "\n",
        "# Notes:\n",
        "# - for certain models, is_oov will always be True.  Don't rely on it until you understand why.\n",
        "# - if your'e not sure about the tagset details, you can ask spacy via explain(), like above\n",
        "# - things you may want to know exists, even if you do not use them often, include:\n",
        "#   - .is_sent_start, .is_bracket, .is_quote, is_left_punct, is_punct, is_upper;  like_url, like_email,  and a few more\n",
        "#   - the ability to fetch the original whitespace  (this example uses .text which ignores that,  while .text_with_ws is basically .text+.whitespace_ )\n",
        "# - if you're wondering: those underscores are the human-readable variants, \n",
        "#   and there will also be an attribute without the underscore that stores a number, which is a more compact, internal reference"
      ]
    },
    {
      "cell_type": "code",
      "execution_count": null,
      "metadata": {
        "colab": {
          "base_uri": "https://localhost:8080/"
        },
        "id": "BWSce9RJMsed",
        "outputId": "119aa0b9-81d5-4dae-873d-7cdd5670857a"
      },
      "outputs": [
        {
          "output_type": "stream",
          "name": "stdout",
          "text": [
            "      John   <----noun phrase as adverbial modifier--   gave \n",
            "         ,   <--------------------------punctuation--   gave \n",
            "         I   <----------------------nominal subject--   gave \n",
            "      gave   <---------------------------------root--   gave \n",
            "       the   <---------------------------determiner--   bean \n",
            "      bean   <------------------------direct object--   gave \n",
            "        to   <---------------prepositional modifier--   gave \n",
            "     Alice   <------------------possession modifier--   sister \n",
            "        's   <-------------------------case marking--   Alice \n",
            "    sister   <----------------object of preposition--   to \n"
          ]
        }
      ],
      "source": [
        "# Models also detail certain dependencies/relations between tokens. \n",
        "# On each token,  .head is the source of that relation, .dep_ is its type \n",
        "# Yes, this is a somewhat unusual way of representing and storing these.\n",
        "bean = english_trf( \"John, I gave the bean to Alice's sister\" )\n",
        "for tok in bean:\n",
        "   print( '%10s   <--%s--   %s '%(tok.text,  spacy.explain(tok.dep_).rjust(35, '-'), tok.head) )\n",
        "# This one may become clearer once you see this visualized of these - scroll down to the visualisations"
      ]
    },
    {
      "cell_type": "code",
      "execution_count": null,
      "metadata": {
        "colab": {
          "base_uri": "https://localhost:8080/"
        },
        "id": "uNHKfqtEMsef",
        "outputId": "ad33a1af-4e8a-45bf-bb5a-e4252d8a0e03"
      },
      "outputs": [
        {
          "output_type": "stream",
          "name": "stdout",
          "text": [
            "SUBJECT = learning           for sentence Machine learning can be easy.\n",
            "SUBJECT = Learning           for sentence Deep Learning isn't straightforward.\n",
            "SUBJECT = Ducks              for sentence Ducks are nice.\n",
            "SUBJECT = Cats               for sentence Cats and dogs are cute.\n",
            "SUBJECT = nets               for sentence Neural nets are useful.\n",
            "SUBJECT = Cat                for sentence Long Cat looks like a name.\n",
            "OBJECT  = name               for sentence Long Cat looks like a name.\n",
            "\n",
            "NOUN CHUNK 'Machine learning'     head=learning          has relation nsubj\n",
            "NOUN CHUNK 'Deep Learning'        head=Learning          has relation nsubj\n",
            "NOUN CHUNK 'Ducks'                head=Ducks             has relation nsubj\n",
            "NOUN CHUNK 'Cats'                 head=Cats              has relation nsubj\n",
            "NOUN CHUNK 'Neural nets'          head=nets              has relation nsubj\n",
            "NOUN CHUNK 'Long Cat'             head=Cat               has relation nsubj\n",
            "NOUN CHUNK 'a name'               head=name              has relation pobj\n"
          ]
        }
      ],
      "source": [
        "# Dependencies e.g. make it easier to do things like extracting a sentence's subjects and objects. \n",
        "#   If you do this, please give it some weird and complex sentences too, to realize what it does when subjects and objects are implicit, missing, or when there is more than one.\n",
        "for sent_i, sent in enumerate( statements_doc.sents ):\n",
        "    for tok in sent:\n",
        "        if tok.dep_ == 'nsubj':\n",
        "            print( \"SUBJECT = %-15s    for sentence %r\"%(tok.text, sent) )\n",
        "        if tok.dep_ == 'pobj':\n",
        "            print( \"OBJECT  = %-15s    for sentence %r\"%(tok.text, sent) )       \n",
        "\n",
        "# In various cases you may care to figure out whether that token marked as subjects and objects (or other) is part of a larger thing, like a named entity or noun chunk.\n",
        "# This may be easier to check the other way around: for each noun chunk or entity, see if its head/root has the relation you're interested in:\n",
        "print()\n",
        "for nc in statements_doc.noun_chunks:\n",
        "    if nc.root.dep_ in ('nsubj','pobj'):\n",
        "        print( 'NOUN CHUNK %-20r   head=%-15s   has relation %s'%(nc.text, nc.root.text, nc.root.dep_))"
      ]
    },
    {
      "cell_type": "code",
      "execution_count": null,
      "metadata": {
        "colab": {
          "base_uri": "https://localhost:8080/"
        },
        "id": "oVm4r0uZMseh",
        "outputId": "afacd0f3-8a7e-4f05-d040-1ff32565a043"
      },
      "outputs": [
        {
          "output_type": "stream",
          "name": "stdout",
          "text": [
            "CONTENTFUL\n",
            "  Machine\n",
            "  learning\n",
            "  easy\n",
            "  Deep\n",
            "  Learning\n",
            "  straightforward\n",
            "  Ducks\n",
            "  nice\n",
            "  Cats\n",
            "  dogs\n",
            "  cute\n",
            "  Neural\n",
            "  nets\n",
            "  useful\n",
            "  Long\n",
            "  Cat\n",
            "  looks\n",
            "  like\n",
            "\n",
            "BORING\n",
            "  can\n",
            "  be\n",
            "  .\n",
            "  is\n",
            "  n't\n",
            "  .\n",
            "  are\n",
            "  .\n",
            "  and\n",
            "  are\n",
            "  .\n",
            "  are\n",
            "  .\n",
            "  a\n",
            "  name\n",
            "  .\n"
          ]
        }
      ],
      "source": [
        "# When looking to extract the more contentful words and ignore filler/function words, there are a few ways to go about it.\n",
        "\n",
        "# One quick and dirty way is \"give me all potentially useful tokens, ignore by annotation, mostly parts of speech\", like:\n",
        "interesting, boring, todo = [], [], []\n",
        "for tok in statements_doc:\n",
        "    if tok.is_stop:\n",
        "        boring.append( tok )\n",
        "    elif tok.pos_ in ('PUNCT','SPACE', 'X'):\n",
        "        boring.append( tok )\n",
        "    elif tok.pos_ in ('AUX','DET','CCONJ'): # auxiliary verbs, determiners, conjunctions are mostly just function words\n",
        "        boring.append( tok )\n",
        "    elif tok.pos_ in ('NOUN','PROPN','NUM'):  # nouns tend to be useful.   Numbers could be ignored; if they're dates, there is some chanced that they're picked up as entities\n",
        "        interesting.append( tok )\n",
        "    elif tok.pos_ in ('ADJ','VERB','ADP', 'ADV'): # adjectives, verbs, adverbs, adpositions - are often halfway useful\n",
        "        interesting.append( tok )\n",
        "    else: #  (debug: labels not yet in the above)\n",
        "        todo.append( '%s/%s'%(tok.text, tok.pos_) )\n",
        "\n",
        "print(\"CONTENTFUL\")\n",
        "for tok in interesting:\n",
        "    print( ' ', tok )\n",
        "\n",
        "print(\"\\nBORING\")\n",
        "for tok in boring:\n",
        "    print( '  %s'%tok.text)\n",
        "\n",
        "#print(\"\\nTODO\")\n",
        "#for tok in todo:\n",
        "#    print( '  ',tok )\n",
        "\n",
        "\n",
        "# TODO: figure out indication of how much meaning/consistency a word seems to code, via tok.prob or vectors -- and more importantly, how much that varies between model types"
      ]
    },
    {
      "cell_type": "markdown",
      "metadata": {
        "id": "5LxWqDJiMsei"
      },
      "source": [
        "## Visualisation\n",
        "spacy's own displacy is geared towards python notebooks.   You can also fish out representations for display elsewhere.\n",
        "-  style='ent' is for entities, shown with HTML blocks, and fine for longer texts\n",
        "-  style='dep' is for dependencies, shown as an SVG diagram, and generally unwieldy if showing more than one sentence at a time\n",
        "-  style='span' is for any spans (noun chunks, entities, others that you may add) which may overlap."
      ]
    },
    {
      "cell_type": "code",
      "execution_count": null,
      "metadata": {
        "colab": {
          "base_uri": "https://localhost:8080/"
        },
        "id": "3pY4yYc0Msej",
        "outputId": "cb194d64-ee82-4877-84f3-9f6d33cd510c"
      },
      "outputs": [
        {
          "output_type": "stream",
          "name": "stdout",
          "text": [
            "NAMED ENTITIES\n",
            "  Restoration                    label=EVENT    (Named hurricanes, battles, wars, sports events, etc. )    head=Restoration       head.dep_=pobj\n",
            "  Paris                          label=GPE      (Countries, cities, states                            )    head=Paris             head.dep_=pobj\n",
            "  the July Revolution            label=EVENT    (Named hurricanes, battles, wars, sports events, etc. )    head=Revolution        head.dep_=nsubj\n",
            "  1830                           label=DATE     (Absolute or relative dates or periods                )    head=1830              head.dep_=pobj\n",
            "  the July Column                label=FAC      (Buildings, airports, highways, bridges, etc.         )    head=Column            head.dep_=pobj\n",
            "  the Place de la Bastille       label=FAC      (Buildings, airports, highways, bridges, etc.         )    head=Bastille          head.dep_=pobj\n",
            "  Louis Philippe I               label=PERSON   (People, including fictional                          )    head=I                 head.dep_=appos\n",
            "  first                          label=ORDINAL  (\"first\", \"second\", etc.                              )    head=first             head.dep_=amod\n",
            "  Paris                          label=GPE      (Countries, cities, states                            )    head=Paris             head.dep_=pobj\n",
            "  1837                           label=DATE     (Absolute or relative dates or periods                )    head=1837              head.dep_=pobj\n",
            "  Louis-Philippe                 label=PERSON   (People, including fictional                          )    head=Philippe          head.dep_=nsubjpass\n",
            "  Paris                          label=GPE      (Countries, cities, states                            )    head=Paris             head.dep_=pobj\n",
            "  1848                           label=DATE     (Absolute or relative dates or periods                )    head=1848              head.dep_=pobj\n",
            "  Napoleon III                   label=PERSON   (People, including fictional                          )    head=III               head.dep_=appos\n",
            "  Seine                          label=LOC      (Non-GPE locations, mountain ranges, bodies of water  )    head=Seine             head.dep_=pobj\n",
            "  Georges-Eugène Haussmann       label=PERSON   (People, including fictional                          )    head=Haussmann         head.dep_=appos\n",
            "  the Bois de Boulogne           label=FAC      (Buildings, airports, highways, bridges, etc.         )    head=Boulogne          head.dep_=pobj\n",
            "  Bois de Vincennes              label=FAC      (Buildings, airports, highways, bridges, etc.         )    head=Vincennes         head.dep_=appos\n"
          ]
        }
      ],
      "source": [
        "paris_text = \"\"\"During the Restoration, the bridges and squares of Paris were returned to their pre-Revolution names; the July Revolution in 1830 \n",
        "(commemorated by the July Column on the Place de la Bastille) brought a constitutional monarch, Louis Philippe I, to power.\n",
        "The first railway line to Paris opened in 1837, beginning a new period of massive migration from the provinces to the city.\n",
        "Louis-Philippe was overthrown by a popular uprising in the streets of Paris in 1848. His successor, Napoleon III, \n",
        "alongside the newly appointed prefect of the Seine, Georges-Eugène Haussmann, launched a gigantic public works project to \n",
        "build wide new boulevards, a new opera house, a central market, new aqueducts, sewers and parks, including the Bois de Boulogne \n",
        "and Bois de Vincennes.\"\"\".replace('\\n',' ')\n",
        "paris_doc = english_trf( paris_text )\n",
        "\n",
        "print(\"NAMED ENTITIES\")\n",
        "for ent in paris_doc.ents:\n",
        "    print( '  %-28s   label=%-8s (%-53s)    head=%-15s   head.dep_=%s'%(ent.text, ent.label_, spacy.explain(ent.label_), ent.root.text, ent.root.dep_))"
      ]
    },
    {
      "cell_type": "code",
      "source": [
        "# Visualized in context of a sentence:\n",
        "spacy.displacy.render(paris_doc, style='ent', jupyter=True)    # Note: colab require explicit jupyter=True,  local notebooks do not."
      ],
      "metadata": {
        "colab": {
          "base_uri": "https://localhost:8080/",
          "height": 157
        },
        "id": "K2Yymf5KUas3",
        "outputId": "5cd648ec-045a-4e9a-e264-5f3083f90526"
      },
      "execution_count": null,
      "outputs": [
        {
          "output_type": "display_data",
          "data": {
            "text/plain": [
              "<IPython.core.display.HTML object>"
            ],
            "text/html": [
              "<span class=\"tex2jax_ignore\"><div class=\"entities\" style=\"line-height: 2.5; direction: ltr\">During the \n",
              "<mark class=\"entity\" style=\"background: #ffeb80; padding: 0.45em 0.6em; margin: 0 0.25em; line-height: 1; border-radius: 0.35em;\">\n",
              "    Restoration\n",
              "    <span style=\"font-size: 0.8em; font-weight: bold; line-height: 1; border-radius: 0.35em; vertical-align: middle; margin-left: 0.5rem\">EVENT</span>\n",
              "</mark>\n",
              ", the bridges and squares of \n",
              "<mark class=\"entity\" style=\"background: #feca74; padding: 0.45em 0.6em; margin: 0 0.25em; line-height: 1; border-radius: 0.35em;\">\n",
              "    Paris\n",
              "    <span style=\"font-size: 0.8em; font-weight: bold; line-height: 1; border-radius: 0.35em; vertical-align: middle; margin-left: 0.5rem\">GPE</span>\n",
              "</mark>\n",
              " were returned to their pre-Revolution names; \n",
              "<mark class=\"entity\" style=\"background: #ffeb80; padding: 0.45em 0.6em; margin: 0 0.25em; line-height: 1; border-radius: 0.35em;\">\n",
              "    the July Revolution\n",
              "    <span style=\"font-size: 0.8em; font-weight: bold; line-height: 1; border-radius: 0.35em; vertical-align: middle; margin-left: 0.5rem\">EVENT</span>\n",
              "</mark>\n",
              " in \n",
              "<mark class=\"entity\" style=\"background: #bfe1d9; padding: 0.45em 0.6em; margin: 0 0.25em; line-height: 1; border-radius: 0.35em;\">\n",
              "    1830\n",
              "    <span style=\"font-size: 0.8em; font-weight: bold; line-height: 1; border-radius: 0.35em; vertical-align: middle; margin-left: 0.5rem\">DATE</span>\n",
              "</mark>\n",
              "  (commemorated by \n",
              "<mark class=\"entity\" style=\"background: #9cc9cc; padding: 0.45em 0.6em; margin: 0 0.25em; line-height: 1; border-radius: 0.35em;\">\n",
              "    the July Column\n",
              "    <span style=\"font-size: 0.8em; font-weight: bold; line-height: 1; border-radius: 0.35em; vertical-align: middle; margin-left: 0.5rem\">FAC</span>\n",
              "</mark>\n",
              " on \n",
              "<mark class=\"entity\" style=\"background: #9cc9cc; padding: 0.45em 0.6em; margin: 0 0.25em; line-height: 1; border-radius: 0.35em;\">\n",
              "    the Place de la Bastille\n",
              "    <span style=\"font-size: 0.8em; font-weight: bold; line-height: 1; border-radius: 0.35em; vertical-align: middle; margin-left: 0.5rem\">FAC</span>\n",
              "</mark>\n",
              ") brought a constitutional monarch, \n",
              "<mark class=\"entity\" style=\"background: #aa9cfc; padding: 0.45em 0.6em; margin: 0 0.25em; line-height: 1; border-radius: 0.35em;\">\n",
              "    Louis Philippe I\n",
              "    <span style=\"font-size: 0.8em; font-weight: bold; line-height: 1; border-radius: 0.35em; vertical-align: middle; margin-left: 0.5rem\">PERSON</span>\n",
              "</mark>\n",
              ", to power. The \n",
              "<mark class=\"entity\" style=\"background: #e4e7d2; padding: 0.45em 0.6em; margin: 0 0.25em; line-height: 1; border-radius: 0.35em;\">\n",
              "    first\n",
              "    <span style=\"font-size: 0.8em; font-weight: bold; line-height: 1; border-radius: 0.35em; vertical-align: middle; margin-left: 0.5rem\">ORDINAL</span>\n",
              "</mark>\n",
              " railway line to \n",
              "<mark class=\"entity\" style=\"background: #feca74; padding: 0.45em 0.6em; margin: 0 0.25em; line-height: 1; border-radius: 0.35em;\">\n",
              "    Paris\n",
              "    <span style=\"font-size: 0.8em; font-weight: bold; line-height: 1; border-radius: 0.35em; vertical-align: middle; margin-left: 0.5rem\">GPE</span>\n",
              "</mark>\n",
              " opened in \n",
              "<mark class=\"entity\" style=\"background: #bfe1d9; padding: 0.45em 0.6em; margin: 0 0.25em; line-height: 1; border-radius: 0.35em;\">\n",
              "    1837\n",
              "    <span style=\"font-size: 0.8em; font-weight: bold; line-height: 1; border-radius: 0.35em; vertical-align: middle; margin-left: 0.5rem\">DATE</span>\n",
              "</mark>\n",
              ", beginning a new period of massive migration from the provinces to the city. \n",
              "<mark class=\"entity\" style=\"background: #aa9cfc; padding: 0.45em 0.6em; margin: 0 0.25em; line-height: 1; border-radius: 0.35em;\">\n",
              "    Louis-Philippe\n",
              "    <span style=\"font-size: 0.8em; font-weight: bold; line-height: 1; border-radius: 0.35em; vertical-align: middle; margin-left: 0.5rem\">PERSON</span>\n",
              "</mark>\n",
              " was overthrown by a popular uprising in the streets of \n",
              "<mark class=\"entity\" style=\"background: #feca74; padding: 0.45em 0.6em; margin: 0 0.25em; line-height: 1; border-radius: 0.35em;\">\n",
              "    Paris\n",
              "    <span style=\"font-size: 0.8em; font-weight: bold; line-height: 1; border-radius: 0.35em; vertical-align: middle; margin-left: 0.5rem\">GPE</span>\n",
              "</mark>\n",
              " in \n",
              "<mark class=\"entity\" style=\"background: #bfe1d9; padding: 0.45em 0.6em; margin: 0 0.25em; line-height: 1; border-radius: 0.35em;\">\n",
              "    1848\n",
              "    <span style=\"font-size: 0.8em; font-weight: bold; line-height: 1; border-radius: 0.35em; vertical-align: middle; margin-left: 0.5rem\">DATE</span>\n",
              "</mark>\n",
              ". His successor, \n",
              "<mark class=\"entity\" style=\"background: #aa9cfc; padding: 0.45em 0.6em; margin: 0 0.25em; line-height: 1; border-radius: 0.35em;\">\n",
              "    Napoleon III\n",
              "    <span style=\"font-size: 0.8em; font-weight: bold; line-height: 1; border-radius: 0.35em; vertical-align: middle; margin-left: 0.5rem\">PERSON</span>\n",
              "</mark>\n",
              ",  alongside the newly appointed prefect of the \n",
              "<mark class=\"entity\" style=\"background: #ff9561; padding: 0.45em 0.6em; margin: 0 0.25em; line-height: 1; border-radius: 0.35em;\">\n",
              "    Seine\n",
              "    <span style=\"font-size: 0.8em; font-weight: bold; line-height: 1; border-radius: 0.35em; vertical-align: middle; margin-left: 0.5rem\">LOC</span>\n",
              "</mark>\n",
              ", \n",
              "<mark class=\"entity\" style=\"background: #aa9cfc; padding: 0.45em 0.6em; margin: 0 0.25em; line-height: 1; border-radius: 0.35em;\">\n",
              "    Georges-Eugène Haussmann\n",
              "    <span style=\"font-size: 0.8em; font-weight: bold; line-height: 1; border-radius: 0.35em; vertical-align: middle; margin-left: 0.5rem\">PERSON</span>\n",
              "</mark>\n",
              ", launched a gigantic public works project to  build wide new boulevards, a new opera house, a central market, new aqueducts, sewers and parks, including \n",
              "<mark class=\"entity\" style=\"background: #9cc9cc; padding: 0.45em 0.6em; margin: 0 0.25em; line-height: 1; border-radius: 0.35em;\">\n",
              "    the Bois de Boulogne\n",
              "    <span style=\"font-size: 0.8em; font-weight: bold; line-height: 1; border-radius: 0.35em; vertical-align: middle; margin-left: 0.5rem\">FAC</span>\n",
              "</mark>\n",
              "  and \n",
              "<mark class=\"entity\" style=\"background: #9cc9cc; padding: 0.45em 0.6em; margin: 0 0.25em; line-height: 1; border-radius: 0.35em;\">\n",
              "    Bois de Vincennes\n",
              "    <span style=\"font-size: 0.8em; font-weight: bold; line-height: 1; border-radius: 0.35em; vertical-align: middle; margin-left: 0.5rem\">FAC</span>\n",
              "</mark>\n",
              ".</div></span>"
            ]
          },
          "metadata": {}
        }
      ]
    },
    {
      "cell_type": "code",
      "execution_count": null,
      "metadata": {
        "colab": {
          "base_uri": "https://localhost:8080/",
          "height": 528
        },
        "id": "xv9bFSs0Msek",
        "outputId": "757708bc-366b-4cc3-e0f3-4d0b5f26feef"
      },
      "outputs": [
        {
          "output_type": "display_data",
          "data": {
            "text/plain": [
              "<IPython.core.display.HTML object>"
            ],
            "text/html": [
              "<span class=\"tex2jax_ignore\"><svg xmlns=\"http://www.w3.org/2000/svg\" xmlns:xlink=\"http://www.w3.org/1999/xlink\" xml:lang=\"en\" id=\"0c01947ddb3f49259cfada9f0bac117c-0\" class=\"displacy\" width=\"3025\" height=\"487.0\" direction=\"ltr\" style=\"max-width: none; height: 487.0px; color: #000000; background: #ffffff; font-family: Arial; direction: ltr\">\n",
              "<text class=\"displacy-token\" fill=\"currentColor\" text-anchor=\"middle\" y=\"397.0\">\n",
              "    <tspan class=\"displacy-word\" fill=\"currentColor\" x=\"50\">Louis</tspan>\n",
              "    <tspan class=\"displacy-tag\" dy=\"2em\" fill=\"currentColor\" x=\"50\">PROPN</tspan>\n",
              "</text>\n",
              "\n",
              "<text class=\"displacy-token\" fill=\"currentColor\" text-anchor=\"middle\" y=\"397.0\">\n",
              "    <tspan class=\"displacy-word\" fill=\"currentColor\" x=\"225\">XVI</tspan>\n",
              "    <tspan class=\"displacy-tag\" dy=\"2em\" fill=\"currentColor\" x=\"225\">PROPN</tspan>\n",
              "</text>\n",
              "\n",
              "<text class=\"displacy-token\" fill=\"currentColor\" text-anchor=\"middle\" y=\"397.0\">\n",
              "    <tspan class=\"displacy-word\" fill=\"currentColor\" x=\"400\">and</tspan>\n",
              "    <tspan class=\"displacy-tag\" dy=\"2em\" fill=\"currentColor\" x=\"400\">CCONJ</tspan>\n",
              "</text>\n",
              "\n",
              "<text class=\"displacy-token\" fill=\"currentColor\" text-anchor=\"middle\" y=\"397.0\">\n",
              "    <tspan class=\"displacy-word\" fill=\"currentColor\" x=\"575\">the</tspan>\n",
              "    <tspan class=\"displacy-tag\" dy=\"2em\" fill=\"currentColor\" x=\"575\">DET</tspan>\n",
              "</text>\n",
              "\n",
              "<text class=\"displacy-token\" fill=\"currentColor\" text-anchor=\"middle\" y=\"397.0\">\n",
              "    <tspan class=\"displacy-word\" fill=\"currentColor\" x=\"750\">royal</tspan>\n",
              "    <tspan class=\"displacy-tag\" dy=\"2em\" fill=\"currentColor\" x=\"750\">ADJ</tspan>\n",
              "</text>\n",
              "\n",
              "<text class=\"displacy-token\" fill=\"currentColor\" text-anchor=\"middle\" y=\"397.0\">\n",
              "    <tspan class=\"displacy-word\" fill=\"currentColor\" x=\"925\">family</tspan>\n",
              "    <tspan class=\"displacy-tag\" dy=\"2em\" fill=\"currentColor\" x=\"925\">NOUN</tspan>\n",
              "</text>\n",
              "\n",
              "<text class=\"displacy-token\" fill=\"currentColor\" text-anchor=\"middle\" y=\"397.0\">\n",
              "    <tspan class=\"displacy-word\" fill=\"currentColor\" x=\"1100\">were</tspan>\n",
              "    <tspan class=\"displacy-tag\" dy=\"2em\" fill=\"currentColor\" x=\"1100\">AUX</tspan>\n",
              "</text>\n",
              "\n",
              "<text class=\"displacy-token\" fill=\"currentColor\" text-anchor=\"middle\" y=\"397.0\">\n",
              "    <tspan class=\"displacy-word\" fill=\"currentColor\" x=\"1275\">brought</tspan>\n",
              "    <tspan class=\"displacy-tag\" dy=\"2em\" fill=\"currentColor\" x=\"1275\">VERB</tspan>\n",
              "</text>\n",
              "\n",
              "<text class=\"displacy-token\" fill=\"currentColor\" text-anchor=\"middle\" y=\"397.0\">\n",
              "    <tspan class=\"displacy-word\" fill=\"currentColor\" x=\"1450\">to</tspan>\n",
              "    <tspan class=\"displacy-tag\" dy=\"2em\" fill=\"currentColor\" x=\"1450\">ADP</tspan>\n",
              "</text>\n",
              "\n",
              "<text class=\"displacy-token\" fill=\"currentColor\" text-anchor=\"middle\" y=\"397.0\">\n",
              "    <tspan class=\"displacy-word\" fill=\"currentColor\" x=\"1625\">Paris</tspan>\n",
              "    <tspan class=\"displacy-tag\" dy=\"2em\" fill=\"currentColor\" x=\"1625\">PROPN</tspan>\n",
              "</text>\n",
              "\n",
              "<text class=\"displacy-token\" fill=\"currentColor\" text-anchor=\"middle\" y=\"397.0\">\n",
              "    <tspan class=\"displacy-word\" fill=\"currentColor\" x=\"1800\">and</tspan>\n",
              "    <tspan class=\"displacy-tag\" dy=\"2em\" fill=\"currentColor\" x=\"1800\">CCONJ</tspan>\n",
              "</text>\n",
              "\n",
              "<text class=\"displacy-token\" fill=\"currentColor\" text-anchor=\"middle\" y=\"397.0\">\n",
              "    <tspan class=\"displacy-word\" fill=\"currentColor\" x=\"1975\">made</tspan>\n",
              "    <tspan class=\"displacy-tag\" dy=\"2em\" fill=\"currentColor\" x=\"1975\">VERB</tspan>\n",
              "</text>\n",
              "\n",
              "<text class=\"displacy-token\" fill=\"currentColor\" text-anchor=\"middle\" y=\"397.0\">\n",
              "    <tspan class=\"displacy-word\" fill=\"currentColor\" x=\"2150\">prisoners</tspan>\n",
              "    <tspan class=\"displacy-tag\" dy=\"2em\" fill=\"currentColor\" x=\"2150\">NOUN</tspan>\n",
              "</text>\n",
              "\n",
              "<text class=\"displacy-token\" fill=\"currentColor\" text-anchor=\"middle\" y=\"397.0\">\n",
              "    <tspan class=\"displacy-word\" fill=\"currentColor\" x=\"2325\">within</tspan>\n",
              "    <tspan class=\"displacy-tag\" dy=\"2em\" fill=\"currentColor\" x=\"2325\">ADP</tspan>\n",
              "</text>\n",
              "\n",
              "<text class=\"displacy-token\" fill=\"currentColor\" text-anchor=\"middle\" y=\"397.0\">\n",
              "    <tspan class=\"displacy-word\" fill=\"currentColor\" x=\"2500\">the</tspan>\n",
              "    <tspan class=\"displacy-tag\" dy=\"2em\" fill=\"currentColor\" x=\"2500\">DET</tspan>\n",
              "</text>\n",
              "\n",
              "<text class=\"displacy-token\" fill=\"currentColor\" text-anchor=\"middle\" y=\"397.0\">\n",
              "    <tspan class=\"displacy-word\" fill=\"currentColor\" x=\"2675\">Tuileries</tspan>\n",
              "    <tspan class=\"displacy-tag\" dy=\"2em\" fill=\"currentColor\" x=\"2675\">PROPN</tspan>\n",
              "</text>\n",
              "\n",
              "<text class=\"displacy-token\" fill=\"currentColor\" text-anchor=\"middle\" y=\"397.0\">\n",
              "    <tspan class=\"displacy-word\" fill=\"currentColor\" x=\"2850\">Palace.</tspan>\n",
              "    <tspan class=\"displacy-tag\" dy=\"2em\" fill=\"currentColor\" x=\"2850\">PROPN</tspan>\n",
              "</text>\n",
              "\n",
              "<g class=\"displacy-arrow\">\n",
              "    <path class=\"displacy-arc\" id=\"arrow-0c01947ddb3f49259cfada9f0bac117c-0-0\" stroke-width=\"2px\" d=\"M70,352.0 C70,264.5 210.0,264.5 210.0,352.0\" fill=\"none\" stroke=\"currentColor\"/>\n",
              "    <text dy=\"1.25em\" style=\"font-size: 0.8em; letter-spacing: 1px\">\n",
              "        <textPath xlink:href=\"#arrow-0c01947ddb3f49259cfada9f0bac117c-0-0\" class=\"displacy-label\" startOffset=\"50%\" side=\"left\" fill=\"currentColor\" text-anchor=\"middle\">compound</textPath>\n",
              "    </text>\n",
              "    <path class=\"displacy-arrowhead\" d=\"M70,354.0 L62,342.0 78,342.0\" fill=\"currentColor\"/>\n",
              "</g>\n",
              "\n",
              "<g class=\"displacy-arrow\">\n",
              "    <path class=\"displacy-arc\" id=\"arrow-0c01947ddb3f49259cfada9f0bac117c-0-1\" stroke-width=\"2px\" d=\"M245,352.0 C245,2.0 1275.0,2.0 1275.0,352.0\" fill=\"none\" stroke=\"currentColor\"/>\n",
              "    <text dy=\"1.25em\" style=\"font-size: 0.8em; letter-spacing: 1px\">\n",
              "        <textPath xlink:href=\"#arrow-0c01947ddb3f49259cfada9f0bac117c-0-1\" class=\"displacy-label\" startOffset=\"50%\" side=\"left\" fill=\"currentColor\" text-anchor=\"middle\">nsubjpass</textPath>\n",
              "    </text>\n",
              "    <path class=\"displacy-arrowhead\" d=\"M245,354.0 L237,342.0 253,342.0\" fill=\"currentColor\"/>\n",
              "</g>\n",
              "\n",
              "<g class=\"displacy-arrow\">\n",
              "    <path class=\"displacy-arc\" id=\"arrow-0c01947ddb3f49259cfada9f0bac117c-0-2\" stroke-width=\"2px\" d=\"M245,352.0 C245,264.5 385.0,264.5 385.0,352.0\" fill=\"none\" stroke=\"currentColor\"/>\n",
              "    <text dy=\"1.25em\" style=\"font-size: 0.8em; letter-spacing: 1px\">\n",
              "        <textPath xlink:href=\"#arrow-0c01947ddb3f49259cfada9f0bac117c-0-2\" class=\"displacy-label\" startOffset=\"50%\" side=\"left\" fill=\"currentColor\" text-anchor=\"middle\">cc</textPath>\n",
              "    </text>\n",
              "    <path class=\"displacy-arrowhead\" d=\"M385.0,354.0 L393.0,342.0 377.0,342.0\" fill=\"currentColor\"/>\n",
              "</g>\n",
              "\n",
              "<g class=\"displacy-arrow\">\n",
              "    <path class=\"displacy-arc\" id=\"arrow-0c01947ddb3f49259cfada9f0bac117c-0-3\" stroke-width=\"2px\" d=\"M595,352.0 C595,177.0 915.0,177.0 915.0,352.0\" fill=\"none\" stroke=\"currentColor\"/>\n",
              "    <text dy=\"1.25em\" style=\"font-size: 0.8em; letter-spacing: 1px\">\n",
              "        <textPath xlink:href=\"#arrow-0c01947ddb3f49259cfada9f0bac117c-0-3\" class=\"displacy-label\" startOffset=\"50%\" side=\"left\" fill=\"currentColor\" text-anchor=\"middle\">det</textPath>\n",
              "    </text>\n",
              "    <path class=\"displacy-arrowhead\" d=\"M595,354.0 L587,342.0 603,342.0\" fill=\"currentColor\"/>\n",
              "</g>\n",
              "\n",
              "<g class=\"displacy-arrow\">\n",
              "    <path class=\"displacy-arc\" id=\"arrow-0c01947ddb3f49259cfada9f0bac117c-0-4\" stroke-width=\"2px\" d=\"M770,352.0 C770,264.5 910.0,264.5 910.0,352.0\" fill=\"none\" stroke=\"currentColor\"/>\n",
              "    <text dy=\"1.25em\" style=\"font-size: 0.8em; letter-spacing: 1px\">\n",
              "        <textPath xlink:href=\"#arrow-0c01947ddb3f49259cfada9f0bac117c-0-4\" class=\"displacy-label\" startOffset=\"50%\" side=\"left\" fill=\"currentColor\" text-anchor=\"middle\">amod</textPath>\n",
              "    </text>\n",
              "    <path class=\"displacy-arrowhead\" d=\"M770,354.0 L762,342.0 778,342.0\" fill=\"currentColor\"/>\n",
              "</g>\n",
              "\n",
              "<g class=\"displacy-arrow\">\n",
              "    <path class=\"displacy-arc\" id=\"arrow-0c01947ddb3f49259cfada9f0bac117c-0-5\" stroke-width=\"2px\" d=\"M245,352.0 C245,89.5 920.0,89.5 920.0,352.0\" fill=\"none\" stroke=\"currentColor\"/>\n",
              "    <text dy=\"1.25em\" style=\"font-size: 0.8em; letter-spacing: 1px\">\n",
              "        <textPath xlink:href=\"#arrow-0c01947ddb3f49259cfada9f0bac117c-0-5\" class=\"displacy-label\" startOffset=\"50%\" side=\"left\" fill=\"currentColor\" text-anchor=\"middle\">conj</textPath>\n",
              "    </text>\n",
              "    <path class=\"displacy-arrowhead\" d=\"M920.0,354.0 L928.0,342.0 912.0,342.0\" fill=\"currentColor\"/>\n",
              "</g>\n",
              "\n",
              "<g class=\"displacy-arrow\">\n",
              "    <path class=\"displacy-arc\" id=\"arrow-0c01947ddb3f49259cfada9f0bac117c-0-6\" stroke-width=\"2px\" d=\"M1120,352.0 C1120,264.5 1260.0,264.5 1260.0,352.0\" fill=\"none\" stroke=\"currentColor\"/>\n",
              "    <text dy=\"1.25em\" style=\"font-size: 0.8em; letter-spacing: 1px\">\n",
              "        <textPath xlink:href=\"#arrow-0c01947ddb3f49259cfada9f0bac117c-0-6\" class=\"displacy-label\" startOffset=\"50%\" side=\"left\" fill=\"currentColor\" text-anchor=\"middle\">auxpass</textPath>\n",
              "    </text>\n",
              "    <path class=\"displacy-arrowhead\" d=\"M1120,354.0 L1112,342.0 1128,342.0\" fill=\"currentColor\"/>\n",
              "</g>\n",
              "\n",
              "<g class=\"displacy-arrow\">\n",
              "    <path class=\"displacy-arc\" id=\"arrow-0c01947ddb3f49259cfada9f0bac117c-0-7\" stroke-width=\"2px\" d=\"M1295,352.0 C1295,264.5 1435.0,264.5 1435.0,352.0\" fill=\"none\" stroke=\"currentColor\"/>\n",
              "    <text dy=\"1.25em\" style=\"font-size: 0.8em; letter-spacing: 1px\">\n",
              "        <textPath xlink:href=\"#arrow-0c01947ddb3f49259cfada9f0bac117c-0-7\" class=\"displacy-label\" startOffset=\"50%\" side=\"left\" fill=\"currentColor\" text-anchor=\"middle\">prep</textPath>\n",
              "    </text>\n",
              "    <path class=\"displacy-arrowhead\" d=\"M1435.0,354.0 L1443.0,342.0 1427.0,342.0\" fill=\"currentColor\"/>\n",
              "</g>\n",
              "\n",
              "<g class=\"displacy-arrow\">\n",
              "    <path class=\"displacy-arc\" id=\"arrow-0c01947ddb3f49259cfada9f0bac117c-0-8\" stroke-width=\"2px\" d=\"M1470,352.0 C1470,264.5 1610.0,264.5 1610.0,352.0\" fill=\"none\" stroke=\"currentColor\"/>\n",
              "    <text dy=\"1.25em\" style=\"font-size: 0.8em; letter-spacing: 1px\">\n",
              "        <textPath xlink:href=\"#arrow-0c01947ddb3f49259cfada9f0bac117c-0-8\" class=\"displacy-label\" startOffset=\"50%\" side=\"left\" fill=\"currentColor\" text-anchor=\"middle\">pobj</textPath>\n",
              "    </text>\n",
              "    <path class=\"displacy-arrowhead\" d=\"M1610.0,354.0 L1618.0,342.0 1602.0,342.0\" fill=\"currentColor\"/>\n",
              "</g>\n",
              "\n",
              "<g class=\"displacy-arrow\">\n",
              "    <path class=\"displacy-arc\" id=\"arrow-0c01947ddb3f49259cfada9f0bac117c-0-9\" stroke-width=\"2px\" d=\"M1295,352.0 C1295,177.0 1790.0,177.0 1790.0,352.0\" fill=\"none\" stroke=\"currentColor\"/>\n",
              "    <text dy=\"1.25em\" style=\"font-size: 0.8em; letter-spacing: 1px\">\n",
              "        <textPath xlink:href=\"#arrow-0c01947ddb3f49259cfada9f0bac117c-0-9\" class=\"displacy-label\" startOffset=\"50%\" side=\"left\" fill=\"currentColor\" text-anchor=\"middle\">cc</textPath>\n",
              "    </text>\n",
              "    <path class=\"displacy-arrowhead\" d=\"M1790.0,354.0 L1798.0,342.0 1782.0,342.0\" fill=\"currentColor\"/>\n",
              "</g>\n",
              "\n",
              "<g class=\"displacy-arrow\">\n",
              "    <path class=\"displacy-arc\" id=\"arrow-0c01947ddb3f49259cfada9f0bac117c-0-10\" stroke-width=\"2px\" d=\"M1295,352.0 C1295,89.5 1970.0,89.5 1970.0,352.0\" fill=\"none\" stroke=\"currentColor\"/>\n",
              "    <text dy=\"1.25em\" style=\"font-size: 0.8em; letter-spacing: 1px\">\n",
              "        <textPath xlink:href=\"#arrow-0c01947ddb3f49259cfada9f0bac117c-0-10\" class=\"displacy-label\" startOffset=\"50%\" side=\"left\" fill=\"currentColor\" text-anchor=\"middle\">conj</textPath>\n",
              "    </text>\n",
              "    <path class=\"displacy-arrowhead\" d=\"M1970.0,354.0 L1978.0,342.0 1962.0,342.0\" fill=\"currentColor\"/>\n",
              "</g>\n",
              "\n",
              "<g class=\"displacy-arrow\">\n",
              "    <path class=\"displacy-arc\" id=\"arrow-0c01947ddb3f49259cfada9f0bac117c-0-11\" stroke-width=\"2px\" d=\"M1995,352.0 C1995,264.5 2135.0,264.5 2135.0,352.0\" fill=\"none\" stroke=\"currentColor\"/>\n",
              "    <text dy=\"1.25em\" style=\"font-size: 0.8em; letter-spacing: 1px\">\n",
              "        <textPath xlink:href=\"#arrow-0c01947ddb3f49259cfada9f0bac117c-0-11\" class=\"displacy-label\" startOffset=\"50%\" side=\"left\" fill=\"currentColor\" text-anchor=\"middle\">oprd</textPath>\n",
              "    </text>\n",
              "    <path class=\"displacy-arrowhead\" d=\"M2135.0,354.0 L2143.0,342.0 2127.0,342.0\" fill=\"currentColor\"/>\n",
              "</g>\n",
              "\n",
              "<g class=\"displacy-arrow\">\n",
              "    <path class=\"displacy-arc\" id=\"arrow-0c01947ddb3f49259cfada9f0bac117c-0-12\" stroke-width=\"2px\" d=\"M1995,352.0 C1995,177.0 2315.0,177.0 2315.0,352.0\" fill=\"none\" stroke=\"currentColor\"/>\n",
              "    <text dy=\"1.25em\" style=\"font-size: 0.8em; letter-spacing: 1px\">\n",
              "        <textPath xlink:href=\"#arrow-0c01947ddb3f49259cfada9f0bac117c-0-12\" class=\"displacy-label\" startOffset=\"50%\" side=\"left\" fill=\"currentColor\" text-anchor=\"middle\">prep</textPath>\n",
              "    </text>\n",
              "    <path class=\"displacy-arrowhead\" d=\"M2315.0,354.0 L2323.0,342.0 2307.0,342.0\" fill=\"currentColor\"/>\n",
              "</g>\n",
              "\n",
              "<g class=\"displacy-arrow\">\n",
              "    <path class=\"displacy-arc\" id=\"arrow-0c01947ddb3f49259cfada9f0bac117c-0-13\" stroke-width=\"2px\" d=\"M2520,352.0 C2520,177.0 2840.0,177.0 2840.0,352.0\" fill=\"none\" stroke=\"currentColor\"/>\n",
              "    <text dy=\"1.25em\" style=\"font-size: 0.8em; letter-spacing: 1px\">\n",
              "        <textPath xlink:href=\"#arrow-0c01947ddb3f49259cfada9f0bac117c-0-13\" class=\"displacy-label\" startOffset=\"50%\" side=\"left\" fill=\"currentColor\" text-anchor=\"middle\">det</textPath>\n",
              "    </text>\n",
              "    <path class=\"displacy-arrowhead\" d=\"M2520,354.0 L2512,342.0 2528,342.0\" fill=\"currentColor\"/>\n",
              "</g>\n",
              "\n",
              "<g class=\"displacy-arrow\">\n",
              "    <path class=\"displacy-arc\" id=\"arrow-0c01947ddb3f49259cfada9f0bac117c-0-14\" stroke-width=\"2px\" d=\"M2695,352.0 C2695,264.5 2835.0,264.5 2835.0,352.0\" fill=\"none\" stroke=\"currentColor\"/>\n",
              "    <text dy=\"1.25em\" style=\"font-size: 0.8em; letter-spacing: 1px\">\n",
              "        <textPath xlink:href=\"#arrow-0c01947ddb3f49259cfada9f0bac117c-0-14\" class=\"displacy-label\" startOffset=\"50%\" side=\"left\" fill=\"currentColor\" text-anchor=\"middle\">compound</textPath>\n",
              "    </text>\n",
              "    <path class=\"displacy-arrowhead\" d=\"M2695,354.0 L2687,342.0 2703,342.0\" fill=\"currentColor\"/>\n",
              "</g>\n",
              "\n",
              "<g class=\"displacy-arrow\">\n",
              "    <path class=\"displacy-arc\" id=\"arrow-0c01947ddb3f49259cfada9f0bac117c-0-15\" stroke-width=\"2px\" d=\"M2345,352.0 C2345,89.5 2845.0,89.5 2845.0,352.0\" fill=\"none\" stroke=\"currentColor\"/>\n",
              "    <text dy=\"1.25em\" style=\"font-size: 0.8em; letter-spacing: 1px\">\n",
              "        <textPath xlink:href=\"#arrow-0c01947ddb3f49259cfada9f0bac117c-0-15\" class=\"displacy-label\" startOffset=\"50%\" side=\"left\" fill=\"currentColor\" text-anchor=\"middle\">pobj</textPath>\n",
              "    </text>\n",
              "    <path class=\"displacy-arrowhead\" d=\"M2845.0,354.0 L2853.0,342.0 2837.0,342.0\" fill=\"currentColor\"/>\n",
              "</g>\n",
              "</svg></span>"
            ]
          },
          "metadata": {}
        }
      ],
      "source": [
        "# Dependencies between the tokens in a sentence:\n",
        "louis_doc = english_trf( \"Louis XVI and the royal family were brought to Paris and made prisoners within the Tuileries Palace.\" )\n",
        "spacy.displacy.render(louis_doc, style='dep', jupyter=True)"
      ]
    },
    {
      "cell_type": "code",
      "execution_count": null,
      "metadata": {
        "colab": {
          "base_uri": "https://localhost:8080/",
          "height": 318
        },
        "id": "oEcZ_2TfMsek",
        "outputId": "0d89a57b-2df4-4e4d-cd82-050b101de4bd"
      },
      "outputs": [
        {
          "output_type": "display_data",
          "data": {
            "text/plain": [
              "<IPython.core.display.HTML object>"
            ],
            "text/html": [
              "<span class=\"tex2jax_ignore\"><svg xmlns=\"http://www.w3.org/2000/svg\" xmlns:xlink=\"http://www.w3.org/1999/xlink\" xml:lang=\"en\" id=\"0cb882b7cf85485bb7cf095f73dbab98-0\" class=\"displacy\" width=\"1495\" height=\"297.0\" direction=\"ltr\" style=\"max-width: none; height: 297.0px; color: #ffffff; background: #00000000; font-family: Arial; direction: ltr\">\n",
              "<text class=\"displacy-token\" fill=\"currentColor\" text-anchor=\"middle\" y=\"213.0\">\n",
              "    <tspan class=\"displacy-word\" fill=\"currentColor\" x=\"50\">Louis</tspan>\n",
              "    <tspan class=\"displacy-tag\" dy=\"2em\" fill=\"currentColor\" x=\"50\">PROPN</tspan>\n",
              "</text>\n",
              "\n",
              "<text class=\"displacy-token\" fill=\"currentColor\" text-anchor=\"middle\" y=\"213.0\">\n",
              "    <tspan class=\"displacy-word\" fill=\"currentColor\" x=\"135\">XVI</tspan>\n",
              "    <tspan class=\"displacy-tag\" dy=\"2em\" fill=\"currentColor\" x=\"135\">PROPN</tspan>\n",
              "</text>\n",
              "\n",
              "<text class=\"displacy-token\" fill=\"currentColor\" text-anchor=\"middle\" y=\"213.0\">\n",
              "    <tspan class=\"displacy-word\" fill=\"currentColor\" x=\"220\">and</tspan>\n",
              "    <tspan class=\"displacy-tag\" dy=\"2em\" fill=\"currentColor\" x=\"220\">CCONJ</tspan>\n",
              "</text>\n",
              "\n",
              "<text class=\"displacy-token\" fill=\"currentColor\" text-anchor=\"middle\" y=\"213.0\">\n",
              "    <tspan class=\"displacy-word\" fill=\"currentColor\" x=\"305\">the</tspan>\n",
              "    <tspan class=\"displacy-tag\" dy=\"2em\" fill=\"currentColor\" x=\"305\">DET</tspan>\n",
              "</text>\n",
              "\n",
              "<text class=\"displacy-token\" fill=\"currentColor\" text-anchor=\"middle\" y=\"213.0\">\n",
              "    <tspan class=\"displacy-word\" fill=\"currentColor\" x=\"390\">royal</tspan>\n",
              "    <tspan class=\"displacy-tag\" dy=\"2em\" fill=\"currentColor\" x=\"390\">ADJ</tspan>\n",
              "</text>\n",
              "\n",
              "<text class=\"displacy-token\" fill=\"currentColor\" text-anchor=\"middle\" y=\"213.0\">\n",
              "    <tspan class=\"displacy-word\" fill=\"currentColor\" x=\"475\">family</tspan>\n",
              "    <tspan class=\"displacy-tag\" dy=\"2em\" fill=\"currentColor\" x=\"475\">NOUN</tspan>\n",
              "</text>\n",
              "\n",
              "<text class=\"displacy-token\" fill=\"currentColor\" text-anchor=\"middle\" y=\"213.0\">\n",
              "    <tspan class=\"displacy-word\" fill=\"currentColor\" x=\"560\">were</tspan>\n",
              "    <tspan class=\"displacy-tag\" dy=\"2em\" fill=\"currentColor\" x=\"560\">AUX</tspan>\n",
              "</text>\n",
              "\n",
              "<text class=\"displacy-token\" fill=\"currentColor\" text-anchor=\"middle\" y=\"213.0\">\n",
              "    <tspan class=\"displacy-word\" fill=\"currentColor\" x=\"645\">brought</tspan>\n",
              "    <tspan class=\"displacy-tag\" dy=\"2em\" fill=\"currentColor\" x=\"645\">VERB</tspan>\n",
              "</text>\n",
              "\n",
              "<text class=\"displacy-token\" fill=\"currentColor\" text-anchor=\"middle\" y=\"213.0\">\n",
              "    <tspan class=\"displacy-word\" fill=\"currentColor\" x=\"730\">to</tspan>\n",
              "    <tspan class=\"displacy-tag\" dy=\"2em\" fill=\"currentColor\" x=\"730\">ADP</tspan>\n",
              "</text>\n",
              "\n",
              "<text class=\"displacy-token\" fill=\"currentColor\" text-anchor=\"middle\" y=\"213.0\">\n",
              "    <tspan class=\"displacy-word\" fill=\"currentColor\" x=\"815\">Paris</tspan>\n",
              "    <tspan class=\"displacy-tag\" dy=\"2em\" fill=\"currentColor\" x=\"815\">PROPN</tspan>\n",
              "</text>\n",
              "\n",
              "<text class=\"displacy-token\" fill=\"currentColor\" text-anchor=\"middle\" y=\"213.0\">\n",
              "    <tspan class=\"displacy-word\" fill=\"currentColor\" x=\"900\">and</tspan>\n",
              "    <tspan class=\"displacy-tag\" dy=\"2em\" fill=\"currentColor\" x=\"900\">CCONJ</tspan>\n",
              "</text>\n",
              "\n",
              "<text class=\"displacy-token\" fill=\"currentColor\" text-anchor=\"middle\" y=\"213.0\">\n",
              "    <tspan class=\"displacy-word\" fill=\"currentColor\" x=\"985\">made</tspan>\n",
              "    <tspan class=\"displacy-tag\" dy=\"2em\" fill=\"currentColor\" x=\"985\">VERB</tspan>\n",
              "</text>\n",
              "\n",
              "<text class=\"displacy-token\" fill=\"currentColor\" text-anchor=\"middle\" y=\"213.0\">\n",
              "    <tspan class=\"displacy-word\" fill=\"currentColor\" x=\"1070\">prisoners</tspan>\n",
              "    <tspan class=\"displacy-tag\" dy=\"2em\" fill=\"currentColor\" x=\"1070\">NOUN</tspan>\n",
              "</text>\n",
              "\n",
              "<text class=\"displacy-token\" fill=\"currentColor\" text-anchor=\"middle\" y=\"213.0\">\n",
              "    <tspan class=\"displacy-word\" fill=\"currentColor\" x=\"1155\">within</tspan>\n",
              "    <tspan class=\"displacy-tag\" dy=\"2em\" fill=\"currentColor\" x=\"1155\">ADP</tspan>\n",
              "</text>\n",
              "\n",
              "<text class=\"displacy-token\" fill=\"currentColor\" text-anchor=\"middle\" y=\"213.0\">\n",
              "    <tspan class=\"displacy-word\" fill=\"currentColor\" x=\"1240\">the</tspan>\n",
              "    <tspan class=\"displacy-tag\" dy=\"2em\" fill=\"currentColor\" x=\"1240\">DET</tspan>\n",
              "</text>\n",
              "\n",
              "<text class=\"displacy-token\" fill=\"currentColor\" text-anchor=\"middle\" y=\"213.0\">\n",
              "    <tspan class=\"displacy-word\" fill=\"currentColor\" x=\"1325\">Tuileries</tspan>\n",
              "    <tspan class=\"displacy-tag\" dy=\"2em\" fill=\"currentColor\" x=\"1325\">PROPN</tspan>\n",
              "</text>\n",
              "\n",
              "<text class=\"displacy-token\" fill=\"currentColor\" text-anchor=\"middle\" y=\"213.0\">\n",
              "    <tspan class=\"displacy-word\" fill=\"currentColor\" x=\"1410\">Palace.</tspan>\n",
              "    <tspan class=\"displacy-tag\" dy=\"2em\" fill=\"currentColor\" x=\"1410\">PROPN</tspan>\n",
              "</text>\n",
              "\n",
              "<g class=\"displacy-arrow\">\n",
              "    <path class=\"displacy-arc\" id=\"arrow-0cb882b7cf85485bb7cf095f73dbab98-0-0\" stroke-width=\"1px\" d=\"M62,171.0 62,156.83333333333334 126.0,156.83333333333334 126.0,171.0\" fill=\"none\" stroke=\"currentColor\"/>\n",
              "    <text dy=\"1.25em\" style=\"font-size: 0.8em; letter-spacing: 1px\">\n",
              "        <textPath xlink:href=\"#arrow-0cb882b7cf85485bb7cf095f73dbab98-0-0\" class=\"displacy-label\" startOffset=\"50%\" side=\"left\" fill=\"currentColor\" text-anchor=\"middle\">compound</textPath>\n",
              "    </text>\n",
              "    <path class=\"displacy-arrowhead\" d=\"M62,173.0 L58,165.0 66,165.0\" fill=\"currentColor\"/>\n",
              "</g>\n",
              "\n",
              "<g class=\"displacy-arrow\">\n",
              "    <path class=\"displacy-arc\" id=\"arrow-0cb882b7cf85485bb7cf095f73dbab98-0-1\" stroke-width=\"1px\" d=\"M147,171.0 147,114.33333333333334 645.0,114.33333333333334 645.0,171.0\" fill=\"none\" stroke=\"currentColor\"/>\n",
              "    <text dy=\"1.25em\" style=\"font-size: 0.8em; letter-spacing: 1px\">\n",
              "        <textPath xlink:href=\"#arrow-0cb882b7cf85485bb7cf095f73dbab98-0-1\" class=\"displacy-label\" startOffset=\"50%\" side=\"left\" fill=\"currentColor\" text-anchor=\"middle\">nsubjpass</textPath>\n",
              "    </text>\n",
              "    <path class=\"displacy-arrowhead\" d=\"M147,173.0 L143,165.0 151,165.0\" fill=\"currentColor\"/>\n",
              "</g>\n",
              "\n",
              "<g class=\"displacy-arrow\">\n",
              "    <path class=\"displacy-arc\" id=\"arrow-0cb882b7cf85485bb7cf095f73dbab98-0-2\" stroke-width=\"1px\" d=\"M147,171.0 147,156.83333333333334 211.0,156.83333333333334 211.0,171.0\" fill=\"none\" stroke=\"currentColor\"/>\n",
              "    <text dy=\"1.25em\" style=\"font-size: 0.8em; letter-spacing: 1px\">\n",
              "        <textPath xlink:href=\"#arrow-0cb882b7cf85485bb7cf095f73dbab98-0-2\" class=\"displacy-label\" startOffset=\"50%\" side=\"left\" fill=\"currentColor\" text-anchor=\"middle\">cc</textPath>\n",
              "    </text>\n",
              "    <path class=\"displacy-arrowhead\" d=\"M211.0,173.0 L215.0,165.0 207.0,165.0\" fill=\"currentColor\"/>\n",
              "</g>\n",
              "\n",
              "<g class=\"displacy-arrow\">\n",
              "    <path class=\"displacy-arc\" id=\"arrow-0cb882b7cf85485bb7cf095f73dbab98-0-3\" stroke-width=\"1px\" d=\"M317,171.0 317,142.66666666666666 469.0,142.66666666666666 469.0,171.0\" fill=\"none\" stroke=\"currentColor\"/>\n",
              "    <text dy=\"1.25em\" style=\"font-size: 0.8em; letter-spacing: 1px\">\n",
              "        <textPath xlink:href=\"#arrow-0cb882b7cf85485bb7cf095f73dbab98-0-3\" class=\"displacy-label\" startOffset=\"50%\" side=\"left\" fill=\"currentColor\" text-anchor=\"middle\">det</textPath>\n",
              "    </text>\n",
              "    <path class=\"displacy-arrowhead\" d=\"M317,173.0 L313,165.0 321,165.0\" fill=\"currentColor\"/>\n",
              "</g>\n",
              "\n",
              "<g class=\"displacy-arrow\">\n",
              "    <path class=\"displacy-arc\" id=\"arrow-0cb882b7cf85485bb7cf095f73dbab98-0-4\" stroke-width=\"1px\" d=\"M402,171.0 402,156.83333333333334 466.0,156.83333333333334 466.0,171.0\" fill=\"none\" stroke=\"currentColor\"/>\n",
              "    <text dy=\"1.25em\" style=\"font-size: 0.8em; letter-spacing: 1px\">\n",
              "        <textPath xlink:href=\"#arrow-0cb882b7cf85485bb7cf095f73dbab98-0-4\" class=\"displacy-label\" startOffset=\"50%\" side=\"left\" fill=\"currentColor\" text-anchor=\"middle\">amod</textPath>\n",
              "    </text>\n",
              "    <path class=\"displacy-arrowhead\" d=\"M402,173.0 L398,165.0 406,165.0\" fill=\"currentColor\"/>\n",
              "</g>\n",
              "\n",
              "<g class=\"displacy-arrow\">\n",
              "    <path class=\"displacy-arc\" id=\"arrow-0cb882b7cf85485bb7cf095f73dbab98-0-5\" stroke-width=\"1px\" d=\"M147,171.0 147,128.5 472.0,128.5 472.0,171.0\" fill=\"none\" stroke=\"currentColor\"/>\n",
              "    <text dy=\"1.25em\" style=\"font-size: 0.8em; letter-spacing: 1px\">\n",
              "        <textPath xlink:href=\"#arrow-0cb882b7cf85485bb7cf095f73dbab98-0-5\" class=\"displacy-label\" startOffset=\"50%\" side=\"left\" fill=\"currentColor\" text-anchor=\"middle\">conj</textPath>\n",
              "    </text>\n",
              "    <path class=\"displacy-arrowhead\" d=\"M472.0,173.0 L476.0,165.0 468.0,165.0\" fill=\"currentColor\"/>\n",
              "</g>\n",
              "\n",
              "<g class=\"displacy-arrow\">\n",
              "    <path class=\"displacy-arc\" id=\"arrow-0cb882b7cf85485bb7cf095f73dbab98-0-6\" stroke-width=\"1px\" d=\"M572,171.0 572,156.83333333333334 636.0,156.83333333333334 636.0,171.0\" fill=\"none\" stroke=\"currentColor\"/>\n",
              "    <text dy=\"1.25em\" style=\"font-size: 0.8em; letter-spacing: 1px\">\n",
              "        <textPath xlink:href=\"#arrow-0cb882b7cf85485bb7cf095f73dbab98-0-6\" class=\"displacy-label\" startOffset=\"50%\" side=\"left\" fill=\"currentColor\" text-anchor=\"middle\">auxpass</textPath>\n",
              "    </text>\n",
              "    <path class=\"displacy-arrowhead\" d=\"M572,173.0 L568,165.0 576,165.0\" fill=\"currentColor\"/>\n",
              "</g>\n",
              "\n",
              "<g class=\"displacy-arrow\">\n",
              "    <path class=\"displacy-arc\" id=\"arrow-0cb882b7cf85485bb7cf095f73dbab98-0-7\" stroke-width=\"1px\" d=\"M657,171.0 657,156.83333333333334 721.0,156.83333333333334 721.0,171.0\" fill=\"none\" stroke=\"currentColor\"/>\n",
              "    <text dy=\"1.25em\" style=\"font-size: 0.8em; letter-spacing: 1px\">\n",
              "        <textPath xlink:href=\"#arrow-0cb882b7cf85485bb7cf095f73dbab98-0-7\" class=\"displacy-label\" startOffset=\"50%\" side=\"left\" fill=\"currentColor\" text-anchor=\"middle\">prep</textPath>\n",
              "    </text>\n",
              "    <path class=\"displacy-arrowhead\" d=\"M721.0,173.0 L725.0,165.0 717.0,165.0\" fill=\"currentColor\"/>\n",
              "</g>\n",
              "\n",
              "<g class=\"displacy-arrow\">\n",
              "    <path class=\"displacy-arc\" id=\"arrow-0cb882b7cf85485bb7cf095f73dbab98-0-8\" stroke-width=\"1px\" d=\"M742,171.0 742,156.83333333333334 806.0,156.83333333333334 806.0,171.0\" fill=\"none\" stroke=\"currentColor\"/>\n",
              "    <text dy=\"1.25em\" style=\"font-size: 0.8em; letter-spacing: 1px\">\n",
              "        <textPath xlink:href=\"#arrow-0cb882b7cf85485bb7cf095f73dbab98-0-8\" class=\"displacy-label\" startOffset=\"50%\" side=\"left\" fill=\"currentColor\" text-anchor=\"middle\">pobj</textPath>\n",
              "    </text>\n",
              "    <path class=\"displacy-arrowhead\" d=\"M806.0,173.0 L810.0,165.0 802.0,165.0\" fill=\"currentColor\"/>\n",
              "</g>\n",
              "\n",
              "<g class=\"displacy-arrow\">\n",
              "    <path class=\"displacy-arc\" id=\"arrow-0cb882b7cf85485bb7cf095f73dbab98-0-9\" stroke-width=\"1px\" d=\"M657,171.0 657,142.66666666666666 894.0,142.66666666666666 894.0,171.0\" fill=\"none\" stroke=\"currentColor\"/>\n",
              "    <text dy=\"1.25em\" style=\"font-size: 0.8em; letter-spacing: 1px\">\n",
              "        <textPath xlink:href=\"#arrow-0cb882b7cf85485bb7cf095f73dbab98-0-9\" class=\"displacy-label\" startOffset=\"50%\" side=\"left\" fill=\"currentColor\" text-anchor=\"middle\">cc</textPath>\n",
              "    </text>\n",
              "    <path class=\"displacy-arrowhead\" d=\"M894.0,173.0 L898.0,165.0 890.0,165.0\" fill=\"currentColor\"/>\n",
              "</g>\n",
              "\n",
              "<g class=\"displacy-arrow\">\n",
              "    <path class=\"displacy-arc\" id=\"arrow-0cb882b7cf85485bb7cf095f73dbab98-0-10\" stroke-width=\"1px\" d=\"M657,171.0 657,128.5 982.0,128.5 982.0,171.0\" fill=\"none\" stroke=\"currentColor\"/>\n",
              "    <text dy=\"1.25em\" style=\"font-size: 0.8em; letter-spacing: 1px\">\n",
              "        <textPath xlink:href=\"#arrow-0cb882b7cf85485bb7cf095f73dbab98-0-10\" class=\"displacy-label\" startOffset=\"50%\" side=\"left\" fill=\"currentColor\" text-anchor=\"middle\">conj</textPath>\n",
              "    </text>\n",
              "    <path class=\"displacy-arrowhead\" d=\"M982.0,173.0 L986.0,165.0 978.0,165.0\" fill=\"currentColor\"/>\n",
              "</g>\n",
              "\n",
              "<g class=\"displacy-arrow\">\n",
              "    <path class=\"displacy-arc\" id=\"arrow-0cb882b7cf85485bb7cf095f73dbab98-0-11\" stroke-width=\"1px\" d=\"M997,171.0 997,156.83333333333334 1061.0,156.83333333333334 1061.0,171.0\" fill=\"none\" stroke=\"currentColor\"/>\n",
              "    <text dy=\"1.25em\" style=\"font-size: 0.8em; letter-spacing: 1px\">\n",
              "        <textPath xlink:href=\"#arrow-0cb882b7cf85485bb7cf095f73dbab98-0-11\" class=\"displacy-label\" startOffset=\"50%\" side=\"left\" fill=\"currentColor\" text-anchor=\"middle\">oprd</textPath>\n",
              "    </text>\n",
              "    <path class=\"displacy-arrowhead\" d=\"M1061.0,173.0 L1065.0,165.0 1057.0,165.0\" fill=\"currentColor\"/>\n",
              "</g>\n",
              "\n",
              "<g class=\"displacy-arrow\">\n",
              "    <path class=\"displacy-arc\" id=\"arrow-0cb882b7cf85485bb7cf095f73dbab98-0-12\" stroke-width=\"1px\" d=\"M997,171.0 997,142.66666666666666 1149.0,142.66666666666666 1149.0,171.0\" fill=\"none\" stroke=\"currentColor\"/>\n",
              "    <text dy=\"1.25em\" style=\"font-size: 0.8em; letter-spacing: 1px\">\n",
              "        <textPath xlink:href=\"#arrow-0cb882b7cf85485bb7cf095f73dbab98-0-12\" class=\"displacy-label\" startOffset=\"50%\" side=\"left\" fill=\"currentColor\" text-anchor=\"middle\">prep</textPath>\n",
              "    </text>\n",
              "    <path class=\"displacy-arrowhead\" d=\"M1149.0,173.0 L1153.0,165.0 1145.0,165.0\" fill=\"currentColor\"/>\n",
              "</g>\n",
              "\n",
              "<g class=\"displacy-arrow\">\n",
              "    <path class=\"displacy-arc\" id=\"arrow-0cb882b7cf85485bb7cf095f73dbab98-0-13\" stroke-width=\"1px\" d=\"M1252,171.0 1252,142.66666666666666 1404.0,142.66666666666666 1404.0,171.0\" fill=\"none\" stroke=\"currentColor\"/>\n",
              "    <text dy=\"1.25em\" style=\"font-size: 0.8em; letter-spacing: 1px\">\n",
              "        <textPath xlink:href=\"#arrow-0cb882b7cf85485bb7cf095f73dbab98-0-13\" class=\"displacy-label\" startOffset=\"50%\" side=\"left\" fill=\"currentColor\" text-anchor=\"middle\">det</textPath>\n",
              "    </text>\n",
              "    <path class=\"displacy-arrowhead\" d=\"M1252,173.0 L1248,165.0 1256,165.0\" fill=\"currentColor\"/>\n",
              "</g>\n",
              "\n",
              "<g class=\"displacy-arrow\">\n",
              "    <path class=\"displacy-arc\" id=\"arrow-0cb882b7cf85485bb7cf095f73dbab98-0-14\" stroke-width=\"1px\" d=\"M1337,171.0 1337,156.83333333333334 1401.0,156.83333333333334 1401.0,171.0\" fill=\"none\" stroke=\"currentColor\"/>\n",
              "    <text dy=\"1.25em\" style=\"font-size: 0.8em; letter-spacing: 1px\">\n",
              "        <textPath xlink:href=\"#arrow-0cb882b7cf85485bb7cf095f73dbab98-0-14\" class=\"displacy-label\" startOffset=\"50%\" side=\"left\" fill=\"currentColor\" text-anchor=\"middle\">compound</textPath>\n",
              "    </text>\n",
              "    <path class=\"displacy-arrowhead\" d=\"M1337,173.0 L1333,165.0 1341,165.0\" fill=\"currentColor\"/>\n",
              "</g>\n",
              "\n",
              "<g class=\"displacy-arrow\">\n",
              "    <path class=\"displacy-arc\" id=\"arrow-0cb882b7cf85485bb7cf095f73dbab98-0-15\" stroke-width=\"1px\" d=\"M1167,171.0 1167,128.5 1407.0,128.5 1407.0,171.0\" fill=\"none\" stroke=\"currentColor\"/>\n",
              "    <text dy=\"1.25em\" style=\"font-size: 0.8em; letter-spacing: 1px\">\n",
              "        <textPath xlink:href=\"#arrow-0cb882b7cf85485bb7cf095f73dbab98-0-15\" class=\"displacy-label\" startOffset=\"50%\" side=\"left\" fill=\"currentColor\" text-anchor=\"middle\">pobj</textPath>\n",
              "    </text>\n",
              "    <path class=\"displacy-arrowhead\" d=\"M1407.0,173.0 L1411.0,165.0 1403.0,165.0\" fill=\"currentColor\"/>\n",
              "</g>\n",
              "</svg></span>"
            ]
          },
          "metadata": {}
        }
      ],
      "source": [
        "# You can get it a litte more compact like\n",
        "spacy.displacy.render(louis_doc, style='dep', options={'compact':True, 'bg':'#00000000', 'color':'#ffffff', 'distance':85, 'word_spacing':42, 'arrow_stroke':1}, jupyter=True)"
      ]
    },
    {
      "cell_type": "markdown",
      "source": [
        "# Slightly less basic"
      ],
      "metadata": {
        "id": "Af84RatRW2p8"
      }
    },
    {
      "cell_type": "markdown",
      "metadata": {
        "id": "xWwcIzGnMsel"
      },
      "source": [
        "## Extracting patterns with rule-based matching"
      ]
    },
    {
      "cell_type": "code",
      "execution_count": null,
      "metadata": {
        "colab": {
          "base_uri": "https://localhost:8080/"
        },
        "id": "XUZtIYIPMsem",
        "outputId": "1f0fb3db-3bf4-4e87-8810-56d8b6556882"
      },
      "outputs": [
        {
          "output_type": "stream",
          "name": "stdout",
          "text": [
            "Revolution names\n",
            "-Revolution names\n",
            "pre-Revolution names\n",
            "constitutional monarch\n",
            "first railway\n",
            "new period\n",
            "massive migration\n",
            "popular uprising\n",
            "public works\n",
            "gigantic public works\n",
            "new boulevards\n",
            "wide new boulevards\n",
            "new opera\n",
            "central market\n",
            "new aqueducts\n"
          ]
        }
      ],
      "source": [
        "from spacy.matcher import Matcher\n",
        "\n",
        "# Look for  Adjective + Noun  combinations\n",
        "#  more specifically:  one or more adjectives  before  a noun or proper noun\n",
        "an_pattern = [\n",
        "    [ {\"POS\": \"ADJ\", \"OP\": \"+\"},   {\"POS\": {\"IN\":[\"NOUN\",\"PROPN\"]}} ],\n",
        "    # you can have more rules in a matcher\n",
        "]\n",
        "matcher = Matcher(english_trf.vocab)\n",
        "matcher.add(\"adjective-noun\", an_pattern)\n",
        "matches = matcher( paris_doc )\n",
        "for match_id, start_i, end_i in matches:\n",
        "    print( paris_doc[ start_i : end_i ] ) # from the indices, print the described span \n",
        "\n",
        "# Notes: \n",
        "# - you can express more complex types of patterns, see https://spacy.io/api/matcher#patterns\n",
        "# - You could extend this to more complex tasks, like maybe rule-based phrase and named entity extraction.\n",
        "#   - ...though you might base that on more specific existing code like PhraseMatcher and EntityRuler,\n",
        "#     which may work faster and/or annotate automatically.\n",
        "#   - and in the case of NER would probaly still be less effective than existing trained NER model components\n"
      ]
    },
    {
      "cell_type": "markdown",
      "metadata": {
        "id": "aDinb2pLMseq"
      },
      "source": [
        "##  Inventing your own functions to apply to spacy"
      ]
    },
    {
      "cell_type": "code",
      "execution_count": null,
      "metadata": {
        "colab": {
          "base_uri": "https://localhost:8080/"
        },
        "id": "ISTrSQV8Mses",
        "outputId": "c55831eb-e2dd-4f54-f081-e1926df70b26"
      },
      "outputs": [
        {
          "output_type": "stream",
          "name": "stdout",
          "text": [
            "[During the Restoration, the bridges and squares of Paris were returned to their pre-Revolution names; the July Revolution in 1830  (commemorated by the July Column on the Place de la Bastille) brought a constitutional monarch, Louis Philippe I, to power.]\n",
            "Complexity: 4.3\n",
            "\n",
            "[The first railway line to Paris opened in 1837, beginning a new period of massive migration from the provinces to the city.]\n",
            "Complexity: 2.4\n",
            "\n",
            "[Louis-Philippe was overthrown by a popular uprising in the streets of Paris in 1848.]\n",
            "Complexity: 2.5\n",
            "\n",
            "[His successor, Napoleon III,  alongside the newly appointed prefect of the Seine, Georges-Eugène Haussmann, launched a gigantic public works project to  build wide new boulevards, a new opera house, a central market, new aqueducts, sewers and parks, including the Bois de Boulogne  and Bois de Vincennes.]\n",
            "Complexity: 4.4\n",
            "\n"
          ]
        }
      ],
      "source": [
        "def complexity( span ):\n",
        "    ''' Takes a parsed spacy sentence, and estimates its complexity.\n",
        "\n",
        "        Currently uses _only_ the average distance of the dependencies, which is decent for how basic it is. \n",
        "        Consider e.g.\n",
        "        - long sentences are often more complex, but not proportional to their length\n",
        "          They might, say, separate independent clauses with a comma.\n",
        "          They become harder to parse e.g. if there are references to something further away.\n",
        "        - parenthetical sentences will lengthen references across them\n",
        "        - lists and flat compounds will drag the complexity down\n",
        "        - this doesn't really need normalization, in that the units is 'token distance' (though we should take more care across PUNCT and such)\n",
        "\n",
        "        Downsides include that spacy seems to assign some dependencies just because it needs to, not necessarily because they are linguistically sensible.\n",
        "        Also, we should probably count most named entities as a single thing, not the amount of tokens in them\n",
        "    '''\n",
        "    dists = []\n",
        "    for tok in span:\n",
        "        dist = tok.head.i - tok.i\n",
        "        dists.append( dist ) \n",
        "    abs_dists = list( abs(d)  for d in dists )\n",
        "    avg_dist = float(sum(abs_dists)) / len(abs_dists)\n",
        "    return avg_dist\n",
        "\n",
        "for sent in english_trf( paris_doc ).sents:\n",
        "    print('[%s]\\nComplexity: %.1f\\n'%(sent.text.replace('\\n',' ').strip(), complexity(sent) ) )\n"
      ]
    },
    {
      "cell_type": "markdown",
      "metadata": {
        "id": "r32o_hmgMses"
      },
      "source": [
        "## Some specialized models\n",
        "\n",
        "Take a look around existing models.\n",
        "There are sometimes readymade models that help do specific tasks, and then possibly _only_ those tasks.\n",
        "\n",
        "Say you have a text that you know contains multiple languages, and you want to feed each to a parser for that language:"
      ]
    },
    {
      "cell_type": "markdown",
      "metadata": {
        "id": "3Qt3KKiCMset"
      },
      "source": [
        "### Language detection\n",
        "useful to take multiple languages in one piece of text, and be able to feed it to the right nlp object.\n",
        "\n",
        "There is a spacy_fastlang library (which depends on the fasttext library) that can do that for you.\n",
        "\n",
        "The below uses detect_language() - which is a handful of lines mostly jut doing the boilerplate of \"create model, stick fastlang on it, run it, and report\""
      ]
    },
    {
      "cell_type": "code",
      "execution_count": null,
      "metadata": {
        "id": "sjJflUfiMset"
      },
      "outputs": [],
      "source": [
        "!pip install --quiet spacy_fastlang"
      ]
    },
    {
      "cell_type": "code",
      "execution_count": null,
      "metadata": {
        "colab": {
          "base_uri": "https://localhost:8080/"
        },
        "id": "z5_mzJFjMseu",
        "outputId": "93c795e2-8c63-4d7b-b3e7-5d32f8462667"
      },
      "outputs": [
        {
          "output_type": "stream",
          "name": "stdout",
          "text": [
            "LANGUAGE DETECTION\n",
            "    en (certainty: 0.73) for  'I am cheese'\n",
            "    nl (certainty: 0.53) for  'Ik ben kaas'\n",
            "    fr (certainty: 1.00) for  'Je suis fromage'\n",
            "    de (certainty: 1.00) for  'Ich bin Käse'\n",
            "    af (certainty: 0.66) for  'Ek is kaas'\n",
            "    id (certainty: 0.58) for  'Saya keju'\n",
            "    fi (certainty: 0.91) for  'Olen juusto'\n",
            "    tr (certainty: 0.29) for  'ben peynirim'\n"
          ]
        }
      ],
      "source": [
        "print(\"LANGUAGE DETECTION\")\n",
        "for example in (\"I am cheese\", \"Ik ben kaas\", \"Je suis fromage\", \"Ich bin Käse\", \"Ek is kaas\", \"Saya keju\", \"Olen juusto\", \"ben peynirim\"):\n",
        "    lang, score = wetsuite.helpers.spacy.detect_language(example)\n",
        "    print( \"    %s (certainty: %.2f) for  %r\"%( lang, score, example ) )"
      ]
    },
    {
      "cell_type": "markdown",
      "metadata": {
        "id": "14hkvLJdMsev"
      },
      "source": [
        "### Sentence splitting\n",
        "The [xx_sent_ud_sm](https://spacy.io/models/xx#xx_sent_ud_sm) model is trained on multiple languages, and may even do better than model's sentence splitter (when those are rule-based, because that tends to be dumb)."
      ]
    },
    {
      "cell_type": "code",
      "execution_count": null,
      "metadata": {
        "id": "1XuQCOHeMsew"
      },
      "outputs": [],
      "source": [
        "!python3 -m spacy download xx_sent_ud_sm"
      ]
    },
    {
      "cell_type": "code",
      "execution_count": null,
      "metadata": {
        "colab": {
          "base_uri": "https://localhost:8080/"
        },
        "id": "pxLMnQ7yMsey",
        "outputId": "d4737d53-94d3-4f04-c54d-add0b20864a3"
      },
      "outputs": [
        {
          "output_type": "stream",
          "name": "stdout",
          "text": [
            "SENTENCE SPLITTING\n",
            "    [fr] C'est n'est pas une pipe.\n",
            "    [en] A capital after Mr. Abbreviation might throw things off.\n",
            "    [en] (Also) weird sentence starts could.\n",
            "    [en] As can ellipses... as you can imagine.\n",
            "    [en] As could \"Things we quote?\"\n",
            "    [en] ...as they are embedded sentences and what comes after is unknown.\n",
            "    [nl] (en die laatste zou anders werken met een komma)\n"
          ]
        }
      ],
      "source": [
        "print(\"SENTENCE SPLITTING\")\n",
        "split_doc = wetsuite.helpers.spacy.sentence_split(\"\"\"C'est n'est pas une pipe. A capital after Mr. Abbreviation might throw things off. (Also) weird sentence starts could. \n",
        "     As can ellipses... as you can imagine. As could \"Things we quote?\" ...as they are embedded sentences and what comes after is unknown. (en die laatste zou anders werken met een komma)\"\"\") \n",
        "for sent in split_doc.sents:\n",
        "    text = sent.text.strip()\n",
        "    print('    [%s] %s'%( wetsuite.helpers.spacy.detect_language(text)[0], text ) )   # add language detection, as per our initial plan\n"
      ]
    }
  ],
  "metadata": {
    "kernelspec": {
      "display_name": "Python 3",
      "language": "python",
      "name": "python3"
    },
    "language_info": {
      "codemirror_mode": {
        "name": "ipython",
        "version": 3
      },
      "file_extension": ".py",
      "mimetype": "text/x-python",
      "name": "python",
      "nbconvert_exporter": "python",
      "pygments_lexer": "ipython3",
      "version": "3.8.10 (default, Jun 22 2022, 20:18:18) \n[GCC 9.4.0]"
    },
    "vscode": {
      "interpreter": {
        "hash": "31f2aee4e71d21fbe5cf8b01ff0e069b9275f58929596ceb00d14d90e3e16cd6"
      }
    },
    "colab": {
      "provenance": [],
      "include_colab_link": true
    }
  },
  "nbformat": 4,
  "nbformat_minor": 0
}